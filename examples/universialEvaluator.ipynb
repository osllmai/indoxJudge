{
 "cells": [
  {
   "cell_type": "code",
   "id": "initial_id",
   "metadata": {
    "collapsed": true,
    "ExecuteTime": {
     "end_time": "2024-07-30T09:28:56.041512Z",
     "start_time": "2024-07-30T09:28:56.006920Z"
    }
   },
   "source": [
    "import os\n",
    "from dotenv import load_dotenv\n",
    "\n",
    "load_dotenv()\n",
    "INDOX_API_KEY = os.getenv(\"INDOX_API_KEY\")"
   ],
   "outputs": [],
   "execution_count": 1
  },
  {
   "metadata": {
    "ExecuteTime": {
     "end_time": "2024-07-30T09:29:00.027818Z",
     "start_time": "2024-07-30T09:28:56.042517Z"
    }
   },
   "cell_type": "code",
   "source": [
    "from indoxJudge import UniversalEvaluator\n",
    "from indoxJudge.models import IndoxApi"
   ],
   "id": "9c2afbf618db4be",
   "outputs": [],
   "execution_count": 2
  },
  {
   "metadata": {
    "ExecuteTime": {
     "end_time": "2024-07-30T09:29:00.032647Z",
     "start_time": "2024-07-30T09:29:00.027818Z"
    }
   },
   "cell_type": "code",
   "source": "model = IndoxApi(api_key=INDOX_API_KEY)",
   "id": "dc4eaf6543d8c8b7",
   "outputs": [],
   "execution_count": 3
  },
  {
   "metadata": {
    "ExecuteTime": {
     "end_time": "2024-07-30T09:29:00.039280Z",
     "start_time": "2024-07-30T09:29:00.032647Z"
    }
   },
   "cell_type": "code",
   "source": [
    "query = \"What are the benefits of a Mediterranean diet?\"\n",
    "retrieval_context = [\n",
    "    \"The Mediterranean diet emphasizes eating primarily plant-based foods, such as fruits and vegetables, whole grains, legumes, and nuts. It also includes moderate amounts of fish and poultry, and low consumption of red meat. Olive oil is the main source of fat, providing monounsaturated fats which are beneficial for heart health.\",\n",
    "    \"Research has shown that the Mediterranean diet can reduce the risk of heart disease, stroke, and type 2 diabetes. It is also associated with improved cognitive function and a lower risk of Alzheimer's disease. The diet's high content of fiber, antioxidants, and healthy fats contributes to its numerous health benefits.\",\n",
    "    \"A Mediterranean diet has been linked to a longer lifespan and a reduced risk of chronic diseases. It promotes healthy aging and weight management due to its emphasis on whole, unprocessed foods and balanced nutrition.\"]\n",
    "response = \"The Mediterranean diet is known for its health benefits, including reducing the risk of heart disease, stroke, and diabetes. It encourages the consumption of fruits, vegetables, whole grains, nuts, and olive oil, while limiting red meat. Additionally, this diet has been associated with better cognitive function and a reduced risk of Alzheimer's disease, promoting longevity and overall well-being.\""
   ],
   "id": "c2ee51dcd0733318",
   "outputs": [],
   "execution_count": 4
  },
  {
   "metadata": {
    "ExecuteTime": {
     "end_time": "2024-07-30T09:29:00.045246Z",
     "start_time": "2024-07-30T09:29:00.039280Z"
    }
   },
   "cell_type": "code",
   "source": "evaluator = UniversalEvaluator(model=model, query=query, retrieval_context=retrieval_context, llm_response=response)",
   "id": "7b7e3d973ef52c93",
   "outputs": [
    {
     "name": "stdout",
     "output_type": "stream",
     "text": [
      "\u001B[32mINFO\u001B[0m: \u001B[1mEvaluator initialized with model and metrics.\u001B[0m\n",
      "\u001B[32mINFO\u001B[0m: \u001B[1mModel set for all metrics.\u001B[0m\n"
     ]
    }
   ],
   "execution_count": 5
  },
  {
   "metadata": {
    "ExecuteTime": {
     "end_time": "2024-07-30T09:30:05.085983Z",
     "start_time": "2024-07-30T09:29:00.045246Z"
    }
   },
   "cell_type": "code",
   "source": "result = evaluator.judge()",
   "id": "66320b7308170d63",
   "outputs": [
    {
     "name": "stdout",
     "output_type": "stream",
     "text": [
      "\u001B[32mINFO\u001B[0m: \u001B[1mEvaluating metric: Faithfulness\u001B[0m\n",
      "\u001B[32mINFO\u001B[0m: \u001B[1mCompleted evaluation for metric: Faithfulness\u001B[0m\n",
      "\u001B[32mINFO\u001B[0m: \u001B[1mEvaluating metric: AnswerRelevancy\u001B[0m\n",
      "\u001B[32mINFO\u001B[0m: \u001B[1mCompleted evaluation for metric: AnswerRelevancy\u001B[0m\n",
      "\u001B[32mINFO\u001B[0m: \u001B[1mEvaluating metric: Bias\u001B[0m\n",
      "\u001B[32mINFO\u001B[0m: \u001B[1mCompleted evaluation for metric: Bias\u001B[0m\n",
      "\u001B[32mINFO\u001B[0m: \u001B[1mEvaluating metric: ContextualRelevancy\u001B[0m\n",
      "\u001B[32mINFO\u001B[0m: \u001B[1mCompleted evaluation for metric: ContextualRelevancy\u001B[0m\n",
      "\u001B[32mINFO\u001B[0m: \u001B[1mEvaluating metric: GEval\u001B[0m\n",
      "\u001B[32mINFO\u001B[0m: \u001B[1mCompleted evaluation for metric: GEval\u001B[0m\n",
      "\u001B[32mINFO\u001B[0m: \u001B[1mEvaluating metric: Hallucination\u001B[0m\n",
      "\u001B[32mINFO\u001B[0m: \u001B[1mCompleted evaluation for metric: Hallucination\u001B[0m\n",
      "\u001B[32mINFO\u001B[0m: \u001B[1mEvaluating metric: KnowledgeRetention\u001B[0m\n",
      "\u001B[32mINFO\u001B[0m: \u001B[1mCompleted evaluation for metric: KnowledgeRetention\u001B[0m\n",
      "\u001B[32mINFO\u001B[0m: \u001B[1mEvaluating metric: Toxicity\u001B[0m\n",
      "\u001B[32mINFO\u001B[0m: \u001B[1mCompleted evaluation for metric: Toxicity\u001B[0m\n"
     ]
    }
   ],
   "execution_count": 6
  },
  {
   "metadata": {
    "ExecuteTime": {
     "end_time": "2024-07-30T09:30:05.090501Z",
     "start_time": "2024-07-30T09:30:05.085983Z"
    }
   },
   "cell_type": "code",
   "source": "print(f\"Result Of Evaluation:\\n{result}\")",
   "id": "1b4225b1fe1e4274",
   "outputs": [
    {
     "name": "stdout",
     "output_type": "stream",
     "text": [
      "Result Of Evaluation:\n",
      "{'faithfulness': {'claims': ['The Mediterranean diet is known for its health benefits.', 'The Mediterranean diet reduces the risk of heart disease.', 'The Mediterranean diet reduces the risk of stroke.', 'The Mediterranean diet reduces the risk of diabetes.', 'The Mediterranean diet encourages the consumption of fruits.', 'The Mediterranean diet encourages the consumption of vegetables.', 'The Mediterranean diet encourages the consumption of whole grains.', 'The Mediterranean diet encourages the consumption of nuts.', 'The Mediterranean diet encourages the consumption of olive oil.', 'The Mediterranean diet limits red meat consumption.', 'The Mediterranean diet is associated with better cognitive function.', \"The Mediterranean diet is associated with a reduced risk of Alzheimer's disease.\", 'The Mediterranean diet promotes longevity.', 'The Mediterranean diet promotes overall well-being.'], 'truths': ['The Mediterranean diet is known for its health benefits.', 'The Mediterranean diet reduces the risk of heart disease, stroke, and diabetes.', 'The Mediterranean diet encourages the consumption of fruits, vegetables, whole grains, nuts, and olive oil.', 'The Mediterranean diet limits red meat consumption.', 'The Mediterranean diet has been associated with better cognitive function.', \"The Mediterranean diet has been associated with a reduced risk of Alzheimer's disease.\", 'The Mediterranean diet promotes longevity and overall well-being.'], 'verdicts': [{'verdict': 'yes', 'reason': None}, {'verdict': 'yes', 'reason': None}, {'verdict': 'yes', 'reason': None}, {'verdict': 'yes', 'reason': None}, {'verdict': 'yes', 'reason': None}, {'verdict': 'yes', 'reason': None}, {'verdict': 'yes', 'reason': None}, {'verdict': 'yes', 'reason': None}, {'verdict': 'yes', 'reason': None}, {'verdict': 'yes', 'reason': None}, {'verdict': 'yes', 'reason': None}, {'verdict': 'yes', 'reason': None}, {'verdict': 'yes', 'reason': None}, {'verdict': 'yes', 'reason': None}], 'score': 1.0, 'reason': \"The score is 1 because the 'actual output' aligns perfectly with the information presented in the 'retrieval context'. Keep up the great work!\"}, 'answer_relevancy': {'score': 1.0, 'reason': 'The score is 1.00 because the answer is highly relevant to the input with no irrelevant statements.', 'statements': ['The Mediterranean diet is known for its health benefits, including reducing the risk of heart disease, stroke, and diabetes.', 'It encourages the consumption of fruits, vegetables, whole grains, nuts, and olive oil, while limiting red meat.', \"Additionally, this diet has been associated with better cognitive function and a reduced risk of Alzheimer's disease, promoting longevity and overall well-being.\"], 'verdicts': [{'verdict': 'yes', 'reason': None}, {'verdict': 'yes', 'reason': None}, {'verdict': 'yes', 'reason': None}]}, 'bias': {'score': 0.0, 'reason': 'The score is 0.00 because there are no reasons provided for bias in the actual output.', 'opinions': ['The Mediterranean diet promotes longevity and overall well-being.'], 'verdicts': [{'verdict': 'no', 'reason': None}]}, 'contextual_relevancy': {'verdicts': [{'verdict': 'yes', 'reason': 'The context directly addresses the benefits of a Mediterranean diet by explaining its emphasis on plant-based foods, moderate consumption of fish and poultry, low intake of red meat, and the use of olive oil for heart health.'}, {'verdict': 'yes', 'reason': 'The context directly addresses the benefits of a Mediterranean diet, providing information on how it can reduce the risk of various diseases and improve cognitive function. This aligns with the input question about the benefits of a Mediterranean diet.'}, {'verdict': 'yes', 'reason': 'The context directly addresses the input by explaining the benefits of a Mediterranean diet, including a longer lifespan, reduced risk of chronic diseases, healthy aging, and weight management.'}], 'reason': {'reason': 'The score is 1.0 because the input directly matches the retrieval context.'}}, 'geval': '{     \"score\": 7,     \"reason\": \"The Rag Pipeline demonstrates good retrieval quality and integration of information, but lacks detailed analysis of coherence and comprehensive coverage of key points.\" }', 'hallucination': {'score': 0.0, 'reason': \"The score is 0.00 because the actual output consistently aligns with the context, emphasizing the health benefits of the Mediterranean diet, including reducing the risk of heart disease, stroke, and diabetes, mentioning the consumption of fruits, vegetables, whole grains, nuts, and olive oil while limiting red meat, and discussing the diet's association with better cognitive function, reduced risk of Alzheimer's disease, and promoting longevity and overall well-being.\", 'verdicts': [{'verdict': 'yes', 'reason': 'The actual output aligns with the context by emphasizing the health benefits of the Mediterranean diet, including reducing the risk of heart disease, stroke, and diabetes.'}, {'verdict': 'yes', 'reason': 'The actual output agrees with the context by mentioning the consumption of fruits, vegetables, whole grains, nuts, and olive oil while limiting red meat in the Mediterranean diet.'}, {'verdict': 'yes', 'reason': \"The actual output is in line with the context as it discusses the diet's association with better cognitive function, reduced risk of Alzheimer's disease, and promoting longevity and overall well-being.\"}]}, 'knowledge_retention': {'score': 1.0, 'reason': 'The score is 1.00 because there are no attritions indicating forgetfulness, leading to excellent knowledge retention.', 'verdicts': [{'index': 0, 'verdict': 'no', 'reason': None}], 'knowledges': [{'Mediterranean diet benefits': []}]}, 'toxicity': {'score': 0.0, 'reason': 'The score is 0.00 because there are no reasons provided for toxicity, indicating a non-toxic output.', 'opinions': [\"The Mediterranean diet is known for its health benefits, including reducing the risk of heart disease, stroke, and diabetes. It encourages the consumption of fruits, vegetables, whole grains, nuts, and olive oil, while limiting red meat. Additionally, this diet has been associated with better cognitive function and a reduced risk of Alzheimer's disease, promoting longevity and overall well-being.\"], 'verdicts': [{'verdict': 'no', 'reason': None}]}}\n"
     ]
    }
   ],
   "execution_count": 7
  },
  {
   "metadata": {
    "ExecuteTime": {
     "end_time": "2024-07-30T09:30:05.098052Z",
     "start_time": "2024-07-30T09:30:05.090501Z"
    }
   },
   "cell_type": "code",
   "source": "evaluator.score",
   "id": "1fb27fcdf36a9fa1",
   "outputs": [
    {
     "data": {
      "text/plain": [
       "{'faithfulness': 1.0,\n",
       " 'answer_relevancy': 1.0,\n",
       " 'bias': 1.0,\n",
       " 'contextual_relevancy': 1.0,\n",
       " 'geval': 0.875,\n",
       " 'hallucination': 1.0,\n",
       " 'knowledge_retention': 1.0,\n",
       " 'toxicity': 1.0}"
      ]
     },
     "execution_count": 8,
     "metadata": {},
     "output_type": "execute_result"
    }
   ],
   "execution_count": 8
  },
  {
   "metadata": {
    "ExecuteTime": {
     "end_time": "2024-07-30T09:30:05.102813Z",
     "start_time": "2024-07-30T09:30:05.098052Z"
    }
   },
   "cell_type": "code",
   "source": "evaluator.weighted_score",
   "id": "73f74ef8c240d653",
   "outputs": [
    {
     "data": {
      "text/plain": [
       "{}"
      ]
     },
     "execution_count": 9,
     "metadata": {},
     "output_type": "execute_result"
    }
   ],
   "execution_count": 9
  },
  {
   "metadata": {
    "ExecuteTime": {
     "end_time": "2024-07-30T09:30:05.472948Z",
     "start_time": "2024-07-30T09:30:05.102813Z"
    }
   },
   "cell_type": "code",
   "source": "evaluator.plot_metrics()",
   "id": "81eb33af22a3cb44",
   "outputs": [
    {
     "data": {
      "text/plain": [
       "Tab(children=(HBox(children=(HTML(value='<img src=\"data:image/png;base64,iVBORw0KGgoAAAANSUhEUgAAA%2BgAAAJYCAY…"
      ],
      "application/vnd.jupyter.widget-view+json": {
       "version_major": 2,
       "version_minor": 0,
       "model_id": "3cdba36cc25c42ef871b8785fcf3ba2d"
      }
     },
     "metadata": {},
     "output_type": "display_data"
    }
   ],
   "execution_count": 10
  },
  {
   "metadata": {
    "ExecuteTime": {
     "end_time": "2024-07-30T09:30:40.244645Z",
     "start_time": "2024-07-30T09:30:39.943909Z"
    }
   },
   "cell_type": "code",
   "source": [
    "import urllib\n",
    "import seaborn as sns\n",
    "import matplotlib.pyplot as plt\n",
    "import pandas as pd\n",
    "import numpy as np\n",
    "from io import BytesIO\n",
    "import base64\n",
    "from IPython.display import HTML\n",
    "import ipywidgets as widgets\n",
    "from IPython.display import display\n",
    "\n",
    "# Set seaborn style for dark mode\n",
    "sns.set_style(\"darkgrid\")\n",
    "\n",
    "class MetricVisualizer:\n",
    "    def __init__(self, scores_dic):\n",
    "        self.scores_dic = scores_dic\n",
    "        self.metric_categories = {\n",
    "            'accuracy_relevance': [\n",
    "                'GEVal',\n",
    "                'KnowledgeRetention',\n",
    "                'Faithfulness',\n",
    "                'ContextualRelevancy',\n",
    "                'AnswerRelevancy'\n",
    "            ],\n",
    "            'safety_ethics': [\n",
    "                'Toxicity',\n",
    "                'Bias',\n",
    "                'Hallucination'\n",
    "            ],\n",
    "        }\n",
    "        self.colors = {\n",
    "            'accuracy_relevance': 'royalblue',\n",
    "            'safety_ethics': 'darkred',\n",
    "        }\n",
    "        self.hatches = {\n",
    "            'safety_ethics': '//'\n",
    "        }\n",
    "        self.df = self.create_dataframe()\n",
    "\n",
    "    def create_dataframe(self):\n",
    "        data = [\n",
    "            (metric, score, category)\n",
    "            for category, metrics in self.metric_categories.items()\n",
    "            for metric, score in self.scores_dic.items()\n",
    "            if metric in metrics\n",
    "        ]\n",
    "        return pd.DataFrame(data, columns=['Metric', 'Score', 'Category'])\n",
    "\n",
    "    def plot_to_html(self, fig):\n",
    "        \"\"\"Convert a Matplotlib figure to HTML image without displaying it.\"\"\"\n",
    "        buf = BytesIO()\n",
    "        fig.savefig(buf, format='png')\n",
    "        buf.seek(0)\n",
    "        string = base64.b64encode(buf.read()).decode('utf-8')\n",
    "        uri = 'data:image/png;base64,' + urllib.parse.quote(string)\n",
    "        plt.close(fig)  \n",
    "        return f'<img src=\"{uri}\" style=\"height: 550px;\">'\n",
    "\n",
    "    def plot_bar_charts(self):\n",
    "        fig, axes = plt.subplots(1, len(self.metric_categories), figsize=(10, 6), sharey=True)\n",
    "        for i, (category, group) in enumerate(self.df.groupby('Category')):\n",
    "            sns.barplot(x='Metric', y='Score', data=group, ax=axes[i], color=self.colors[category],\n",
    "                        hatch=self.hatches.get(category, None))\n",
    "            axes[i].set_title(category.replace('_', ' ').title(), color='white')\n",
    "            axes[i].set_ylim(0, 1)\n",
    "            axes[i].tick_params(axis='x', rotation=60, colors='white')  \n",
    "            axes[i].tick_params(axis='y', colors='white')\n",
    "            axes[i].set_xlabel('', color='white')\n",
    "        plt.suptitle('Bar Charts of Evaluation Metrics by Category', y=1.05, color='white')\n",
    "        plt.subplots_adjust(top=0.8, hspace=0.3, wspace=0.3)\n",
    "        fig.patch.set_facecolor('#2e2e2e')  \n",
    "        return self.plot_to_html(fig)\n",
    "\n",
    "    def plot_radar_chart(self):\n",
    "        labels = list(self.scores_dic.keys())\n",
    "        values = list(self.scores_dic.values())\n",
    "        num_vars = len(labels)\n",
    "        angles = np.linspace(0, 2 * np.pi, num_vars, endpoint=False).tolist()\n",
    "        values += values[:1]\n",
    "        angles += angles[:1]\n",
    "        fig, ax = plt.subplots(figsize=(7, 7), subplot_kw=dict(polar=True))\n",
    "        ax.fill(angles, values, color='purple', alpha=0.25)\n",
    "        ax.plot(angles, values, color='purple', linewidth=2)\n",
    "        ax.set_yticklabels([])\n",
    "        ax.set_xticks(angles[:-1])\n",
    "        ax.set_xticklabels(labels, fontsize=12, color='white')\n",
    "        plt.title('Evaluation Metrics Radar Chart', size=16, color='white')\n",
    "        fig.patch.set_facecolor('#2e2e2e')  \n",
    "        return self.plot_to_html(fig)\n",
    "\n",
    "    def plot_heatmap(self):\n",
    "        metric_scores_df = pd.DataFrame.from_dict(self.scores_dic, orient='index', columns=['Score'])\n",
    "        metric_scores_df = metric_scores_df.sort_values(by='Score', ascending=False)\n",
    "\n",
    "        fig, ax = plt.subplots(figsize=(9, 6))  \n",
    "        sns.heatmap(metric_scores_df, annot=True, cmap='coolwarm', cbar_kws={'label': 'Metric Score'}, ax=ax, annot_kws={\"color\": \"white\"})\n",
    "        plt.title('Heatmap of Evaluation Metrics Scores', color='white')\n",
    "        plt.yticks(rotation=0, color='white')  \n",
    "        plt.xticks(rotation=45, ha='right', color='white')  \n",
    "        ax.yaxis.label.set_color('white') \n",
    "        ax.xaxis.label.set_color('white')  \n",
    "        fig.patch.set_facecolor('#2e2e2e')  \n",
    "        return self.plot_to_html(fig)\n",
    "\n",
    "    def show_all_plots(self):\n",
    "        bar_chart_html = self.plot_bar_charts()\n",
    "        radar_chart_html = self.plot_radar_chart()\n",
    "        heatmap_html = self.plot_heatmap()\n",
    "        \n",
    "        # Define a consistent background color and text style for dark mode\n",
    "        background_color = '#2e2e2e'\n",
    "        text_color = 'white'\n",
    "\n",
    "        # Explanations for each plot\n",
    "        bar_chart_description = widgets.HTML(\n",
    "            value=\"<div style='background-color: {bg_color}; color: {text_color}; height: 550px; padding: 10px;'>\"\n",
    "                  \"<p>The bar charts display the scores of various evaluation metrics categorized into \"\n",
    "                  \"'accuracy relevance' and 'safety ethics'. Each bar represents a metric, with the height of the bar \"\n",
    "                  \"indicating the score value. This visualization allows for a quick comparison of metric scores across different categories.</p>\"\n",
    "                  \"</div>\".format(bg_color=background_color, text_color=text_color)\n",
    "        )\n",
    "\n",
    "        radar_chart_description = widgets.HTML(\n",
    "            value=\"<div style='background-color: {bg_color}; color: {text_color}; height: 550px; padding: 10px;'>\"\n",
    "                  \"<p>The radar chart provides a comprehensive view of the scores across multiple metrics. \"\n",
    "                  \"Each axis represents a metric, and the distance from the center indicates the score value. \"\n",
    "                  \"This chart helps in identifying strengths and areas for improvement by comparing scores across different metrics.</p>\"\n",
    "                  \"</div>\".format(bg_color=background_color, text_color=text_color)\n",
    "        )\n",
    "\n",
    "        heatmap_description = widgets.HTML(\n",
    "            value=\"<div style='background-color: {bg_color}; color: {text_color}; height: 550px; padding: 10px;'>\"\n",
    "                  \"<p>The heatmap shows the scores for various evaluation metrics. Each cell represents the score of a metric, \"\n",
    "                  \"with the color indicating the score level. Warmer colors (closer to red) indicate higher scores, while cooler colors \"\n",
    "                  \"(closer to blue) indicate lower scores. This visualization helps in identifying strengths and areas for improvement based on the evaluation metrics.</p>\"\n",
    "                  \"</div>\".format(bg_color=background_color, text_color=text_color)\n",
    "        )\n",
    "\n",
    "        # Create HBox for each tab with plot and description\n",
    "        bar_chart_tab_content = widgets.HBox([widgets.HTML(value=bar_chart_html), bar_chart_description], layout=widgets.Layout(align_items='stretch', height='550px'))\n",
    "        radar_chart_tab_content = widgets.HBox([widgets.HTML(value=radar_chart_html), radar_chart_description], layout=widgets.Layout(align_items='stretch', height='550px'))\n",
    "        heatmap_tab_content = widgets.HBox([widgets.HTML(value=heatmap_html), heatmap_description], layout=widgets.Layout(align_items='stretch', height='550px', width='100%'))\n",
    "\n",
    "        tab_contents = [\n",
    "            bar_chart_tab_content,\n",
    "            radar_chart_tab_content,\n",
    "            heatmap_tab_content\n",
    "        ]\n",
    "        \n",
    "        tab = widgets.Tab()\n",
    "        tab.children = tab_contents\n",
    "        tab.set_title(0, 'Bar Charts')\n",
    "        tab.set_title(1, 'Radar Chart')\n",
    "        tab.set_title(2, 'Heatmap')\n",
    "        \n",
    "        display(tab)\n",
    "\n",
    "# Usage example with sample data\n",
    "scores_dic = {\n",
    "    'GEVal': 0.75,\n",
    "    'KnowledgeRetention': 0.85,\n",
    "    'Faithfulness': 0.65,\n",
    "    'ContextualRelevancy': 0.8,\n",
    "    'AnswerRelevancy': 0.9,\n",
    "    'Toxicity': 0.2,\n",
    "    'Bias': 0.15,\n",
    "    'Hallucination': 0.3\n",
    "}\n",
    "\n",
    "visualizer = MetricVisualizer(scores_dic)\n",
    "visualizer.show_all_plots()\n"
   ],
   "id": "367286960a7e8e00",
   "outputs": [
    {
     "data": {
      "text/plain": [
       "Tab(children=(HBox(children=(HTML(value='<img src=\"data:image/png;base64,iVBORw0KGgoAAAANSUhEUgAAA%2BgAAAJYCAY…"
      ],
      "application/vnd.jupyter.widget-view+json": {
       "version_major": 2,
       "version_minor": 0,
       "model_id": "a2d7eda845c44c77b04b990f5581f35e"
      }
     },
     "metadata": {},
     "output_type": "display_data"
    }
   ],
   "execution_count": 11
  },
  {
   "metadata": {
    "ExecuteTime": {
     "end_time": "2024-07-30T09:30:53.228041Z",
     "start_time": "2024-07-30T09:30:53.217211Z"
    }
   },
   "cell_type": "code",
   "source": "evaluator.weighted_score",
   "id": "9b0498a0579a7c02",
   "outputs": [
    {
     "data": {
      "text/plain": [
       "{}"
      ]
     },
     "execution_count": 12,
     "metadata": {},
     "output_type": "execute_result"
    }
   ],
   "execution_count": 12
  },
  {
   "metadata": {},
   "cell_type": "code",
   "outputs": [],
   "execution_count": null,
   "source": "",
   "id": "52a15b843a5d940b"
  }
 ],
 "metadata": {
  "kernelspec": {
   "display_name": "Python 3",
   "language": "python",
   "name": "python3"
  },
  "language_info": {
   "codemirror_mode": {
    "name": "ipython",
    "version": 2
   },
   "file_extension": ".py",
   "mimetype": "text/x-python",
   "name": "python",
   "nbconvert_exporter": "python",
   "pygments_lexer": "ipython2",
   "version": "2.7.6"
  }
 },
 "nbformat": 4,
 "nbformat_minor": 5
}
