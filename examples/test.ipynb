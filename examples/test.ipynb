{
 "cells": [
  {
   "metadata": {
    "ExecuteTime": {
     "end_time": "2024-08-10T05:56:56.681459Z",
     "start_time": "2024-08-10T05:56:56.669110Z"
    }
   },
   "cell_type": "code",
   "source": [
    "import os\n",
    "from dotenv import load_dotenv\n",
    "\n",
    "load_dotenv()\n",
    "INDOX_API_KEY = os.getenv(\"INDOX_API_KEY\")"
   ],
   "id": "eead8d36fac5e6d9",
   "outputs": [],
   "execution_count": 1
  },
  {
   "cell_type": "code",
   "id": "initial_id",
   "metadata": {
    "collapsed": true,
    "ExecuteTime": {
     "end_time": "2024-08-10T05:57:00.833238Z",
     "start_time": "2024-08-10T05:56:56.861928Z"
    }
   },
   "source": "from indoxJudge.metrics import Gruen",
   "outputs": [],
   "execution_count": 2
  },
  {
   "metadata": {
    "ExecuteTime": {
     "end_time": "2024-08-10T05:57:00.869195Z",
     "start_time": "2024-08-10T05:57:00.834253Z"
    }
   },
   "cell_type": "code",
   "source": [
    "from indoxJudge.models import IndoxApi\n",
    "model = IndoxApi(api_key=INDOX_API_KEY)"
   ],
   "id": "3284d6fb905e14a1",
   "outputs": [],
   "execution_count": 3
  },
  {
   "metadata": {
    "ExecuteTime": {
     "end_time": "2024-08-10T05:57:00.873317Z",
     "start_time": "2024-08-10T05:57:00.870289Z"
    }
   },
   "cell_type": "code",
   "source": "response = [\"The Mediterranean diet is known for its health benefits, including reducing the risk of heart disease, stroke, and diabetes. It encourages the consumption of fruits, vegetables, whole grains, nuts, and olive oil, while limiting red meat. Additionally, this diet has been associated with better cognitive function and a reduced risk of Alzheimer's disease, promoting longevity and overall well-being.\"]",
   "id": "ecd605f4eab9484b",
   "outputs": [],
   "execution_count": 4
  },
  {
   "metadata": {
    "ExecuteTime": {
     "end_time": "2024-08-10T05:57:00.879409Z",
     "start_time": "2024-08-10T05:57:00.874326Z"
    }
   },
   "cell_type": "code",
   "source": "gruen = Gruen(candidates=response)",
   "id": "4e9f839b55b74eba",
   "outputs": [],
   "execution_count": 5
  },
  {
   "metadata": {
    "ExecuteTime": {
     "end_time": "2024-08-10T05:57:01.506283Z",
     "start_time": "2024-08-10T05:57:00.880418Z"
    }
   },
   "cell_type": "code",
   "source": [
    "from indoxJudge.piplines import CustomEvaluator\n",
    "eval = CustomEvaluator(model=model,metrics=[gruen])"
   ],
   "id": "fc23800e4a560df",
   "outputs": [
    {
     "name": "stdout",
     "output_type": "stream",
     "text": [
      "\u001B[32mINFO\u001B[0m: \u001B[1mEvaluator initialized with model and metrics.\u001B[0m\n",
      "\u001B[32mINFO\u001B[0m: \u001B[1mModel set for all metrics.\u001B[0m\n"
     ]
    }
   ],
   "execution_count": 6
  },
  {
   "metadata": {
    "ExecuteTime": {
     "end_time": "2024-08-10T05:57:07.223602Z",
     "start_time": "2024-08-10T05:57:02.166059Z"
    }
   },
   "cell_type": "code",
   "source": "result = eval.judge()",
   "id": "3fdbc326861cfdf6",
   "outputs": [
    {
     "name": "stdout",
     "output_type": "stream",
     "text": [
      "\u001B[32mINFO\u001B[0m: \u001B[1mEvaluating metric: Gruen\u001B[0m\n"
     ]
    },
    {
     "name": "stderr",
     "output_type": "stream",
     "text": [
      "Some weights of the model checkpoint at bert-base-cased were not used when initializing BertForMaskedLM: ['bert.pooler.dense.bias', 'bert.pooler.dense.weight', 'cls.seq_relationship.bias', 'cls.seq_relationship.weight']\n",
      "- This IS expected if you are initializing BertForMaskedLM from the checkpoint of a model trained on another task or with another architecture (e.g. initializing a BertForSequenceClassification model from a BertForPreTraining model).\n",
      "- This IS NOT expected if you are initializing BertForMaskedLM from the checkpoint of a model that you expect to be exactly identical (initializing a BertForSequenceClassification model from a BertForSequenceClassification model).\n",
      "100%|██████████| 1/1 [00:00<00:00,  1.34it/s]\n",
      "E:\\Codes\\IndoxJudge\\indoxJudge\\.venv\\Lib\\site-packages\\transformers\\data\\processors\\glue.py:66: FutureWarning: This function will be removed from the library soon, preprocessing should be handled with the 🤗 Datasets library. You can have a look at this example script for pointers: https://github.com/huggingface/transformers/blob/main/examples/pytorch/text-classification/run_glue.py\n",
      "  warnings.warn(DEPRECATION_WARNING.format(\"function\"), FutureWarning)\n",
      "Evaluating: 100%|██████████| 3/3 [00:00<00:00,  5.73it/s]\n"
     ]
    },
    {
     "name": "stdout",
     "output_type": "stream",
     "text": [
      "\u001B[32mINFO\u001B[0m: \u001B[1mCompleted evaluation for metric: Gruen\u001B[0m\n"
     ]
    }
   ],
   "execution_count": 7
  },
  {
   "metadata": {
    "ExecuteTime": {
     "end_time": "2024-08-10T05:57:08.800899Z",
     "start_time": "2024-08-10T05:57:08.795184Z"
    }
   },
   "cell_type": "code",
   "source": "result",
   "id": "2e7b5fa016518081",
   "outputs": [
    {
     "data": {
      "text/plain": [
       "{'gruen': {'score': [0.72]}}"
      ]
     },
     "execution_count": 8,
     "metadata": {},
     "output_type": "execute_result"
    }
   ],
   "execution_count": 8
  },
  {
   "metadata": {},
   "cell_type": "code",
   "outputs": [],
   "execution_count": null,
   "source": "",
   "id": "11ee122cc1e1a906"
  }
 ],
 "metadata": {
  "kernelspec": {
   "display_name": "Python 3",
   "language": "python",
   "name": "python3"
  },
  "language_info": {
   "codemirror_mode": {
    "name": "ipython",
    "version": 2
   },
   "file_extension": ".py",
   "mimetype": "text/x-python",
   "name": "python",
   "nbconvert_exporter": "python",
   "pygments_lexer": "ipython2",
   "version": "2.7.6"
  }
 },
 "nbformat": 4,
 "nbformat_minor": 5
}
