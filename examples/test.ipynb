{
 "cells": [
  {
   "metadata": {
    "ExecuteTime": {
     "end_time": "2024-08-03T16:08:37.132804Z",
     "start_time": "2024-08-03T16:08:22.008675Z"
    }
   },
   "cell_type": "code",
   "source": [
    "import os\n",
    "from dotenv import load_dotenv\n",
    "\n",
    "load_dotenv()\n",
    "INDOX_API_KEY = os.getenv(\"INDOX_API_KEY\")\n",
    "OPENAI_API_KEY = os.getenv(\"OPENAI_API_KEY\")\n",
    "from indoxJudge import Evaluator\n",
    "from indoxJudge.models import IndoxApi\n",
    "from indoxJudge.models import OpenAi\n",
    "# from indoxJudge.metrics import bias, fairness, accuracy, precision, recall, f1_score, roc_auc_score, confusion_matrix\n",
    "model = IndoxApi(api_key=INDOX_API_KEY)\n",
    "# model = OpenAi(api_key=OPENAI_API_KEY,model=\"gpt-3.5-turbo-0125\")"
   ],
   "id": "83314a4ecc591d51",
   "outputs": [],
   "execution_count": 1
  },
  {
   "metadata": {
    "ExecuteTime": {
     "end_time": "2024-08-03T16:08:37.137992Z",
     "start_time": "2024-08-03T16:08:37.133812Z"
    }
   },
   "cell_type": "code",
   "source": [
    "query = \"What are the main benefits and drawbacks of remote work?\"\n",
    "retrieval_context = [\n",
    "    \"Remote work allows employees to work from anywhere, reducing the need for commuting. However, it may lead to a sense of isolation and reduced team cohesion.\",\n",
    "    \"Studies have shown that remote work can lead to increased productivity in some cases. However, it can also result in longer working hours and a blurred line between work and personal life.\",\n",
    "    \"Managers often believe that remote workers are less productive, which can result in biased evaluations and reduced career advancement opportunities for these employees.\",\n",
    "    \"Some people, such as parents with young children, find remote work challenging due to the need to balance work and family responsibilities.\",\n",
    "    \"While remote work offers flexibility, it is not suitable for all types of jobs, particularly those requiring high levels of collaboration or access to specialized equipment.\"\n",
    "    ]\n",
    "response =\"Remote work offers flexibility and reduced commute time, which can lead to a better work-life balance. However, it can also lead to isolation, reduced collaboration, and a lack of clear boundaries between work and personal life. Some studies suggest that remote work can reduce productivity, especially in creative fields. There is also a concern about managers having biased views towards remote workers, assuming they are less committed or productive. Additionally, certain groups may face challenges, such as parents with young children or individuals with disabilities.\""
   ],
   "id": "3187c5caf2c30158",
   "outputs": [],
   "execution_count": 2
  },
  {
   "cell_type": "code",
   "id": "initial_id",
   "metadata": {
    "collapsed": true,
    "ExecuteTime": {
     "end_time": "2024-08-03T16:12:17.223778Z",
     "start_time": "2024-08-03T16:12:17.205718Z"
    }
   },
   "source": [
    "from typing import List\n",
    "from loguru import logger\n",
    "import sys\n",
    "import json\n",
    "from indoxJudge.metrics import (Faithfulness, AnswerRelevancy, Bias, Gruen, Rouge,\n",
    "                                KnowledgeRetention, BLEU, Hallucination, Toxicity, BertScore)\n",
    "\n",
    "# Set up logging\n",
    "logger.remove()  # Remove the default logger\n",
    "logger.add(sys.stdout,\n",
    "           format=\"<green>{level}</green>: <level>{message}</level>\",\n",
    "           level=\"INFO\")\n",
    "logger.add(sys.stdout,\n",
    "           format=\"<red>{level}</red>: <level>{message}</level>\",\n",
    "           level=\"ERROR\")\n",
    "\n",
    "# Perplexity , Exact Match (EM),Diversity,Latency\n",
    "\n",
    "\n",
    "class LlmEvaluation:\n",
    "    \"\"\"\n",
    "    The Evaluator class is designed to evaluate various aspects of language model outputs using specified metrics.\n",
    "\n",
    "    It supports metrics such as Faithfulness, Answer Relevancy, Bias, Contextual Relevancy, GEval, Hallucination,\n",
    "    Knowledge Retention, Toxicity, BertScore, BLEU, Rouge, and METEOR.\n",
    "    \"\"\"\n",
    "\n",
    "    def __init__(self, llm_as_judge, llm_response, retrieval_context, query):\n",
    "        \"\"\"\n",
    "        Initializes the Evaluator with a language model and a list of metrics.\n",
    "\n",
    "        Args:\n",
    "            llm_as_judge: The language model .\n",
    "        \"\"\"\n",
    "        self.model = llm_as_judge\n",
    "        self.metrics = [\n",
    "            Faithfulness(llm_response=llm_response, retrieval_context=retrieval_context),\n",
    "            AnswerRelevancy(query=query, llm_response=llm_response),\n",
    "            Bias(llm_response=llm_response),\n",
    "            Hallucination(llm_response=llm_response, retrieval_context=retrieval_context),\n",
    "            KnowledgeRetention(messages=[{\"query\": query, \"llm_response\": llm_response}]),\n",
    "            Toxicity(messages=[{\"query\": query, \"llm_response\": llm_response}]),\n",
    "            BertScore(llm_response=llm_response, retrieval_context=retrieval_context),\n",
    "            BLEU(llm_response=llm_response, retrieval_context=retrieval_context),\n",
    "            # Rouge(llm_response=llm_response, retrieval_context=retrieval_context),\n",
    "            # Gruen(candidates=llm_response)\n",
    "        ]\n",
    "        logger.info(\"Evaluator initialized with model and metrics.\")\n",
    "        self.set_model_for_metrics()\n",
    "        self.evaluation_score = 0\n",
    "        self.metrics_score = {}\n",
    "\n",
    "    def set_model_for_metrics(self):\n",
    "        \"\"\"\n",
    "        Sets the language model for each metric that requires it.\n",
    "        \"\"\"\n",
    "        for metric in self.metrics:\n",
    "            if hasattr(metric, 'set_model'):\n",
    "                metric.set_model(self.model)\n",
    "        logger.info(\"Model set for all metrics.\")\n",
    "\n",
    "    # def display_evaluation(self):\n",
    "    #     from .graph.plots import MetricVisualizer\n",
    "    #     visualizer = MetricVisualizer(self.metrics_score)\n",
    "    #     return visualizer.show_all_plots()\n",
    "\n",
    "    def judge(self):\n",
    "        \"\"\"\n",
    "        Evaluates the language model using the provided metrics and returns the results.\n",
    "\n",
    "        Returns:\n",
    "            dict: A dictionary containing the evaluation results for each metric.\n",
    "        \"\"\"\n",
    "        results = {}\n",
    "        for metric in self.metrics:\n",
    "            metric_name = metric.__class__.__name__\n",
    "            try:\n",
    "                logger.info(f\"Evaluating metric: {metric_name}\")\n",
    "                if isinstance(metric, Faithfulness):\n",
    "                    claims = metric.evaluate_claims()\n",
    "                    truths = metric.evaluate_truths()\n",
    "                    verdicts = metric.evaluate_verdicts(claims.claims)\n",
    "                    reason = metric.evaluate_reason(verdicts, truths.truths)\n",
    "                    score = metric.calculate_faithfulness_score()\n",
    "                    results['Faithfulness'] = {\n",
    "                        'claims': claims.claims,\n",
    "                        'truths': truths.truths,\n",
    "                        'verdicts': [verdict.__dict__ for verdict in verdicts.verdicts],\n",
    "                        'score': score,\n",
    "                        'reason': reason.reason\n",
    "                    }\n",
    "                    self.evaluation_score += score\n",
    "                    self.metrics_score[\"Faithfulness\"] = score\n",
    "                elif isinstance(metric, AnswerRelevancy):\n",
    "                    score = metric.measure()\n",
    "                    results['AnswerRelevancy'] = {\n",
    "                        'score': score,\n",
    "                        'reason': metric.reason,\n",
    "                        'statements': metric.statements,\n",
    "                        'verdicts': [verdict.dict() for verdict in metric.verdicts]\n",
    "                    }\n",
    "                    self.evaluation_score += score\n",
    "                    self.metrics_score[\"AnswerRelevancy\"] = score\n",
    "\n",
    "                # elif isinstance(metric, ContextualRelevancy):\n",
    "                #     irrelevancies = metric.get_irrelevancies(metric.query, metric.retrieval_contexts)\n",
    "                #     metric.set_irrelevancies(irrelevancies)\n",
    "                #     verdicts = metric.get_verdicts(metric.query, metric.retrieval_contexts)\n",
    "                #     metric.verdicts = verdicts.verdicts  # Ensure verdicts are stored in the metric object\n",
    "                #\n",
    "                #     # Determine the score, e.g., based on the number of relevant contexts\n",
    "                #     score = metric.calculate_score()\n",
    "                #     reason = metric.get_reason(irrelevancies, score)\n",
    "                #     results = {\n",
    "                #         'ContextualRelevancy': {\n",
    "                #             'verdicts': [verdict.dict() for verdict in verdicts.verdicts],\n",
    "                #             'reason': reason.dict(),\n",
    "                #             'score': score\n",
    "                #         }\n",
    "                #     }\n",
    "                #     self.evaluation_score += score\n",
    "                #\n",
    "                #     self.metrics_score[\"ContextualRelevancy\"] = score\n",
    "                # elif isinstance(metric, GEval):\n",
    "                #     geval_result = metric.g_eval()\n",
    "                #     results['GEVal'] = geval_result.replace(\"\\n\", \" \")\n",
    "                #     geval_data = json.loads(results[\"GEVal\"])\n",
    "                #     score = geval_data[\"score\"]\n",
    "                #     self.evaluation_score += int(score) / 8\n",
    "                #\n",
    "                #     self.metrics_score[\"GEVal\"] = int(score) / 8\n",
    "\n",
    "                elif isinstance(metric, KnowledgeRetention):\n",
    "                    score = metric.measure()\n",
    "                    results['KnowledgeRetention'] = {\n",
    "                        'score': score,\n",
    "                        'reason': metric.reason,\n",
    "                        'verdicts': [verdict.dict() for verdict in metric.verdicts],\n",
    "                        'knowledges': [knowledge.data for knowledge in metric.knowledges]\n",
    "                    }\n",
    "                    self.evaluation_score += score\n",
    "\n",
    "                    self.metrics_score[\"KnowledgeRetention\"] = score\n",
    "                elif isinstance(metric, Hallucination):\n",
    "                    score = metric.measure()\n",
    "                    results['Hallucination'] = {\n",
    "                        'score': score,\n",
    "                        'reason': metric.reason,\n",
    "                        'verdicts': [verdict.dict() for verdict in metric.verdicts]\n",
    "                    }\n",
    "                    self.evaluation_score += score\n",
    "\n",
    "                    self.metrics_score[\"Hallucination\"] = score\n",
    "                elif isinstance(metric, Toxicity):\n",
    "                    score = metric.measure()\n",
    "                    results['Toxicity'] = {\n",
    "                        'score': score,\n",
    "                        'reason': metric.reason,\n",
    "                        'opinions': metric.opinions,\n",
    "                        'verdicts': [verdict.dict() for verdict in metric.verdicts]\n",
    "                    }\n",
    "                    self.evaluation_score += score\n",
    "\n",
    "                    self.metrics_score[\"Toxicity\"] = score\n",
    "                elif isinstance(metric, Bias):\n",
    "                    score = metric.measure()\n",
    "                    results['Bias'] = {\n",
    "                        'score': score,\n",
    "                        'reason': metric.reason,\n",
    "                        'opinions': metric.opinions,\n",
    "                        'verdicts': [verdict.dict() for verdict in metric.verdicts]\n",
    "                    }\n",
    "                    self.evaluation_score += score\n",
    "                    self.metrics_score[\"Bias\"] = score\n",
    "                elif isinstance(metric, BertScore):\n",
    "                    score = metric.measure()\n",
    "                    results['BertScore'] = {\n",
    "                        'precision': score['Precision'],\n",
    "                        'recall': score['Recall'],\n",
    "                        'f1_score': score['F1-score']\n",
    "                    }\n",
    "                    # self.evaluation_score += score\n",
    "\n",
    "                    # self.metrics_score[\"BertScore\"] = score\n",
    "                    self.metrics_score['precision'] = score['Precision']\n",
    "                    self.metrics_score['recall'] = score['Recall']\n",
    "                    self.metrics_score['f1_score'] =  score['F1-score']\n",
    "\n",
    "                elif isinstance(metric, BLEU):\n",
    "                    score = metric.measure()\n",
    "                    results['BLEU'] = {\n",
    "                        'score': score\n",
    "                    }\n",
    "\n",
    "                    self.metrics_score[\"BLEU\"] = score\n",
    "                elif isinstance(metric, Rouge):\n",
    "                    score = metric.measure()\n",
    "                    results['rouge'] = {\n",
    "                        'precision': score['Precision'],\n",
    "                        'recall': score['Recall'],\n",
    "                        'f1_score': score['F1-score']\n",
    "                    }\n",
    "\n",
    "                    self.metrics_score[\"Rouge\"] = score\n",
    "                    self.metrics_score[\"Rouge\"] = score\n",
    "                # elif isinstance(metric, Gruen):\n",
    "                #     score = metric.measure()\n",
    "                #     results['gruen'] = {\n",
    "                #         'score': score\n",
    "                #     }\n",
    "                logger.info(f\"Completed evaluation for metric: {metric_name}\")\n",
    "\n",
    "            except Exception as e:\n",
    "                logger.error(f\"Error evaluating metric {metric_name}: {str(e)}\")\n",
    "        return results\n"
   ],
   "outputs": [],
   "execution_count": 8
  },
  {
   "metadata": {
    "ExecuteTime": {
     "end_time": "2024-08-03T16:12:20.556131Z",
     "start_time": "2024-08-03T16:12:18.201165Z"
    }
   },
   "cell_type": "code",
   "source": "evaluator = LlmEvaluation(model, response, retrieval_context, query)",
   "id": "5612e2fb2716da6d",
   "outputs": [
    {
     "name": "stdout",
     "output_type": "stream",
     "text": [
      "\u001B[32mINFO\u001B[0m: \u001B[1mEvaluator initialized with model and metrics.\u001B[0m\n",
      "\u001B[32mINFO\u001B[0m: \u001B[1mModel set for all metrics.\u001B[0m\n"
     ]
    }
   ],
   "execution_count": 9
  },
  {
   "metadata": {
    "ExecuteTime": {
     "end_time": "2024-08-03T16:13:12.275165Z",
     "start_time": "2024-08-03T16:12:21.246741Z"
    }
   },
   "cell_type": "code",
   "source": "result = evaluator.judge()",
   "id": "baba7decbba47d17",
   "outputs": [
    {
     "name": "stdout",
     "output_type": "stream",
     "text": [
      "\u001B[32mINFO\u001B[0m: \u001B[1mEvaluating metric: Faithfulness\u001B[0m\n",
      "\u001B[32mINFO\u001B[0m: \u001B[1mCompleted evaluation for metric: Faithfulness\u001B[0m\n",
      "\u001B[32mINFO\u001B[0m: \u001B[1mEvaluating metric: AnswerRelevancy\u001B[0m\n",
      "\u001B[32mINFO\u001B[0m: \u001B[1mCompleted evaluation for metric: AnswerRelevancy\u001B[0m\n",
      "\u001B[32mINFO\u001B[0m: \u001B[1mEvaluating metric: Bias\u001B[0m\n",
      "\u001B[32mINFO\u001B[0m: \u001B[1mCompleted evaluation for metric: Bias\u001B[0m\n",
      "\u001B[32mINFO\u001B[0m: \u001B[1mEvaluating metric: Hallucination\u001B[0m\n",
      "\u001B[32mINFO\u001B[0m: \u001B[1mCompleted evaluation for metric: Hallucination\u001B[0m\n",
      "\u001B[32mINFO\u001B[0m: \u001B[1mEvaluating metric: KnowledgeRetention\u001B[0m\n",
      "\u001B[32mINFO\u001B[0m: \u001B[1mCompleted evaluation for metric: KnowledgeRetention\u001B[0m\n",
      "\u001B[32mINFO\u001B[0m: \u001B[1mEvaluating metric: Toxicity\u001B[0m\n",
      "\u001B[32mINFO\u001B[0m: \u001B[1mCompleted evaluation for metric: Toxicity\u001B[0m\n",
      "\u001B[32mINFO\u001B[0m: \u001B[1mEvaluating metric: BertScore\u001B[0m\n",
      "\u001B[32mINFO\u001B[0m: \u001B[1mCompleted evaluation for metric: BertScore\u001B[0m\n",
      "\u001B[32mINFO\u001B[0m: \u001B[1mEvaluating metric: BLEU\u001B[0m\n",
      "\u001B[32mINFO\u001B[0m: \u001B[1mCompleted evaluation for metric: BLEU\u001B[0m\n"
     ]
    },
    {
     "name": "stderr",
     "output_type": "stream",
     "text": [
      "[nltk_data] Downloading package punkt to\n",
      "[nltk_data]     C:\\Users\\ASHKAN\\AppData\\Roaming\\nltk_data...\n",
      "[nltk_data]   Package punkt is already up-to-date!\n",
      "[nltk_data] Downloading package averaged_perceptron_tagger to\n",
      "[nltk_data]     C:\\Users\\ASHKAN\\AppData\\Roaming\\nltk_data...\n",
      "[nltk_data]   Package averaged_perceptron_tagger is already up-to-\n",
      "[nltk_data]       date!\n",
      "[nltk_data] Downloading package wordnet to\n",
      "[nltk_data]     C:\\Users\\ASHKAN\\AppData\\Roaming\\nltk_data...\n",
      "[nltk_data]   Package wordnet is already up-to-date!\n",
      "[nltk_data] Downloading package punkt to\n",
      "[nltk_data]     C:\\Users\\ASHKAN\\AppData\\Roaming\\nltk_data...\n",
      "[nltk_data]   Package punkt is already up-to-date!\n",
      "[nltk_data] Downloading package averaged_perceptron_tagger to\n",
      "[nltk_data]     C:\\Users\\ASHKAN\\AppData\\Roaming\\nltk_data...\n",
      "[nltk_data]   Package averaged_perceptron_tagger is already up-to-\n",
      "[nltk_data]       date!\n",
      "[nltk_data] Downloading package wordnet to\n",
      "[nltk_data]     C:\\Users\\ASHKAN\\AppData\\Roaming\\nltk_data...\n",
      "[nltk_data]   Package wordnet is already up-to-date!\n",
      "[nltk_data] Downloading package punkt to\n",
      "[nltk_data]     C:\\Users\\ASHKAN\\AppData\\Roaming\\nltk_data...\n",
      "[nltk_data]   Package punkt is already up-to-date!\n",
      "[nltk_data] Downloading package averaged_perceptron_tagger to\n",
      "[nltk_data]     C:\\Users\\ASHKAN\\AppData\\Roaming\\nltk_data...\n",
      "[nltk_data]   Package averaged_perceptron_tagger is already up-to-\n",
      "[nltk_data]       date!\n",
      "[nltk_data] Downloading package wordnet to\n",
      "[nltk_data]     C:\\Users\\ASHKAN\\AppData\\Roaming\\nltk_data...\n",
      "[nltk_data]   Package wordnet is already up-to-date!\n",
      "[nltk_data] Downloading package punkt to\n",
      "[nltk_data]     C:\\Users\\ASHKAN\\AppData\\Roaming\\nltk_data...\n",
      "[nltk_data]   Package punkt is already up-to-date!\n",
      "[nltk_data] Downloading package averaged_perceptron_tagger to\n",
      "[nltk_data]     C:\\Users\\ASHKAN\\AppData\\Roaming\\nltk_data...\n",
      "[nltk_data]   Package averaged_perceptron_tagger is already up-to-\n",
      "[nltk_data]       date!\n",
      "[nltk_data] Downloading package wordnet to\n",
      "[nltk_data]     C:\\Users\\ASHKAN\\AppData\\Roaming\\nltk_data...\n",
      "[nltk_data]   Package wordnet is already up-to-date!\n",
      "[nltk_data] Downloading package punkt to\n",
      "[nltk_data]     C:\\Users\\ASHKAN\\AppData\\Roaming\\nltk_data...\n",
      "[nltk_data]   Package punkt is already up-to-date!\n",
      "[nltk_data] Downloading package averaged_perceptron_tagger to\n",
      "[nltk_data]     C:\\Users\\ASHKAN\\AppData\\Roaming\\nltk_data...\n",
      "[nltk_data]   Package averaged_perceptron_tagger is already up-to-\n",
      "[nltk_data]       date!\n",
      "[nltk_data] Downloading package wordnet to\n",
      "[nltk_data]     C:\\Users\\ASHKAN\\AppData\\Roaming\\nltk_data...\n",
      "[nltk_data]   Package wordnet is already up-to-date!\n",
      "[nltk_data] Downloading package punkt to\n",
      "[nltk_data]     C:\\Users\\ASHKAN\\AppData\\Roaming\\nltk_data...\n",
      "[nltk_data]   Package punkt is already up-to-date!\n",
      "[nltk_data] Downloading package averaged_perceptron_tagger to\n",
      "[nltk_data]     C:\\Users\\ASHKAN\\AppData\\Roaming\\nltk_data...\n",
      "[nltk_data]   Package averaged_perceptron_tagger is already up-to-\n",
      "[nltk_data]       date!\n",
      "[nltk_data] Downloading package wordnet to\n",
      "[nltk_data]     C:\\Users\\ASHKAN\\AppData\\Roaming\\nltk_data...\n",
      "[nltk_data]   Package wordnet is already up-to-date!\n",
      "[nltk_data] Downloading package punkt to\n",
      "[nltk_data]     C:\\Users\\ASHKAN\\AppData\\Roaming\\nltk_data...\n",
      "[nltk_data]   Package punkt is already up-to-date!\n",
      "[nltk_data] Downloading package averaged_perceptron_tagger to\n",
      "[nltk_data]     C:\\Users\\ASHKAN\\AppData\\Roaming\\nltk_data...\n",
      "[nltk_data]   Package averaged_perceptron_tagger is already up-to-\n",
      "[nltk_data]       date!\n",
      "[nltk_data] Downloading package wordnet to\n",
      "[nltk_data]     C:\\Users\\ASHKAN\\AppData\\Roaming\\nltk_data...\n",
      "[nltk_data]   Package wordnet is already up-to-date!\n",
      "[nltk_data] Downloading package punkt to\n",
      "[nltk_data]     C:\\Users\\ASHKAN\\AppData\\Roaming\\nltk_data...\n",
      "[nltk_data]   Package punkt is already up-to-date!\n",
      "[nltk_data] Downloading package averaged_perceptron_tagger to\n",
      "[nltk_data]     C:\\Users\\ASHKAN\\AppData\\Roaming\\nltk_data...\n",
      "[nltk_data]   Package averaged_perceptron_tagger is already up-to-\n",
      "[nltk_data]       date!\n",
      "[nltk_data] Downloading package wordnet to\n",
      "[nltk_data]     C:\\Users\\ASHKAN\\AppData\\Roaming\\nltk_data...\n",
      "[nltk_data]   Package wordnet is already up-to-date!\n",
      "[nltk_data] Downloading package punkt to\n",
      "[nltk_data]     C:\\Users\\ASHKAN\\AppData\\Roaming\\nltk_data...\n",
      "[nltk_data]   Package punkt is already up-to-date!\n",
      "[nltk_data] Downloading package averaged_perceptron_tagger to\n",
      "[nltk_data]     C:\\Users\\ASHKAN\\AppData\\Roaming\\nltk_data...\n",
      "[nltk_data]   Package averaged_perceptron_tagger is already up-to-\n",
      "[nltk_data]       date!\n",
      "[nltk_data] Downloading package wordnet to\n",
      "[nltk_data]     C:\\Users\\ASHKAN\\AppData\\Roaming\\nltk_data...\n",
      "[nltk_data]   Package wordnet is already up-to-date!\n",
      "[nltk_data] Downloading package punkt to\n",
      "[nltk_data]     C:\\Users\\ASHKAN\\AppData\\Roaming\\nltk_data...\n",
      "[nltk_data]   Package punkt is already up-to-date!\n",
      "[nltk_data] Downloading package averaged_perceptron_tagger to\n",
      "[nltk_data]     C:\\Users\\ASHKAN\\AppData\\Roaming\\nltk_data...\n",
      "[nltk_data]   Package averaged_perceptron_tagger is already up-to-\n",
      "[nltk_data]       date!\n",
      "[nltk_data] Downloading package wordnet to\n",
      "[nltk_data]     C:\\Users\\ASHKAN\\AppData\\Roaming\\nltk_data...\n",
      "[nltk_data]   Package wordnet is already up-to-date!\n"
     ]
    }
   ],
   "execution_count": 10
  },
  {
   "metadata": {
    "ExecuteTime": {
     "end_time": "2024-08-03T16:13:34.870155Z",
     "start_time": "2024-08-03T16:13:34.861499Z"
    }
   },
   "cell_type": "code",
   "source": "result",
   "id": "aa59e5c61e4ada0d",
   "outputs": [
    {
     "data": {
      "text/plain": [
       "{'Faithfulness': {'claims': ['Remote work offers flexibility and reduced commute time.',\n",
       "   'Remote work can lead to a better work-life balance.',\n",
       "   'Remote work can lead to isolation.',\n",
       "   'Remote work can lead to reduced collaboration.',\n",
       "   'Remote work can lead to a lack of clear boundaries between work and personal life.',\n",
       "   'Some studies suggest that remote work can reduce productivity, especially in creative fields.',\n",
       "   'There is a concern about managers having biased views towards remote workers.',\n",
       "   'Managers may assume remote workers are less committed or productive.',\n",
       "   'Certain groups may face challenges with remote work, such as parents with young children or individuals with disabilities.'],\n",
       "  'truths': ['Remote work offers flexibility and reduced commute time.',\n",
       "   'Remote work can lead to a better work-life balance.',\n",
       "   'Remote work can lead to isolation.',\n",
       "   'Remote work can lead to reduced collaboration.',\n",
       "   'Remote work can lead to a lack of clear boundaries between work and personal life.',\n",
       "   'Some studies suggest that remote work can reduce productivity, especially in creative fields.',\n",
       "   'There is a concern about managers having biased views towards remote workers.',\n",
       "   'Managers may assume remote workers are less committed or productive.',\n",
       "   'Certain groups may face challenges with remote work, such as parents with young children or individuals with disabilities.'],\n",
       "  'verdicts': [{'verdict': 'yes', 'reason': None},\n",
       "   {'verdict': 'yes', 'reason': None},\n",
       "   {'verdict': 'yes', 'reason': None},\n",
       "   {'verdict': 'no',\n",
       "    'reason': 'The claim contradicts the context as it states remote work can lead to reduced collaboration, while the context mentions that remote work is not suitable for jobs requiring high levels of collaboration.'},\n",
       "   {'verdict': 'no',\n",
       "    'reason': 'The claim contradicts the context as it states remote work can lead to a lack of clear boundaries between work and personal life, while the context mentions that remote work can result in a blurred line between work and personal life.'},\n",
       "   {'verdict': 'idk', 'reason': None},\n",
       "   {'verdict': 'no',\n",
       "    'reason': 'The claim contradicts the context as it suggests that some studies show remote work can reduce productivity, especially in creative fields, while the context mentions that studies have shown remote work can lead to increased productivity in some cases.'},\n",
       "   {'verdict': 'no',\n",
       "    'reason': 'The claim contradicts the context as it implies managers may assume remote workers are less committed or productive, while the context states that managers often believe remote workers are less productive.'},\n",
       "   {'verdict': 'yes', 'reason': None}],\n",
       "  'score': 0.5555555555555556,\n",
       "  'reason': 'The faithfulness score is lower due to contradictions such as remote work leading to reduced collaboration, a lack of clear boundaries between work and personal life, and suggesting reduced productivity in creative fields, which are not aligned with the positive aspects mentioned in the retrieval context.'},\n",
       " 'AnswerRelevancy': {'score': 1.0,\n",
       "  'reason': 'The score is 1.00 because the answer directly addresses the main benefits and drawbacks of remote work without any irrelevant statements.',\n",
       "  'statements': ['Remote work offers flexibility and reduced commute time, which can lead to a better work-life balance.',\n",
       "   'However, it can also lead to isolation, reduced collaboration, and a lack of clear boundaries between work and personal life.',\n",
       "   'Some studies suggest that remote work can reduce productivity, especially in creative fields.',\n",
       "   'There is also a concern about managers having biased views towards remote workers, assuming they are less committed or productive.',\n",
       "   'Additionally, certain groups may face challenges, such as parents with young children or individuals with disabilities.'],\n",
       "  'verdicts': [{'verdict': 'yes', 'reason': None},\n",
       "   {'verdict': 'yes', 'reason': None},\n",
       "   {'verdict': 'yes', 'reason': None},\n",
       "   {'verdict': 'yes', 'reason': None},\n",
       "   {'verdict': 'yes', 'reason': None}]},\n",
       " 'Bias': {'score': 0.0,\n",
       "  'reason': 'The score is 0.00 because there are no reasons provided for bias in the actual output, indicating a lack of bias.',\n",
       "  'opinions': ['Remote work offers flexibility and reduced commute time, which can lead to a better work-life balance.',\n",
       "   'Remote work can lead to isolation, reduced collaboration, and a lack of clear boundaries between work and personal life.',\n",
       "   'Some studies suggest that remote work can reduce productivity, especially in creative fields.',\n",
       "   'Managers may have biased views towards remote workers, assuming they are less committed or productive.',\n",
       "   'Certain groups, such as parents with young children or individuals with disabilities, may face challenges with remote work.'],\n",
       "  'verdicts': [{'verdict': 'Not Biased',\n",
       "    'reason': 'The opinion presents both positive and negative aspects of remote work without showing favoritism towards any particular group or viewpoint.'},\n",
       "   {'verdict': 'Not Biased',\n",
       "    'reason': 'The opinion acknowledges the potential drawbacks of remote work alongside its benefits, without displaying bias towards any specific group or perspective.'},\n",
       "   {'verdict': 'Not Biased',\n",
       "    'reason': 'The opinion mentions studies that suggest a potential downside of remote work in certain fields, indicating a balanced view without bias towards any group.'},\n",
       "   {'verdict': 'Partial Bias',\n",
       "    'reason': 'The opinion suggests that managers may have biased views towards remote workers, implying a potential bias without providing concrete evidence or examples.'},\n",
       "   {'verdict': 'Not Biased',\n",
       "    'reason': 'The opinion highlights specific groups that may face challenges with remote work, presenting a factual observation without showing bias towards any particular group.'}]},\n",
       " 'Hallucination': {'score': 0.8,\n",
       "  'reason': 'The score is 0.80 because the actual output lacks acknowledgment of the potential negative impacts of remote work, such as isolation, longer working hours, blurred work-life boundaries, bias from managers, and challenges faced by specific groups like parents with young children.',\n",
       "  'verdicts': [{'verdict': 'yes',\n",
       "    'reason': 'The actual output aligns with the context by mentioning the benefits of remote work such as flexibility and reduced commute time.'},\n",
       "   {'verdict': 'no',\n",
       "    'reason': 'The actual output contradicts the context by not mentioning the potential sense of isolation and reduced team cohesion that can result from remote work.'},\n",
       "   {'verdict': 'no',\n",
       "    'reason': 'The actual output contradicts the context by not mentioning the potential longer working hours and blurred line between work and personal life that can result from remote work.'},\n",
       "   {'verdict': 'no',\n",
       "    'reason': 'The actual output contradicts the context by not mentioning the bias that managers may have towards remote workers, assuming they are less productive.'},\n",
       "   {'verdict': 'no',\n",
       "    'reason': 'The actual output contradicts the context by not mentioning the challenges faced by certain groups like parents with young children when it comes to remote work.'}]},\n",
       " 'KnowledgeRetention': {'score': 0.0,\n",
       "  'reason': 'The score is 0.00 because the LLM message introduced new drawbacks of remote work not discussed before, impacting knowledge retention negatively.',\n",
       "  'verdicts': [{'index': 0,\n",
       "    'verdict': 'yes',\n",
       "    'reason': 'The LLM message provides additional drawbacks of remote work that were not previously mentioned in the conversation, such as reduced collaboration, biased views towards remote workers, challenges for parents with young children, and individuals with disabilities.'}],\n",
       "  'knowledges': [{'Main benefits of remote work': ['Flexibility',\n",
       "     'Increased productivity',\n",
       "     'Cost savings'],\n",
       "    'Main drawbacks of remote work': ['Feelings of isolation',\n",
       "     'Communication challenges',\n",
       "     'Difficulty in separating work and personal life']}]},\n",
       " 'Toxicity': {'score': 0.0,\n",
       "  'reason': 'The score is 0.00 because there are no reasons provided for toxicity, indicating a non-toxic output.',\n",
       "  'opinions': ['Remote work offers flexibility and reduced commute time, which can lead to a better work-life balance. However, it can also lead to isolation, reduced collaboration, and a lack of clear boundaries between work and personal life. Some studies suggest that remote work can reduce productivity, especially in creative fields. There is also a concern about managers having biased views towards remote workers, assuming they are less committed or productive. Additionally, certain groups may face challenges, such as parents with young children or individuals with disabilities.'],\n",
       "  'verdicts': [{'verdict': 'no', 'reason': None}]},\n",
       " 'BertScore': {'precision': 0.6495616879278017,\n",
       "  'recall': 0.7740253260379719,\n",
       "  'f1_score': 0.706328937705019},\n",
       " 'BLEU': {'score': 0.11674985327973864}}"
      ]
     },
     "execution_count": 11,
     "metadata": {},
     "output_type": "execute_result"
    }
   ],
   "execution_count": 11
  },
  {
   "metadata": {
    "ExecuteTime": {
     "end_time": "2024-08-03T16:16:24.074190Z",
     "start_time": "2024-08-03T16:16:24.071224Z"
    }
   },
   "cell_type": "code",
   "source": "scores = evaluator.metrics_score",
   "id": "c326448485326698",
   "outputs": [],
   "execution_count": 17
  },
  {
   "metadata": {
    "ExecuteTime": {
     "end_time": "2024-08-03T16:16:28.945086Z",
     "start_time": "2024-08-03T16:16:28.940799Z"
    }
   },
   "cell_type": "code",
   "source": "scores",
   "id": "534ac6735f4b367c",
   "outputs": [
    {
     "data": {
      "text/plain": [
       "{'Faithfulness': 0.5555555555555556,\n",
       " 'AnswerRelevancy': 1.0,\n",
       " 'Bias': 0.0,\n",
       " 'Hallucination': 0.8,\n",
       " 'KnowledgeRetention': 0.0,\n",
       " 'Toxicity': 0.0,\n",
       " 'precision': 0.6495616879278017,\n",
       " 'recall': 0.7740253260379719,\n",
       " 'f1_score': 0.706328937705019,\n",
       " 'BLEU': 0.11674985327973864}"
      ]
     },
     "execution_count": 18,
     "metadata": {},
     "output_type": "execute_result"
    }
   ],
   "execution_count": 18
  },
  {
   "metadata": {
    "ExecuteTime": {
     "end_time": "2024-08-03T16:19:34.799916Z",
     "start_time": "2024-08-03T16:19:34.791677Z"
    }
   },
   "cell_type": "code",
   "source": [
    "def create_radar_chart(metrics):\n",
    "    \"\"\"\n",
    "    Creates a radar chart using the provided metrics, excluding any metrics with a value of 0.\n",
    "\n",
    "    Parameters:\n",
    "    metrics (dict): A dictionary containing metric names as keys and their values.\n",
    "\n",
    "    Returns:\n",
    "    fig (plotly.graph_objects.Figure): The radar chart figure.\n",
    "    \"\"\"\n",
    "    # Filter out metrics with a value of 0\n",
    "    filtered_metrics = {k: v for k, v in metrics.items() if v != 0}\n",
    "\n",
    "    # Extract keys and values for plotting\n",
    "    labels = list(filtered_metrics.keys())\n",
    "    values = list(filtered_metrics.values())\n",
    "\n",
    "    # Complete the loop for radar chart\n",
    "    values += values[:1]\n",
    "    labels += labels[:1]\n",
    "\n",
    "    # Create radar chart\n",
    "    fig = go.Figure(\n",
    "        data=[\n",
    "            go.Scatterpolar(\n",
    "                r=values,\n",
    "                theta=labels,\n",
    "                fill='toself',\n",
    "                name='Metrics'\n",
    "            )\n",
    "        ],\n",
    "        layout=go.Layout(\n",
    "            title='Evaluation Metrics Radar Chart',\n",
    "            polar=dict(\n",
    "                radialaxis=dict(\n",
    "                    visible=True,\n",
    "                    range=[0, 1]\n",
    "                )\n",
    "            ),\n",
    "            showlegend=False\n",
    "        )\n",
    "    )\n",
    "\n",
    "    return fig\n",
    "\n",
    "# Example metrics\n",
    "metrics = {\n",
    "    'Faithfulness': 0.5555555555555556,\n",
    "    'AnswerRelevancy': 1.0,\n",
    "    'Bias': 0.0,\n",
    "    'Hallucination': 0.8,\n",
    "    'KnowledgeRetention': 0.0,\n",
    "    'Toxicity': 0.0,\n",
    "    'Precision': 0.6495616879278017,\n",
    "    'Recall': 0.7740253260379719,\n",
    "    'F1 Score': 0.706328937705019,\n",
    "    'BLEU': 0.11674985327973864\n",
    "}\n",
    "\n",
    "# Create the radar chart\n",
    "fig = create_radar_chart(metrics)\n",
    "fig.show()\n"
   ],
   "id": "3cb90550f5095eef",
   "outputs": [
    {
     "data": {
      "application/vnd.plotly.v1+json": {
       "data": [
        {
         "fill": "toself",
         "name": "Metrics",
         "r": [
          0.5555555555555556,
          1.0,
          0.8,
          0.6495616879278017,
          0.7740253260379719,
          0.706328937705019,
          0.11674985327973864,
          0.5555555555555556
         ],
         "theta": [
          "Faithfulness",
          "AnswerRelevancy",
          "Hallucination",
          "Precision",
          "Recall",
          "F1 Score",
          "BLEU",
          "Faithfulness"
         ],
         "type": "scatterpolar"
        }
       ],
       "layout": {
        "polar": {
         "radialaxis": {
          "range": [
           0,
           1
          ],
          "visible": true
         }
        },
        "showlegend": false,
        "title": {
         "text": "Evaluation Metrics Radar Chart"
        },
        "template": {
         "data": {
          "histogram2dcontour": [
           {
            "type": "histogram2dcontour",
            "colorbar": {
             "outlinewidth": 0,
             "ticks": ""
            },
            "colorscale": [
             [
              0.0,
              "#0d0887"
             ],
             [
              0.1111111111111111,
              "#46039f"
             ],
             [
              0.2222222222222222,
              "#7201a8"
             ],
             [
              0.3333333333333333,
              "#9c179e"
             ],
             [
              0.4444444444444444,
              "#bd3786"
             ],
             [
              0.5555555555555556,
              "#d8576b"
             ],
             [
              0.6666666666666666,
              "#ed7953"
             ],
             [
              0.7777777777777778,
              "#fb9f3a"
             ],
             [
              0.8888888888888888,
              "#fdca26"
             ],
             [
              1.0,
              "#f0f921"
             ]
            ]
           }
          ],
          "choropleth": [
           {
            "type": "choropleth",
            "colorbar": {
             "outlinewidth": 0,
             "ticks": ""
            }
           }
          ],
          "histogram2d": [
           {
            "type": "histogram2d",
            "colorbar": {
             "outlinewidth": 0,
             "ticks": ""
            },
            "colorscale": [
             [
              0.0,
              "#0d0887"
             ],
             [
              0.1111111111111111,
              "#46039f"
             ],
             [
              0.2222222222222222,
              "#7201a8"
             ],
             [
              0.3333333333333333,
              "#9c179e"
             ],
             [
              0.4444444444444444,
              "#bd3786"
             ],
             [
              0.5555555555555556,
              "#d8576b"
             ],
             [
              0.6666666666666666,
              "#ed7953"
             ],
             [
              0.7777777777777778,
              "#fb9f3a"
             ],
             [
              0.8888888888888888,
              "#fdca26"
             ],
             [
              1.0,
              "#f0f921"
             ]
            ]
           }
          ],
          "heatmap": [
           {
            "type": "heatmap",
            "colorbar": {
             "outlinewidth": 0,
             "ticks": ""
            },
            "colorscale": [
             [
              0.0,
              "#0d0887"
             ],
             [
              0.1111111111111111,
              "#46039f"
             ],
             [
              0.2222222222222222,
              "#7201a8"
             ],
             [
              0.3333333333333333,
              "#9c179e"
             ],
             [
              0.4444444444444444,
              "#bd3786"
             ],
             [
              0.5555555555555556,
              "#d8576b"
             ],
             [
              0.6666666666666666,
              "#ed7953"
             ],
             [
              0.7777777777777778,
              "#fb9f3a"
             ],
             [
              0.8888888888888888,
              "#fdca26"
             ],
             [
              1.0,
              "#f0f921"
             ]
            ]
           }
          ],
          "heatmapgl": [
           {
            "type": "heatmapgl",
            "colorbar": {
             "outlinewidth": 0,
             "ticks": ""
            },
            "colorscale": [
             [
              0.0,
              "#0d0887"
             ],
             [
              0.1111111111111111,
              "#46039f"
             ],
             [
              0.2222222222222222,
              "#7201a8"
             ],
             [
              0.3333333333333333,
              "#9c179e"
             ],
             [
              0.4444444444444444,
              "#bd3786"
             ],
             [
              0.5555555555555556,
              "#d8576b"
             ],
             [
              0.6666666666666666,
              "#ed7953"
             ],
             [
              0.7777777777777778,
              "#fb9f3a"
             ],
             [
              0.8888888888888888,
              "#fdca26"
             ],
             [
              1.0,
              "#f0f921"
             ]
            ]
           }
          ],
          "contourcarpet": [
           {
            "type": "contourcarpet",
            "colorbar": {
             "outlinewidth": 0,
             "ticks": ""
            }
           }
          ],
          "contour": [
           {
            "type": "contour",
            "colorbar": {
             "outlinewidth": 0,
             "ticks": ""
            },
            "colorscale": [
             [
              0.0,
              "#0d0887"
             ],
             [
              0.1111111111111111,
              "#46039f"
             ],
             [
              0.2222222222222222,
              "#7201a8"
             ],
             [
              0.3333333333333333,
              "#9c179e"
             ],
             [
              0.4444444444444444,
              "#bd3786"
             ],
             [
              0.5555555555555556,
              "#d8576b"
             ],
             [
              0.6666666666666666,
              "#ed7953"
             ],
             [
              0.7777777777777778,
              "#fb9f3a"
             ],
             [
              0.8888888888888888,
              "#fdca26"
             ],
             [
              1.0,
              "#f0f921"
             ]
            ]
           }
          ],
          "surface": [
           {
            "type": "surface",
            "colorbar": {
             "outlinewidth": 0,
             "ticks": ""
            },
            "colorscale": [
             [
              0.0,
              "#0d0887"
             ],
             [
              0.1111111111111111,
              "#46039f"
             ],
             [
              0.2222222222222222,
              "#7201a8"
             ],
             [
              0.3333333333333333,
              "#9c179e"
             ],
             [
              0.4444444444444444,
              "#bd3786"
             ],
             [
              0.5555555555555556,
              "#d8576b"
             ],
             [
              0.6666666666666666,
              "#ed7953"
             ],
             [
              0.7777777777777778,
              "#fb9f3a"
             ],
             [
              0.8888888888888888,
              "#fdca26"
             ],
             [
              1.0,
              "#f0f921"
             ]
            ]
           }
          ],
          "mesh3d": [
           {
            "type": "mesh3d",
            "colorbar": {
             "outlinewidth": 0,
             "ticks": ""
            }
           }
          ],
          "scatter": [
           {
            "fillpattern": {
             "fillmode": "overlay",
             "size": 10,
             "solidity": 0.2
            },
            "type": "scatter"
           }
          ],
          "parcoords": [
           {
            "type": "parcoords",
            "line": {
             "colorbar": {
              "outlinewidth": 0,
              "ticks": ""
             }
            }
           }
          ],
          "scatterpolargl": [
           {
            "type": "scatterpolargl",
            "marker": {
             "colorbar": {
              "outlinewidth": 0,
              "ticks": ""
             }
            }
           }
          ],
          "bar": [
           {
            "error_x": {
             "color": "#2a3f5f"
            },
            "error_y": {
             "color": "#2a3f5f"
            },
            "marker": {
             "line": {
              "color": "#E5ECF6",
              "width": 0.5
             },
             "pattern": {
              "fillmode": "overlay",
              "size": 10,
              "solidity": 0.2
             }
            },
            "type": "bar"
           }
          ],
          "scattergeo": [
           {
            "type": "scattergeo",
            "marker": {
             "colorbar": {
              "outlinewidth": 0,
              "ticks": ""
             }
            }
           }
          ],
          "scatterpolar": [
           {
            "type": "scatterpolar",
            "marker": {
             "colorbar": {
              "outlinewidth": 0,
              "ticks": ""
             }
            }
           }
          ],
          "histogram": [
           {
            "marker": {
             "pattern": {
              "fillmode": "overlay",
              "size": 10,
              "solidity": 0.2
             }
            },
            "type": "histogram"
           }
          ],
          "scattergl": [
           {
            "type": "scattergl",
            "marker": {
             "colorbar": {
              "outlinewidth": 0,
              "ticks": ""
             }
            }
           }
          ],
          "scatter3d": [
           {
            "type": "scatter3d",
            "line": {
             "colorbar": {
              "outlinewidth": 0,
              "ticks": ""
             }
            },
            "marker": {
             "colorbar": {
              "outlinewidth": 0,
              "ticks": ""
             }
            }
           }
          ],
          "scattermapbox": [
           {
            "type": "scattermapbox",
            "marker": {
             "colorbar": {
              "outlinewidth": 0,
              "ticks": ""
             }
            }
           }
          ],
          "scatterternary": [
           {
            "type": "scatterternary",
            "marker": {
             "colorbar": {
              "outlinewidth": 0,
              "ticks": ""
             }
            }
           }
          ],
          "scattercarpet": [
           {
            "type": "scattercarpet",
            "marker": {
             "colorbar": {
              "outlinewidth": 0,
              "ticks": ""
             }
            }
           }
          ],
          "carpet": [
           {
            "aaxis": {
             "endlinecolor": "#2a3f5f",
             "gridcolor": "white",
             "linecolor": "white",
             "minorgridcolor": "white",
             "startlinecolor": "#2a3f5f"
            },
            "baxis": {
             "endlinecolor": "#2a3f5f",
             "gridcolor": "white",
             "linecolor": "white",
             "minorgridcolor": "white",
             "startlinecolor": "#2a3f5f"
            },
            "type": "carpet"
           }
          ],
          "table": [
           {
            "cells": {
             "fill": {
              "color": "#EBF0F8"
             },
             "line": {
              "color": "white"
             }
            },
            "header": {
             "fill": {
              "color": "#C8D4E3"
             },
             "line": {
              "color": "white"
             }
            },
            "type": "table"
           }
          ],
          "barpolar": [
           {
            "marker": {
             "line": {
              "color": "#E5ECF6",
              "width": 0.5
             },
             "pattern": {
              "fillmode": "overlay",
              "size": 10,
              "solidity": 0.2
             }
            },
            "type": "barpolar"
           }
          ],
          "pie": [
           {
            "automargin": true,
            "type": "pie"
           }
          ]
         },
         "layout": {
          "autotypenumbers": "strict",
          "colorway": [
           "#636efa",
           "#EF553B",
           "#00cc96",
           "#ab63fa",
           "#FFA15A",
           "#19d3f3",
           "#FF6692",
           "#B6E880",
           "#FF97FF",
           "#FECB52"
          ],
          "font": {
           "color": "#2a3f5f"
          },
          "hovermode": "closest",
          "hoverlabel": {
           "align": "left"
          },
          "paper_bgcolor": "white",
          "plot_bgcolor": "#E5ECF6",
          "polar": {
           "bgcolor": "#E5ECF6",
           "angularaxis": {
            "gridcolor": "white",
            "linecolor": "white",
            "ticks": ""
           },
           "radialaxis": {
            "gridcolor": "white",
            "linecolor": "white",
            "ticks": ""
           }
          },
          "ternary": {
           "bgcolor": "#E5ECF6",
           "aaxis": {
            "gridcolor": "white",
            "linecolor": "white",
            "ticks": ""
           },
           "baxis": {
            "gridcolor": "white",
            "linecolor": "white",
            "ticks": ""
           },
           "caxis": {
            "gridcolor": "white",
            "linecolor": "white",
            "ticks": ""
           }
          },
          "coloraxis": {
           "colorbar": {
            "outlinewidth": 0,
            "ticks": ""
           }
          },
          "colorscale": {
           "sequential": [
            [
             0.0,
             "#0d0887"
            ],
            [
             0.1111111111111111,
             "#46039f"
            ],
            [
             0.2222222222222222,
             "#7201a8"
            ],
            [
             0.3333333333333333,
             "#9c179e"
            ],
            [
             0.4444444444444444,
             "#bd3786"
            ],
            [
             0.5555555555555556,
             "#d8576b"
            ],
            [
             0.6666666666666666,
             "#ed7953"
            ],
            [
             0.7777777777777778,
             "#fb9f3a"
            ],
            [
             0.8888888888888888,
             "#fdca26"
            ],
            [
             1.0,
             "#f0f921"
            ]
           ],
           "sequentialminus": [
            [
             0.0,
             "#0d0887"
            ],
            [
             0.1111111111111111,
             "#46039f"
            ],
            [
             0.2222222222222222,
             "#7201a8"
            ],
            [
             0.3333333333333333,
             "#9c179e"
            ],
            [
             0.4444444444444444,
             "#bd3786"
            ],
            [
             0.5555555555555556,
             "#d8576b"
            ],
            [
             0.6666666666666666,
             "#ed7953"
            ],
            [
             0.7777777777777778,
             "#fb9f3a"
            ],
            [
             0.8888888888888888,
             "#fdca26"
            ],
            [
             1.0,
             "#f0f921"
            ]
           ],
           "diverging": [
            [
             0,
             "#8e0152"
            ],
            [
             0.1,
             "#c51b7d"
            ],
            [
             0.2,
             "#de77ae"
            ],
            [
             0.3,
             "#f1b6da"
            ],
            [
             0.4,
             "#fde0ef"
            ],
            [
             0.5,
             "#f7f7f7"
            ],
            [
             0.6,
             "#e6f5d0"
            ],
            [
             0.7,
             "#b8e186"
            ],
            [
             0.8,
             "#7fbc41"
            ],
            [
             0.9,
             "#4d9221"
            ],
            [
             1,
             "#276419"
            ]
           ]
          },
          "xaxis": {
           "gridcolor": "white",
           "linecolor": "white",
           "ticks": "",
           "title": {
            "standoff": 15
           },
           "zerolinecolor": "white",
           "automargin": true,
           "zerolinewidth": 2
          },
          "yaxis": {
           "gridcolor": "white",
           "linecolor": "white",
           "ticks": "",
           "title": {
            "standoff": 15
           },
           "zerolinecolor": "white",
           "automargin": true,
           "zerolinewidth": 2
          },
          "scene": {
           "xaxis": {
            "backgroundcolor": "#E5ECF6",
            "gridcolor": "white",
            "linecolor": "white",
            "showbackground": true,
            "ticks": "",
            "zerolinecolor": "white",
            "gridwidth": 2
           },
           "yaxis": {
            "backgroundcolor": "#E5ECF6",
            "gridcolor": "white",
            "linecolor": "white",
            "showbackground": true,
            "ticks": "",
            "zerolinecolor": "white",
            "gridwidth": 2
           },
           "zaxis": {
            "backgroundcolor": "#E5ECF6",
            "gridcolor": "white",
            "linecolor": "white",
            "showbackground": true,
            "ticks": "",
            "zerolinecolor": "white",
            "gridwidth": 2
           }
          },
          "shapedefaults": {
           "line": {
            "color": "#2a3f5f"
           }
          },
          "annotationdefaults": {
           "arrowcolor": "#2a3f5f",
           "arrowhead": 0,
           "arrowwidth": 1
          },
          "geo": {
           "bgcolor": "white",
           "landcolor": "#E5ECF6",
           "subunitcolor": "white",
           "showland": true,
           "showlakes": true,
           "lakecolor": "white"
          },
          "title": {
           "x": 0.05
          },
          "mapbox": {
           "style": "light"
          }
         }
        }
       },
       "config": {
        "plotlyServerURL": "https://plot.ly"
       }
      },
      "text/html": [
       "<div>                            <div id=\"f588c6fb-3118-4c03-9673-c82b5f738c4f\" class=\"plotly-graph-div\" style=\"height:525px; width:100%;\"></div>            <script type=\"text/javascript\">                require([\"plotly\"], function(Plotly) {                    window.PLOTLYENV=window.PLOTLYENV || {};                                    if (document.getElementById(\"f588c6fb-3118-4c03-9673-c82b5f738c4f\")) {                    Plotly.newPlot(                        \"f588c6fb-3118-4c03-9673-c82b5f738c4f\",                        [{\"fill\":\"toself\",\"name\":\"Metrics\",\"r\":[0.5555555555555556,1.0,0.8,0.6495616879278017,0.7740253260379719,0.706328937705019,0.11674985327973864,0.5555555555555556],\"theta\":[\"Faithfulness\",\"AnswerRelevancy\",\"Hallucination\",\"Precision\",\"Recall\",\"F1 Score\",\"BLEU\",\"Faithfulness\"],\"type\":\"scatterpolar\"}],                        {\"polar\":{\"radialaxis\":{\"range\":[0,1],\"visible\":true}},\"showlegend\":false,\"title\":{\"text\":\"Evaluation Metrics Radar Chart\"},\"template\":{\"data\":{\"histogram2dcontour\":[{\"type\":\"histogram2dcontour\",\"colorbar\":{\"outlinewidth\":0,\"ticks\":\"\"},\"colorscale\":[[0.0,\"#0d0887\"],[0.1111111111111111,\"#46039f\"],[0.2222222222222222,\"#7201a8\"],[0.3333333333333333,\"#9c179e\"],[0.4444444444444444,\"#bd3786\"],[0.5555555555555556,\"#d8576b\"],[0.6666666666666666,\"#ed7953\"],[0.7777777777777778,\"#fb9f3a\"],[0.8888888888888888,\"#fdca26\"],[1.0,\"#f0f921\"]]}],\"choropleth\":[{\"type\":\"choropleth\",\"colorbar\":{\"outlinewidth\":0,\"ticks\":\"\"}}],\"histogram2d\":[{\"type\":\"histogram2d\",\"colorbar\":{\"outlinewidth\":0,\"ticks\":\"\"},\"colorscale\":[[0.0,\"#0d0887\"],[0.1111111111111111,\"#46039f\"],[0.2222222222222222,\"#7201a8\"],[0.3333333333333333,\"#9c179e\"],[0.4444444444444444,\"#bd3786\"],[0.5555555555555556,\"#d8576b\"],[0.6666666666666666,\"#ed7953\"],[0.7777777777777778,\"#fb9f3a\"],[0.8888888888888888,\"#fdca26\"],[1.0,\"#f0f921\"]]}],\"heatmap\":[{\"type\":\"heatmap\",\"colorbar\":{\"outlinewidth\":0,\"ticks\":\"\"},\"colorscale\":[[0.0,\"#0d0887\"],[0.1111111111111111,\"#46039f\"],[0.2222222222222222,\"#7201a8\"],[0.3333333333333333,\"#9c179e\"],[0.4444444444444444,\"#bd3786\"],[0.5555555555555556,\"#d8576b\"],[0.6666666666666666,\"#ed7953\"],[0.7777777777777778,\"#fb9f3a\"],[0.8888888888888888,\"#fdca26\"],[1.0,\"#f0f921\"]]}],\"heatmapgl\":[{\"type\":\"heatmapgl\",\"colorbar\":{\"outlinewidth\":0,\"ticks\":\"\"},\"colorscale\":[[0.0,\"#0d0887\"],[0.1111111111111111,\"#46039f\"],[0.2222222222222222,\"#7201a8\"],[0.3333333333333333,\"#9c179e\"],[0.4444444444444444,\"#bd3786\"],[0.5555555555555556,\"#d8576b\"],[0.6666666666666666,\"#ed7953\"],[0.7777777777777778,\"#fb9f3a\"],[0.8888888888888888,\"#fdca26\"],[1.0,\"#f0f921\"]]}],\"contourcarpet\":[{\"type\":\"contourcarpet\",\"colorbar\":{\"outlinewidth\":0,\"ticks\":\"\"}}],\"contour\":[{\"type\":\"contour\",\"colorbar\":{\"outlinewidth\":0,\"ticks\":\"\"},\"colorscale\":[[0.0,\"#0d0887\"],[0.1111111111111111,\"#46039f\"],[0.2222222222222222,\"#7201a8\"],[0.3333333333333333,\"#9c179e\"],[0.4444444444444444,\"#bd3786\"],[0.5555555555555556,\"#d8576b\"],[0.6666666666666666,\"#ed7953\"],[0.7777777777777778,\"#fb9f3a\"],[0.8888888888888888,\"#fdca26\"],[1.0,\"#f0f921\"]]}],\"surface\":[{\"type\":\"surface\",\"colorbar\":{\"outlinewidth\":0,\"ticks\":\"\"},\"colorscale\":[[0.0,\"#0d0887\"],[0.1111111111111111,\"#46039f\"],[0.2222222222222222,\"#7201a8\"],[0.3333333333333333,\"#9c179e\"],[0.4444444444444444,\"#bd3786\"],[0.5555555555555556,\"#d8576b\"],[0.6666666666666666,\"#ed7953\"],[0.7777777777777778,\"#fb9f3a\"],[0.8888888888888888,\"#fdca26\"],[1.0,\"#f0f921\"]]}],\"mesh3d\":[{\"type\":\"mesh3d\",\"colorbar\":{\"outlinewidth\":0,\"ticks\":\"\"}}],\"scatter\":[{\"fillpattern\":{\"fillmode\":\"overlay\",\"size\":10,\"solidity\":0.2},\"type\":\"scatter\"}],\"parcoords\":[{\"type\":\"parcoords\",\"line\":{\"colorbar\":{\"outlinewidth\":0,\"ticks\":\"\"}}}],\"scatterpolargl\":[{\"type\":\"scatterpolargl\",\"marker\":{\"colorbar\":{\"outlinewidth\":0,\"ticks\":\"\"}}}],\"bar\":[{\"error_x\":{\"color\":\"#2a3f5f\"},\"error_y\":{\"color\":\"#2a3f5f\"},\"marker\":{\"line\":{\"color\":\"#E5ECF6\",\"width\":0.5},\"pattern\":{\"fillmode\":\"overlay\",\"size\":10,\"solidity\":0.2}},\"type\":\"bar\"}],\"scattergeo\":[{\"type\":\"scattergeo\",\"marker\":{\"colorbar\":{\"outlinewidth\":0,\"ticks\":\"\"}}}],\"scatterpolar\":[{\"type\":\"scatterpolar\",\"marker\":{\"colorbar\":{\"outlinewidth\":0,\"ticks\":\"\"}}}],\"histogram\":[{\"marker\":{\"pattern\":{\"fillmode\":\"overlay\",\"size\":10,\"solidity\":0.2}},\"type\":\"histogram\"}],\"scattergl\":[{\"type\":\"scattergl\",\"marker\":{\"colorbar\":{\"outlinewidth\":0,\"ticks\":\"\"}}}],\"scatter3d\":[{\"type\":\"scatter3d\",\"line\":{\"colorbar\":{\"outlinewidth\":0,\"ticks\":\"\"}},\"marker\":{\"colorbar\":{\"outlinewidth\":0,\"ticks\":\"\"}}}],\"scattermapbox\":[{\"type\":\"scattermapbox\",\"marker\":{\"colorbar\":{\"outlinewidth\":0,\"ticks\":\"\"}}}],\"scatterternary\":[{\"type\":\"scatterternary\",\"marker\":{\"colorbar\":{\"outlinewidth\":0,\"ticks\":\"\"}}}],\"scattercarpet\":[{\"type\":\"scattercarpet\",\"marker\":{\"colorbar\":{\"outlinewidth\":0,\"ticks\":\"\"}}}],\"carpet\":[{\"aaxis\":{\"endlinecolor\":\"#2a3f5f\",\"gridcolor\":\"white\",\"linecolor\":\"white\",\"minorgridcolor\":\"white\",\"startlinecolor\":\"#2a3f5f\"},\"baxis\":{\"endlinecolor\":\"#2a3f5f\",\"gridcolor\":\"white\",\"linecolor\":\"white\",\"minorgridcolor\":\"white\",\"startlinecolor\":\"#2a3f5f\"},\"type\":\"carpet\"}],\"table\":[{\"cells\":{\"fill\":{\"color\":\"#EBF0F8\"},\"line\":{\"color\":\"white\"}},\"header\":{\"fill\":{\"color\":\"#C8D4E3\"},\"line\":{\"color\":\"white\"}},\"type\":\"table\"}],\"barpolar\":[{\"marker\":{\"line\":{\"color\":\"#E5ECF6\",\"width\":0.5},\"pattern\":{\"fillmode\":\"overlay\",\"size\":10,\"solidity\":0.2}},\"type\":\"barpolar\"}],\"pie\":[{\"automargin\":true,\"type\":\"pie\"}]},\"layout\":{\"autotypenumbers\":\"strict\",\"colorway\":[\"#636efa\",\"#EF553B\",\"#00cc96\",\"#ab63fa\",\"#FFA15A\",\"#19d3f3\",\"#FF6692\",\"#B6E880\",\"#FF97FF\",\"#FECB52\"],\"font\":{\"color\":\"#2a3f5f\"},\"hovermode\":\"closest\",\"hoverlabel\":{\"align\":\"left\"},\"paper_bgcolor\":\"white\",\"plot_bgcolor\":\"#E5ECF6\",\"polar\":{\"bgcolor\":\"#E5ECF6\",\"angularaxis\":{\"gridcolor\":\"white\",\"linecolor\":\"white\",\"ticks\":\"\"},\"radialaxis\":{\"gridcolor\":\"white\",\"linecolor\":\"white\",\"ticks\":\"\"}},\"ternary\":{\"bgcolor\":\"#E5ECF6\",\"aaxis\":{\"gridcolor\":\"white\",\"linecolor\":\"white\",\"ticks\":\"\"},\"baxis\":{\"gridcolor\":\"white\",\"linecolor\":\"white\",\"ticks\":\"\"},\"caxis\":{\"gridcolor\":\"white\",\"linecolor\":\"white\",\"ticks\":\"\"}},\"coloraxis\":{\"colorbar\":{\"outlinewidth\":0,\"ticks\":\"\"}},\"colorscale\":{\"sequential\":[[0.0,\"#0d0887\"],[0.1111111111111111,\"#46039f\"],[0.2222222222222222,\"#7201a8\"],[0.3333333333333333,\"#9c179e\"],[0.4444444444444444,\"#bd3786\"],[0.5555555555555556,\"#d8576b\"],[0.6666666666666666,\"#ed7953\"],[0.7777777777777778,\"#fb9f3a\"],[0.8888888888888888,\"#fdca26\"],[1.0,\"#f0f921\"]],\"sequentialminus\":[[0.0,\"#0d0887\"],[0.1111111111111111,\"#46039f\"],[0.2222222222222222,\"#7201a8\"],[0.3333333333333333,\"#9c179e\"],[0.4444444444444444,\"#bd3786\"],[0.5555555555555556,\"#d8576b\"],[0.6666666666666666,\"#ed7953\"],[0.7777777777777778,\"#fb9f3a\"],[0.8888888888888888,\"#fdca26\"],[1.0,\"#f0f921\"]],\"diverging\":[[0,\"#8e0152\"],[0.1,\"#c51b7d\"],[0.2,\"#de77ae\"],[0.3,\"#f1b6da\"],[0.4,\"#fde0ef\"],[0.5,\"#f7f7f7\"],[0.6,\"#e6f5d0\"],[0.7,\"#b8e186\"],[0.8,\"#7fbc41\"],[0.9,\"#4d9221\"],[1,\"#276419\"]]},\"xaxis\":{\"gridcolor\":\"white\",\"linecolor\":\"white\",\"ticks\":\"\",\"title\":{\"standoff\":15},\"zerolinecolor\":\"white\",\"automargin\":true,\"zerolinewidth\":2},\"yaxis\":{\"gridcolor\":\"white\",\"linecolor\":\"white\",\"ticks\":\"\",\"title\":{\"standoff\":15},\"zerolinecolor\":\"white\",\"automargin\":true,\"zerolinewidth\":2},\"scene\":{\"xaxis\":{\"backgroundcolor\":\"#E5ECF6\",\"gridcolor\":\"white\",\"linecolor\":\"white\",\"showbackground\":true,\"ticks\":\"\",\"zerolinecolor\":\"white\",\"gridwidth\":2},\"yaxis\":{\"backgroundcolor\":\"#E5ECF6\",\"gridcolor\":\"white\",\"linecolor\":\"white\",\"showbackground\":true,\"ticks\":\"\",\"zerolinecolor\":\"white\",\"gridwidth\":2},\"zaxis\":{\"backgroundcolor\":\"#E5ECF6\",\"gridcolor\":\"white\",\"linecolor\":\"white\",\"showbackground\":true,\"ticks\":\"\",\"zerolinecolor\":\"white\",\"gridwidth\":2}},\"shapedefaults\":{\"line\":{\"color\":\"#2a3f5f\"}},\"annotationdefaults\":{\"arrowcolor\":\"#2a3f5f\",\"arrowhead\":0,\"arrowwidth\":1},\"geo\":{\"bgcolor\":\"white\",\"landcolor\":\"#E5ECF6\",\"subunitcolor\":\"white\",\"showland\":true,\"showlakes\":true,\"lakecolor\":\"white\"},\"title\":{\"x\":0.05},\"mapbox\":{\"style\":\"light\"}}}},                        {\"responsive\": true}                    ).then(function(){\n",
       "                            \n",
       "var gd = document.getElementById('f588c6fb-3118-4c03-9673-c82b5f738c4f');\n",
       "var x = new MutationObserver(function (mutations, observer) {{\n",
       "        var display = window.getComputedStyle(gd).display;\n",
       "        if (!display || display === 'none') {{\n",
       "            console.log([gd, 'removed!']);\n",
       "            Plotly.purge(gd);\n",
       "            observer.disconnect();\n",
       "        }}\n",
       "}});\n",
       "\n",
       "// Listen for the removal of the full notebook cells\n",
       "var notebookContainer = gd.closest('#notebook-container');\n",
       "if (notebookContainer) {{\n",
       "    x.observe(notebookContainer, {childList: true});\n",
       "}}\n",
       "\n",
       "// Listen for the clearing of the current output cell\n",
       "var outputEl = gd.closest('.output');\n",
       "if (outputEl) {{\n",
       "    x.observe(outputEl, {childList: true});\n",
       "}}\n",
       "\n",
       "                        })                };                });            </script>        </div>"
      ]
     },
     "metadata": {},
     "output_type": "display_data"
    }
   ],
   "execution_count": 25
  },
  {
   "metadata": {
    "ExecuteTime": {
     "end_time": "2024-08-03T16:38:53.674305Z",
     "start_time": "2024-08-03T16:38:52.741450Z"
    }
   },
   "cell_type": "code",
   "source": [
    "import plotly.graph_objects as go\n",
    "\n",
    "def create_metrics_barchart(metrics):\n",
    "    \"\"\"\n",
    "    Create a Plotly bar chart for given metrics.\n",
    "    \n",
    "    Parameters:\n",
    "    metrics (dict): A dictionary where keys are metric names and values are their corresponding values.\n",
    "    \n",
    "    Returns:\n",
    "    fig: Plotly Figure object with the bar chart.\n",
    "    \"\"\"\n",
    "    fig = go.Figure(data=[\n",
    "        go.Bar(\n",
    "            x=list(metrics.keys()),\n",
    "            y=list(metrics.values()),\n",
    "            text=list(metrics.values()),\n",
    "            textposition='auto',\n",
    "            hoverinfo='x+y',\n",
    "            marker_color='skyblue'\n",
    "        )\n",
    "    ])\n",
    "\n",
    "    fig.update_layout(\n",
    "        title='Evaluation Metrics',\n",
    "        xaxis_title='Metrics',\n",
    "        yaxis_title='Values',\n",
    "        xaxis_tickangle=-45\n",
    "    )\n",
    "    \n",
    "    return fig\n",
    "\n",
    "# Example usage\n",
    "metrics = {\n",
    "    'Faithfulness': 0.5555555555555556,\n",
    "    'AnswerRelevancy': 1.0,\n",
    "    'Bias': 0.0,\n",
    "    'Hallucination': 0.8,\n",
    "    'KnowledgeRetention': 0.0,\n",
    "    'Toxicity': 0.0,\n",
    "    'precision': 0.6495616879278017,\n",
    "    'recall': 0.7740253260379719,\n",
    "    'f1_score': 0.706328937705019,\n",
    "    'BLEU': 0.11674985327973864\n",
    "}\n",
    "\n",
    "# Create the bar chart\n",
    "fig = create_metrics_barchart(metrics)\n",
    "fig.show()\n"
   ],
   "id": "78456cda8df5865d",
   "outputs": [
    {
     "data": {
      "application/vnd.plotly.v1+json": {
       "data": [
        {
         "hoverinfo": "x+y",
         "marker": {
          "color": "skyblue"
         },
         "text": [
          "0.5555555555555556",
          "1.0",
          "0.0",
          "0.8",
          "0.0",
          "0.0",
          "0.6495616879278017",
          "0.7740253260379719",
          "0.706328937705019",
          "0.11674985327973864"
         ],
         "textposition": "auto",
         "x": [
          "Faithfulness",
          "AnswerRelevancy",
          "Bias",
          "Hallucination",
          "KnowledgeRetention",
          "Toxicity",
          "precision",
          "recall",
          "f1_score",
          "BLEU"
         ],
         "y": [
          0.5555555555555556,
          1.0,
          0.0,
          0.8,
          0.0,
          0.0,
          0.6495616879278017,
          0.7740253260379719,
          0.706328937705019,
          0.11674985327973864
         ],
         "type": "bar"
        }
       ],
       "layout": {
        "template": {
         "data": {
          "histogram2dcontour": [
           {
            "type": "histogram2dcontour",
            "colorbar": {
             "outlinewidth": 0,
             "ticks": ""
            },
            "colorscale": [
             [
              0.0,
              "#0d0887"
             ],
             [
              0.1111111111111111,
              "#46039f"
             ],
             [
              0.2222222222222222,
              "#7201a8"
             ],
             [
              0.3333333333333333,
              "#9c179e"
             ],
             [
              0.4444444444444444,
              "#bd3786"
             ],
             [
              0.5555555555555556,
              "#d8576b"
             ],
             [
              0.6666666666666666,
              "#ed7953"
             ],
             [
              0.7777777777777778,
              "#fb9f3a"
             ],
             [
              0.8888888888888888,
              "#fdca26"
             ],
             [
              1.0,
              "#f0f921"
             ]
            ]
           }
          ],
          "choropleth": [
           {
            "type": "choropleth",
            "colorbar": {
             "outlinewidth": 0,
             "ticks": ""
            }
           }
          ],
          "histogram2d": [
           {
            "type": "histogram2d",
            "colorbar": {
             "outlinewidth": 0,
             "ticks": ""
            },
            "colorscale": [
             [
              0.0,
              "#0d0887"
             ],
             [
              0.1111111111111111,
              "#46039f"
             ],
             [
              0.2222222222222222,
              "#7201a8"
             ],
             [
              0.3333333333333333,
              "#9c179e"
             ],
             [
              0.4444444444444444,
              "#bd3786"
             ],
             [
              0.5555555555555556,
              "#d8576b"
             ],
             [
              0.6666666666666666,
              "#ed7953"
             ],
             [
              0.7777777777777778,
              "#fb9f3a"
             ],
             [
              0.8888888888888888,
              "#fdca26"
             ],
             [
              1.0,
              "#f0f921"
             ]
            ]
           }
          ],
          "heatmap": [
           {
            "type": "heatmap",
            "colorbar": {
             "outlinewidth": 0,
             "ticks": ""
            },
            "colorscale": [
             [
              0.0,
              "#0d0887"
             ],
             [
              0.1111111111111111,
              "#46039f"
             ],
             [
              0.2222222222222222,
              "#7201a8"
             ],
             [
              0.3333333333333333,
              "#9c179e"
             ],
             [
              0.4444444444444444,
              "#bd3786"
             ],
             [
              0.5555555555555556,
              "#d8576b"
             ],
             [
              0.6666666666666666,
              "#ed7953"
             ],
             [
              0.7777777777777778,
              "#fb9f3a"
             ],
             [
              0.8888888888888888,
              "#fdca26"
             ],
             [
              1.0,
              "#f0f921"
             ]
            ]
           }
          ],
          "heatmapgl": [
           {
            "type": "heatmapgl",
            "colorbar": {
             "outlinewidth": 0,
             "ticks": ""
            },
            "colorscale": [
             [
              0.0,
              "#0d0887"
             ],
             [
              0.1111111111111111,
              "#46039f"
             ],
             [
              0.2222222222222222,
              "#7201a8"
             ],
             [
              0.3333333333333333,
              "#9c179e"
             ],
             [
              0.4444444444444444,
              "#bd3786"
             ],
             [
              0.5555555555555556,
              "#d8576b"
             ],
             [
              0.6666666666666666,
              "#ed7953"
             ],
             [
              0.7777777777777778,
              "#fb9f3a"
             ],
             [
              0.8888888888888888,
              "#fdca26"
             ],
             [
              1.0,
              "#f0f921"
             ]
            ]
           }
          ],
          "contourcarpet": [
           {
            "type": "contourcarpet",
            "colorbar": {
             "outlinewidth": 0,
             "ticks": ""
            }
           }
          ],
          "contour": [
           {
            "type": "contour",
            "colorbar": {
             "outlinewidth": 0,
             "ticks": ""
            },
            "colorscale": [
             [
              0.0,
              "#0d0887"
             ],
             [
              0.1111111111111111,
              "#46039f"
             ],
             [
              0.2222222222222222,
              "#7201a8"
             ],
             [
              0.3333333333333333,
              "#9c179e"
             ],
             [
              0.4444444444444444,
              "#bd3786"
             ],
             [
              0.5555555555555556,
              "#d8576b"
             ],
             [
              0.6666666666666666,
              "#ed7953"
             ],
             [
              0.7777777777777778,
              "#fb9f3a"
             ],
             [
              0.8888888888888888,
              "#fdca26"
             ],
             [
              1.0,
              "#f0f921"
             ]
            ]
           }
          ],
          "surface": [
           {
            "type": "surface",
            "colorbar": {
             "outlinewidth": 0,
             "ticks": ""
            },
            "colorscale": [
             [
              0.0,
              "#0d0887"
             ],
             [
              0.1111111111111111,
              "#46039f"
             ],
             [
              0.2222222222222222,
              "#7201a8"
             ],
             [
              0.3333333333333333,
              "#9c179e"
             ],
             [
              0.4444444444444444,
              "#bd3786"
             ],
             [
              0.5555555555555556,
              "#d8576b"
             ],
             [
              0.6666666666666666,
              "#ed7953"
             ],
             [
              0.7777777777777778,
              "#fb9f3a"
             ],
             [
              0.8888888888888888,
              "#fdca26"
             ],
             [
              1.0,
              "#f0f921"
             ]
            ]
           }
          ],
          "mesh3d": [
           {
            "type": "mesh3d",
            "colorbar": {
             "outlinewidth": 0,
             "ticks": ""
            }
           }
          ],
          "scatter": [
           {
            "fillpattern": {
             "fillmode": "overlay",
             "size": 10,
             "solidity": 0.2
            },
            "type": "scatter"
           }
          ],
          "parcoords": [
           {
            "type": "parcoords",
            "line": {
             "colorbar": {
              "outlinewidth": 0,
              "ticks": ""
             }
            }
           }
          ],
          "scatterpolargl": [
           {
            "type": "scatterpolargl",
            "marker": {
             "colorbar": {
              "outlinewidth": 0,
              "ticks": ""
             }
            }
           }
          ],
          "bar": [
           {
            "error_x": {
             "color": "#2a3f5f"
            },
            "error_y": {
             "color": "#2a3f5f"
            },
            "marker": {
             "line": {
              "color": "#E5ECF6",
              "width": 0.5
             },
             "pattern": {
              "fillmode": "overlay",
              "size": 10,
              "solidity": 0.2
             }
            },
            "type": "bar"
           }
          ],
          "scattergeo": [
           {
            "type": "scattergeo",
            "marker": {
             "colorbar": {
              "outlinewidth": 0,
              "ticks": ""
             }
            }
           }
          ],
          "scatterpolar": [
           {
            "type": "scatterpolar",
            "marker": {
             "colorbar": {
              "outlinewidth": 0,
              "ticks": ""
             }
            }
           }
          ],
          "histogram": [
           {
            "marker": {
             "pattern": {
              "fillmode": "overlay",
              "size": 10,
              "solidity": 0.2
             }
            },
            "type": "histogram"
           }
          ],
          "scattergl": [
           {
            "type": "scattergl",
            "marker": {
             "colorbar": {
              "outlinewidth": 0,
              "ticks": ""
             }
            }
           }
          ],
          "scatter3d": [
           {
            "type": "scatter3d",
            "line": {
             "colorbar": {
              "outlinewidth": 0,
              "ticks": ""
             }
            },
            "marker": {
             "colorbar": {
              "outlinewidth": 0,
              "ticks": ""
             }
            }
           }
          ],
          "scattermapbox": [
           {
            "type": "scattermapbox",
            "marker": {
             "colorbar": {
              "outlinewidth": 0,
              "ticks": ""
             }
            }
           }
          ],
          "scatterternary": [
           {
            "type": "scatterternary",
            "marker": {
             "colorbar": {
              "outlinewidth": 0,
              "ticks": ""
             }
            }
           }
          ],
          "scattercarpet": [
           {
            "type": "scattercarpet",
            "marker": {
             "colorbar": {
              "outlinewidth": 0,
              "ticks": ""
             }
            }
           }
          ],
          "carpet": [
           {
            "aaxis": {
             "endlinecolor": "#2a3f5f",
             "gridcolor": "white",
             "linecolor": "white",
             "minorgridcolor": "white",
             "startlinecolor": "#2a3f5f"
            },
            "baxis": {
             "endlinecolor": "#2a3f5f",
             "gridcolor": "white",
             "linecolor": "white",
             "minorgridcolor": "white",
             "startlinecolor": "#2a3f5f"
            },
            "type": "carpet"
           }
          ],
          "table": [
           {
            "cells": {
             "fill": {
              "color": "#EBF0F8"
             },
             "line": {
              "color": "white"
             }
            },
            "header": {
             "fill": {
              "color": "#C8D4E3"
             },
             "line": {
              "color": "white"
             }
            },
            "type": "table"
           }
          ],
          "barpolar": [
           {
            "marker": {
             "line": {
              "color": "#E5ECF6",
              "width": 0.5
             },
             "pattern": {
              "fillmode": "overlay",
              "size": 10,
              "solidity": 0.2
             }
            },
            "type": "barpolar"
           }
          ],
          "pie": [
           {
            "automargin": true,
            "type": "pie"
           }
          ]
         },
         "layout": {
          "autotypenumbers": "strict",
          "colorway": [
           "#636efa",
           "#EF553B",
           "#00cc96",
           "#ab63fa",
           "#FFA15A",
           "#19d3f3",
           "#FF6692",
           "#B6E880",
           "#FF97FF",
           "#FECB52"
          ],
          "font": {
           "color": "#2a3f5f"
          },
          "hovermode": "closest",
          "hoverlabel": {
           "align": "left"
          },
          "paper_bgcolor": "white",
          "plot_bgcolor": "#E5ECF6",
          "polar": {
           "bgcolor": "#E5ECF6",
           "angularaxis": {
            "gridcolor": "white",
            "linecolor": "white",
            "ticks": ""
           },
           "radialaxis": {
            "gridcolor": "white",
            "linecolor": "white",
            "ticks": ""
           }
          },
          "ternary": {
           "bgcolor": "#E5ECF6",
           "aaxis": {
            "gridcolor": "white",
            "linecolor": "white",
            "ticks": ""
           },
           "baxis": {
            "gridcolor": "white",
            "linecolor": "white",
            "ticks": ""
           },
           "caxis": {
            "gridcolor": "white",
            "linecolor": "white",
            "ticks": ""
           }
          },
          "coloraxis": {
           "colorbar": {
            "outlinewidth": 0,
            "ticks": ""
           }
          },
          "colorscale": {
           "sequential": [
            [
             0.0,
             "#0d0887"
            ],
            [
             0.1111111111111111,
             "#46039f"
            ],
            [
             0.2222222222222222,
             "#7201a8"
            ],
            [
             0.3333333333333333,
             "#9c179e"
            ],
            [
             0.4444444444444444,
             "#bd3786"
            ],
            [
             0.5555555555555556,
             "#d8576b"
            ],
            [
             0.6666666666666666,
             "#ed7953"
            ],
            [
             0.7777777777777778,
             "#fb9f3a"
            ],
            [
             0.8888888888888888,
             "#fdca26"
            ],
            [
             1.0,
             "#f0f921"
            ]
           ],
           "sequentialminus": [
            [
             0.0,
             "#0d0887"
            ],
            [
             0.1111111111111111,
             "#46039f"
            ],
            [
             0.2222222222222222,
             "#7201a8"
            ],
            [
             0.3333333333333333,
             "#9c179e"
            ],
            [
             0.4444444444444444,
             "#bd3786"
            ],
            [
             0.5555555555555556,
             "#d8576b"
            ],
            [
             0.6666666666666666,
             "#ed7953"
            ],
            [
             0.7777777777777778,
             "#fb9f3a"
            ],
            [
             0.8888888888888888,
             "#fdca26"
            ],
            [
             1.0,
             "#f0f921"
            ]
           ],
           "diverging": [
            [
             0,
             "#8e0152"
            ],
            [
             0.1,
             "#c51b7d"
            ],
            [
             0.2,
             "#de77ae"
            ],
            [
             0.3,
             "#f1b6da"
            ],
            [
             0.4,
             "#fde0ef"
            ],
            [
             0.5,
             "#f7f7f7"
            ],
            [
             0.6,
             "#e6f5d0"
            ],
            [
             0.7,
             "#b8e186"
            ],
            [
             0.8,
             "#7fbc41"
            ],
            [
             0.9,
             "#4d9221"
            ],
            [
             1,
             "#276419"
            ]
           ]
          },
          "xaxis": {
           "gridcolor": "white",
           "linecolor": "white",
           "ticks": "",
           "title": {
            "standoff": 15
           },
           "zerolinecolor": "white",
           "automargin": true,
           "zerolinewidth": 2
          },
          "yaxis": {
           "gridcolor": "white",
           "linecolor": "white",
           "ticks": "",
           "title": {
            "standoff": 15
           },
           "zerolinecolor": "white",
           "automargin": true,
           "zerolinewidth": 2
          },
          "scene": {
           "xaxis": {
            "backgroundcolor": "#E5ECF6",
            "gridcolor": "white",
            "linecolor": "white",
            "showbackground": true,
            "ticks": "",
            "zerolinecolor": "white",
            "gridwidth": 2
           },
           "yaxis": {
            "backgroundcolor": "#E5ECF6",
            "gridcolor": "white",
            "linecolor": "white",
            "showbackground": true,
            "ticks": "",
            "zerolinecolor": "white",
            "gridwidth": 2
           },
           "zaxis": {
            "backgroundcolor": "#E5ECF6",
            "gridcolor": "white",
            "linecolor": "white",
            "showbackground": true,
            "ticks": "",
            "zerolinecolor": "white",
            "gridwidth": 2
           }
          },
          "shapedefaults": {
           "line": {
            "color": "#2a3f5f"
           }
          },
          "annotationdefaults": {
           "arrowcolor": "#2a3f5f",
           "arrowhead": 0,
           "arrowwidth": 1
          },
          "geo": {
           "bgcolor": "white",
           "landcolor": "#E5ECF6",
           "subunitcolor": "white",
           "showland": true,
           "showlakes": true,
           "lakecolor": "white"
          },
          "title": {
           "x": 0.05
          },
          "mapbox": {
           "style": "light"
          }
         }
        },
        "xaxis": {
         "title": {
          "text": "Metrics"
         },
         "tickangle": -45
        },
        "title": {
         "text": "Evaluation Metrics"
        },
        "yaxis": {
         "title": {
          "text": "Values"
         }
        }
       },
       "config": {
        "plotlyServerURL": "https://plot.ly"
       }
      },
      "text/html": [
       "<div>                            <div id=\"c0cc7a28-2191-4d1c-8556-4d36653bfab5\" class=\"plotly-graph-div\" style=\"height:525px; width:100%;\"></div>            <script type=\"text/javascript\">                require([\"plotly\"], function(Plotly) {                    window.PLOTLYENV=window.PLOTLYENV || {};                                    if (document.getElementById(\"c0cc7a28-2191-4d1c-8556-4d36653bfab5\")) {                    Plotly.newPlot(                        \"c0cc7a28-2191-4d1c-8556-4d36653bfab5\",                        [{\"hoverinfo\":\"x+y\",\"marker\":{\"color\":\"skyblue\"},\"text\":[\"0.5555555555555556\",\"1.0\",\"0.0\",\"0.8\",\"0.0\",\"0.0\",\"0.6495616879278017\",\"0.7740253260379719\",\"0.706328937705019\",\"0.11674985327973864\"],\"textposition\":\"auto\",\"x\":[\"Faithfulness\",\"AnswerRelevancy\",\"Bias\",\"Hallucination\",\"KnowledgeRetention\",\"Toxicity\",\"precision\",\"recall\",\"f1_score\",\"BLEU\"],\"y\":[0.5555555555555556,1.0,0.0,0.8,0.0,0.0,0.6495616879278017,0.7740253260379719,0.706328937705019,0.11674985327973864],\"type\":\"bar\"}],                        {\"template\":{\"data\":{\"histogram2dcontour\":[{\"type\":\"histogram2dcontour\",\"colorbar\":{\"outlinewidth\":0,\"ticks\":\"\"},\"colorscale\":[[0.0,\"#0d0887\"],[0.1111111111111111,\"#46039f\"],[0.2222222222222222,\"#7201a8\"],[0.3333333333333333,\"#9c179e\"],[0.4444444444444444,\"#bd3786\"],[0.5555555555555556,\"#d8576b\"],[0.6666666666666666,\"#ed7953\"],[0.7777777777777778,\"#fb9f3a\"],[0.8888888888888888,\"#fdca26\"],[1.0,\"#f0f921\"]]}],\"choropleth\":[{\"type\":\"choropleth\",\"colorbar\":{\"outlinewidth\":0,\"ticks\":\"\"}}],\"histogram2d\":[{\"type\":\"histogram2d\",\"colorbar\":{\"outlinewidth\":0,\"ticks\":\"\"},\"colorscale\":[[0.0,\"#0d0887\"],[0.1111111111111111,\"#46039f\"],[0.2222222222222222,\"#7201a8\"],[0.3333333333333333,\"#9c179e\"],[0.4444444444444444,\"#bd3786\"],[0.5555555555555556,\"#d8576b\"],[0.6666666666666666,\"#ed7953\"],[0.7777777777777778,\"#fb9f3a\"],[0.8888888888888888,\"#fdca26\"],[1.0,\"#f0f921\"]]}],\"heatmap\":[{\"type\":\"heatmap\",\"colorbar\":{\"outlinewidth\":0,\"ticks\":\"\"},\"colorscale\":[[0.0,\"#0d0887\"],[0.1111111111111111,\"#46039f\"],[0.2222222222222222,\"#7201a8\"],[0.3333333333333333,\"#9c179e\"],[0.4444444444444444,\"#bd3786\"],[0.5555555555555556,\"#d8576b\"],[0.6666666666666666,\"#ed7953\"],[0.7777777777777778,\"#fb9f3a\"],[0.8888888888888888,\"#fdca26\"],[1.0,\"#f0f921\"]]}],\"heatmapgl\":[{\"type\":\"heatmapgl\",\"colorbar\":{\"outlinewidth\":0,\"ticks\":\"\"},\"colorscale\":[[0.0,\"#0d0887\"],[0.1111111111111111,\"#46039f\"],[0.2222222222222222,\"#7201a8\"],[0.3333333333333333,\"#9c179e\"],[0.4444444444444444,\"#bd3786\"],[0.5555555555555556,\"#d8576b\"],[0.6666666666666666,\"#ed7953\"],[0.7777777777777778,\"#fb9f3a\"],[0.8888888888888888,\"#fdca26\"],[1.0,\"#f0f921\"]]}],\"contourcarpet\":[{\"type\":\"contourcarpet\",\"colorbar\":{\"outlinewidth\":0,\"ticks\":\"\"}}],\"contour\":[{\"type\":\"contour\",\"colorbar\":{\"outlinewidth\":0,\"ticks\":\"\"},\"colorscale\":[[0.0,\"#0d0887\"],[0.1111111111111111,\"#46039f\"],[0.2222222222222222,\"#7201a8\"],[0.3333333333333333,\"#9c179e\"],[0.4444444444444444,\"#bd3786\"],[0.5555555555555556,\"#d8576b\"],[0.6666666666666666,\"#ed7953\"],[0.7777777777777778,\"#fb9f3a\"],[0.8888888888888888,\"#fdca26\"],[1.0,\"#f0f921\"]]}],\"surface\":[{\"type\":\"surface\",\"colorbar\":{\"outlinewidth\":0,\"ticks\":\"\"},\"colorscale\":[[0.0,\"#0d0887\"],[0.1111111111111111,\"#46039f\"],[0.2222222222222222,\"#7201a8\"],[0.3333333333333333,\"#9c179e\"],[0.4444444444444444,\"#bd3786\"],[0.5555555555555556,\"#d8576b\"],[0.6666666666666666,\"#ed7953\"],[0.7777777777777778,\"#fb9f3a\"],[0.8888888888888888,\"#fdca26\"],[1.0,\"#f0f921\"]]}],\"mesh3d\":[{\"type\":\"mesh3d\",\"colorbar\":{\"outlinewidth\":0,\"ticks\":\"\"}}],\"scatter\":[{\"fillpattern\":{\"fillmode\":\"overlay\",\"size\":10,\"solidity\":0.2},\"type\":\"scatter\"}],\"parcoords\":[{\"type\":\"parcoords\",\"line\":{\"colorbar\":{\"outlinewidth\":0,\"ticks\":\"\"}}}],\"scatterpolargl\":[{\"type\":\"scatterpolargl\",\"marker\":{\"colorbar\":{\"outlinewidth\":0,\"ticks\":\"\"}}}],\"bar\":[{\"error_x\":{\"color\":\"#2a3f5f\"},\"error_y\":{\"color\":\"#2a3f5f\"},\"marker\":{\"line\":{\"color\":\"#E5ECF6\",\"width\":0.5},\"pattern\":{\"fillmode\":\"overlay\",\"size\":10,\"solidity\":0.2}},\"type\":\"bar\"}],\"scattergeo\":[{\"type\":\"scattergeo\",\"marker\":{\"colorbar\":{\"outlinewidth\":0,\"ticks\":\"\"}}}],\"scatterpolar\":[{\"type\":\"scatterpolar\",\"marker\":{\"colorbar\":{\"outlinewidth\":0,\"ticks\":\"\"}}}],\"histogram\":[{\"marker\":{\"pattern\":{\"fillmode\":\"overlay\",\"size\":10,\"solidity\":0.2}},\"type\":\"histogram\"}],\"scattergl\":[{\"type\":\"scattergl\",\"marker\":{\"colorbar\":{\"outlinewidth\":0,\"ticks\":\"\"}}}],\"scatter3d\":[{\"type\":\"scatter3d\",\"line\":{\"colorbar\":{\"outlinewidth\":0,\"ticks\":\"\"}},\"marker\":{\"colorbar\":{\"outlinewidth\":0,\"ticks\":\"\"}}}],\"scattermapbox\":[{\"type\":\"scattermapbox\",\"marker\":{\"colorbar\":{\"outlinewidth\":0,\"ticks\":\"\"}}}],\"scatterternary\":[{\"type\":\"scatterternary\",\"marker\":{\"colorbar\":{\"outlinewidth\":0,\"ticks\":\"\"}}}],\"scattercarpet\":[{\"type\":\"scattercarpet\",\"marker\":{\"colorbar\":{\"outlinewidth\":0,\"ticks\":\"\"}}}],\"carpet\":[{\"aaxis\":{\"endlinecolor\":\"#2a3f5f\",\"gridcolor\":\"white\",\"linecolor\":\"white\",\"minorgridcolor\":\"white\",\"startlinecolor\":\"#2a3f5f\"},\"baxis\":{\"endlinecolor\":\"#2a3f5f\",\"gridcolor\":\"white\",\"linecolor\":\"white\",\"minorgridcolor\":\"white\",\"startlinecolor\":\"#2a3f5f\"},\"type\":\"carpet\"}],\"table\":[{\"cells\":{\"fill\":{\"color\":\"#EBF0F8\"},\"line\":{\"color\":\"white\"}},\"header\":{\"fill\":{\"color\":\"#C8D4E3\"},\"line\":{\"color\":\"white\"}},\"type\":\"table\"}],\"barpolar\":[{\"marker\":{\"line\":{\"color\":\"#E5ECF6\",\"width\":0.5},\"pattern\":{\"fillmode\":\"overlay\",\"size\":10,\"solidity\":0.2}},\"type\":\"barpolar\"}],\"pie\":[{\"automargin\":true,\"type\":\"pie\"}]},\"layout\":{\"autotypenumbers\":\"strict\",\"colorway\":[\"#636efa\",\"#EF553B\",\"#00cc96\",\"#ab63fa\",\"#FFA15A\",\"#19d3f3\",\"#FF6692\",\"#B6E880\",\"#FF97FF\",\"#FECB52\"],\"font\":{\"color\":\"#2a3f5f\"},\"hovermode\":\"closest\",\"hoverlabel\":{\"align\":\"left\"},\"paper_bgcolor\":\"white\",\"plot_bgcolor\":\"#E5ECF6\",\"polar\":{\"bgcolor\":\"#E5ECF6\",\"angularaxis\":{\"gridcolor\":\"white\",\"linecolor\":\"white\",\"ticks\":\"\"},\"radialaxis\":{\"gridcolor\":\"white\",\"linecolor\":\"white\",\"ticks\":\"\"}},\"ternary\":{\"bgcolor\":\"#E5ECF6\",\"aaxis\":{\"gridcolor\":\"white\",\"linecolor\":\"white\",\"ticks\":\"\"},\"baxis\":{\"gridcolor\":\"white\",\"linecolor\":\"white\",\"ticks\":\"\"},\"caxis\":{\"gridcolor\":\"white\",\"linecolor\":\"white\",\"ticks\":\"\"}},\"coloraxis\":{\"colorbar\":{\"outlinewidth\":0,\"ticks\":\"\"}},\"colorscale\":{\"sequential\":[[0.0,\"#0d0887\"],[0.1111111111111111,\"#46039f\"],[0.2222222222222222,\"#7201a8\"],[0.3333333333333333,\"#9c179e\"],[0.4444444444444444,\"#bd3786\"],[0.5555555555555556,\"#d8576b\"],[0.6666666666666666,\"#ed7953\"],[0.7777777777777778,\"#fb9f3a\"],[0.8888888888888888,\"#fdca26\"],[1.0,\"#f0f921\"]],\"sequentialminus\":[[0.0,\"#0d0887\"],[0.1111111111111111,\"#46039f\"],[0.2222222222222222,\"#7201a8\"],[0.3333333333333333,\"#9c179e\"],[0.4444444444444444,\"#bd3786\"],[0.5555555555555556,\"#d8576b\"],[0.6666666666666666,\"#ed7953\"],[0.7777777777777778,\"#fb9f3a\"],[0.8888888888888888,\"#fdca26\"],[1.0,\"#f0f921\"]],\"diverging\":[[0,\"#8e0152\"],[0.1,\"#c51b7d\"],[0.2,\"#de77ae\"],[0.3,\"#f1b6da\"],[0.4,\"#fde0ef\"],[0.5,\"#f7f7f7\"],[0.6,\"#e6f5d0\"],[0.7,\"#b8e186\"],[0.8,\"#7fbc41\"],[0.9,\"#4d9221\"],[1,\"#276419\"]]},\"xaxis\":{\"gridcolor\":\"white\",\"linecolor\":\"white\",\"ticks\":\"\",\"title\":{\"standoff\":15},\"zerolinecolor\":\"white\",\"automargin\":true,\"zerolinewidth\":2},\"yaxis\":{\"gridcolor\":\"white\",\"linecolor\":\"white\",\"ticks\":\"\",\"title\":{\"standoff\":15},\"zerolinecolor\":\"white\",\"automargin\":true,\"zerolinewidth\":2},\"scene\":{\"xaxis\":{\"backgroundcolor\":\"#E5ECF6\",\"gridcolor\":\"white\",\"linecolor\":\"white\",\"showbackground\":true,\"ticks\":\"\",\"zerolinecolor\":\"white\",\"gridwidth\":2},\"yaxis\":{\"backgroundcolor\":\"#E5ECF6\",\"gridcolor\":\"white\",\"linecolor\":\"white\",\"showbackground\":true,\"ticks\":\"\",\"zerolinecolor\":\"white\",\"gridwidth\":2},\"zaxis\":{\"backgroundcolor\":\"#E5ECF6\",\"gridcolor\":\"white\",\"linecolor\":\"white\",\"showbackground\":true,\"ticks\":\"\",\"zerolinecolor\":\"white\",\"gridwidth\":2}},\"shapedefaults\":{\"line\":{\"color\":\"#2a3f5f\"}},\"annotationdefaults\":{\"arrowcolor\":\"#2a3f5f\",\"arrowhead\":0,\"arrowwidth\":1},\"geo\":{\"bgcolor\":\"white\",\"landcolor\":\"#E5ECF6\",\"subunitcolor\":\"white\",\"showland\":true,\"showlakes\":true,\"lakecolor\":\"white\"},\"title\":{\"x\":0.05},\"mapbox\":{\"style\":\"light\"}}},\"xaxis\":{\"title\":{\"text\":\"Metrics\"},\"tickangle\":-45},\"title\":{\"text\":\"Evaluation Metrics\"},\"yaxis\":{\"title\":{\"text\":\"Values\"}}},                        {\"responsive\": true}                    ).then(function(){\n",
       "                            \n",
       "var gd = document.getElementById('c0cc7a28-2191-4d1c-8556-4d36653bfab5');\n",
       "var x = new MutationObserver(function (mutations, observer) {{\n",
       "        var display = window.getComputedStyle(gd).display;\n",
       "        if (!display || display === 'none') {{\n",
       "            console.log([gd, 'removed!']);\n",
       "            Plotly.purge(gd);\n",
       "            observer.disconnect();\n",
       "        }}\n",
       "}});\n",
       "\n",
       "// Listen for the removal of the full notebook cells\n",
       "var notebookContainer = gd.closest('#notebook-container');\n",
       "if (notebookContainer) {{\n",
       "    x.observe(notebookContainer, {childList: true});\n",
       "}}\n",
       "\n",
       "// Listen for the clearing of the current output cell\n",
       "var outputEl = gd.closest('.output');\n",
       "if (outputEl) {{\n",
       "    x.observe(outputEl, {childList: true});\n",
       "}}\n",
       "\n",
       "                        })                };                });            </script>        </div>"
      ]
     },
     "metadata": {},
     "output_type": "display_data"
    }
   ],
   "execution_count": 38
  },
  {
   "metadata": {
    "ExecuteTime": {
     "end_time": "2024-08-03T16:48:22.225459Z",
     "start_time": "2024-08-03T16:48:22.211709Z"
    }
   },
   "cell_type": "code",
   "source": [
    "import plotly.graph_objects as go\n",
    "\n",
    "def create_beautiful_gauge_chart(score):\n",
    "    \"\"\"\n",
    "    Create a Plotly gauge chart for a given score.\n",
    "    \n",
    "    Parameters:\n",
    "    score (float): A score between 0 and 1.\n",
    "    \n",
    "    Returns:\n",
    "    fig: Plotly Figure object with the gauge chart.\n",
    "    \"\"\"\n",
    "    fig = go.Figure(go.Indicator(\n",
    "        mode=\"gauge+number+delta\",\n",
    "        value=score,\n",
    "        title={'text': \"Evaluation Score\", 'font': {'size': 24}},\n",
    "        delta={'reference': 0.5, 'increasing': {'color': \"green\"}},\n",
    "        gauge={\n",
    "            'axis': {'range': [0, 1], 'tickwidth': 1, 'tickcolor': \"darkblue\"},\n",
    "            'bar': {'color': \"darkblue\"},\n",
    "            'bgcolor': \"white\",\n",
    "            'borderwidth': 2,\n",
    "            'bordercolor': \"gray\",\n",
    "            'steps': [\n",
    "                {'range': [0, 0.2], 'color': \"red\"},\n",
    "                {'range': [0.2, 0.4], 'color': \"orange\"},\n",
    "                {'range': [0.4, 0.6], 'color': \"yellow\"},\n",
    "                {'range': [0.6, 0.8], 'color': \"lightgreen\"},\n",
    "                {'range': [0.8, 1], 'color': \"green\"}],\n",
    "            'threshold': {\n",
    "                'line': {'color': \"black\", 'width': 4},\n",
    "                'thickness': 0.75,\n",
    "                'value': score}\n",
    "        }\n",
    "    ))\n",
    "\n",
    "    fig.update_layout(\n",
    "        title='Overall Evaluation Score',\n",
    "        font={'color': \"darkblue\", 'family': \"Arial\"},\n",
    "        paper_bgcolor=\"lightgrey\",\n",
    "        plot_bgcolor=\"lightgrey\",\n",
    "    )\n",
    "    \n",
    "    return fig\n",
    "\n",
    "# Example usage\n",
    "score = 0.75\n",
    "\n",
    "# Create the beautiful gauge chart\n",
    "fig = create_beautiful_gauge_chart(score)\n",
    "fig.show()\n"
   ],
   "id": "18431d03cd23c211",
   "outputs": [
    {
     "data": {
      "application/vnd.plotly.v1+json": {
       "data": [
        {
         "delta": {
          "increasing": {
           "color": "green"
          },
          "reference": 0.5
         },
         "gauge": {
          "axis": {
           "range": [
            0,
            1
           ],
           "tickcolor": "darkblue",
           "tickwidth": 1
          },
          "bar": {
           "color": "darkblue"
          },
          "bgcolor": "white",
          "bordercolor": "gray",
          "borderwidth": 2,
          "steps": [
           {
            "color": "red",
            "range": [
             0,
             0.2
            ]
           },
           {
            "color": "orange",
            "range": [
             0.2,
             0.4
            ]
           },
           {
            "color": "yellow",
            "range": [
             0.4,
             0.6
            ]
           },
           {
            "color": "lightgreen",
            "range": [
             0.6,
             0.8
            ]
           },
           {
            "color": "green",
            "range": [
             0.8,
             1
            ]
           }
          ],
          "threshold": {
           "line": {
            "color": "black",
            "width": 4
           },
           "thickness": 0.75,
           "value": 0.75
          }
         },
         "mode": "gauge+number+delta",
         "title": {
          "font": {
           "size": 24
          },
          "text": "Evaluation Score"
         },
         "value": 0.75,
         "type": "indicator"
        }
       ],
       "layout": {
        "template": {
         "data": {
          "histogram2dcontour": [
           {
            "type": "histogram2dcontour",
            "colorbar": {
             "outlinewidth": 0,
             "ticks": ""
            },
            "colorscale": [
             [
              0.0,
              "#0d0887"
             ],
             [
              0.1111111111111111,
              "#46039f"
             ],
             [
              0.2222222222222222,
              "#7201a8"
             ],
             [
              0.3333333333333333,
              "#9c179e"
             ],
             [
              0.4444444444444444,
              "#bd3786"
             ],
             [
              0.5555555555555556,
              "#d8576b"
             ],
             [
              0.6666666666666666,
              "#ed7953"
             ],
             [
              0.7777777777777778,
              "#fb9f3a"
             ],
             [
              0.8888888888888888,
              "#fdca26"
             ],
             [
              1.0,
              "#f0f921"
             ]
            ]
           }
          ],
          "choropleth": [
           {
            "type": "choropleth",
            "colorbar": {
             "outlinewidth": 0,
             "ticks": ""
            }
           }
          ],
          "histogram2d": [
           {
            "type": "histogram2d",
            "colorbar": {
             "outlinewidth": 0,
             "ticks": ""
            },
            "colorscale": [
             [
              0.0,
              "#0d0887"
             ],
             [
              0.1111111111111111,
              "#46039f"
             ],
             [
              0.2222222222222222,
              "#7201a8"
             ],
             [
              0.3333333333333333,
              "#9c179e"
             ],
             [
              0.4444444444444444,
              "#bd3786"
             ],
             [
              0.5555555555555556,
              "#d8576b"
             ],
             [
              0.6666666666666666,
              "#ed7953"
             ],
             [
              0.7777777777777778,
              "#fb9f3a"
             ],
             [
              0.8888888888888888,
              "#fdca26"
             ],
             [
              1.0,
              "#f0f921"
             ]
            ]
           }
          ],
          "heatmap": [
           {
            "type": "heatmap",
            "colorbar": {
             "outlinewidth": 0,
             "ticks": ""
            },
            "colorscale": [
             [
              0.0,
              "#0d0887"
             ],
             [
              0.1111111111111111,
              "#46039f"
             ],
             [
              0.2222222222222222,
              "#7201a8"
             ],
             [
              0.3333333333333333,
              "#9c179e"
             ],
             [
              0.4444444444444444,
              "#bd3786"
             ],
             [
              0.5555555555555556,
              "#d8576b"
             ],
             [
              0.6666666666666666,
              "#ed7953"
             ],
             [
              0.7777777777777778,
              "#fb9f3a"
             ],
             [
              0.8888888888888888,
              "#fdca26"
             ],
             [
              1.0,
              "#f0f921"
             ]
            ]
           }
          ],
          "heatmapgl": [
           {
            "type": "heatmapgl",
            "colorbar": {
             "outlinewidth": 0,
             "ticks": ""
            },
            "colorscale": [
             [
              0.0,
              "#0d0887"
             ],
             [
              0.1111111111111111,
              "#46039f"
             ],
             [
              0.2222222222222222,
              "#7201a8"
             ],
             [
              0.3333333333333333,
              "#9c179e"
             ],
             [
              0.4444444444444444,
              "#bd3786"
             ],
             [
              0.5555555555555556,
              "#d8576b"
             ],
             [
              0.6666666666666666,
              "#ed7953"
             ],
             [
              0.7777777777777778,
              "#fb9f3a"
             ],
             [
              0.8888888888888888,
              "#fdca26"
             ],
             [
              1.0,
              "#f0f921"
             ]
            ]
           }
          ],
          "contourcarpet": [
           {
            "type": "contourcarpet",
            "colorbar": {
             "outlinewidth": 0,
             "ticks": ""
            }
           }
          ],
          "contour": [
           {
            "type": "contour",
            "colorbar": {
             "outlinewidth": 0,
             "ticks": ""
            },
            "colorscale": [
             [
              0.0,
              "#0d0887"
             ],
             [
              0.1111111111111111,
              "#46039f"
             ],
             [
              0.2222222222222222,
              "#7201a8"
             ],
             [
              0.3333333333333333,
              "#9c179e"
             ],
             [
              0.4444444444444444,
              "#bd3786"
             ],
             [
              0.5555555555555556,
              "#d8576b"
             ],
             [
              0.6666666666666666,
              "#ed7953"
             ],
             [
              0.7777777777777778,
              "#fb9f3a"
             ],
             [
              0.8888888888888888,
              "#fdca26"
             ],
             [
              1.0,
              "#f0f921"
             ]
            ]
           }
          ],
          "surface": [
           {
            "type": "surface",
            "colorbar": {
             "outlinewidth": 0,
             "ticks": ""
            },
            "colorscale": [
             [
              0.0,
              "#0d0887"
             ],
             [
              0.1111111111111111,
              "#46039f"
             ],
             [
              0.2222222222222222,
              "#7201a8"
             ],
             [
              0.3333333333333333,
              "#9c179e"
             ],
             [
              0.4444444444444444,
              "#bd3786"
             ],
             [
              0.5555555555555556,
              "#d8576b"
             ],
             [
              0.6666666666666666,
              "#ed7953"
             ],
             [
              0.7777777777777778,
              "#fb9f3a"
             ],
             [
              0.8888888888888888,
              "#fdca26"
             ],
             [
              1.0,
              "#f0f921"
             ]
            ]
           }
          ],
          "mesh3d": [
           {
            "type": "mesh3d",
            "colorbar": {
             "outlinewidth": 0,
             "ticks": ""
            }
           }
          ],
          "scatter": [
           {
            "fillpattern": {
             "fillmode": "overlay",
             "size": 10,
             "solidity": 0.2
            },
            "type": "scatter"
           }
          ],
          "parcoords": [
           {
            "type": "parcoords",
            "line": {
             "colorbar": {
              "outlinewidth": 0,
              "ticks": ""
             }
            }
           }
          ],
          "scatterpolargl": [
           {
            "type": "scatterpolargl",
            "marker": {
             "colorbar": {
              "outlinewidth": 0,
              "ticks": ""
             }
            }
           }
          ],
          "bar": [
           {
            "error_x": {
             "color": "#2a3f5f"
            },
            "error_y": {
             "color": "#2a3f5f"
            },
            "marker": {
             "line": {
              "color": "#E5ECF6",
              "width": 0.5
             },
             "pattern": {
              "fillmode": "overlay",
              "size": 10,
              "solidity": 0.2
             }
            },
            "type": "bar"
           }
          ],
          "scattergeo": [
           {
            "type": "scattergeo",
            "marker": {
             "colorbar": {
              "outlinewidth": 0,
              "ticks": ""
             }
            }
           }
          ],
          "scatterpolar": [
           {
            "type": "scatterpolar",
            "marker": {
             "colorbar": {
              "outlinewidth": 0,
              "ticks": ""
             }
            }
           }
          ],
          "histogram": [
           {
            "marker": {
             "pattern": {
              "fillmode": "overlay",
              "size": 10,
              "solidity": 0.2
             }
            },
            "type": "histogram"
           }
          ],
          "scattergl": [
           {
            "type": "scattergl",
            "marker": {
             "colorbar": {
              "outlinewidth": 0,
              "ticks": ""
             }
            }
           }
          ],
          "scatter3d": [
           {
            "type": "scatter3d",
            "line": {
             "colorbar": {
              "outlinewidth": 0,
              "ticks": ""
             }
            },
            "marker": {
             "colorbar": {
              "outlinewidth": 0,
              "ticks": ""
             }
            }
           }
          ],
          "scattermapbox": [
           {
            "type": "scattermapbox",
            "marker": {
             "colorbar": {
              "outlinewidth": 0,
              "ticks": ""
             }
            }
           }
          ],
          "scatterternary": [
           {
            "type": "scatterternary",
            "marker": {
             "colorbar": {
              "outlinewidth": 0,
              "ticks": ""
             }
            }
           }
          ],
          "scattercarpet": [
           {
            "type": "scattercarpet",
            "marker": {
             "colorbar": {
              "outlinewidth": 0,
              "ticks": ""
             }
            }
           }
          ],
          "carpet": [
           {
            "aaxis": {
             "endlinecolor": "#2a3f5f",
             "gridcolor": "white",
             "linecolor": "white",
             "minorgridcolor": "white",
             "startlinecolor": "#2a3f5f"
            },
            "baxis": {
             "endlinecolor": "#2a3f5f",
             "gridcolor": "white",
             "linecolor": "white",
             "minorgridcolor": "white",
             "startlinecolor": "#2a3f5f"
            },
            "type": "carpet"
           }
          ],
          "table": [
           {
            "cells": {
             "fill": {
              "color": "#EBF0F8"
             },
             "line": {
              "color": "white"
             }
            },
            "header": {
             "fill": {
              "color": "#C8D4E3"
             },
             "line": {
              "color": "white"
             }
            },
            "type": "table"
           }
          ],
          "barpolar": [
           {
            "marker": {
             "line": {
              "color": "#E5ECF6",
              "width": 0.5
             },
             "pattern": {
              "fillmode": "overlay",
              "size": 10,
              "solidity": 0.2
             }
            },
            "type": "barpolar"
           }
          ],
          "pie": [
           {
            "automargin": true,
            "type": "pie"
           }
          ]
         },
         "layout": {
          "autotypenumbers": "strict",
          "colorway": [
           "#636efa",
           "#EF553B",
           "#00cc96",
           "#ab63fa",
           "#FFA15A",
           "#19d3f3",
           "#FF6692",
           "#B6E880",
           "#FF97FF",
           "#FECB52"
          ],
          "font": {
           "color": "#2a3f5f"
          },
          "hovermode": "closest",
          "hoverlabel": {
           "align": "left"
          },
          "paper_bgcolor": "white",
          "plot_bgcolor": "#E5ECF6",
          "polar": {
           "bgcolor": "#E5ECF6",
           "angularaxis": {
            "gridcolor": "white",
            "linecolor": "white",
            "ticks": ""
           },
           "radialaxis": {
            "gridcolor": "white",
            "linecolor": "white",
            "ticks": ""
           }
          },
          "ternary": {
           "bgcolor": "#E5ECF6",
           "aaxis": {
            "gridcolor": "white",
            "linecolor": "white",
            "ticks": ""
           },
           "baxis": {
            "gridcolor": "white",
            "linecolor": "white",
            "ticks": ""
           },
           "caxis": {
            "gridcolor": "white",
            "linecolor": "white",
            "ticks": ""
           }
          },
          "coloraxis": {
           "colorbar": {
            "outlinewidth": 0,
            "ticks": ""
           }
          },
          "colorscale": {
           "sequential": [
            [
             0.0,
             "#0d0887"
            ],
            [
             0.1111111111111111,
             "#46039f"
            ],
            [
             0.2222222222222222,
             "#7201a8"
            ],
            [
             0.3333333333333333,
             "#9c179e"
            ],
            [
             0.4444444444444444,
             "#bd3786"
            ],
            [
             0.5555555555555556,
             "#d8576b"
            ],
            [
             0.6666666666666666,
             "#ed7953"
            ],
            [
             0.7777777777777778,
             "#fb9f3a"
            ],
            [
             0.8888888888888888,
             "#fdca26"
            ],
            [
             1.0,
             "#f0f921"
            ]
           ],
           "sequentialminus": [
            [
             0.0,
             "#0d0887"
            ],
            [
             0.1111111111111111,
             "#46039f"
            ],
            [
             0.2222222222222222,
             "#7201a8"
            ],
            [
             0.3333333333333333,
             "#9c179e"
            ],
            [
             0.4444444444444444,
             "#bd3786"
            ],
            [
             0.5555555555555556,
             "#d8576b"
            ],
            [
             0.6666666666666666,
             "#ed7953"
            ],
            [
             0.7777777777777778,
             "#fb9f3a"
            ],
            [
             0.8888888888888888,
             "#fdca26"
            ],
            [
             1.0,
             "#f0f921"
            ]
           ],
           "diverging": [
            [
             0,
             "#8e0152"
            ],
            [
             0.1,
             "#c51b7d"
            ],
            [
             0.2,
             "#de77ae"
            ],
            [
             0.3,
             "#f1b6da"
            ],
            [
             0.4,
             "#fde0ef"
            ],
            [
             0.5,
             "#f7f7f7"
            ],
            [
             0.6,
             "#e6f5d0"
            ],
            [
             0.7,
             "#b8e186"
            ],
            [
             0.8,
             "#7fbc41"
            ],
            [
             0.9,
             "#4d9221"
            ],
            [
             1,
             "#276419"
            ]
           ]
          },
          "xaxis": {
           "gridcolor": "white",
           "linecolor": "white",
           "ticks": "",
           "title": {
            "standoff": 15
           },
           "zerolinecolor": "white",
           "automargin": true,
           "zerolinewidth": 2
          },
          "yaxis": {
           "gridcolor": "white",
           "linecolor": "white",
           "ticks": "",
           "title": {
            "standoff": 15
           },
           "zerolinecolor": "white",
           "automargin": true,
           "zerolinewidth": 2
          },
          "scene": {
           "xaxis": {
            "backgroundcolor": "#E5ECF6",
            "gridcolor": "white",
            "linecolor": "white",
            "showbackground": true,
            "ticks": "",
            "zerolinecolor": "white",
            "gridwidth": 2
           },
           "yaxis": {
            "backgroundcolor": "#E5ECF6",
            "gridcolor": "white",
            "linecolor": "white",
            "showbackground": true,
            "ticks": "",
            "zerolinecolor": "white",
            "gridwidth": 2
           },
           "zaxis": {
            "backgroundcolor": "#E5ECF6",
            "gridcolor": "white",
            "linecolor": "white",
            "showbackground": true,
            "ticks": "",
            "zerolinecolor": "white",
            "gridwidth": 2
           }
          },
          "shapedefaults": {
           "line": {
            "color": "#2a3f5f"
           }
          },
          "annotationdefaults": {
           "arrowcolor": "#2a3f5f",
           "arrowhead": 0,
           "arrowwidth": 1
          },
          "geo": {
           "bgcolor": "white",
           "landcolor": "#E5ECF6",
           "subunitcolor": "white",
           "showland": true,
           "showlakes": true,
           "lakecolor": "white"
          },
          "title": {
           "x": 0.05
          },
          "mapbox": {
           "style": "light"
          }
         }
        },
        "font": {
         "color": "darkblue",
         "family": "Arial"
        },
        "title": {
         "text": "Overall Evaluation Score"
        },
        "paper_bgcolor": "lightgrey",
        "plot_bgcolor": "lightgrey"
       },
       "config": {
        "plotlyServerURL": "https://plot.ly"
       }
      },
      "text/html": [
       "<div>                            <div id=\"82ceb4e9-f59c-490c-96b8-7fe17b6fb58a\" class=\"plotly-graph-div\" style=\"height:525px; width:100%;\"></div>            <script type=\"text/javascript\">                require([\"plotly\"], function(Plotly) {                    window.PLOTLYENV=window.PLOTLYENV || {};                                    if (document.getElementById(\"82ceb4e9-f59c-490c-96b8-7fe17b6fb58a\")) {                    Plotly.newPlot(                        \"82ceb4e9-f59c-490c-96b8-7fe17b6fb58a\",                        [{\"delta\":{\"increasing\":{\"color\":\"green\"},\"reference\":0.5},\"gauge\":{\"axis\":{\"range\":[0,1],\"tickcolor\":\"darkblue\",\"tickwidth\":1},\"bar\":{\"color\":\"darkblue\"},\"bgcolor\":\"white\",\"bordercolor\":\"gray\",\"borderwidth\":2,\"steps\":[{\"color\":\"red\",\"range\":[0,0.2]},{\"color\":\"orange\",\"range\":[0.2,0.4]},{\"color\":\"yellow\",\"range\":[0.4,0.6]},{\"color\":\"lightgreen\",\"range\":[0.6,0.8]},{\"color\":\"green\",\"range\":[0.8,1]}],\"threshold\":{\"line\":{\"color\":\"black\",\"width\":4},\"thickness\":0.75,\"value\":0.75}},\"mode\":\"gauge+number+delta\",\"title\":{\"font\":{\"size\":24},\"text\":\"Evaluation Score\"},\"value\":0.75,\"type\":\"indicator\"}],                        {\"template\":{\"data\":{\"histogram2dcontour\":[{\"type\":\"histogram2dcontour\",\"colorbar\":{\"outlinewidth\":0,\"ticks\":\"\"},\"colorscale\":[[0.0,\"#0d0887\"],[0.1111111111111111,\"#46039f\"],[0.2222222222222222,\"#7201a8\"],[0.3333333333333333,\"#9c179e\"],[0.4444444444444444,\"#bd3786\"],[0.5555555555555556,\"#d8576b\"],[0.6666666666666666,\"#ed7953\"],[0.7777777777777778,\"#fb9f3a\"],[0.8888888888888888,\"#fdca26\"],[1.0,\"#f0f921\"]]}],\"choropleth\":[{\"type\":\"choropleth\",\"colorbar\":{\"outlinewidth\":0,\"ticks\":\"\"}}],\"histogram2d\":[{\"type\":\"histogram2d\",\"colorbar\":{\"outlinewidth\":0,\"ticks\":\"\"},\"colorscale\":[[0.0,\"#0d0887\"],[0.1111111111111111,\"#46039f\"],[0.2222222222222222,\"#7201a8\"],[0.3333333333333333,\"#9c179e\"],[0.4444444444444444,\"#bd3786\"],[0.5555555555555556,\"#d8576b\"],[0.6666666666666666,\"#ed7953\"],[0.7777777777777778,\"#fb9f3a\"],[0.8888888888888888,\"#fdca26\"],[1.0,\"#f0f921\"]]}],\"heatmap\":[{\"type\":\"heatmap\",\"colorbar\":{\"outlinewidth\":0,\"ticks\":\"\"},\"colorscale\":[[0.0,\"#0d0887\"],[0.1111111111111111,\"#46039f\"],[0.2222222222222222,\"#7201a8\"],[0.3333333333333333,\"#9c179e\"],[0.4444444444444444,\"#bd3786\"],[0.5555555555555556,\"#d8576b\"],[0.6666666666666666,\"#ed7953\"],[0.7777777777777778,\"#fb9f3a\"],[0.8888888888888888,\"#fdca26\"],[1.0,\"#f0f921\"]]}],\"heatmapgl\":[{\"type\":\"heatmapgl\",\"colorbar\":{\"outlinewidth\":0,\"ticks\":\"\"},\"colorscale\":[[0.0,\"#0d0887\"],[0.1111111111111111,\"#46039f\"],[0.2222222222222222,\"#7201a8\"],[0.3333333333333333,\"#9c179e\"],[0.4444444444444444,\"#bd3786\"],[0.5555555555555556,\"#d8576b\"],[0.6666666666666666,\"#ed7953\"],[0.7777777777777778,\"#fb9f3a\"],[0.8888888888888888,\"#fdca26\"],[1.0,\"#f0f921\"]]}],\"contourcarpet\":[{\"type\":\"contourcarpet\",\"colorbar\":{\"outlinewidth\":0,\"ticks\":\"\"}}],\"contour\":[{\"type\":\"contour\",\"colorbar\":{\"outlinewidth\":0,\"ticks\":\"\"},\"colorscale\":[[0.0,\"#0d0887\"],[0.1111111111111111,\"#46039f\"],[0.2222222222222222,\"#7201a8\"],[0.3333333333333333,\"#9c179e\"],[0.4444444444444444,\"#bd3786\"],[0.5555555555555556,\"#d8576b\"],[0.6666666666666666,\"#ed7953\"],[0.7777777777777778,\"#fb9f3a\"],[0.8888888888888888,\"#fdca26\"],[1.0,\"#f0f921\"]]}],\"surface\":[{\"type\":\"surface\",\"colorbar\":{\"outlinewidth\":0,\"ticks\":\"\"},\"colorscale\":[[0.0,\"#0d0887\"],[0.1111111111111111,\"#46039f\"],[0.2222222222222222,\"#7201a8\"],[0.3333333333333333,\"#9c179e\"],[0.4444444444444444,\"#bd3786\"],[0.5555555555555556,\"#d8576b\"],[0.6666666666666666,\"#ed7953\"],[0.7777777777777778,\"#fb9f3a\"],[0.8888888888888888,\"#fdca26\"],[1.0,\"#f0f921\"]]}],\"mesh3d\":[{\"type\":\"mesh3d\",\"colorbar\":{\"outlinewidth\":0,\"ticks\":\"\"}}],\"scatter\":[{\"fillpattern\":{\"fillmode\":\"overlay\",\"size\":10,\"solidity\":0.2},\"type\":\"scatter\"}],\"parcoords\":[{\"type\":\"parcoords\",\"line\":{\"colorbar\":{\"outlinewidth\":0,\"ticks\":\"\"}}}],\"scatterpolargl\":[{\"type\":\"scatterpolargl\",\"marker\":{\"colorbar\":{\"outlinewidth\":0,\"ticks\":\"\"}}}],\"bar\":[{\"error_x\":{\"color\":\"#2a3f5f\"},\"error_y\":{\"color\":\"#2a3f5f\"},\"marker\":{\"line\":{\"color\":\"#E5ECF6\",\"width\":0.5},\"pattern\":{\"fillmode\":\"overlay\",\"size\":10,\"solidity\":0.2}},\"type\":\"bar\"}],\"scattergeo\":[{\"type\":\"scattergeo\",\"marker\":{\"colorbar\":{\"outlinewidth\":0,\"ticks\":\"\"}}}],\"scatterpolar\":[{\"type\":\"scatterpolar\",\"marker\":{\"colorbar\":{\"outlinewidth\":0,\"ticks\":\"\"}}}],\"histogram\":[{\"marker\":{\"pattern\":{\"fillmode\":\"overlay\",\"size\":10,\"solidity\":0.2}},\"type\":\"histogram\"}],\"scattergl\":[{\"type\":\"scattergl\",\"marker\":{\"colorbar\":{\"outlinewidth\":0,\"ticks\":\"\"}}}],\"scatter3d\":[{\"type\":\"scatter3d\",\"line\":{\"colorbar\":{\"outlinewidth\":0,\"ticks\":\"\"}},\"marker\":{\"colorbar\":{\"outlinewidth\":0,\"ticks\":\"\"}}}],\"scattermapbox\":[{\"type\":\"scattermapbox\",\"marker\":{\"colorbar\":{\"outlinewidth\":0,\"ticks\":\"\"}}}],\"scatterternary\":[{\"type\":\"scatterternary\",\"marker\":{\"colorbar\":{\"outlinewidth\":0,\"ticks\":\"\"}}}],\"scattercarpet\":[{\"type\":\"scattercarpet\",\"marker\":{\"colorbar\":{\"outlinewidth\":0,\"ticks\":\"\"}}}],\"carpet\":[{\"aaxis\":{\"endlinecolor\":\"#2a3f5f\",\"gridcolor\":\"white\",\"linecolor\":\"white\",\"minorgridcolor\":\"white\",\"startlinecolor\":\"#2a3f5f\"},\"baxis\":{\"endlinecolor\":\"#2a3f5f\",\"gridcolor\":\"white\",\"linecolor\":\"white\",\"minorgridcolor\":\"white\",\"startlinecolor\":\"#2a3f5f\"},\"type\":\"carpet\"}],\"table\":[{\"cells\":{\"fill\":{\"color\":\"#EBF0F8\"},\"line\":{\"color\":\"white\"}},\"header\":{\"fill\":{\"color\":\"#C8D4E3\"},\"line\":{\"color\":\"white\"}},\"type\":\"table\"}],\"barpolar\":[{\"marker\":{\"line\":{\"color\":\"#E5ECF6\",\"width\":0.5},\"pattern\":{\"fillmode\":\"overlay\",\"size\":10,\"solidity\":0.2}},\"type\":\"barpolar\"}],\"pie\":[{\"automargin\":true,\"type\":\"pie\"}]},\"layout\":{\"autotypenumbers\":\"strict\",\"colorway\":[\"#636efa\",\"#EF553B\",\"#00cc96\",\"#ab63fa\",\"#FFA15A\",\"#19d3f3\",\"#FF6692\",\"#B6E880\",\"#FF97FF\",\"#FECB52\"],\"font\":{\"color\":\"#2a3f5f\"},\"hovermode\":\"closest\",\"hoverlabel\":{\"align\":\"left\"},\"paper_bgcolor\":\"white\",\"plot_bgcolor\":\"#E5ECF6\",\"polar\":{\"bgcolor\":\"#E5ECF6\",\"angularaxis\":{\"gridcolor\":\"white\",\"linecolor\":\"white\",\"ticks\":\"\"},\"radialaxis\":{\"gridcolor\":\"white\",\"linecolor\":\"white\",\"ticks\":\"\"}},\"ternary\":{\"bgcolor\":\"#E5ECF6\",\"aaxis\":{\"gridcolor\":\"white\",\"linecolor\":\"white\",\"ticks\":\"\"},\"baxis\":{\"gridcolor\":\"white\",\"linecolor\":\"white\",\"ticks\":\"\"},\"caxis\":{\"gridcolor\":\"white\",\"linecolor\":\"white\",\"ticks\":\"\"}},\"coloraxis\":{\"colorbar\":{\"outlinewidth\":0,\"ticks\":\"\"}},\"colorscale\":{\"sequential\":[[0.0,\"#0d0887\"],[0.1111111111111111,\"#46039f\"],[0.2222222222222222,\"#7201a8\"],[0.3333333333333333,\"#9c179e\"],[0.4444444444444444,\"#bd3786\"],[0.5555555555555556,\"#d8576b\"],[0.6666666666666666,\"#ed7953\"],[0.7777777777777778,\"#fb9f3a\"],[0.8888888888888888,\"#fdca26\"],[1.0,\"#f0f921\"]],\"sequentialminus\":[[0.0,\"#0d0887\"],[0.1111111111111111,\"#46039f\"],[0.2222222222222222,\"#7201a8\"],[0.3333333333333333,\"#9c179e\"],[0.4444444444444444,\"#bd3786\"],[0.5555555555555556,\"#d8576b\"],[0.6666666666666666,\"#ed7953\"],[0.7777777777777778,\"#fb9f3a\"],[0.8888888888888888,\"#fdca26\"],[1.0,\"#f0f921\"]],\"diverging\":[[0,\"#8e0152\"],[0.1,\"#c51b7d\"],[0.2,\"#de77ae\"],[0.3,\"#f1b6da\"],[0.4,\"#fde0ef\"],[0.5,\"#f7f7f7\"],[0.6,\"#e6f5d0\"],[0.7,\"#b8e186\"],[0.8,\"#7fbc41\"],[0.9,\"#4d9221\"],[1,\"#276419\"]]},\"xaxis\":{\"gridcolor\":\"white\",\"linecolor\":\"white\",\"ticks\":\"\",\"title\":{\"standoff\":15},\"zerolinecolor\":\"white\",\"automargin\":true,\"zerolinewidth\":2},\"yaxis\":{\"gridcolor\":\"white\",\"linecolor\":\"white\",\"ticks\":\"\",\"title\":{\"standoff\":15},\"zerolinecolor\":\"white\",\"automargin\":true,\"zerolinewidth\":2},\"scene\":{\"xaxis\":{\"backgroundcolor\":\"#E5ECF6\",\"gridcolor\":\"white\",\"linecolor\":\"white\",\"showbackground\":true,\"ticks\":\"\",\"zerolinecolor\":\"white\",\"gridwidth\":2},\"yaxis\":{\"backgroundcolor\":\"#E5ECF6\",\"gridcolor\":\"white\",\"linecolor\":\"white\",\"showbackground\":true,\"ticks\":\"\",\"zerolinecolor\":\"white\",\"gridwidth\":2},\"zaxis\":{\"backgroundcolor\":\"#E5ECF6\",\"gridcolor\":\"white\",\"linecolor\":\"white\",\"showbackground\":true,\"ticks\":\"\",\"zerolinecolor\":\"white\",\"gridwidth\":2}},\"shapedefaults\":{\"line\":{\"color\":\"#2a3f5f\"}},\"annotationdefaults\":{\"arrowcolor\":\"#2a3f5f\",\"arrowhead\":0,\"arrowwidth\":1},\"geo\":{\"bgcolor\":\"white\",\"landcolor\":\"#E5ECF6\",\"subunitcolor\":\"white\",\"showland\":true,\"showlakes\":true,\"lakecolor\":\"white\"},\"title\":{\"x\":0.05},\"mapbox\":{\"style\":\"light\"}}},\"font\":{\"color\":\"darkblue\",\"family\":\"Arial\"},\"title\":{\"text\":\"Overall Evaluation Score\"},\"paper_bgcolor\":\"lightgrey\",\"plot_bgcolor\":\"lightgrey\"},                        {\"responsive\": true}                    ).then(function(){\n",
       "                            \n",
       "var gd = document.getElementById('82ceb4e9-f59c-490c-96b8-7fe17b6fb58a');\n",
       "var x = new MutationObserver(function (mutations, observer) {{\n",
       "        var display = window.getComputedStyle(gd).display;\n",
       "        if (!display || display === 'none') {{\n",
       "            console.log([gd, 'removed!']);\n",
       "            Plotly.purge(gd);\n",
       "            observer.disconnect();\n",
       "        }}\n",
       "}});\n",
       "\n",
       "// Listen for the removal of the full notebook cells\n",
       "var notebookContainer = gd.closest('#notebook-container');\n",
       "if (notebookContainer) {{\n",
       "    x.observe(notebookContainer, {childList: true});\n",
       "}}\n",
       "\n",
       "// Listen for the clearing of the current output cell\n",
       "var outputEl = gd.closest('.output');\n",
       "if (outputEl) {{\n",
       "    x.observe(outputEl, {childList: true});\n",
       "}}\n",
       "\n",
       "                        })                };                });            </script>        </div>"
      ]
     },
     "metadata": {},
     "output_type": "display_data"
    }
   ],
   "execution_count": 48
  },
  {
   "metadata": {
    "ExecuteTime": {
     "end_time": "2024-08-03T16:44:28.605550Z",
     "start_time": "2024-08-03T16:44:28.004229Z"
    }
   },
   "cell_type": "code",
   "source": [
    "import plotly.express as px\n",
    "\n",
    "def create_dot_plot(metrics):\n",
    "    \"\"\"\n",
    "    Create a Plotly dot plot for given metrics.\n",
    "    \n",
    "    Parameters:\n",
    "    metrics (dict): A dictionary where keys are metric names and values are their corresponding values.\n",
    "    \n",
    "    Returns:\n",
    "    fig: Plotly Figure object with the dot plot.\n",
    "    \"\"\"\n",
    "    df = pd.DataFrame(list(metrics.items()), columns=['Metric', 'Value'])\n",
    "    fig = px.scatter(df, x='Value', y='Metric', size='Value', color='Value', color_continuous_scale='Viridis')\n",
    "    \n",
    "    fig.update_layout(\n",
    "        title='Evaluation Metrics Dot Plot',\n",
    "        xaxis_title='Value',\n",
    "        yaxis_title='Metric'\n",
    "    )\n",
    "    \n",
    "    return fig\n",
    "\n",
    "# Create the dot plot\n",
    "fig = create_dot_plot(metrics)\n",
    "fig.show()\n"
   ],
   "id": "e11af952bcb1145c",
   "outputs": [
    {
     "data": {
      "application/vnd.plotly.v1+json": {
       "data": [
        {
         "hovertemplate": "Value=%{marker.color}<br>Metric=%{y}<extra></extra>",
         "legendgroup": "",
         "marker": {
          "color": [
           0.5555555555555556,
           1.0,
           0.0,
           0.8,
           0.0,
           0.0,
           0.6495616879278017,
           0.7740253260379719,
           0.706328937705019,
           0.11674985327973864
          ],
          "coloraxis": "coloraxis",
          "size": [
           0.5555555555555556,
           1.0,
           0.0,
           0.8,
           0.0,
           0.0,
           0.6495616879278017,
           0.7740253260379719,
           0.706328937705019,
           0.11674985327973864
          ],
          "sizemode": "area",
          "sizeref": 0.0025,
          "symbol": "circle"
         },
         "mode": "markers",
         "name": "",
         "orientation": "h",
         "showlegend": false,
         "x": [
          0.5555555555555556,
          1.0,
          0.0,
          0.8,
          0.0,
          0.0,
          0.6495616879278017,
          0.7740253260379719,
          0.706328937705019,
          0.11674985327973864
         ],
         "xaxis": "x",
         "y": [
          "Faithfulness",
          "AnswerRelevancy",
          "Bias",
          "Hallucination",
          "KnowledgeRetention",
          "Toxicity",
          "precision",
          "recall",
          "f1_score",
          "BLEU"
         ],
         "yaxis": "y",
         "type": "scatter"
        }
       ],
       "layout": {
        "template": {
         "data": {
          "histogram2dcontour": [
           {
            "type": "histogram2dcontour",
            "colorbar": {
             "outlinewidth": 0,
             "ticks": ""
            },
            "colorscale": [
             [
              0.0,
              "#0d0887"
             ],
             [
              0.1111111111111111,
              "#46039f"
             ],
             [
              0.2222222222222222,
              "#7201a8"
             ],
             [
              0.3333333333333333,
              "#9c179e"
             ],
             [
              0.4444444444444444,
              "#bd3786"
             ],
             [
              0.5555555555555556,
              "#d8576b"
             ],
             [
              0.6666666666666666,
              "#ed7953"
             ],
             [
              0.7777777777777778,
              "#fb9f3a"
             ],
             [
              0.8888888888888888,
              "#fdca26"
             ],
             [
              1.0,
              "#f0f921"
             ]
            ]
           }
          ],
          "choropleth": [
           {
            "type": "choropleth",
            "colorbar": {
             "outlinewidth": 0,
             "ticks": ""
            }
           }
          ],
          "histogram2d": [
           {
            "type": "histogram2d",
            "colorbar": {
             "outlinewidth": 0,
             "ticks": ""
            },
            "colorscale": [
             [
              0.0,
              "#0d0887"
             ],
             [
              0.1111111111111111,
              "#46039f"
             ],
             [
              0.2222222222222222,
              "#7201a8"
             ],
             [
              0.3333333333333333,
              "#9c179e"
             ],
             [
              0.4444444444444444,
              "#bd3786"
             ],
             [
              0.5555555555555556,
              "#d8576b"
             ],
             [
              0.6666666666666666,
              "#ed7953"
             ],
             [
              0.7777777777777778,
              "#fb9f3a"
             ],
             [
              0.8888888888888888,
              "#fdca26"
             ],
             [
              1.0,
              "#f0f921"
             ]
            ]
           }
          ],
          "heatmap": [
           {
            "type": "heatmap",
            "colorbar": {
             "outlinewidth": 0,
             "ticks": ""
            },
            "colorscale": [
             [
              0.0,
              "#0d0887"
             ],
             [
              0.1111111111111111,
              "#46039f"
             ],
             [
              0.2222222222222222,
              "#7201a8"
             ],
             [
              0.3333333333333333,
              "#9c179e"
             ],
             [
              0.4444444444444444,
              "#bd3786"
             ],
             [
              0.5555555555555556,
              "#d8576b"
             ],
             [
              0.6666666666666666,
              "#ed7953"
             ],
             [
              0.7777777777777778,
              "#fb9f3a"
             ],
             [
              0.8888888888888888,
              "#fdca26"
             ],
             [
              1.0,
              "#f0f921"
             ]
            ]
           }
          ],
          "heatmapgl": [
           {
            "type": "heatmapgl",
            "colorbar": {
             "outlinewidth": 0,
             "ticks": ""
            },
            "colorscale": [
             [
              0.0,
              "#0d0887"
             ],
             [
              0.1111111111111111,
              "#46039f"
             ],
             [
              0.2222222222222222,
              "#7201a8"
             ],
             [
              0.3333333333333333,
              "#9c179e"
             ],
             [
              0.4444444444444444,
              "#bd3786"
             ],
             [
              0.5555555555555556,
              "#d8576b"
             ],
             [
              0.6666666666666666,
              "#ed7953"
             ],
             [
              0.7777777777777778,
              "#fb9f3a"
             ],
             [
              0.8888888888888888,
              "#fdca26"
             ],
             [
              1.0,
              "#f0f921"
             ]
            ]
           }
          ],
          "contourcarpet": [
           {
            "type": "contourcarpet",
            "colorbar": {
             "outlinewidth": 0,
             "ticks": ""
            }
           }
          ],
          "contour": [
           {
            "type": "contour",
            "colorbar": {
             "outlinewidth": 0,
             "ticks": ""
            },
            "colorscale": [
             [
              0.0,
              "#0d0887"
             ],
             [
              0.1111111111111111,
              "#46039f"
             ],
             [
              0.2222222222222222,
              "#7201a8"
             ],
             [
              0.3333333333333333,
              "#9c179e"
             ],
             [
              0.4444444444444444,
              "#bd3786"
             ],
             [
              0.5555555555555556,
              "#d8576b"
             ],
             [
              0.6666666666666666,
              "#ed7953"
             ],
             [
              0.7777777777777778,
              "#fb9f3a"
             ],
             [
              0.8888888888888888,
              "#fdca26"
             ],
             [
              1.0,
              "#f0f921"
             ]
            ]
           }
          ],
          "surface": [
           {
            "type": "surface",
            "colorbar": {
             "outlinewidth": 0,
             "ticks": ""
            },
            "colorscale": [
             [
              0.0,
              "#0d0887"
             ],
             [
              0.1111111111111111,
              "#46039f"
             ],
             [
              0.2222222222222222,
              "#7201a8"
             ],
             [
              0.3333333333333333,
              "#9c179e"
             ],
             [
              0.4444444444444444,
              "#bd3786"
             ],
             [
              0.5555555555555556,
              "#d8576b"
             ],
             [
              0.6666666666666666,
              "#ed7953"
             ],
             [
              0.7777777777777778,
              "#fb9f3a"
             ],
             [
              0.8888888888888888,
              "#fdca26"
             ],
             [
              1.0,
              "#f0f921"
             ]
            ]
           }
          ],
          "mesh3d": [
           {
            "type": "mesh3d",
            "colorbar": {
             "outlinewidth": 0,
             "ticks": ""
            }
           }
          ],
          "scatter": [
           {
            "fillpattern": {
             "fillmode": "overlay",
             "size": 10,
             "solidity": 0.2
            },
            "type": "scatter"
           }
          ],
          "parcoords": [
           {
            "type": "parcoords",
            "line": {
             "colorbar": {
              "outlinewidth": 0,
              "ticks": ""
             }
            }
           }
          ],
          "scatterpolargl": [
           {
            "type": "scatterpolargl",
            "marker": {
             "colorbar": {
              "outlinewidth": 0,
              "ticks": ""
             }
            }
           }
          ],
          "bar": [
           {
            "error_x": {
             "color": "#2a3f5f"
            },
            "error_y": {
             "color": "#2a3f5f"
            },
            "marker": {
             "line": {
              "color": "#E5ECF6",
              "width": 0.5
             },
             "pattern": {
              "fillmode": "overlay",
              "size": 10,
              "solidity": 0.2
             }
            },
            "type": "bar"
           }
          ],
          "scattergeo": [
           {
            "type": "scattergeo",
            "marker": {
             "colorbar": {
              "outlinewidth": 0,
              "ticks": ""
             }
            }
           }
          ],
          "scatterpolar": [
           {
            "type": "scatterpolar",
            "marker": {
             "colorbar": {
              "outlinewidth": 0,
              "ticks": ""
             }
            }
           }
          ],
          "histogram": [
           {
            "marker": {
             "pattern": {
              "fillmode": "overlay",
              "size": 10,
              "solidity": 0.2
             }
            },
            "type": "histogram"
           }
          ],
          "scattergl": [
           {
            "type": "scattergl",
            "marker": {
             "colorbar": {
              "outlinewidth": 0,
              "ticks": ""
             }
            }
           }
          ],
          "scatter3d": [
           {
            "type": "scatter3d",
            "line": {
             "colorbar": {
              "outlinewidth": 0,
              "ticks": ""
             }
            },
            "marker": {
             "colorbar": {
              "outlinewidth": 0,
              "ticks": ""
             }
            }
           }
          ],
          "scattermapbox": [
           {
            "type": "scattermapbox",
            "marker": {
             "colorbar": {
              "outlinewidth": 0,
              "ticks": ""
             }
            }
           }
          ],
          "scatterternary": [
           {
            "type": "scatterternary",
            "marker": {
             "colorbar": {
              "outlinewidth": 0,
              "ticks": ""
             }
            }
           }
          ],
          "scattercarpet": [
           {
            "type": "scattercarpet",
            "marker": {
             "colorbar": {
              "outlinewidth": 0,
              "ticks": ""
             }
            }
           }
          ],
          "carpet": [
           {
            "aaxis": {
             "endlinecolor": "#2a3f5f",
             "gridcolor": "white",
             "linecolor": "white",
             "minorgridcolor": "white",
             "startlinecolor": "#2a3f5f"
            },
            "baxis": {
             "endlinecolor": "#2a3f5f",
             "gridcolor": "white",
             "linecolor": "white",
             "minorgridcolor": "white",
             "startlinecolor": "#2a3f5f"
            },
            "type": "carpet"
           }
          ],
          "table": [
           {
            "cells": {
             "fill": {
              "color": "#EBF0F8"
             },
             "line": {
              "color": "white"
             }
            },
            "header": {
             "fill": {
              "color": "#C8D4E3"
             },
             "line": {
              "color": "white"
             }
            },
            "type": "table"
           }
          ],
          "barpolar": [
           {
            "marker": {
             "line": {
              "color": "#E5ECF6",
              "width": 0.5
             },
             "pattern": {
              "fillmode": "overlay",
              "size": 10,
              "solidity": 0.2
             }
            },
            "type": "barpolar"
           }
          ],
          "pie": [
           {
            "automargin": true,
            "type": "pie"
           }
          ]
         },
         "layout": {
          "autotypenumbers": "strict",
          "colorway": [
           "#636efa",
           "#EF553B",
           "#00cc96",
           "#ab63fa",
           "#FFA15A",
           "#19d3f3",
           "#FF6692",
           "#B6E880",
           "#FF97FF",
           "#FECB52"
          ],
          "font": {
           "color": "#2a3f5f"
          },
          "hovermode": "closest",
          "hoverlabel": {
           "align": "left"
          },
          "paper_bgcolor": "white",
          "plot_bgcolor": "#E5ECF6",
          "polar": {
           "bgcolor": "#E5ECF6",
           "angularaxis": {
            "gridcolor": "white",
            "linecolor": "white",
            "ticks": ""
           },
           "radialaxis": {
            "gridcolor": "white",
            "linecolor": "white",
            "ticks": ""
           }
          },
          "ternary": {
           "bgcolor": "#E5ECF6",
           "aaxis": {
            "gridcolor": "white",
            "linecolor": "white",
            "ticks": ""
           },
           "baxis": {
            "gridcolor": "white",
            "linecolor": "white",
            "ticks": ""
           },
           "caxis": {
            "gridcolor": "white",
            "linecolor": "white",
            "ticks": ""
           }
          },
          "coloraxis": {
           "colorbar": {
            "outlinewidth": 0,
            "ticks": ""
           }
          },
          "colorscale": {
           "sequential": [
            [
             0.0,
             "#0d0887"
            ],
            [
             0.1111111111111111,
             "#46039f"
            ],
            [
             0.2222222222222222,
             "#7201a8"
            ],
            [
             0.3333333333333333,
             "#9c179e"
            ],
            [
             0.4444444444444444,
             "#bd3786"
            ],
            [
             0.5555555555555556,
             "#d8576b"
            ],
            [
             0.6666666666666666,
             "#ed7953"
            ],
            [
             0.7777777777777778,
             "#fb9f3a"
            ],
            [
             0.8888888888888888,
             "#fdca26"
            ],
            [
             1.0,
             "#f0f921"
            ]
           ],
           "sequentialminus": [
            [
             0.0,
             "#0d0887"
            ],
            [
             0.1111111111111111,
             "#46039f"
            ],
            [
             0.2222222222222222,
             "#7201a8"
            ],
            [
             0.3333333333333333,
             "#9c179e"
            ],
            [
             0.4444444444444444,
             "#bd3786"
            ],
            [
             0.5555555555555556,
             "#d8576b"
            ],
            [
             0.6666666666666666,
             "#ed7953"
            ],
            [
             0.7777777777777778,
             "#fb9f3a"
            ],
            [
             0.8888888888888888,
             "#fdca26"
            ],
            [
             1.0,
             "#f0f921"
            ]
           ],
           "diverging": [
            [
             0,
             "#8e0152"
            ],
            [
             0.1,
             "#c51b7d"
            ],
            [
             0.2,
             "#de77ae"
            ],
            [
             0.3,
             "#f1b6da"
            ],
            [
             0.4,
             "#fde0ef"
            ],
            [
             0.5,
             "#f7f7f7"
            ],
            [
             0.6,
             "#e6f5d0"
            ],
            [
             0.7,
             "#b8e186"
            ],
            [
             0.8,
             "#7fbc41"
            ],
            [
             0.9,
             "#4d9221"
            ],
            [
             1,
             "#276419"
            ]
           ]
          },
          "xaxis": {
           "gridcolor": "white",
           "linecolor": "white",
           "ticks": "",
           "title": {
            "standoff": 15
           },
           "zerolinecolor": "white",
           "automargin": true,
           "zerolinewidth": 2
          },
          "yaxis": {
           "gridcolor": "white",
           "linecolor": "white",
           "ticks": "",
           "title": {
            "standoff": 15
           },
           "zerolinecolor": "white",
           "automargin": true,
           "zerolinewidth": 2
          },
          "scene": {
           "xaxis": {
            "backgroundcolor": "#E5ECF6",
            "gridcolor": "white",
            "linecolor": "white",
            "showbackground": true,
            "ticks": "",
            "zerolinecolor": "white",
            "gridwidth": 2
           },
           "yaxis": {
            "backgroundcolor": "#E5ECF6",
            "gridcolor": "white",
            "linecolor": "white",
            "showbackground": true,
            "ticks": "",
            "zerolinecolor": "white",
            "gridwidth": 2
           },
           "zaxis": {
            "backgroundcolor": "#E5ECF6",
            "gridcolor": "white",
            "linecolor": "white",
            "showbackground": true,
            "ticks": "",
            "zerolinecolor": "white",
            "gridwidth": 2
           }
          },
          "shapedefaults": {
           "line": {
            "color": "#2a3f5f"
           }
          },
          "annotationdefaults": {
           "arrowcolor": "#2a3f5f",
           "arrowhead": 0,
           "arrowwidth": 1
          },
          "geo": {
           "bgcolor": "white",
           "landcolor": "#E5ECF6",
           "subunitcolor": "white",
           "showland": true,
           "showlakes": true,
           "lakecolor": "white"
          },
          "title": {
           "x": 0.05
          },
          "mapbox": {
           "style": "light"
          }
         }
        },
        "xaxis": {
         "anchor": "y",
         "domain": [
          0.0,
          1.0
         ],
         "title": {
          "text": "Value"
         }
        },
        "yaxis": {
         "anchor": "x",
         "domain": [
          0.0,
          1.0
         ],
         "title": {
          "text": "Metric"
         }
        },
        "coloraxis": {
         "colorbar": {
          "title": {
           "text": "Value"
          }
         },
         "colorscale": [
          [
           0.0,
           "#440154"
          ],
          [
           0.1111111111111111,
           "#482878"
          ],
          [
           0.2222222222222222,
           "#3e4989"
          ],
          [
           0.3333333333333333,
           "#31688e"
          ],
          [
           0.4444444444444444,
           "#26828e"
          ],
          [
           0.5555555555555556,
           "#1f9e89"
          ],
          [
           0.6666666666666666,
           "#35b779"
          ],
          [
           0.7777777777777778,
           "#6ece58"
          ],
          [
           0.8888888888888888,
           "#b5de2b"
          ],
          [
           1.0,
           "#fde725"
          ]
         ]
        },
        "legend": {
         "tracegroupgap": 0,
         "itemsizing": "constant"
        },
        "margin": {
         "t": 60
        },
        "title": {
         "text": "Evaluation Metrics Dot Plot"
        }
       },
       "config": {
        "plotlyServerURL": "https://plot.ly"
       }
      },
      "text/html": [
       "<div>                            <div id=\"df6f2c17-a549-4885-bbe3-c94cb22a3c30\" class=\"plotly-graph-div\" style=\"height:525px; width:100%;\"></div>            <script type=\"text/javascript\">                require([\"plotly\"], function(Plotly) {                    window.PLOTLYENV=window.PLOTLYENV || {};                                    if (document.getElementById(\"df6f2c17-a549-4885-bbe3-c94cb22a3c30\")) {                    Plotly.newPlot(                        \"df6f2c17-a549-4885-bbe3-c94cb22a3c30\",                        [{\"hovertemplate\":\"Value=%{marker.color}\\u003cbr\\u003eMetric=%{y}\\u003cextra\\u003e\\u003c\\u002fextra\\u003e\",\"legendgroup\":\"\",\"marker\":{\"color\":[0.5555555555555556,1.0,0.0,0.8,0.0,0.0,0.6495616879278017,0.7740253260379719,0.706328937705019,0.11674985327973864],\"coloraxis\":\"coloraxis\",\"size\":[0.5555555555555556,1.0,0.0,0.8,0.0,0.0,0.6495616879278017,0.7740253260379719,0.706328937705019,0.11674985327973864],\"sizemode\":\"area\",\"sizeref\":0.0025,\"symbol\":\"circle\"},\"mode\":\"markers\",\"name\":\"\",\"orientation\":\"h\",\"showlegend\":false,\"x\":[0.5555555555555556,1.0,0.0,0.8,0.0,0.0,0.6495616879278017,0.7740253260379719,0.706328937705019,0.11674985327973864],\"xaxis\":\"x\",\"y\":[\"Faithfulness\",\"AnswerRelevancy\",\"Bias\",\"Hallucination\",\"KnowledgeRetention\",\"Toxicity\",\"precision\",\"recall\",\"f1_score\",\"BLEU\"],\"yaxis\":\"y\",\"type\":\"scatter\"}],                        {\"template\":{\"data\":{\"histogram2dcontour\":[{\"type\":\"histogram2dcontour\",\"colorbar\":{\"outlinewidth\":0,\"ticks\":\"\"},\"colorscale\":[[0.0,\"#0d0887\"],[0.1111111111111111,\"#46039f\"],[0.2222222222222222,\"#7201a8\"],[0.3333333333333333,\"#9c179e\"],[0.4444444444444444,\"#bd3786\"],[0.5555555555555556,\"#d8576b\"],[0.6666666666666666,\"#ed7953\"],[0.7777777777777778,\"#fb9f3a\"],[0.8888888888888888,\"#fdca26\"],[1.0,\"#f0f921\"]]}],\"choropleth\":[{\"type\":\"choropleth\",\"colorbar\":{\"outlinewidth\":0,\"ticks\":\"\"}}],\"histogram2d\":[{\"type\":\"histogram2d\",\"colorbar\":{\"outlinewidth\":0,\"ticks\":\"\"},\"colorscale\":[[0.0,\"#0d0887\"],[0.1111111111111111,\"#46039f\"],[0.2222222222222222,\"#7201a8\"],[0.3333333333333333,\"#9c179e\"],[0.4444444444444444,\"#bd3786\"],[0.5555555555555556,\"#d8576b\"],[0.6666666666666666,\"#ed7953\"],[0.7777777777777778,\"#fb9f3a\"],[0.8888888888888888,\"#fdca26\"],[1.0,\"#f0f921\"]]}],\"heatmap\":[{\"type\":\"heatmap\",\"colorbar\":{\"outlinewidth\":0,\"ticks\":\"\"},\"colorscale\":[[0.0,\"#0d0887\"],[0.1111111111111111,\"#46039f\"],[0.2222222222222222,\"#7201a8\"],[0.3333333333333333,\"#9c179e\"],[0.4444444444444444,\"#bd3786\"],[0.5555555555555556,\"#d8576b\"],[0.6666666666666666,\"#ed7953\"],[0.7777777777777778,\"#fb9f3a\"],[0.8888888888888888,\"#fdca26\"],[1.0,\"#f0f921\"]]}],\"heatmapgl\":[{\"type\":\"heatmapgl\",\"colorbar\":{\"outlinewidth\":0,\"ticks\":\"\"},\"colorscale\":[[0.0,\"#0d0887\"],[0.1111111111111111,\"#46039f\"],[0.2222222222222222,\"#7201a8\"],[0.3333333333333333,\"#9c179e\"],[0.4444444444444444,\"#bd3786\"],[0.5555555555555556,\"#d8576b\"],[0.6666666666666666,\"#ed7953\"],[0.7777777777777778,\"#fb9f3a\"],[0.8888888888888888,\"#fdca26\"],[1.0,\"#f0f921\"]]}],\"contourcarpet\":[{\"type\":\"contourcarpet\",\"colorbar\":{\"outlinewidth\":0,\"ticks\":\"\"}}],\"contour\":[{\"type\":\"contour\",\"colorbar\":{\"outlinewidth\":0,\"ticks\":\"\"},\"colorscale\":[[0.0,\"#0d0887\"],[0.1111111111111111,\"#46039f\"],[0.2222222222222222,\"#7201a8\"],[0.3333333333333333,\"#9c179e\"],[0.4444444444444444,\"#bd3786\"],[0.5555555555555556,\"#d8576b\"],[0.6666666666666666,\"#ed7953\"],[0.7777777777777778,\"#fb9f3a\"],[0.8888888888888888,\"#fdca26\"],[1.0,\"#f0f921\"]]}],\"surface\":[{\"type\":\"surface\",\"colorbar\":{\"outlinewidth\":0,\"ticks\":\"\"},\"colorscale\":[[0.0,\"#0d0887\"],[0.1111111111111111,\"#46039f\"],[0.2222222222222222,\"#7201a8\"],[0.3333333333333333,\"#9c179e\"],[0.4444444444444444,\"#bd3786\"],[0.5555555555555556,\"#d8576b\"],[0.6666666666666666,\"#ed7953\"],[0.7777777777777778,\"#fb9f3a\"],[0.8888888888888888,\"#fdca26\"],[1.0,\"#f0f921\"]]}],\"mesh3d\":[{\"type\":\"mesh3d\",\"colorbar\":{\"outlinewidth\":0,\"ticks\":\"\"}}],\"scatter\":[{\"fillpattern\":{\"fillmode\":\"overlay\",\"size\":10,\"solidity\":0.2},\"type\":\"scatter\"}],\"parcoords\":[{\"type\":\"parcoords\",\"line\":{\"colorbar\":{\"outlinewidth\":0,\"ticks\":\"\"}}}],\"scatterpolargl\":[{\"type\":\"scatterpolargl\",\"marker\":{\"colorbar\":{\"outlinewidth\":0,\"ticks\":\"\"}}}],\"bar\":[{\"error_x\":{\"color\":\"#2a3f5f\"},\"error_y\":{\"color\":\"#2a3f5f\"},\"marker\":{\"line\":{\"color\":\"#E5ECF6\",\"width\":0.5},\"pattern\":{\"fillmode\":\"overlay\",\"size\":10,\"solidity\":0.2}},\"type\":\"bar\"}],\"scattergeo\":[{\"type\":\"scattergeo\",\"marker\":{\"colorbar\":{\"outlinewidth\":0,\"ticks\":\"\"}}}],\"scatterpolar\":[{\"type\":\"scatterpolar\",\"marker\":{\"colorbar\":{\"outlinewidth\":0,\"ticks\":\"\"}}}],\"histogram\":[{\"marker\":{\"pattern\":{\"fillmode\":\"overlay\",\"size\":10,\"solidity\":0.2}},\"type\":\"histogram\"}],\"scattergl\":[{\"type\":\"scattergl\",\"marker\":{\"colorbar\":{\"outlinewidth\":0,\"ticks\":\"\"}}}],\"scatter3d\":[{\"type\":\"scatter3d\",\"line\":{\"colorbar\":{\"outlinewidth\":0,\"ticks\":\"\"}},\"marker\":{\"colorbar\":{\"outlinewidth\":0,\"ticks\":\"\"}}}],\"scattermapbox\":[{\"type\":\"scattermapbox\",\"marker\":{\"colorbar\":{\"outlinewidth\":0,\"ticks\":\"\"}}}],\"scatterternary\":[{\"type\":\"scatterternary\",\"marker\":{\"colorbar\":{\"outlinewidth\":0,\"ticks\":\"\"}}}],\"scattercarpet\":[{\"type\":\"scattercarpet\",\"marker\":{\"colorbar\":{\"outlinewidth\":0,\"ticks\":\"\"}}}],\"carpet\":[{\"aaxis\":{\"endlinecolor\":\"#2a3f5f\",\"gridcolor\":\"white\",\"linecolor\":\"white\",\"minorgridcolor\":\"white\",\"startlinecolor\":\"#2a3f5f\"},\"baxis\":{\"endlinecolor\":\"#2a3f5f\",\"gridcolor\":\"white\",\"linecolor\":\"white\",\"minorgridcolor\":\"white\",\"startlinecolor\":\"#2a3f5f\"},\"type\":\"carpet\"}],\"table\":[{\"cells\":{\"fill\":{\"color\":\"#EBF0F8\"},\"line\":{\"color\":\"white\"}},\"header\":{\"fill\":{\"color\":\"#C8D4E3\"},\"line\":{\"color\":\"white\"}},\"type\":\"table\"}],\"barpolar\":[{\"marker\":{\"line\":{\"color\":\"#E5ECF6\",\"width\":0.5},\"pattern\":{\"fillmode\":\"overlay\",\"size\":10,\"solidity\":0.2}},\"type\":\"barpolar\"}],\"pie\":[{\"automargin\":true,\"type\":\"pie\"}]},\"layout\":{\"autotypenumbers\":\"strict\",\"colorway\":[\"#636efa\",\"#EF553B\",\"#00cc96\",\"#ab63fa\",\"#FFA15A\",\"#19d3f3\",\"#FF6692\",\"#B6E880\",\"#FF97FF\",\"#FECB52\"],\"font\":{\"color\":\"#2a3f5f\"},\"hovermode\":\"closest\",\"hoverlabel\":{\"align\":\"left\"},\"paper_bgcolor\":\"white\",\"plot_bgcolor\":\"#E5ECF6\",\"polar\":{\"bgcolor\":\"#E5ECF6\",\"angularaxis\":{\"gridcolor\":\"white\",\"linecolor\":\"white\",\"ticks\":\"\"},\"radialaxis\":{\"gridcolor\":\"white\",\"linecolor\":\"white\",\"ticks\":\"\"}},\"ternary\":{\"bgcolor\":\"#E5ECF6\",\"aaxis\":{\"gridcolor\":\"white\",\"linecolor\":\"white\",\"ticks\":\"\"},\"baxis\":{\"gridcolor\":\"white\",\"linecolor\":\"white\",\"ticks\":\"\"},\"caxis\":{\"gridcolor\":\"white\",\"linecolor\":\"white\",\"ticks\":\"\"}},\"coloraxis\":{\"colorbar\":{\"outlinewidth\":0,\"ticks\":\"\"}},\"colorscale\":{\"sequential\":[[0.0,\"#0d0887\"],[0.1111111111111111,\"#46039f\"],[0.2222222222222222,\"#7201a8\"],[0.3333333333333333,\"#9c179e\"],[0.4444444444444444,\"#bd3786\"],[0.5555555555555556,\"#d8576b\"],[0.6666666666666666,\"#ed7953\"],[0.7777777777777778,\"#fb9f3a\"],[0.8888888888888888,\"#fdca26\"],[1.0,\"#f0f921\"]],\"sequentialminus\":[[0.0,\"#0d0887\"],[0.1111111111111111,\"#46039f\"],[0.2222222222222222,\"#7201a8\"],[0.3333333333333333,\"#9c179e\"],[0.4444444444444444,\"#bd3786\"],[0.5555555555555556,\"#d8576b\"],[0.6666666666666666,\"#ed7953\"],[0.7777777777777778,\"#fb9f3a\"],[0.8888888888888888,\"#fdca26\"],[1.0,\"#f0f921\"]],\"diverging\":[[0,\"#8e0152\"],[0.1,\"#c51b7d\"],[0.2,\"#de77ae\"],[0.3,\"#f1b6da\"],[0.4,\"#fde0ef\"],[0.5,\"#f7f7f7\"],[0.6,\"#e6f5d0\"],[0.7,\"#b8e186\"],[0.8,\"#7fbc41\"],[0.9,\"#4d9221\"],[1,\"#276419\"]]},\"xaxis\":{\"gridcolor\":\"white\",\"linecolor\":\"white\",\"ticks\":\"\",\"title\":{\"standoff\":15},\"zerolinecolor\":\"white\",\"automargin\":true,\"zerolinewidth\":2},\"yaxis\":{\"gridcolor\":\"white\",\"linecolor\":\"white\",\"ticks\":\"\",\"title\":{\"standoff\":15},\"zerolinecolor\":\"white\",\"automargin\":true,\"zerolinewidth\":2},\"scene\":{\"xaxis\":{\"backgroundcolor\":\"#E5ECF6\",\"gridcolor\":\"white\",\"linecolor\":\"white\",\"showbackground\":true,\"ticks\":\"\",\"zerolinecolor\":\"white\",\"gridwidth\":2},\"yaxis\":{\"backgroundcolor\":\"#E5ECF6\",\"gridcolor\":\"white\",\"linecolor\":\"white\",\"showbackground\":true,\"ticks\":\"\",\"zerolinecolor\":\"white\",\"gridwidth\":2},\"zaxis\":{\"backgroundcolor\":\"#E5ECF6\",\"gridcolor\":\"white\",\"linecolor\":\"white\",\"showbackground\":true,\"ticks\":\"\",\"zerolinecolor\":\"white\",\"gridwidth\":2}},\"shapedefaults\":{\"line\":{\"color\":\"#2a3f5f\"}},\"annotationdefaults\":{\"arrowcolor\":\"#2a3f5f\",\"arrowhead\":0,\"arrowwidth\":1},\"geo\":{\"bgcolor\":\"white\",\"landcolor\":\"#E5ECF6\",\"subunitcolor\":\"white\",\"showland\":true,\"showlakes\":true,\"lakecolor\":\"white\"},\"title\":{\"x\":0.05},\"mapbox\":{\"style\":\"light\"}}},\"xaxis\":{\"anchor\":\"y\",\"domain\":[0.0,1.0],\"title\":{\"text\":\"Value\"}},\"yaxis\":{\"anchor\":\"x\",\"domain\":[0.0,1.0],\"title\":{\"text\":\"Metric\"}},\"coloraxis\":{\"colorbar\":{\"title\":{\"text\":\"Value\"}},\"colorscale\":[[0.0,\"#440154\"],[0.1111111111111111,\"#482878\"],[0.2222222222222222,\"#3e4989\"],[0.3333333333333333,\"#31688e\"],[0.4444444444444444,\"#26828e\"],[0.5555555555555556,\"#1f9e89\"],[0.6666666666666666,\"#35b779\"],[0.7777777777777778,\"#6ece58\"],[0.8888888888888888,\"#b5de2b\"],[1.0,\"#fde725\"]]},\"legend\":{\"tracegroupgap\":0,\"itemsizing\":\"constant\"},\"margin\":{\"t\":60},\"title\":{\"text\":\"Evaluation Metrics Dot Plot\"}},                        {\"responsive\": true}                    ).then(function(){\n",
       "                            \n",
       "var gd = document.getElementById('df6f2c17-a549-4885-bbe3-c94cb22a3c30');\n",
       "var x = new MutationObserver(function (mutations, observer) {{\n",
       "        var display = window.getComputedStyle(gd).display;\n",
       "        if (!display || display === 'none') {{\n",
       "            console.log([gd, 'removed!']);\n",
       "            Plotly.purge(gd);\n",
       "            observer.disconnect();\n",
       "        }}\n",
       "}});\n",
       "\n",
       "// Listen for the removal of the full notebook cells\n",
       "var notebookContainer = gd.closest('#notebook-container');\n",
       "if (notebookContainer) {{\n",
       "    x.observe(notebookContainer, {childList: true});\n",
       "}}\n",
       "\n",
       "// Listen for the clearing of the current output cell\n",
       "var outputEl = gd.closest('.output');\n",
       "if (outputEl) {{\n",
       "    x.observe(outputEl, {childList: true});\n",
       "}}\n",
       "\n",
       "                        })                };                });            </script>        </div>"
      ]
     },
     "metadata": {},
     "output_type": "display_data"
    }
   ],
   "execution_count": 45
  },
  {
   "metadata": {
    "ExecuteTime": {
     "end_time": "2024-08-03T16:49:32.822477Z",
     "start_time": "2024-08-03T16:49:32.693629Z"
    }
   },
   "cell_type": "code",
   "source": [
    "import plotly.graph_objects as go\n",
    "import plotly.express as px\n",
    "import pandas as pd\n",
    "from plotly.subplots import make_subplots\n",
    "\n",
    "class MetricsVisualizer:\n",
    "    def __init__(self, metrics):\n",
    "        self.metrics = metrics\n",
    "\n",
    "    def create_radar_chart(self):\n",
    "        \"\"\"\n",
    "        Creates a radar chart using the provided metrics, excluding any metrics with a value of 0.\n",
    "        Returns the radar chart figure.\n",
    "        \"\"\"\n",
    "        filtered_metrics = {k: v for k, v in self.metrics.items() if v != 0}\n",
    "        labels = list(filtered_metrics.keys())\n",
    "        values = list(filtered_metrics.values())\n",
    "        values += values[:1]\n",
    "        labels += labels[:1]\n",
    "\n",
    "        fig = go.Figure(\n",
    "            data=[\n",
    "                go.Scatterpolar(\n",
    "                    r=values,\n",
    "                    theta=labels,\n",
    "                    fill='toself',\n",
    "                    name='Metrics'\n",
    "                )\n",
    "            ],\n",
    "            layout=go.Layout(\n",
    "                title='Evaluation Metrics Radar Chart',\n",
    "                polar=dict(\n",
    "                    radialaxis=dict(\n",
    "                        visible=True,\n",
    "                        range=[0, 1]\n",
    "                    )\n",
    "                ),\n",
    "                showlegend=False\n",
    "            )\n",
    "        )\n",
    "        return fig\n",
    "\n",
    "    def create_metrics_barchart(self):\n",
    "        \"\"\"\n",
    "        Create a bar chart for given metrics.\n",
    "        Returns the bar chart figure.\n",
    "        \"\"\"\n",
    "        fig = go.Figure(data=[\n",
    "            go.Bar(\n",
    "                x=list(self.metrics.keys()),\n",
    "                y=list(self.metrics.values()),\n",
    "                text=list(self.metrics.values()),\n",
    "                textposition='auto',\n",
    "                hoverinfo='x+y',\n",
    "                marker_color='skyblue'\n",
    "            )\n",
    "        ])\n",
    "\n",
    "        fig.update_layout(\n",
    "            title='Evaluation Metrics',\n",
    "            xaxis_title='Metrics',\n",
    "            yaxis_title='Values',\n",
    "            xaxis_tickangle=-45\n",
    "        )\n",
    "        return fig\n",
    "\n",
    "    def create_beautiful_gauge_chart(self, score):\n",
    "        \"\"\"\n",
    "        Create a beautiful gauge chart for a given score.\n",
    "        Returns the gauge chart figure.\n",
    "        \"\"\"\n",
    "        fig = go.Figure(go.Indicator(\n",
    "            mode=\"gauge+number+delta\",\n",
    "            value=score,\n",
    "            title={'text': \"Evaluation Score\", 'font': {'size': 24}},\n",
    "            delta={'reference': 0.5, 'increasing': {'color': \"green\"}},\n",
    "            gauge={\n",
    "                'axis': {'range': [0, 1], 'tickwidth': 1, 'tickcolor': \"darkblue\"},\n",
    "                'bar': {'color': \"darkblue\"},\n",
    "                'bgcolor': \"white\",\n",
    "                'borderwidth': 2,\n",
    "                'bordercolor': \"gray\",\n",
    "                'steps': [\n",
    "                    {'range': [0, 0.2], 'color': \"red\"},\n",
    "                    {'range': [0.2, 0.4], 'color': \"orange\"},\n",
    "                    {'range': [0.4, 0.6], 'color': \"yellow\"},\n",
    "                    {'range': [0.6, 0.8], 'color': \"lightgreen\"},\n",
    "                    {'range': [0.8, 1], 'color': \"green\"}],\n",
    "                'threshold': {\n",
    "                    'line': {'color': \"black\", 'width': 4},\n",
    "                    'thickness': 0.75,\n",
    "                    'value': score}\n",
    "            }\n",
    "        ))\n",
    "\n",
    "        fig.update_layout(\n",
    "            title='Overall Evaluation Score',\n",
    "            font={'color': \"darkblue\", 'family': \"Arial\"},\n",
    "            paper_bgcolor=\"lightgrey\",\n",
    "            plot_bgcolor=\"lightgrey\",\n",
    "        )\n",
    "        return fig\n",
    "\n",
    "    def create_dot_plot(self):\n",
    "        \"\"\"\n",
    "        Create a dot plot for given metrics.\n",
    "        Returns the dot plot figure.\n",
    "        \"\"\"\n",
    "        df = pd.DataFrame(list(self.metrics.items()), columns=['Metric', 'Value'])\n",
    "        fig = px.scatter(df, x='Value', y='Metric', size='Value', color='Value', color_continuous_scale='Viridis')\n",
    "\n",
    "        fig.update_layout(\n",
    "            title='Evaluation Metrics Dot Plot',\n",
    "            xaxis_title='Value',\n",
    "            yaxis_title='Metric'\n",
    "        )\n",
    "        return fig\n",
    "\n",
    "    def create_tabs(self, score):\n",
    "        \"\"\"\n",
    "        Create tabs for all plots.\n",
    "        Returns a figure with tabs.\n",
    "        \"\"\"\n",
    "        radar_chart = self.create_radar_chart()\n",
    "        bar_chart = self.create_metrics_barchart()\n",
    "        dot_plot = self.create_dot_plot()\n",
    "        gauge_chart = self.create_beautiful_gauge_chart(score)\n",
    "\n",
    "        fig = make_subplots(\n",
    "            rows=2, cols=2,\n",
    "            subplot_titles=(\"Radar Chart\", \"Bar Chart\", \"Dot Plot\", \"Gauge Chart\"),\n",
    "            specs=[[{\"type\": \"polar\"}, {\"type\": \"xy\"}], [{\"type\": \"xy\"}, {\"type\": \"indicator\"}]]\n",
    "        )\n",
    "\n",
    "        for trace in radar_chart.data:\n",
    "            fig.add_trace(trace, row=1, col=1)\n",
    "        for trace in bar_chart.data:\n",
    "            fig.add_trace(trace, row=1, col=2)\n",
    "        for trace in dot_plot.data:\n",
    "            fig.add_trace(trace, row=2, col=1)\n",
    "        for trace in gauge_chart.data:\n",
    "            fig.add_trace(trace, row=2, col=2)\n",
    "\n",
    "        fig.update_layout(height=800, width=1200, title_text=\"Evaluation Metrics Visualizations\")\n",
    "\n",
    "        return fig\n",
    "\n",
    "\n",
    "# Example usage\n",
    "metrics = {\n",
    "    'Faithfulness': 0.5555555555555556,\n",
    "    'AnswerRelevancy': 1.0,\n",
    "    'Bias': 0.0,\n",
    "    'Hallucination': 0.8,\n",
    "    'KnowledgeRetention': 0.0,\n",
    "    'Toxicity': 0.0,\n",
    "    'Precision': 0.6495616879278017,\n",
    "    'Recall': 0.7740253260379719,\n",
    "    'F1 Score': 0.706328937705019,\n",
    "    'BLEU': 0.11674985327973864\n",
    "}\n",
    "\n",
    "score = 0.75\n",
    "visualizer = MetricsVisualizer(metrics)\n",
    "fig = visualizer.create_tabs(score)\n",
    "fig.show()\n"
   ],
   "id": "dc50ccec64f55898",
   "outputs": [
    {
     "data": {
      "application/vnd.plotly.v1+json": {
       "data": [
        {
         "fill": "toself",
         "name": "Metrics",
         "r": [
          0.5555555555555556,
          1.0,
          0.8,
          0.6495616879278017,
          0.7740253260379719,
          0.706328937705019,
          0.11674985327973864,
          0.5555555555555556
         ],
         "theta": [
          "Faithfulness",
          "AnswerRelevancy",
          "Hallucination",
          "Precision",
          "Recall",
          "F1 Score",
          "BLEU",
          "Faithfulness"
         ],
         "type": "scatterpolar",
         "subplot": "polar"
        },
        {
         "hoverinfo": "x+y",
         "marker": {
          "color": "skyblue"
         },
         "text": [
          "0.5555555555555556",
          "1.0",
          "0.0",
          "0.8",
          "0.0",
          "0.0",
          "0.6495616879278017",
          "0.7740253260379719",
          "0.706328937705019",
          "0.11674985327973864"
         ],
         "textposition": "auto",
         "x": [
          "Faithfulness",
          "AnswerRelevancy",
          "Bias",
          "Hallucination",
          "KnowledgeRetention",
          "Toxicity",
          "Precision",
          "Recall",
          "F1 Score",
          "BLEU"
         ],
         "y": [
          0.5555555555555556,
          1.0,
          0.0,
          0.8,
          0.0,
          0.0,
          0.6495616879278017,
          0.7740253260379719,
          0.706328937705019,
          0.11674985327973864
         ],
         "type": "bar",
         "xaxis": "x",
         "yaxis": "y"
        },
        {
         "hovertemplate": "Value=%{marker.color}<br>Metric=%{y}<extra></extra>",
         "legendgroup": "",
         "marker": {
          "color": [
           0.5555555555555556,
           1.0,
           0.0,
           0.8,
           0.0,
           0.0,
           0.6495616879278017,
           0.7740253260379719,
           0.706328937705019,
           0.11674985327973864
          ],
          "coloraxis": "coloraxis",
          "size": [
           0.5555555555555556,
           1.0,
           0.0,
           0.8,
           0.0,
           0.0,
           0.6495616879278017,
           0.7740253260379719,
           0.706328937705019,
           0.11674985327973864
          ],
          "sizemode": "area",
          "sizeref": 0.0025,
          "symbol": "circle"
         },
         "mode": "markers",
         "name": "",
         "orientation": "h",
         "showlegend": false,
         "x": [
          0.5555555555555556,
          1.0,
          0.0,
          0.8,
          0.0,
          0.0,
          0.6495616879278017,
          0.7740253260379719,
          0.706328937705019,
          0.11674985327973864
         ],
         "xaxis": "x2",
         "y": [
          "Faithfulness",
          "AnswerRelevancy",
          "Bias",
          "Hallucination",
          "KnowledgeRetention",
          "Toxicity",
          "Precision",
          "Recall",
          "F1 Score",
          "BLEU"
         ],
         "yaxis": "y2",
         "type": "scatter"
        },
        {
         "delta": {
          "increasing": {
           "color": "green"
          },
          "reference": 0.5
         },
         "gauge": {
          "axis": {
           "range": [
            0,
            1
           ],
           "tickcolor": "darkblue",
           "tickwidth": 1
          },
          "bar": {
           "color": "darkblue"
          },
          "bgcolor": "white",
          "bordercolor": "gray",
          "borderwidth": 2,
          "steps": [
           {
            "color": "red",
            "range": [
             0,
             0.2
            ]
           },
           {
            "color": "orange",
            "range": [
             0.2,
             0.4
            ]
           },
           {
            "color": "yellow",
            "range": [
             0.4,
             0.6
            ]
           },
           {
            "color": "lightgreen",
            "range": [
             0.6,
             0.8
            ]
           },
           {
            "color": "green",
            "range": [
             0.8,
             1
            ]
           }
          ],
          "threshold": {
           "line": {
            "color": "black",
            "width": 4
           },
           "thickness": 0.75,
           "value": 0.75
          }
         },
         "mode": "gauge+number+delta",
         "title": {
          "font": {
           "size": 24
          },
          "text": "Evaluation Score"
         },
         "value": 0.75,
         "type": "indicator",
         "domain": {
          "x": [
           0.55,
           1.0
          ],
          "y": [
           0.0,
           0.375
          ]
         }
        }
       ],
       "layout": {
        "template": {
         "data": {
          "histogram2dcontour": [
           {
            "type": "histogram2dcontour",
            "colorbar": {
             "outlinewidth": 0,
             "ticks": ""
            },
            "colorscale": [
             [
              0.0,
              "#0d0887"
             ],
             [
              0.1111111111111111,
              "#46039f"
             ],
             [
              0.2222222222222222,
              "#7201a8"
             ],
             [
              0.3333333333333333,
              "#9c179e"
             ],
             [
              0.4444444444444444,
              "#bd3786"
             ],
             [
              0.5555555555555556,
              "#d8576b"
             ],
             [
              0.6666666666666666,
              "#ed7953"
             ],
             [
              0.7777777777777778,
              "#fb9f3a"
             ],
             [
              0.8888888888888888,
              "#fdca26"
             ],
             [
              1.0,
              "#f0f921"
             ]
            ]
           }
          ],
          "choropleth": [
           {
            "type": "choropleth",
            "colorbar": {
             "outlinewidth": 0,
             "ticks": ""
            }
           }
          ],
          "histogram2d": [
           {
            "type": "histogram2d",
            "colorbar": {
             "outlinewidth": 0,
             "ticks": ""
            },
            "colorscale": [
             [
              0.0,
              "#0d0887"
             ],
             [
              0.1111111111111111,
              "#46039f"
             ],
             [
              0.2222222222222222,
              "#7201a8"
             ],
             [
              0.3333333333333333,
              "#9c179e"
             ],
             [
              0.4444444444444444,
              "#bd3786"
             ],
             [
              0.5555555555555556,
              "#d8576b"
             ],
             [
              0.6666666666666666,
              "#ed7953"
             ],
             [
              0.7777777777777778,
              "#fb9f3a"
             ],
             [
              0.8888888888888888,
              "#fdca26"
             ],
             [
              1.0,
              "#f0f921"
             ]
            ]
           }
          ],
          "heatmap": [
           {
            "type": "heatmap",
            "colorbar": {
             "outlinewidth": 0,
             "ticks": ""
            },
            "colorscale": [
             [
              0.0,
              "#0d0887"
             ],
             [
              0.1111111111111111,
              "#46039f"
             ],
             [
              0.2222222222222222,
              "#7201a8"
             ],
             [
              0.3333333333333333,
              "#9c179e"
             ],
             [
              0.4444444444444444,
              "#bd3786"
             ],
             [
              0.5555555555555556,
              "#d8576b"
             ],
             [
              0.6666666666666666,
              "#ed7953"
             ],
             [
              0.7777777777777778,
              "#fb9f3a"
             ],
             [
              0.8888888888888888,
              "#fdca26"
             ],
             [
              1.0,
              "#f0f921"
             ]
            ]
           }
          ],
          "heatmapgl": [
           {
            "type": "heatmapgl",
            "colorbar": {
             "outlinewidth": 0,
             "ticks": ""
            },
            "colorscale": [
             [
              0.0,
              "#0d0887"
             ],
             [
              0.1111111111111111,
              "#46039f"
             ],
             [
              0.2222222222222222,
              "#7201a8"
             ],
             [
              0.3333333333333333,
              "#9c179e"
             ],
             [
              0.4444444444444444,
              "#bd3786"
             ],
             [
              0.5555555555555556,
              "#d8576b"
             ],
             [
              0.6666666666666666,
              "#ed7953"
             ],
             [
              0.7777777777777778,
              "#fb9f3a"
             ],
             [
              0.8888888888888888,
              "#fdca26"
             ],
             [
              1.0,
              "#f0f921"
             ]
            ]
           }
          ],
          "contourcarpet": [
           {
            "type": "contourcarpet",
            "colorbar": {
             "outlinewidth": 0,
             "ticks": ""
            }
           }
          ],
          "contour": [
           {
            "type": "contour",
            "colorbar": {
             "outlinewidth": 0,
             "ticks": ""
            },
            "colorscale": [
             [
              0.0,
              "#0d0887"
             ],
             [
              0.1111111111111111,
              "#46039f"
             ],
             [
              0.2222222222222222,
              "#7201a8"
             ],
             [
              0.3333333333333333,
              "#9c179e"
             ],
             [
              0.4444444444444444,
              "#bd3786"
             ],
             [
              0.5555555555555556,
              "#d8576b"
             ],
             [
              0.6666666666666666,
              "#ed7953"
             ],
             [
              0.7777777777777778,
              "#fb9f3a"
             ],
             [
              0.8888888888888888,
              "#fdca26"
             ],
             [
              1.0,
              "#f0f921"
             ]
            ]
           }
          ],
          "surface": [
           {
            "type": "surface",
            "colorbar": {
             "outlinewidth": 0,
             "ticks": ""
            },
            "colorscale": [
             [
              0.0,
              "#0d0887"
             ],
             [
              0.1111111111111111,
              "#46039f"
             ],
             [
              0.2222222222222222,
              "#7201a8"
             ],
             [
              0.3333333333333333,
              "#9c179e"
             ],
             [
              0.4444444444444444,
              "#bd3786"
             ],
             [
              0.5555555555555556,
              "#d8576b"
             ],
             [
              0.6666666666666666,
              "#ed7953"
             ],
             [
              0.7777777777777778,
              "#fb9f3a"
             ],
             [
              0.8888888888888888,
              "#fdca26"
             ],
             [
              1.0,
              "#f0f921"
             ]
            ]
           }
          ],
          "mesh3d": [
           {
            "type": "mesh3d",
            "colorbar": {
             "outlinewidth": 0,
             "ticks": ""
            }
           }
          ],
          "scatter": [
           {
            "fillpattern": {
             "fillmode": "overlay",
             "size": 10,
             "solidity": 0.2
            },
            "type": "scatter"
           }
          ],
          "parcoords": [
           {
            "type": "parcoords",
            "line": {
             "colorbar": {
              "outlinewidth": 0,
              "ticks": ""
             }
            }
           }
          ],
          "scatterpolargl": [
           {
            "type": "scatterpolargl",
            "marker": {
             "colorbar": {
              "outlinewidth": 0,
              "ticks": ""
             }
            }
           }
          ],
          "bar": [
           {
            "error_x": {
             "color": "#2a3f5f"
            },
            "error_y": {
             "color": "#2a3f5f"
            },
            "marker": {
             "line": {
              "color": "#E5ECF6",
              "width": 0.5
             },
             "pattern": {
              "fillmode": "overlay",
              "size": 10,
              "solidity": 0.2
             }
            },
            "type": "bar"
           }
          ],
          "scattergeo": [
           {
            "type": "scattergeo",
            "marker": {
             "colorbar": {
              "outlinewidth": 0,
              "ticks": ""
             }
            }
           }
          ],
          "scatterpolar": [
           {
            "type": "scatterpolar",
            "marker": {
             "colorbar": {
              "outlinewidth": 0,
              "ticks": ""
             }
            }
           }
          ],
          "histogram": [
           {
            "marker": {
             "pattern": {
              "fillmode": "overlay",
              "size": 10,
              "solidity": 0.2
             }
            },
            "type": "histogram"
           }
          ],
          "scattergl": [
           {
            "type": "scattergl",
            "marker": {
             "colorbar": {
              "outlinewidth": 0,
              "ticks": ""
             }
            }
           }
          ],
          "scatter3d": [
           {
            "type": "scatter3d",
            "line": {
             "colorbar": {
              "outlinewidth": 0,
              "ticks": ""
             }
            },
            "marker": {
             "colorbar": {
              "outlinewidth": 0,
              "ticks": ""
             }
            }
           }
          ],
          "scattermapbox": [
           {
            "type": "scattermapbox",
            "marker": {
             "colorbar": {
              "outlinewidth": 0,
              "ticks": ""
             }
            }
           }
          ],
          "scatterternary": [
           {
            "type": "scatterternary",
            "marker": {
             "colorbar": {
              "outlinewidth": 0,
              "ticks": ""
             }
            }
           }
          ],
          "scattercarpet": [
           {
            "type": "scattercarpet",
            "marker": {
             "colorbar": {
              "outlinewidth": 0,
              "ticks": ""
             }
            }
           }
          ],
          "carpet": [
           {
            "aaxis": {
             "endlinecolor": "#2a3f5f",
             "gridcolor": "white",
             "linecolor": "white",
             "minorgridcolor": "white",
             "startlinecolor": "#2a3f5f"
            },
            "baxis": {
             "endlinecolor": "#2a3f5f",
             "gridcolor": "white",
             "linecolor": "white",
             "minorgridcolor": "white",
             "startlinecolor": "#2a3f5f"
            },
            "type": "carpet"
           }
          ],
          "table": [
           {
            "cells": {
             "fill": {
              "color": "#EBF0F8"
             },
             "line": {
              "color": "white"
             }
            },
            "header": {
             "fill": {
              "color": "#C8D4E3"
             },
             "line": {
              "color": "white"
             }
            },
            "type": "table"
           }
          ],
          "barpolar": [
           {
            "marker": {
             "line": {
              "color": "#E5ECF6",
              "width": 0.5
             },
             "pattern": {
              "fillmode": "overlay",
              "size": 10,
              "solidity": 0.2
             }
            },
            "type": "barpolar"
           }
          ],
          "pie": [
           {
            "automargin": true,
            "type": "pie"
           }
          ]
         },
         "layout": {
          "autotypenumbers": "strict",
          "colorway": [
           "#636efa",
           "#EF553B",
           "#00cc96",
           "#ab63fa",
           "#FFA15A",
           "#19d3f3",
           "#FF6692",
           "#B6E880",
           "#FF97FF",
           "#FECB52"
          ],
          "font": {
           "color": "#2a3f5f"
          },
          "hovermode": "closest",
          "hoverlabel": {
           "align": "left"
          },
          "paper_bgcolor": "white",
          "plot_bgcolor": "#E5ECF6",
          "polar": {
           "bgcolor": "#E5ECF6",
           "angularaxis": {
            "gridcolor": "white",
            "linecolor": "white",
            "ticks": ""
           },
           "radialaxis": {
            "gridcolor": "white",
            "linecolor": "white",
            "ticks": ""
           }
          },
          "ternary": {
           "bgcolor": "#E5ECF6",
           "aaxis": {
            "gridcolor": "white",
            "linecolor": "white",
            "ticks": ""
           },
           "baxis": {
            "gridcolor": "white",
            "linecolor": "white",
            "ticks": ""
           },
           "caxis": {
            "gridcolor": "white",
            "linecolor": "white",
            "ticks": ""
           }
          },
          "coloraxis": {
           "colorbar": {
            "outlinewidth": 0,
            "ticks": ""
           }
          },
          "colorscale": {
           "sequential": [
            [
             0.0,
             "#0d0887"
            ],
            [
             0.1111111111111111,
             "#46039f"
            ],
            [
             0.2222222222222222,
             "#7201a8"
            ],
            [
             0.3333333333333333,
             "#9c179e"
            ],
            [
             0.4444444444444444,
             "#bd3786"
            ],
            [
             0.5555555555555556,
             "#d8576b"
            ],
            [
             0.6666666666666666,
             "#ed7953"
            ],
            [
             0.7777777777777778,
             "#fb9f3a"
            ],
            [
             0.8888888888888888,
             "#fdca26"
            ],
            [
             1.0,
             "#f0f921"
            ]
           ],
           "sequentialminus": [
            [
             0.0,
             "#0d0887"
            ],
            [
             0.1111111111111111,
             "#46039f"
            ],
            [
             0.2222222222222222,
             "#7201a8"
            ],
            [
             0.3333333333333333,
             "#9c179e"
            ],
            [
             0.4444444444444444,
             "#bd3786"
            ],
            [
             0.5555555555555556,
             "#d8576b"
            ],
            [
             0.6666666666666666,
             "#ed7953"
            ],
            [
             0.7777777777777778,
             "#fb9f3a"
            ],
            [
             0.8888888888888888,
             "#fdca26"
            ],
            [
             1.0,
             "#f0f921"
            ]
           ],
           "diverging": [
            [
             0,
             "#8e0152"
            ],
            [
             0.1,
             "#c51b7d"
            ],
            [
             0.2,
             "#de77ae"
            ],
            [
             0.3,
             "#f1b6da"
            ],
            [
             0.4,
             "#fde0ef"
            ],
            [
             0.5,
             "#f7f7f7"
            ],
            [
             0.6,
             "#e6f5d0"
            ],
            [
             0.7,
             "#b8e186"
            ],
            [
             0.8,
             "#7fbc41"
            ],
            [
             0.9,
             "#4d9221"
            ],
            [
             1,
             "#276419"
            ]
           ]
          },
          "xaxis": {
           "gridcolor": "white",
           "linecolor": "white",
           "ticks": "",
           "title": {
            "standoff": 15
           },
           "zerolinecolor": "white",
           "automargin": true,
           "zerolinewidth": 2
          },
          "yaxis": {
           "gridcolor": "white",
           "linecolor": "white",
           "ticks": "",
           "title": {
            "standoff": 15
           },
           "zerolinecolor": "white",
           "automargin": true,
           "zerolinewidth": 2
          },
          "scene": {
           "xaxis": {
            "backgroundcolor": "#E5ECF6",
            "gridcolor": "white",
            "linecolor": "white",
            "showbackground": true,
            "ticks": "",
            "zerolinecolor": "white",
            "gridwidth": 2
           },
           "yaxis": {
            "backgroundcolor": "#E5ECF6",
            "gridcolor": "white",
            "linecolor": "white",
            "showbackground": true,
            "ticks": "",
            "zerolinecolor": "white",
            "gridwidth": 2
           },
           "zaxis": {
            "backgroundcolor": "#E5ECF6",
            "gridcolor": "white",
            "linecolor": "white",
            "showbackground": true,
            "ticks": "",
            "zerolinecolor": "white",
            "gridwidth": 2
           }
          },
          "shapedefaults": {
           "line": {
            "color": "#2a3f5f"
           }
          },
          "annotationdefaults": {
           "arrowcolor": "#2a3f5f",
           "arrowhead": 0,
           "arrowwidth": 1
          },
          "geo": {
           "bgcolor": "white",
           "landcolor": "#E5ECF6",
           "subunitcolor": "white",
           "showland": true,
           "showlakes": true,
           "lakecolor": "white"
          },
          "title": {
           "x": 0.05
          },
          "mapbox": {
           "style": "light"
          }
         }
        },
        "polar": {
         "domain": {
          "x": [
           0.0,
           0.45
          ],
          "y": [
           0.625,
           1.0
          ]
         }
        },
        "xaxis": {
         "anchor": "y",
         "domain": [
          0.55,
          1.0
         ]
        },
        "yaxis": {
         "anchor": "x",
         "domain": [
          0.625,
          1.0
         ]
        },
        "xaxis2": {
         "anchor": "y2",
         "domain": [
          0.0,
          0.45
         ]
        },
        "yaxis2": {
         "anchor": "x2",
         "domain": [
          0.0,
          0.375
         ]
        },
        "annotations": [
         {
          "font": {
           "size": 16
          },
          "showarrow": false,
          "text": "Radar Chart",
          "x": 0.225,
          "xanchor": "center",
          "xref": "paper",
          "y": 1.0,
          "yanchor": "bottom",
          "yref": "paper"
         },
         {
          "font": {
           "size": 16
          },
          "showarrow": false,
          "text": "Bar Chart",
          "x": 0.775,
          "xanchor": "center",
          "xref": "paper",
          "y": 1.0,
          "yanchor": "bottom",
          "yref": "paper"
         },
         {
          "font": {
           "size": 16
          },
          "showarrow": false,
          "text": "Dot Plot",
          "x": 0.225,
          "xanchor": "center",
          "xref": "paper",
          "y": 0.375,
          "yanchor": "bottom",
          "yref": "paper"
         },
         {
          "font": {
           "size": 16
          },
          "showarrow": false,
          "text": "Gauge Chart",
          "x": 0.775,
          "xanchor": "center",
          "xref": "paper",
          "y": 0.375,
          "yanchor": "bottom",
          "yref": "paper"
         }
        ],
        "title": {
         "text": "Evaluation Metrics Visualizations"
        },
        "height": 800,
        "width": 1200
       },
       "config": {
        "plotlyServerURL": "https://plot.ly"
       }
      },
      "text/html": [
       "<div>                            <div id=\"b4508ec7-6a3b-4846-8c4e-eeba7742f45e\" class=\"plotly-graph-div\" style=\"height:800px; width:1200px;\"></div>            <script type=\"text/javascript\">                require([\"plotly\"], function(Plotly) {                    window.PLOTLYENV=window.PLOTLYENV || {};                                    if (document.getElementById(\"b4508ec7-6a3b-4846-8c4e-eeba7742f45e\")) {                    Plotly.newPlot(                        \"b4508ec7-6a3b-4846-8c4e-eeba7742f45e\",                        [{\"fill\":\"toself\",\"name\":\"Metrics\",\"r\":[0.5555555555555556,1.0,0.8,0.6495616879278017,0.7740253260379719,0.706328937705019,0.11674985327973864,0.5555555555555556],\"theta\":[\"Faithfulness\",\"AnswerRelevancy\",\"Hallucination\",\"Precision\",\"Recall\",\"F1 Score\",\"BLEU\",\"Faithfulness\"],\"type\":\"scatterpolar\",\"subplot\":\"polar\"},{\"hoverinfo\":\"x+y\",\"marker\":{\"color\":\"skyblue\"},\"text\":[\"0.5555555555555556\",\"1.0\",\"0.0\",\"0.8\",\"0.0\",\"0.0\",\"0.6495616879278017\",\"0.7740253260379719\",\"0.706328937705019\",\"0.11674985327973864\"],\"textposition\":\"auto\",\"x\":[\"Faithfulness\",\"AnswerRelevancy\",\"Bias\",\"Hallucination\",\"KnowledgeRetention\",\"Toxicity\",\"Precision\",\"Recall\",\"F1 Score\",\"BLEU\"],\"y\":[0.5555555555555556,1.0,0.0,0.8,0.0,0.0,0.6495616879278017,0.7740253260379719,0.706328937705019,0.11674985327973864],\"type\":\"bar\",\"xaxis\":\"x\",\"yaxis\":\"y\"},{\"hovertemplate\":\"Value=%{marker.color}\\u003cbr\\u003eMetric=%{y}\\u003cextra\\u003e\\u003c\\u002fextra\\u003e\",\"legendgroup\":\"\",\"marker\":{\"color\":[0.5555555555555556,1.0,0.0,0.8,0.0,0.0,0.6495616879278017,0.7740253260379719,0.706328937705019,0.11674985327973864],\"coloraxis\":\"coloraxis\",\"size\":[0.5555555555555556,1.0,0.0,0.8,0.0,0.0,0.6495616879278017,0.7740253260379719,0.706328937705019,0.11674985327973864],\"sizemode\":\"area\",\"sizeref\":0.0025,\"symbol\":\"circle\"},\"mode\":\"markers\",\"name\":\"\",\"orientation\":\"h\",\"showlegend\":false,\"x\":[0.5555555555555556,1.0,0.0,0.8,0.0,0.0,0.6495616879278017,0.7740253260379719,0.706328937705019,0.11674985327973864],\"xaxis\":\"x2\",\"y\":[\"Faithfulness\",\"AnswerRelevancy\",\"Bias\",\"Hallucination\",\"KnowledgeRetention\",\"Toxicity\",\"Precision\",\"Recall\",\"F1 Score\",\"BLEU\"],\"yaxis\":\"y2\",\"type\":\"scatter\"},{\"delta\":{\"increasing\":{\"color\":\"green\"},\"reference\":0.5},\"gauge\":{\"axis\":{\"range\":[0,1],\"tickcolor\":\"darkblue\",\"tickwidth\":1},\"bar\":{\"color\":\"darkblue\"},\"bgcolor\":\"white\",\"bordercolor\":\"gray\",\"borderwidth\":2,\"steps\":[{\"color\":\"red\",\"range\":[0,0.2]},{\"color\":\"orange\",\"range\":[0.2,0.4]},{\"color\":\"yellow\",\"range\":[0.4,0.6]},{\"color\":\"lightgreen\",\"range\":[0.6,0.8]},{\"color\":\"green\",\"range\":[0.8,1]}],\"threshold\":{\"line\":{\"color\":\"black\",\"width\":4},\"thickness\":0.75,\"value\":0.75}},\"mode\":\"gauge+number+delta\",\"title\":{\"font\":{\"size\":24},\"text\":\"Evaluation Score\"},\"value\":0.75,\"type\":\"indicator\",\"domain\":{\"x\":[0.55,1.0],\"y\":[0.0,0.375]}}],                        {\"template\":{\"data\":{\"histogram2dcontour\":[{\"type\":\"histogram2dcontour\",\"colorbar\":{\"outlinewidth\":0,\"ticks\":\"\"},\"colorscale\":[[0.0,\"#0d0887\"],[0.1111111111111111,\"#46039f\"],[0.2222222222222222,\"#7201a8\"],[0.3333333333333333,\"#9c179e\"],[0.4444444444444444,\"#bd3786\"],[0.5555555555555556,\"#d8576b\"],[0.6666666666666666,\"#ed7953\"],[0.7777777777777778,\"#fb9f3a\"],[0.8888888888888888,\"#fdca26\"],[1.0,\"#f0f921\"]]}],\"choropleth\":[{\"type\":\"choropleth\",\"colorbar\":{\"outlinewidth\":0,\"ticks\":\"\"}}],\"histogram2d\":[{\"type\":\"histogram2d\",\"colorbar\":{\"outlinewidth\":0,\"ticks\":\"\"},\"colorscale\":[[0.0,\"#0d0887\"],[0.1111111111111111,\"#46039f\"],[0.2222222222222222,\"#7201a8\"],[0.3333333333333333,\"#9c179e\"],[0.4444444444444444,\"#bd3786\"],[0.5555555555555556,\"#d8576b\"],[0.6666666666666666,\"#ed7953\"],[0.7777777777777778,\"#fb9f3a\"],[0.8888888888888888,\"#fdca26\"],[1.0,\"#f0f921\"]]}],\"heatmap\":[{\"type\":\"heatmap\",\"colorbar\":{\"outlinewidth\":0,\"ticks\":\"\"},\"colorscale\":[[0.0,\"#0d0887\"],[0.1111111111111111,\"#46039f\"],[0.2222222222222222,\"#7201a8\"],[0.3333333333333333,\"#9c179e\"],[0.4444444444444444,\"#bd3786\"],[0.5555555555555556,\"#d8576b\"],[0.6666666666666666,\"#ed7953\"],[0.7777777777777778,\"#fb9f3a\"],[0.8888888888888888,\"#fdca26\"],[1.0,\"#f0f921\"]]}],\"heatmapgl\":[{\"type\":\"heatmapgl\",\"colorbar\":{\"outlinewidth\":0,\"ticks\":\"\"},\"colorscale\":[[0.0,\"#0d0887\"],[0.1111111111111111,\"#46039f\"],[0.2222222222222222,\"#7201a8\"],[0.3333333333333333,\"#9c179e\"],[0.4444444444444444,\"#bd3786\"],[0.5555555555555556,\"#d8576b\"],[0.6666666666666666,\"#ed7953\"],[0.7777777777777778,\"#fb9f3a\"],[0.8888888888888888,\"#fdca26\"],[1.0,\"#f0f921\"]]}],\"contourcarpet\":[{\"type\":\"contourcarpet\",\"colorbar\":{\"outlinewidth\":0,\"ticks\":\"\"}}],\"contour\":[{\"type\":\"contour\",\"colorbar\":{\"outlinewidth\":0,\"ticks\":\"\"},\"colorscale\":[[0.0,\"#0d0887\"],[0.1111111111111111,\"#46039f\"],[0.2222222222222222,\"#7201a8\"],[0.3333333333333333,\"#9c179e\"],[0.4444444444444444,\"#bd3786\"],[0.5555555555555556,\"#d8576b\"],[0.6666666666666666,\"#ed7953\"],[0.7777777777777778,\"#fb9f3a\"],[0.8888888888888888,\"#fdca26\"],[1.0,\"#f0f921\"]]}],\"surface\":[{\"type\":\"surface\",\"colorbar\":{\"outlinewidth\":0,\"ticks\":\"\"},\"colorscale\":[[0.0,\"#0d0887\"],[0.1111111111111111,\"#46039f\"],[0.2222222222222222,\"#7201a8\"],[0.3333333333333333,\"#9c179e\"],[0.4444444444444444,\"#bd3786\"],[0.5555555555555556,\"#d8576b\"],[0.6666666666666666,\"#ed7953\"],[0.7777777777777778,\"#fb9f3a\"],[0.8888888888888888,\"#fdca26\"],[1.0,\"#f0f921\"]]}],\"mesh3d\":[{\"type\":\"mesh3d\",\"colorbar\":{\"outlinewidth\":0,\"ticks\":\"\"}}],\"scatter\":[{\"fillpattern\":{\"fillmode\":\"overlay\",\"size\":10,\"solidity\":0.2},\"type\":\"scatter\"}],\"parcoords\":[{\"type\":\"parcoords\",\"line\":{\"colorbar\":{\"outlinewidth\":0,\"ticks\":\"\"}}}],\"scatterpolargl\":[{\"type\":\"scatterpolargl\",\"marker\":{\"colorbar\":{\"outlinewidth\":0,\"ticks\":\"\"}}}],\"bar\":[{\"error_x\":{\"color\":\"#2a3f5f\"},\"error_y\":{\"color\":\"#2a3f5f\"},\"marker\":{\"line\":{\"color\":\"#E5ECF6\",\"width\":0.5},\"pattern\":{\"fillmode\":\"overlay\",\"size\":10,\"solidity\":0.2}},\"type\":\"bar\"}],\"scattergeo\":[{\"type\":\"scattergeo\",\"marker\":{\"colorbar\":{\"outlinewidth\":0,\"ticks\":\"\"}}}],\"scatterpolar\":[{\"type\":\"scatterpolar\",\"marker\":{\"colorbar\":{\"outlinewidth\":0,\"ticks\":\"\"}}}],\"histogram\":[{\"marker\":{\"pattern\":{\"fillmode\":\"overlay\",\"size\":10,\"solidity\":0.2}},\"type\":\"histogram\"}],\"scattergl\":[{\"type\":\"scattergl\",\"marker\":{\"colorbar\":{\"outlinewidth\":0,\"ticks\":\"\"}}}],\"scatter3d\":[{\"type\":\"scatter3d\",\"line\":{\"colorbar\":{\"outlinewidth\":0,\"ticks\":\"\"}},\"marker\":{\"colorbar\":{\"outlinewidth\":0,\"ticks\":\"\"}}}],\"scattermapbox\":[{\"type\":\"scattermapbox\",\"marker\":{\"colorbar\":{\"outlinewidth\":0,\"ticks\":\"\"}}}],\"scatterternary\":[{\"type\":\"scatterternary\",\"marker\":{\"colorbar\":{\"outlinewidth\":0,\"ticks\":\"\"}}}],\"scattercarpet\":[{\"type\":\"scattercarpet\",\"marker\":{\"colorbar\":{\"outlinewidth\":0,\"ticks\":\"\"}}}],\"carpet\":[{\"aaxis\":{\"endlinecolor\":\"#2a3f5f\",\"gridcolor\":\"white\",\"linecolor\":\"white\",\"minorgridcolor\":\"white\",\"startlinecolor\":\"#2a3f5f\"},\"baxis\":{\"endlinecolor\":\"#2a3f5f\",\"gridcolor\":\"white\",\"linecolor\":\"white\",\"minorgridcolor\":\"white\",\"startlinecolor\":\"#2a3f5f\"},\"type\":\"carpet\"}],\"table\":[{\"cells\":{\"fill\":{\"color\":\"#EBF0F8\"},\"line\":{\"color\":\"white\"}},\"header\":{\"fill\":{\"color\":\"#C8D4E3\"},\"line\":{\"color\":\"white\"}},\"type\":\"table\"}],\"barpolar\":[{\"marker\":{\"line\":{\"color\":\"#E5ECF6\",\"width\":0.5},\"pattern\":{\"fillmode\":\"overlay\",\"size\":10,\"solidity\":0.2}},\"type\":\"barpolar\"}],\"pie\":[{\"automargin\":true,\"type\":\"pie\"}]},\"layout\":{\"autotypenumbers\":\"strict\",\"colorway\":[\"#636efa\",\"#EF553B\",\"#00cc96\",\"#ab63fa\",\"#FFA15A\",\"#19d3f3\",\"#FF6692\",\"#B6E880\",\"#FF97FF\",\"#FECB52\"],\"font\":{\"color\":\"#2a3f5f\"},\"hovermode\":\"closest\",\"hoverlabel\":{\"align\":\"left\"},\"paper_bgcolor\":\"white\",\"plot_bgcolor\":\"#E5ECF6\",\"polar\":{\"bgcolor\":\"#E5ECF6\",\"angularaxis\":{\"gridcolor\":\"white\",\"linecolor\":\"white\",\"ticks\":\"\"},\"radialaxis\":{\"gridcolor\":\"white\",\"linecolor\":\"white\",\"ticks\":\"\"}},\"ternary\":{\"bgcolor\":\"#E5ECF6\",\"aaxis\":{\"gridcolor\":\"white\",\"linecolor\":\"white\",\"ticks\":\"\"},\"baxis\":{\"gridcolor\":\"white\",\"linecolor\":\"white\",\"ticks\":\"\"},\"caxis\":{\"gridcolor\":\"white\",\"linecolor\":\"white\",\"ticks\":\"\"}},\"coloraxis\":{\"colorbar\":{\"outlinewidth\":0,\"ticks\":\"\"}},\"colorscale\":{\"sequential\":[[0.0,\"#0d0887\"],[0.1111111111111111,\"#46039f\"],[0.2222222222222222,\"#7201a8\"],[0.3333333333333333,\"#9c179e\"],[0.4444444444444444,\"#bd3786\"],[0.5555555555555556,\"#d8576b\"],[0.6666666666666666,\"#ed7953\"],[0.7777777777777778,\"#fb9f3a\"],[0.8888888888888888,\"#fdca26\"],[1.0,\"#f0f921\"]],\"sequentialminus\":[[0.0,\"#0d0887\"],[0.1111111111111111,\"#46039f\"],[0.2222222222222222,\"#7201a8\"],[0.3333333333333333,\"#9c179e\"],[0.4444444444444444,\"#bd3786\"],[0.5555555555555556,\"#d8576b\"],[0.6666666666666666,\"#ed7953\"],[0.7777777777777778,\"#fb9f3a\"],[0.8888888888888888,\"#fdca26\"],[1.0,\"#f0f921\"]],\"diverging\":[[0,\"#8e0152\"],[0.1,\"#c51b7d\"],[0.2,\"#de77ae\"],[0.3,\"#f1b6da\"],[0.4,\"#fde0ef\"],[0.5,\"#f7f7f7\"],[0.6,\"#e6f5d0\"],[0.7,\"#b8e186\"],[0.8,\"#7fbc41\"],[0.9,\"#4d9221\"],[1,\"#276419\"]]},\"xaxis\":{\"gridcolor\":\"white\",\"linecolor\":\"white\",\"ticks\":\"\",\"title\":{\"standoff\":15},\"zerolinecolor\":\"white\",\"automargin\":true,\"zerolinewidth\":2},\"yaxis\":{\"gridcolor\":\"white\",\"linecolor\":\"white\",\"ticks\":\"\",\"title\":{\"standoff\":15},\"zerolinecolor\":\"white\",\"automargin\":true,\"zerolinewidth\":2},\"scene\":{\"xaxis\":{\"backgroundcolor\":\"#E5ECF6\",\"gridcolor\":\"white\",\"linecolor\":\"white\",\"showbackground\":true,\"ticks\":\"\",\"zerolinecolor\":\"white\",\"gridwidth\":2},\"yaxis\":{\"backgroundcolor\":\"#E5ECF6\",\"gridcolor\":\"white\",\"linecolor\":\"white\",\"showbackground\":true,\"ticks\":\"\",\"zerolinecolor\":\"white\",\"gridwidth\":2},\"zaxis\":{\"backgroundcolor\":\"#E5ECF6\",\"gridcolor\":\"white\",\"linecolor\":\"white\",\"showbackground\":true,\"ticks\":\"\",\"zerolinecolor\":\"white\",\"gridwidth\":2}},\"shapedefaults\":{\"line\":{\"color\":\"#2a3f5f\"}},\"annotationdefaults\":{\"arrowcolor\":\"#2a3f5f\",\"arrowhead\":0,\"arrowwidth\":1},\"geo\":{\"bgcolor\":\"white\",\"landcolor\":\"#E5ECF6\",\"subunitcolor\":\"white\",\"showland\":true,\"showlakes\":true,\"lakecolor\":\"white\"},\"title\":{\"x\":0.05},\"mapbox\":{\"style\":\"light\"}}},\"polar\":{\"domain\":{\"x\":[0.0,0.45],\"y\":[0.625,1.0]}},\"xaxis\":{\"anchor\":\"y\",\"domain\":[0.55,1.0]},\"yaxis\":{\"anchor\":\"x\",\"domain\":[0.625,1.0]},\"xaxis2\":{\"anchor\":\"y2\",\"domain\":[0.0,0.45]},\"yaxis2\":{\"anchor\":\"x2\",\"domain\":[0.0,0.375]},\"annotations\":[{\"font\":{\"size\":16},\"showarrow\":false,\"text\":\"Radar Chart\",\"x\":0.225,\"xanchor\":\"center\",\"xref\":\"paper\",\"y\":1.0,\"yanchor\":\"bottom\",\"yref\":\"paper\"},{\"font\":{\"size\":16},\"showarrow\":false,\"text\":\"Bar Chart\",\"x\":0.775,\"xanchor\":\"center\",\"xref\":\"paper\",\"y\":1.0,\"yanchor\":\"bottom\",\"yref\":\"paper\"},{\"font\":{\"size\":16},\"showarrow\":false,\"text\":\"Dot Plot\",\"x\":0.225,\"xanchor\":\"center\",\"xref\":\"paper\",\"y\":0.375,\"yanchor\":\"bottom\",\"yref\":\"paper\"},{\"font\":{\"size\":16},\"showarrow\":false,\"text\":\"Gauge Chart\",\"x\":0.775,\"xanchor\":\"center\",\"xref\":\"paper\",\"y\":0.375,\"yanchor\":\"bottom\",\"yref\":\"paper\"}],\"title\":{\"text\":\"Evaluation Metrics Visualizations\"},\"height\":800,\"width\":1200},                        {\"responsive\": true}                    ).then(function(){\n",
       "                            \n",
       "var gd = document.getElementById('b4508ec7-6a3b-4846-8c4e-eeba7742f45e');\n",
       "var x = new MutationObserver(function (mutations, observer) {{\n",
       "        var display = window.getComputedStyle(gd).display;\n",
       "        if (!display || display === 'none') {{\n",
       "            console.log([gd, 'removed!']);\n",
       "            Plotly.purge(gd);\n",
       "            observer.disconnect();\n",
       "        }}\n",
       "}});\n",
       "\n",
       "// Listen for the removal of the full notebook cells\n",
       "var notebookContainer = gd.closest('#notebook-container');\n",
       "if (notebookContainer) {{\n",
       "    x.observe(notebookContainer, {childList: true});\n",
       "}}\n",
       "\n",
       "// Listen for the clearing of the current output cell\n",
       "var outputEl = gd.closest('.output');\n",
       "if (outputEl) {{\n",
       "    x.observe(outputEl, {childList: true});\n",
       "}}\n",
       "\n",
       "                        })                };                });            </script>        </div>"
      ]
     },
     "metadata": {},
     "output_type": "display_data"
    }
   ],
   "execution_count": 49
  },
  {
   "metadata": {
    "ExecuteTime": {
     "end_time": "2024-08-03T17:01:28.654145Z",
     "start_time": "2024-08-03T17:01:28.519244Z"
    }
   },
   "cell_type": "code",
   "source": [
    "import plotly.graph_objects as go\n",
    "import plotly.express as px\n",
    "import pandas as pd\n",
    "import ipywidgets as widgets\n",
    "from IPython.display import display\n",
    "\n",
    "class MetricsVisualizer:\n",
    "    def __init__(self, metrics,):\n",
    "        self.metrics = metrics\n",
    "        self.template = \"ggplot2\"  # Choosing ggplot2 theme for all plots\n",
    "\n",
    "    def create_radar_chart(self):\n",
    "        filtered_metrics = {k: v for k, v in self.metrics.items() if v != 0}\n",
    "        labels = list(filtered_metrics.keys())\n",
    "        values = list(filtered_metrics.values())\n",
    "        values += values[:1]\n",
    "        labels += labels[:1]\n",
    "\n",
    "        fig = go.Figure(\n",
    "            data=[\n",
    "                go.Scatterpolar(\n",
    "                    r=values,\n",
    "                    theta=labels,\n",
    "                    fill='toself',\n",
    "                    name='Metrics'\n",
    "                )\n",
    "            ],\n",
    "            layout=go.Layout(\n",
    "                title='Evaluation Metrics Radar Chart',\n",
    "                polar=dict(\n",
    "                    radialaxis=dict(\n",
    "                        visible=True,\n",
    "                        range=[0, 1]\n",
    "                    )\n",
    "                ),\n",
    "                showlegend=False,\n",
    "                template=self.template\n",
    "            )\n",
    "        )\n",
    "        return fig\n",
    "\n",
    "    def create_bar_chart(self):\n",
    "        fig = go.Figure(data=[\n",
    "            go.Bar(\n",
    "                x=list(self.metrics.keys()),\n",
    "                y=list(self.metrics.values()),\n",
    "                text=list(self.metrics.values()),\n",
    "                textposition='auto',\n",
    "                hoverinfo='x+y',\n",
    "                marker_color='skyblue'\n",
    "            )\n",
    "        ])\n",
    "\n",
    "        fig.update_layout(\n",
    "            title='Evaluation Metrics Bar Chart',\n",
    "            xaxis_title='Metrics',\n",
    "            yaxis_title='Values',\n",
    "            xaxis_tickangle=-45,\n",
    "            template=self.template\n",
    "        )\n",
    "        return fig\n",
    "\n",
    "    def create_gauge_chart(self, score):\n",
    "        fig = go.Figure(go.Indicator(\n",
    "            mode=\"gauge+number+delta\",\n",
    "            value=score,\n",
    "            title={'text': \"Overall Evaluation Score\", 'font': {'size': 24}},\n",
    "            delta={'reference': 0.5, 'increasing': {'color': \"green\"}},\n",
    "            gauge={\n",
    "                'axis': {'range': [0, 1], 'tickwidth': 0.7, 'tickcolor': \"darkblue\"},\n",
    "                'bar': {'color': \"darkblue\"},\n",
    "                'bgcolor': \"white\",\n",
    "                'borderwidth': 2,\n",
    "                'bordercolor': \"gray\",\n",
    "                'steps': [\n",
    "                    {'range': [0, 0.2], 'color': \"red\"},\n",
    "                    {'range': [0.2, 0.4], 'color': \"orange\"},\n",
    "                    {'range': [0.4, 0.6], 'color': \"yellow\"},\n",
    "                    {'range': [0.6, 0.8], 'color': \"lightgreen\"},\n",
    "                    {'range': [0.8, 1], 'color': \"green\"}],\n",
    "                'threshold': {\n",
    "                    'line': {'color': \"black\", 'width': 4},\n",
    "                    'thickness': 0.75,\n",
    "                    'value': score}\n",
    "            }\n",
    "        ))\n",
    "\n",
    "        fig.update_layout(\n",
    "            title='Overall Evaluation Score',\n",
    "            font={'color': \"darkblue\", 'family': \"Arial\"},\n",
    "            paper_bgcolor=\"white\",  # Ensure the background is white\n",
    "            plot_bgcolor=\"white\",   # Ensure the plot background is white\n",
    "            template=self.template\n",
    "        )\n",
    "        return fig\n",
    "\n",
    "    def create_scatter_plot(self):\n",
    "        df = pd.DataFrame(list(self.metrics.items()), columns=['Metric', 'Value'])\n",
    "        fig = px.scatter(df, x='Value', y='Metric', size='Value', color='Value', color_continuous_scale='Viridis')\n",
    "\n",
    "        fig.update_layout(\n",
    "            title='Evaluation Metrics Scatter Plot',\n",
    "            xaxis_title='Value',\n",
    "            yaxis_title='Metric',\n",
    "            template=self.template\n",
    "        )\n",
    "        return fig\n",
    "\n",
    "    def plot(self, score):\n",
    "        radar_chart = self.create_radar_chart()\n",
    "        bar_chart = self.create_bar_chart()\n",
    "        scatter_plot = self.create_scatter_plot()\n",
    "        gauge_chart = self.create_gauge_chart(score)\n",
    "\n",
    "        tab1 = widgets.Output()\n",
    "        tab2 = widgets.Output()\n",
    "        tab3 = widgets.Output()\n",
    "        tab4 = widgets.Output()\n",
    "\n",
    "        with tab1:\n",
    "            display(radar_chart)\n",
    "\n",
    "        with tab2:\n",
    "            display(bar_chart)\n",
    "\n",
    "        with tab3:\n",
    "            display(scatter_plot)\n",
    "\n",
    "        with tab4:\n",
    "            display(gauge_chart)\n",
    "\n",
    "        tabs = widgets.Tab(children=[tab1, tab2, tab3, tab4])\n",
    "        tabs.set_title(0, 'Radar Chart')\n",
    "        tabs.set_title(1, 'Bar Chart')\n",
    "        tabs.set_title(2, 'Scatter Plot')\n",
    "        tabs.set_title(3, 'Gauge Chart')\n",
    "\n",
    "        display(tabs)\n",
    "\n",
    "\n",
    "# Example usage\n",
    "metrics = {\n",
    "    'Faithfulness': 0.5555555555555556,\n",
    "    'Answer Relevancy': 1.0,\n",
    "    'Bias': 0.0,\n",
    "    'Hallucination': 0.8,\n",
    "    'Knowledge Retention': 0.0,\n",
    "    'Toxicity': 0.0,\n",
    "    'Precision': 0.6495616879278017,\n",
    "    'Recall': 0.7740253260379719,\n",
    "    'F1 Score': 0.706328937705019,\n",
    "    'BLEU': 0.11\n",
    "}\n",
    "\n",
    "score = 0.75\n",
    "visualizer = MetricsVisualizer(metrics)\n",
    "visualizer.plot(score)\n"
   ],
   "id": "202b032a43bdd80",
   "outputs": [
    {
     "data": {
      "text/plain": [
       "Tab(children=(Output(), Output(), Output(), Output()), selected_index=0, titles=('Radar Chart', 'Bar Chart', '…"
      ],
      "application/vnd.jupyter.widget-view+json": {
       "version_major": 2,
       "version_minor": 0,
       "model_id": "bb4b7c4750d64442a3ef464ed11611af"
      }
     },
     "metadata": {},
     "output_type": "display_data"
    }
   ],
   "execution_count": 59
  },
  {
   "metadata": {
    "ExecuteTime": {
     "end_time": "2024-08-03T17:38:19.195546Z",
     "start_time": "2024-08-03T17:38:19.004959Z"
    }
   },
   "cell_type": "code",
   "source": [
    "import plotly.graph_objects as go\n",
    "import plotly.express as px\n",
    "import pandas as pd\n",
    "import ipywidgets as widgets\n",
    "from IPython.display import display\n",
    "\n",
    "class LLMVisualizer:\n",
    "    def __init__(self, models):\n",
    "        \"\"\"\n",
    "        Initialize the LLMVisualizer with the given models.\n",
    "        \n",
    "        Parameters:\n",
    "        models (list): A list of dictionaries, each containing 'name', 'score', and 'metrics'.\n",
    "        \"\"\"\n",
    "        self.models = models\n",
    "        self.template = \"ggplot2\"  # Choosing ggplot2 theme for all plots\n",
    "\n",
    "    def create_radar_chart(self):\n",
    "        \"\"\"\n",
    "        Creates a radar chart comparing the metrics of multiple models.\n",
    "        Returns the radar chart figure.\n",
    "        \"\"\"\n",
    "        fig = go.Figure()\n",
    "        for model in self.models:\n",
    "            name = model['name']\n",
    "            metrics = model['metrics']\n",
    "            filtered_metrics = {k: v for k, v in metrics.items() if v != 0}\n",
    "            labels = list(filtered_metrics.keys())\n",
    "            values = list(filtered_metrics.values())\n",
    "            values += values[:1]\n",
    "            labels += labels[:1]\n",
    "\n",
    "            fig.add_trace(go.Scatterpolar(\n",
    "                r=values,\n",
    "                theta=labels,\n",
    "                mode='lines+markers',\n",
    "                line=dict(width=1),  # Thinner lines\n",
    "                name=name\n",
    "            ))\n",
    "\n",
    "        fig.update_layout(\n",
    "            title='Evaluation Metrics Radar Chart',\n",
    "            polar=dict(\n",
    "                radialaxis=dict(\n",
    "                    visible=True,\n",
    "                    range=[0, 1]\n",
    "                )\n",
    "            ),\n",
    "            showlegend=True,\n",
    "            template=self.template\n",
    "        )\n",
    "        return fig\n",
    "\n",
    "    def create_bar_chart(self):\n",
    "        \"\"\"\n",
    "        Creates a bar chart comparing the metrics of multiple models.\n",
    "        Returns the bar chart figure.\n",
    "        \"\"\"\n",
    "        data = []\n",
    "        for model in self.models:\n",
    "            name = model['name']\n",
    "            metrics = model['metrics']\n",
    "            for metric, value in metrics.items():\n",
    "                data.append({\"Model\": name, \"Metric\": metric, \"Value\": value})\n",
    "        \n",
    "        df = pd.DataFrame(data)\n",
    "        \n",
    "        fig = px.bar(df, x='Metric', y='Value', color='Model', barmode='group', text='Value', template=self.template)\n",
    "        fig.update_layout(\n",
    "            title='Evaluation Metrics Bar Chart',\n",
    "            xaxis_title='Metrics',\n",
    "            yaxis_title='Values',\n",
    "            xaxis_tickangle=-45\n",
    "        )\n",
    "        return fig\n",
    "\n",
    "    def create_gauge_chart(self):\n",
    "        \"\"\"\n",
    "        Creates a gauge chart comparing the scores of multiple models.\n",
    "        Returns the gauge chart figure.\n",
    "        \"\"\"\n",
    "        fig = make_subplots(rows=1, cols=len(self.models), specs=[[{'type': 'indicator'}] * len(self.models)],\n",
    "                            subplot_titles=[model['name'] for model in self.models])\n",
    "        \n",
    "        for i, model in enumerate(self.models, 1):\n",
    "            name = model['name']\n",
    "            score = model['score']\n",
    "            fig.add_trace(go.Indicator(\n",
    "                mode=\"gauge+number+delta\",\n",
    "                value=score,\n",
    "                title={'text': name, 'font': {'size': 24}},\n",
    "                delta={'reference': 0.5, 'increasing': {'color': \"green\"}},\n",
    "                gauge={\n",
    "                    'axis': {'range': [0, 1], 'tickwidth': 0.7, 'tickcolor': \"darkblue\"},\n",
    "                    'bar': {'color': \"darkblue\"},\n",
    "                    'bgcolor': \"white\",\n",
    "                    'borderwidth': 2,\n",
    "                    'bordercolor': \"gray\",\n",
    "                    'steps': [\n",
    "                        {'range': [0, 0.2], 'color': \"red\"},\n",
    "                        {'range': [0.2, 0.4], 'color': \"orange\"},\n",
    "                        {'range': [0.4, 0.6], 'color': \"yellow\"},\n",
    "                        {'range': [0.6, 0.8], 'color': \"lightgreen\"},\n",
    "                        {'range': [0.8, 1], 'color': \"green\"}],\n",
    "                    'threshold': {\n",
    "                        'line': {'color': \"black\", 'width': 4},\n",
    "                        'thickness': 0.75,\n",
    "                        'value': score}\n",
    "                }\n",
    "            ), row=1, col=i)\n",
    "        \n",
    "        fig.update_layout(\n",
    "            title='Overall Evaluation Scores',\n",
    "            font={'color': \"darkblue\", 'family': \"Arial\"},\n",
    "            paper_bgcolor=\"white\",\n",
    "            plot_bgcolor=\"white\",\n",
    "            template=self.template\n",
    "        )\n",
    "        return fig\n",
    "\n",
    "    def create_scatter_plot(self):\n",
    "        \"\"\"\n",
    "        Creates a scatter plot comparing the metrics of multiple models.\n",
    "        Returns the scatter plot figure.\n",
    "        \"\"\"\n",
    "        data = []\n",
    "        for model in self.models:\n",
    "            name = model['name']\n",
    "            metrics = model['metrics']\n",
    "            for metric, value in metrics.items():\n",
    "                data.append({\"Model\": name, \"Metric\": metric, \"Value\": value})\n",
    "        \n",
    "        df = pd.DataFrame(data)\n",
    "        \n",
    "        fig = px.scatter(df, x='Value', y='Metric', color='Model', size='Value', hover_name='Model', template=self.template)\n",
    "        fig.update_layout(\n",
    "            title='Evaluation Metrics Scatter Plot',\n",
    "            xaxis_title='Value',\n",
    "            yaxis_title='Metric'\n",
    "        )\n",
    "        return fig\n",
    "\n",
    "    def create_line_plot(self):\n",
    "        \"\"\"\n",
    "        Creates a line plot comparing the metrics of multiple models.\n",
    "        Returns the line plot figure.\n",
    "        \"\"\"\n",
    "        data = []\n",
    "        for model in self.models:\n",
    "            name = model['name']\n",
    "            metrics = model['metrics']\n",
    "            for metric, value in metrics.items():\n",
    "                data.append({\"Model\": name, \"Metric\": metric, \"Value\": value})\n",
    "        \n",
    "        df = pd.DataFrame(data)\n",
    "        \n",
    "        fig = px.line(df, x='Metric', y='Value', color='Model', markers=True, template=self.template)\n",
    "        fig.update_layout(\n",
    "            title='Evaluation Metrics Line Plot',\n",
    "            xaxis_title='Metrics',\n",
    "            yaxis_title='Values'\n",
    "        )\n",
    "        return fig\n",
    "    def create_table(self):\n",
    "        \"\"\"\n",
    "        Creates a table comparing the metrics of multiple models.\n",
    "        Returns the table figure.\n",
    "        \"\"\"\n",
    "        data = []\n",
    "        for model in self.models:\n",
    "            row = {'Model': model['name']}\n",
    "            row.update(model['metrics'])\n",
    "            data.append(row)\n",
    "        \n",
    "        df = pd.DataFrame(data)\n",
    "        \n",
    "        fig = go.Figure(data=[go.Table(\n",
    "            columnwidth=[150] * len(df.columns),  # Increase column width\n",
    "            header=dict(values=list(df.columns),\n",
    "                        fill_color='paleturquoise',\n",
    "                        align='left',\n",
    "                        font=dict(size=12)),  # Increase header font size\n",
    "            cells=dict(values=[df[col].tolist() for col in df.columns],\n",
    "                       fill_color='lavender',\n",
    "                       align='left',\n",
    "                       font=dict(size=10))  # Increase cell font size\n",
    "        )])\n",
    "        \n",
    "        fig.update_layout(\n",
    "            title='Evaluation Metrics Table',\n",
    "            autosize=True,  # Ensure the table uses available space\n",
    "            width=900,  # Increase figure width\n",
    "            # height=600,  # Increase figure height\n",
    "            margin=dict(l=0, r=0, t=30, b=0),  # Adjust margins\n",
    "            template=self.template\n",
    "        )\n",
    "        return fig\n",
    "\n",
    "\n",
    "\n",
    "    def create_tabs(self):\n",
    "        \"\"\"\n",
    "        Creates tabs for all the charts comparing multiple models.\n",
    "        Displays the charts in a tabbed layout.\n",
    "        \"\"\"\n",
    "        radar_chart = self.create_radar_chart()\n",
    "        bar_chart = self.create_bar_chart()\n",
    "        scatter_plot = self.create_scatter_plot()\n",
    "        line_plot = self.create_line_plot()\n",
    "        gauge_chart = self.create_gauge_chart()\n",
    "        table = self.create_table()\n",
    "\n",
    "        tab1 = widgets.Output()\n",
    "        tab2 = widgets.Output()\n",
    "        tab3 = widgets.Output()\n",
    "        tab4 = widgets.Output()\n",
    "        tab5 = widgets.Output()\n",
    "        tab6 = widgets.Output()\n",
    "\n",
    "        with tab1:\n",
    "            display(radar_chart)\n",
    "\n",
    "        with tab2:\n",
    "            display(bar_chart)\n",
    "\n",
    "        with tab3:\n",
    "            display(scatter_plot)\n",
    "\n",
    "        with tab4:\n",
    "            display(line_plot)\n",
    "\n",
    "        with tab5:\n",
    "            display(gauge_chart)\n",
    "\n",
    "        with tab6:\n",
    "            display(table)\n",
    "\n",
    "        tabs = widgets.Tab(children=[tab1, tab2, tab3, tab4, tab5, tab6])\n",
    "        tabs.set_title(0, 'Radar Chart')\n",
    "        tabs.set_title(1, 'Bar Chart')\n",
    "        tabs.set_title(2, 'Scatter Plot')\n",
    "        tabs.set_title(3, 'Line Plot')\n",
    "        tabs.set_title(4, 'Gauge Chart')\n",
    "        tabs.set_title(5, 'Table')\n",
    "\n",
    "        display(tabs)\n",
    "\n",
    "\n",
    "# Example usage\n",
    "models = [\n",
    "    {\n",
    "        'name': 'Model_A',\n",
    "        'score': 0.75,\n",
    "        'metrics': {\n",
    "            'Faithfulness': 0.55,\n",
    "            'AnswerRelevancy': 0.9,\n",
    "            'Bias': 0.1,\n",
    "            'Hallucination': 0.8,\n",
    "            'KnowledgeRetention': 0.5,\n",
    "            'Toxicity': 0.2,\n",
    "            'Precision': 0.65,\n",
    "            'Recall': 0.77,\n",
    "            'F1_Score': 0.7,\n",
    "            'BLEU': 0.11\n",
    "        }\n",
    "    },\n",
    "    {\n",
    "        'name': 'Model_B',\n",
    "        'score': 0.78,\n",
    "        'metrics': {\n",
    "            'Faithfulness': 0.6,\n",
    "            'AnswerRelevancy': 0.85,\n",
    "            'Bias': 0.15,\n",
    "            'Hallucination': 0.75,\n",
    "            'KnowledgeRetention': 0.55,\n",
    "            'Toxicity': 0.25,\n",
    "            'Precision': 0.67,\n",
    "            'Recall': 0.72,\n",
    "            'F1_Score': 0.68,\n",
    "            'BLEU': 0.12\n",
    "        }\n",
    "    }\n",
    "]\n",
    "\n",
    "visualizer = LLMVisualizer(models)\n",
    "visualizer.create_tabs()\n"
   ],
   "id": "6a49faa545f70719",
   "outputs": [
    {
     "data": {
      "text/plain": [
       "Tab(children=(Output(), Output(), Output(), Output(), Output(), Output()), selected_index=0, titles=('Radar Ch…"
      ],
      "application/vnd.jupyter.widget-view+json": {
       "version_major": 2,
       "version_minor": 0,
       "model_id": "db8606e4a8614ada8c83c83d8d9309e8"
      }
     },
     "metadata": {},
     "output_type": "display_data"
    }
   ],
   "execution_count": 83
  },
  {
   "metadata": {
    "ExecuteTime": {
     "start_time": "2024-08-04T05:50:45.415502Z"
    }
   },
   "cell_type": "code",
   "source": [
    "import plotly.graph_objects as go\n",
    "import plotly.express as px\n",
    "import pandas as pd\n",
    "import ipywidgets as widgets\n",
    "from IPython.display import display\n",
    "from plotly.subplots import make_subplots\n",
    "\n",
    "class LLMVisualizer:\n",
    "    def __init__(self, models):\n",
    "        \"\"\"\n",
    "        Initialize the LLMVisualizer with the given models.\n",
    "        \n",
    "        Parameters:\n",
    "        models (list): A list of dictionaries, each containing 'name', 'score', and 'metrics'.\n",
    "        \"\"\"\n",
    "        self.models = models\n",
    "        self.template = \"ggplot2\"  # Choosing ggplot2 theme for all plots\n",
    "\n",
    "    def create_radar_chart(self):\n",
    "        \"\"\"\n",
    "        Creates a radar chart comparing the metrics of multiple models.\n",
    "        Returns the radar chart figure.\n",
    "        \"\"\"\n",
    "        fig = go.Figure()\n",
    "        for model in self.models:\n",
    "            name = model['name']\n",
    "            metrics = model['metrics']\n",
    "            filtered_metrics = {k: v for k, v in metrics.items() if v != 0}\n",
    "            labels = list(filtered_metrics.keys())\n",
    "            values = list(filtered_metrics.values())\n",
    "            values += values[:1]\n",
    "            labels += labels[:1]\n",
    "\n",
    "            fig.add_trace(go.Scatterpolar(\n",
    "                r=values,\n",
    "                theta=labels,\n",
    "                mode='lines+markers',\n",
    "                line=dict(width=1),  # Thinner lines\n",
    "                name=name\n",
    "            ))\n",
    "\n",
    "        fig.update_layout(\n",
    "            title='Evaluation Metrics Radar Chart',\n",
    "            polar=dict(\n",
    "                radialaxis=dict(\n",
    "                    visible=True,\n",
    "                    range=[0, 1]\n",
    "                )\n",
    "            ),\n",
    "            showlegend=True,\n",
    "            template=self.template\n",
    "        )\n",
    "        return fig\n",
    "\n",
    "    def create_bar_chart(self):\n",
    "        \"\"\"\n",
    "        Creates a bar chart comparing the metrics of multiple models.\n",
    "        Returns the bar chart figure.\n",
    "        \"\"\"\n",
    "        data = []\n",
    "        for model in self.models:\n",
    "            name = model['name']\n",
    "            metrics = model['metrics']\n",
    "            for metric, value in metrics.items():\n",
    "                data.append({\"Model\": name, \"Metric\": metric, \"Value\": value})\n",
    "        \n",
    "        df = pd.DataFrame(data)\n",
    "        \n",
    "        fig = px.bar(df, x='Metric', y='Value', color='Model', barmode='group', text='Value', template=self.template)\n",
    "        fig.update_layout(\n",
    "            title='Evaluation Metrics Bar Chart',\n",
    "            xaxis_title='Metrics',\n",
    "            yaxis_title='Values',\n",
    "            xaxis_tickangle=-45\n",
    "        )\n",
    "        return fig\n",
    "\n",
    "    def create_gauge_chart(self):\n",
    "        \"\"\"\n",
    "        Creates a gauge chart comparing the scores of multiple models.\n",
    "        Returns the gauge chart figure.\n",
    "        \"\"\"\n",
    "        fig = make_subplots(rows=1, cols=len(self.models), specs=[[{'type': 'indicator'}] * len(self.models)],\n",
    "                            subplot_titles=[model['name'] for model in self.models])\n",
    "        \n",
    "        for i, model in enumerate(self.models, 1):\n",
    "            name = model['name']\n",
    "            score = model['score']\n",
    "            fig.add_trace(go.Indicator(\n",
    "                mode=\"gauge+number+delta\",\n",
    "                value=score,\n",
    "                title={'text': name, 'font': {'size': 24}},\n",
    "                delta={'reference': 0.5, 'increasing': {'color': \"green\"}},\n",
    "                gauge={\n",
    "                    'axis': {'range': [0, 1], 'tickwidth': 0.7, 'tickcolor': \"darkblue\"},\n",
    "                    'bar': {'color': \"darkblue\"},\n",
    "                    'bgcolor': \"white\",\n",
    "                    'borderwidth': 2,\n",
    "                    'bordercolor': \"gray\",\n",
    "                    'steps': [\n",
    "                        {'range': [0, 0.2], 'color': \"red\"},\n",
    "                        {'range': [0.2, 0.4], 'color': \"orange\"},\n",
    "                        {'range': [0.4, 0.6], 'color': \"yellow\"},\n",
    "                        {'range': [0.6, 0.8], 'color': \"lightgreen\"},\n",
    "                        {'range': [0.8, 1], 'color': \"green\"}],\n",
    "                    'threshold': {\n",
    "                        'line': {'color': \"black\", 'width': 4},\n",
    "                        'thickness': 0.75,\n",
    "                        'value': score}\n",
    "                }\n",
    "            ), row=1, col=i)\n",
    "        \n",
    "        fig.update_layout(\n",
    "            title='Overall Evaluation Scores',\n",
    "            font={'color': \"darkblue\", 'family': \"Arial\"},\n",
    "            paper_bgcolor=\"white\",\n",
    "            plot_bgcolor=\"white\",\n",
    "            template=self.template\n",
    "        )\n",
    "        return fig\n",
    "\n",
    "    def create_scatter_plot(self):\n",
    "        \"\"\"\n",
    "        Creates a scatter plot comparing the metrics of multiple models.\n",
    "        Returns the scatter plot figure.\n",
    "        \"\"\"\n",
    "        data = []\n",
    "        for model in self.models:\n",
    "            name = model['name']\n",
    "            metrics = model['metrics']\n",
    "            for metric, value in metrics.items():\n",
    "                data.append({\"Model\": name, \"Metric\": metric, \"Value\": value})\n",
    "        \n",
    "        df = pd.DataFrame(data)\n",
    "        \n",
    "        fig = px.scatter(df, x='Value', y='Metric', color='Model', size='Value', hover_name='Model', template=self.template)\n",
    "        fig.update_layout(\n",
    "            title='Evaluation Metrics Scatter Plot',\n",
    "            xaxis_title='Value',\n",
    "            yaxis_title='Metric'\n",
    "        )\n",
    "        return fig\n",
    "\n",
    "    def create_line_plot(self):\n",
    "        \"\"\"\n",
    "        Creates a line plot comparing the metrics of multiple models.\n",
    "        Returns the line plot figure.\n",
    "        \"\"\"\n",
    "        data = []\n",
    "        for model in self.models:\n",
    "            name = model['name']\n",
    "            metrics = model['metrics']\n",
    "            for metric, value in metrics.items():\n",
    "                data.append({\"Model\": name, \"Metric\": metric, \"Value\": value})\n",
    "        \n",
    "        df = pd.DataFrame(data)\n",
    "        \n",
    "        fig = px.line(df, x='Metric', y='Value', color='Model', markers=True, template=self.template)\n",
    "        fig.update_layout(\n",
    "            title='Evaluation Metrics Line Plot',\n",
    "            xaxis_title='Metrics',\n",
    "            yaxis_title='Values'\n",
    "        )\n",
    "        return fig\n",
    "\n",
    "    def create_heatmap(self):\n",
    "        \"\"\"\n",
    "        Creates a heatmap comparing the metrics of multiple models.\n",
    "        Returns the heatmap figure.\n",
    "        \"\"\"\n",
    "        data = []\n",
    "        for model in self.models:\n",
    "            name = model['name']\n",
    "            metrics = model['metrics']\n",
    "            for metric, value in metrics.items():\n",
    "                data.append({\"Model\": name, \"Metric\": metric, \"Value\": value})\n",
    "        \n",
    "        df = pd.DataFrame(data)\n",
    "        \n",
    "        heatmap_data = df.pivot(index=\"Model\", columns=\"Metric\", values=\"Value\")\n",
    "        fig = px.imshow(heatmap_data, aspect=\"auto\", color_continuous_scale=\"Viridis\", template=self.template)\n",
    "        \n",
    "        fig.update_layout(\n",
    "            title='Evaluation Metrics Heatmap',\n",
    "            xaxis_title='Metrics',\n",
    "            yaxis_title='Models'\n",
    "        )\n",
    "        return fig\n",
    "\n",
    "\n",
    "    def create_violin_plot(self):\n",
    "        \"\"\"\n",
    "        Creates a violin plot comparing the metrics of multiple models.\n",
    "        Returns the violin plot figure.\n",
    "        \"\"\"\n",
    "        data = []\n",
    "        for model in self.models:\n",
    "            name = model['name']\n",
    "            metrics = model['metrics']\n",
    "            for metric, value in metrics.items():\n",
    "                data.append({\"Model\": name, \"Metric\": metric, \"Value\": value})\n",
    "        \n",
    "        df = pd.DataFrame(data)\n",
    "        \n",
    "        fig = px.violin(df, x='Metric', y='Value', color='Model', box=True, points=\"all\", template=self.template)\n",
    "        \n",
    "        fig.update_layout(\n",
    "            title='Evaluation Metrics Violin Plot',\n",
    "            xaxis_title='Metrics',\n",
    "            yaxis_title='Values'\n",
    "        )\n",
    "        return fig\n",
    "\n",
    "    def create_table(self):\n",
    "        \"\"\"\n",
    "        Creates a table comparing the metrics of multiple models.\n",
    "        Returns the table figure.\n",
    "        \"\"\"\n",
    "        data = []\n",
    "        for model in self.models:\n",
    "            row = {'Model': model['name']}\n",
    "            row.update(model['metrics'])\n",
    "            data.append(row)\n",
    "        \n",
    "        df = pd.DataFrame(data)\n",
    "        \n",
    "        fig = go.Figure(data=[go.Table(\n",
    "            columnwidth=[150] * len(df.columns),  # Increase column width\n",
    "            header=dict(values=list(df.columns),\n",
    "                        fill_color='paleturquoise',\n",
    "                        align='left',\n",
    "                        font=dict(size=12)),  # Increase header font size\n",
    "            cells=dict(values=[df[col].tolist() for col in df.columns],\n",
    "                       fill_color='lavender',\n",
    "                       align='left',\n",
    "                       font=dict(size=10))  # Increase cell font size\n",
    "        )])\n",
    "        \n",
    "        fig.update_layout(\n",
    "            title='Evaluation Metrics Table',\n",
    "            autosize=True,  # Ensure the table uses available space\n",
    "            width=900,  # Increase figure width\n",
    "            # height=600,  # Increase figure height\n",
    "            margin=dict(l=0, r=0, t=30, b=0),  # Adjust margins\n",
    "            template=self.template\n",
    "        )\n",
    "        return fig\n",
    "\n",
    "    def create_tabs(self):\n",
    "        \"\"\"\n",
    "        Creates tabs for all the charts comparing multiple models.\n",
    "        Displays the charts in a tabbed layout.\n",
    "        \"\"\"\n",
    "        radar_chart = self.create_radar_chart()\n",
    "        bar_chart = self.create_bar_chart()\n",
    "        scatter_plot = self.create_scatter_plot()\n",
    "        line_plot = self.create_line_plot()\n",
    "        gauge_chart = self.create_gauge_chart()\n",
    "        heatmap = self.create_heatmap()\n",
    "        violin_plot = self.create_violin_plot()\n",
    "        table = self.create_table()\n",
    "\n",
    "        tab1 = widgets.Output()\n",
    "        tab2 = widgets.Output()\n",
    "        tab3 = widgets.Output()\n",
    "        tab4 = widgets.Output()\n",
    "        tab5 = widgets.Output()\n",
    "        tab6 = widgets.Output()\n",
    "        tab7 = widgets.Output()\n",
    "        tab8 = widgets.Output()\n",
    "\n",
    "        with tab1:\n",
    "            display(radar_chart)\n",
    "\n",
    "        with tab2:\n",
    "            display(bar_chart)\n",
    "\n",
    "        with tab3:\n",
    "            display(scatter_plot)\n",
    "\n",
    "        with tab4:\n",
    "            display(line_plot)\n",
    "\n",
    "        with tab5:\n",
    "            display(gauge_chart)\n",
    "\n",
    "        with tab6:\n",
    "            display(heatmap)\n",
    "\n",
    "        with tab7:\n",
    "            display(violin_plot)\n",
    "\n",
    "        with tab8:\n",
    "            display(table)\n",
    "\n",
    "        tabs = widgets.Tab(children=[tab1, tab2, tab3, tab4, tab5, tab6, tab7, tab8])\n",
    "        tabs.set_title(0, 'Radar Chart')\n",
    "        tabs.set_title(1, 'Bar Chart')\n",
    "        tabs.set_title(2, 'Scatter Plot')\n",
    "        tabs.set_title(3, 'Line Plot')\n",
    "        tabs.set_title(4, 'Gauge Chart')\n",
    "        tabs.set_title(5, 'Heatmap')\n",
    "        tabs.set_title(6, 'Violin Plot')\n",
    "        tabs.set_title(7, 'Table')\n",
    "\n",
    "        display(tabs)\n",
    "\n",
    "\n",
    "# Example usage\n",
    "models = [\n",
    "    {\n",
    "        'name': 'Model A',\n",
    "        'score': 0.75,\n",
    "        'metrics': {\n",
    "            'Faithfulness': 0.555,\n",
    "            'Answer Relevancy': 0.9,\n",
    "            'Bias': 0.1,\n",
    "            'Hallucination': 0.8,\n",
    "            'Knowledge Retention': 0.5,\n",
    "            'Toxicity': 0.2,\n",
    "            'Precision': 0.65,\n",
    "            'Recall': 0.77,\n",
    "            'F1 Score': 0.7,\n",
    "            'BLEU': 0.11\n",
    "        }\n",
    "    },\n",
    "    {\n",
    "        'name': 'Model B',\n",
    "        'score': 0.78,\n",
    "        'metrics': {\n",
    "            'Faithfulness': 0.6,\n",
    "            'Answer Relevancy': 0.85,\n",
    "            'Bias': 0.15,\n",
    "            'Hallucination': 0.75,\n",
    "            'Knowledge Retention': 0.55,\n",
    "            'Toxicity': 0.25,\n",
    "            'Precision': 0.67,\n",
    "            'Recall': 0.72,\n",
    "            'F1 Score': 0.68,\n",
    "            'BLEU': 0.12\n",
    "        }\n",
    "    }\n",
    "]\n",
    "\n",
    "visualizer = LLMVisualizer(models)\n",
    "visualizer.create_tabs()\n"
   ],
   "id": "1eecaf2207d1cb6c",
   "outputs": [
    {
     "data": {
      "text/plain": [
       "Tab(children=(Output(), Output(), Output(), Output(), Output(), Output(), Output(), Output()), selected_index=…"
      ],
      "application/vnd.jupyter.widget-view+json": {
       "version_major": 2,
       "version_minor": 0,
       "model_id": "88e18fb6b49d45ed9524c3fec7146457"
      }
     },
     "metadata": {},
     "output_type": "display_data"
    }
   ],
   "execution_count": null
  },
  {
   "metadata": {},
   "cell_type": "code",
   "outputs": [],
   "execution_count": null,
   "source": "",
   "id": "cd1eef2f0888d261"
  }
 ],
 "metadata": {
  "kernelspec": {
   "display_name": "Python 3",
   "language": "python",
   "name": "python3"
  },
  "language_info": {
   "codemirror_mode": {
    "name": "ipython",
    "version": 2
   },
   "file_extension": ".py",
   "mimetype": "text/x-python",
   "name": "python",
   "nbconvert_exporter": "python",
   "pygments_lexer": "ipython2",
   "version": "2.7.6"
  }
 },
 "nbformat": 4,
 "nbformat_minor": 5
}
