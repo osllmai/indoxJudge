{
 "cells": [
  {
   "cell_type": "markdown",
   "id": "9429a0e6983c0c91",
   "metadata": {},
   "source": "[![Open In Colab](https://colab.research.google.com/assets/colab-badge.svg)](https://colab.research.google.com/github/osllmai/inDoxjudge/blob/feature/visualization_2/examples/llm_comparison.ipynb)"
  },
  {
   "cell_type": "code",
   "execution_count": null,
   "id": "a6a29e130cff8e1c",
   "metadata": {},
   "outputs": [],
   "source": [
    "!pip install git+https://github.com/osllmai/indoxjudge@feature/visualization_2"
   ]
  },
  {
   "cell_type": "code",
   "execution_count": null,
   "id": "7ebde2b81b964c90",
   "metadata": {},
   "outputs": [],
   "source": [
    "!pip install plotly\n",
    "!pip install dash\n",
    "!dash_bootstrap_components"
   ]
  },
  {
   "cell_type": "code",
   "id": "ce1cb93248ee2d68",
   "metadata": {
    "ExecuteTime": {
     "end_time": "2024-08-07T15:07:19.946482Z",
     "start_time": "2024-08-07T15:07:19.940789Z"
    }
   },
   "source": [
    "models = [{'name': 'Model_1',\n",
    "  'score': 0.50,\n",
    "  'metrics': {'Faithfulness': 0.55,\n",
    "   'AnswerRelevancy': 1.0,\n",
    "   'Bias': 0.45,\n",
    "   'Hallucination': 0.8,\n",
    "   'KnowledgeRetention': 0.0,\n",
    "   'Toxicity': 0.0,\n",
    "   'precision': 0.64,\n",
    "   'recall': 0.77,\n",
    "   'f1_score': 0.70,\n",
    "   'BLEU': 0.11}},\n",
    " {'name': 'Model_2',\n",
    "  'score': 0.61,\n",
    "  'metrics': {'Faithfulness': 1.0,\n",
    "   'AnswerRelevancy': 1.0,\n",
    "   'Bias': 0.0,\n",
    "   'Hallucination': 0.8,\n",
    "   'KnowledgeRetention': 1.0,\n",
    "   'Toxicity': 0.0,\n",
    "   'precision': 0.667,\n",
    "   'recall': 0.77,\n",
    "   'f1_score': 0.71,\n",
    "   'BLEU': 0.14}},\n",
    " {'name': 'Model_3',\n",
    "  'score': 0.050,\n",
    "  'metrics': {'Faithfulness': 1.0,\n",
    "   'AnswerRelevancy': 1.0,\n",
    "   'Bias': 0.0,\n",
    "   'Hallucination': 0.83,\n",
    "   'KnowledgeRetention': 0.0,\n",
    "   'Toxicity': 0.0,\n",
    "   'precision': 0.64,\n",
    "   'recall': 0.76,\n",
    "   'f1_score': 0.70,\n",
    "   'BLEU': 0.10}},\n",
    "]"
   ],
   "outputs": [],
   "execution_count": 1
  },
  {
   "cell_type": "code",
   "id": "initial_id",
   "metadata": {
    "collapsed": true,
    "ExecuteTime": {
     "end_time": "2024-08-07T06:43:22.495597Z",
     "start_time": "2024-08-07T06:43:19.343968Z"
    }
   },
   "source": [
    "from indoxJudge.piplines import LLMComparison\n",
    "llm_visualizer = LLMComparison(models=models)\n",
    "llm_visualizer.plot()"
   ],
   "outputs": [
    {
     "name": "stdout",
     "output_type": "stream",
     "text": [
      "Dash app running on http://127.0.0.1:8050/\n"
     ]
    }
   ],
   "execution_count": 2
  },
  {
   "metadata": {},
   "cell_type": "code",
   "outputs": [],
   "execution_count": null,
   "source": "",
   "id": "9262da7e956d34c2"
  }
 ],
 "metadata": {
  "kernelspec": {
   "display_name": "Python 3",
   "language": "python",
   "name": "python3"
  },
  "language_info": {
   "codemirror_mode": {
    "name": "ipython",
    "version": 3
   },
   "file_extension": ".py",
   "mimetype": "text/x-python",
   "name": "python",
   "nbconvert_exporter": "python",
   "pygments_lexer": "ipython3",
   "version": "3.12.4"
  }
 },
 "nbformat": 4,
 "nbformat_minor": 5
}
