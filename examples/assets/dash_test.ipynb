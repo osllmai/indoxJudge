{
 "cells": [
  {
   "metadata": {
    "ExecuteTime": {
     "end_time": "2024-08-05T05:22:31.483628Z",
     "start_time": "2024-08-05T05:22:31.479946Z"
    }
   },
   "cell_type": "code",
   "source": [
    "models = [{'name': 'Model_1',\n",
    "  'score': 0.5052221360506086,\n",
    "  'metrics': {'Faithfulness': 0.5555555555555556,\n",
    "   'AnswerRelevancy': 1.0,\n",
    "   'Bias': 0.45,\n",
    "   'Hallucination': 0.8,\n",
    "   'KnowledgeRetention': 0.0,\n",
    "   'Toxicity': 0.0,\n",
    "   'precision': 0.6495616879278017,\n",
    "   'recall': 0.7740253260379719,\n",
    "   'f1_score': 0.706328937705019,\n",
    "   'BLEU': 0.11674985327973864}},\n",
    " {'name': 'Model_2',\n",
    "  'score': 0.610431328378558,\n",
    "  'metrics': {'Faithfulness': 1.0,\n",
    "   'AnswerRelevancy': 1.0,\n",
    "   'Bias': 0.0,\n",
    "   'Hallucination': 0.8,\n",
    "   'KnowledgeRetention': 1.0,\n",
    "   'Toxicity': 0.0,\n",
    "   'precision': 0.6674364350736142,\n",
    "   'recall': 0.7731039185248689,\n",
    "   'f1_score': 0.7163641047119497,\n",
    "   'BLEU': 0.14740882547514672}},\n",
    " {'name': 'Model_3',\n",
    "  'score': 0.050454957037878626,\n",
    "  'metrics': {'Faithfulness': 1.0,\n",
    "   'AnswerRelevancy': 1.0,\n",
    "   'Bias': 0.0,\n",
    "   'Hallucination': 0.8333333333333334,\n",
    "   'KnowledgeRetention': 0.0,\n",
    "   'Toxicity': 0.0,\n",
    "   'precision': 0.6493304281323045,\n",
    "   'recall': 0.7609457713546335,\n",
    "   'f1_score': 0.7006874545225679,\n",
    "   'BLEU': 0.10119871644502468}},\n",
    "]"
   ],
   "id": "ce1cb93248ee2d68",
   "outputs": [],
   "execution_count": 1
  },
  {
   "cell_type": "code",
   "id": "initial_id",
   "metadata": {
    "collapsed": true,
    "ExecuteTime": {
     "end_time": "2024-08-05T05:25:05.222844Z",
     "start_time": "2024-08-05T05:24:55.293249Z"
    }
   },
   "source": [
    "from indoxJudge.piplines import LLMVisualizer\n",
    "llm_visualizer = LLMVisualizer(models=models)\n",
    "llm_visualizer.plot()"
   ],
   "outputs": [
    {
     "data": {
      "text/plain": [
       "<IPython.core.display.HTML object>"
      ],
      "text/html": [
       "<!doctype html>\n",
       "<html lang=en>\n",
       "<title>500 Internal Server Error</title>\n",
       "<h1>Internal Server Error</h1>\n",
       "<p>The server encountered an internal error and was unable to complete your request. Either the server is overloaded or there is an error in the application.</p>\n"
      ]
     },
     "metadata": {},
     "output_type": "display_data"
    }
   ],
   "execution_count": 4
  },
  {
   "metadata": {},
   "cell_type": "code",
   "outputs": [],
   "execution_count": null,
   "source": "",
   "id": "9f5ff8e28ba24751"
  }
 ],
 "metadata": {
  "kernelspec": {
   "display_name": "Python 3",
   "language": "python",
   "name": "python3"
  },
  "language_info": {
   "codemirror_mode": {
    "name": "ipython",
    "version": 2
   },
   "file_extension": ".py",
   "mimetype": "text/x-python",
   "name": "python",
   "nbconvert_exporter": "python",
   "pygments_lexer": "ipython2",
   "version": "2.7.6"
  }
 },
 "nbformat": 4,
 "nbformat_minor": 5
}
