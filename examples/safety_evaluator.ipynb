{
  "cells": [
    {
      "cell_type": "markdown",
      "id": "683cbd8af3980e07",
      "metadata": {
        "id": "683cbd8af3980e07"
      },
      "source": [
        "# Safety Evaluator"
      ]
    },
    {
      "cell_type": "markdown",
      "id": "5413162f477c5781",
      "metadata": {
        "id": "5413162f477c5781"
      },
      "source": [
        "[![Open In Colab](https://colab.research.google.com/assets/colab-badge.svg)](https://colab.research.google.com/github/osllmai/inDoxJudge/blob/main/examples/safety_evaluator.ipynb)"
      ]
    },
    {
      "cell_type": "code",
      "id": "59547c8b03b3fd98",
      "metadata": {
        "colab": {
          "base_uri": "https://localhost:8080/"
        },
        "id": "59547c8b03b3fd98",
        "outputId": "5cfc1279-e897-47bb-ffc2-b6deab975121"
      },
      "source": [
        "!pip install git+https://github.com/osllmai/indoxjudge@main -U\n",
        "!pip install python-dotenv"
      ],
      "outputs": [
        {
          "output_type": "stream",
          "name": "stdout",
          "text": [
            "Collecting git+https://github.com/osllmai/indoxjudge@main\n",
            "  Cloning https://github.com/osllmai/indoxjudge (to revision main) to /tmp/pip-req-build-j53vq_qb\n",
            "  Running command git clone --filter=blob:none --quiet https://github.com/osllmai/indoxjudge /tmp/pip-req-build-j53vq_qb\n",
            "  Resolved https://github.com/osllmai/indoxjudge to commit 80ec1ffdc297158b300635371cf19d7931a43fef\n",
            "  Preparing metadata (setup.py) ... \u001b[?25l\u001b[?25hdone\n",
            "Collecting dash (from indoxJudge==0.0.1)\n",
            "  Downloading dash-2.17.1-py3-none-any.whl.metadata (10 kB)\n",
            "Collecting dash_bootstrap_components (from indoxJudge==0.0.1)\n",
            "  Downloading dash_bootstrap_components-1.6.0-py3-none-any.whl.metadata (5.2 kB)\n",
            "Collecting dash_daq (from indoxJudge==0.0.1)\n",
            "  Downloading dash_daq-0.5.0.tar.gz (642 kB)\n",
            "\u001b[2K     \u001b[90m━━━━━━━━━━━━━━━━━━━━━━━━━━━━━━━━━━━━━━━━\u001b[0m \u001b[32m642.7/642.7 kB\u001b[0m \u001b[31m29.2 MB/s\u001b[0m eta \u001b[36m0:00:00\u001b[0m\n",
            "\u001b[?25h  Preparing metadata (setup.py) ... \u001b[?25l\u001b[?25hdone\n",
            "Requirement already satisfied: ipython in /usr/local/lib/python3.10/dist-packages (from indoxJudge==0.0.1) (7.34.0)\n",
            "Collecting loguru (from indoxJudge==0.0.1)\n",
            "  Downloading loguru-0.7.2-py3-none-any.whl.metadata (23 kB)\n",
            "Requirement already satisfied: nltk in /usr/local/lib/python3.10/dist-packages (from indoxJudge==0.0.1) (3.8.1)\n",
            "Requirement already satisfied: numpy in /usr/local/lib/python3.10/dist-packages (from indoxJudge==0.0.1) (1.26.4)\n",
            "Requirement already satisfied: pandas in /usr/local/lib/python3.10/dist-packages (from indoxJudge==0.0.1) (2.1.4)\n",
            "Requirement already satisfied: plotly in /usr/local/lib/python3.10/dist-packages (from indoxJudge==0.0.1) (5.15.0)\n",
            "Requirement already satisfied: protobuf in /usr/local/lib/python3.10/dist-packages (from indoxJudge==0.0.1) (3.20.3)\n",
            "Requirement already satisfied: pydantic in /usr/local/lib/python3.10/dist-packages (from indoxJudge==0.0.1) (2.8.2)\n",
            "Requirement already satisfied: Requests in /usr/local/lib/python3.10/dist-packages (from indoxJudge==0.0.1) (2.32.3)\n",
            "Requirement already satisfied: tenacity in /usr/local/lib/python3.10/dist-packages (from indoxJudge==0.0.1) (9.0.0)\n",
            "Requirement already satisfied: tqdm in /usr/local/lib/python3.10/dist-packages (from indoxJudge==0.0.1) (4.66.5)\n",
            "Requirement already satisfied: Flask<3.1,>=1.0.4 in /usr/local/lib/python3.10/dist-packages (from dash->indoxJudge==0.0.1) (2.2.5)\n",
            "Requirement already satisfied: Werkzeug<3.1 in /usr/local/lib/python3.10/dist-packages (from dash->indoxJudge==0.0.1) (3.0.3)\n",
            "Collecting dash-html-components==2.0.0 (from dash->indoxJudge==0.0.1)\n",
            "  Downloading dash_html_components-2.0.0-py3-none-any.whl.metadata (3.8 kB)\n",
            "Collecting dash-core-components==2.0.0 (from dash->indoxJudge==0.0.1)\n",
            "  Downloading dash_core_components-2.0.0-py3-none-any.whl.metadata (2.9 kB)\n",
            "Collecting dash-table==5.0.0 (from dash->indoxJudge==0.0.1)\n",
            "  Downloading dash_table-5.0.0-py3-none-any.whl.metadata (2.4 kB)\n",
            "Requirement already satisfied: importlib-metadata in /usr/local/lib/python3.10/dist-packages (from dash->indoxJudge==0.0.1) (8.2.0)\n",
            "Requirement already satisfied: typing-extensions>=4.1.1 in /usr/local/lib/python3.10/dist-packages (from dash->indoxJudge==0.0.1) (4.12.2)\n",
            "Collecting retrying (from dash->indoxJudge==0.0.1)\n",
            "  Downloading retrying-1.3.4-py3-none-any.whl.metadata (6.9 kB)\n",
            "Requirement already satisfied: nest-asyncio in /usr/local/lib/python3.10/dist-packages (from dash->indoxJudge==0.0.1) (1.6.0)\n",
            "Requirement already satisfied: setuptools in /usr/local/lib/python3.10/dist-packages (from dash->indoxJudge==0.0.1) (71.0.4)\n",
            "Requirement already satisfied: packaging in /usr/local/lib/python3.10/dist-packages (from plotly->indoxJudge==0.0.1) (24.1)\n",
            "Collecting jedi>=0.16 (from ipython->indoxJudge==0.0.1)\n",
            "  Using cached jedi-0.19.1-py2.py3-none-any.whl.metadata (22 kB)\n",
            "Requirement already satisfied: decorator in /usr/local/lib/python3.10/dist-packages (from ipython->indoxJudge==0.0.1) (4.4.2)\n",
            "Requirement already satisfied: pickleshare in /usr/local/lib/python3.10/dist-packages (from ipython->indoxJudge==0.0.1) (0.7.5)\n",
            "Requirement already satisfied: traitlets>=4.2 in /usr/local/lib/python3.10/dist-packages (from ipython->indoxJudge==0.0.1) (5.7.1)\n",
            "Requirement already satisfied: prompt-toolkit!=3.0.0,!=3.0.1,<3.1.0,>=2.0.0 in /usr/local/lib/python3.10/dist-packages (from ipython->indoxJudge==0.0.1) (3.0.47)\n",
            "Requirement already satisfied: pygments in /usr/local/lib/python3.10/dist-packages (from ipython->indoxJudge==0.0.1) (2.16.1)\n",
            "Requirement already satisfied: backcall in /usr/local/lib/python3.10/dist-packages (from ipython->indoxJudge==0.0.1) (0.2.0)\n",
            "Requirement already satisfied: matplotlib-inline in /usr/local/lib/python3.10/dist-packages (from ipython->indoxJudge==0.0.1) (0.1.7)\n",
            "Requirement already satisfied: pexpect>4.3 in /usr/local/lib/python3.10/dist-packages (from ipython->indoxJudge==0.0.1) (4.9.0)\n",
            "Requirement already satisfied: click in /usr/local/lib/python3.10/dist-packages (from nltk->indoxJudge==0.0.1) (8.1.7)\n",
            "Requirement already satisfied: joblib in /usr/local/lib/python3.10/dist-packages (from nltk->indoxJudge==0.0.1) (1.4.2)\n",
            "Requirement already satisfied: regex>=2021.8.3 in /usr/local/lib/python3.10/dist-packages (from nltk->indoxJudge==0.0.1) (2024.5.15)\n",
            "Requirement already satisfied: python-dateutil>=2.8.2 in /usr/local/lib/python3.10/dist-packages (from pandas->indoxJudge==0.0.1) (2.8.2)\n",
            "Requirement already satisfied: pytz>=2020.1 in /usr/local/lib/python3.10/dist-packages (from pandas->indoxJudge==0.0.1) (2024.1)\n",
            "Requirement already satisfied: tzdata>=2022.1 in /usr/local/lib/python3.10/dist-packages (from pandas->indoxJudge==0.0.1) (2024.1)\n",
            "Requirement already satisfied: annotated-types>=0.4.0 in /usr/local/lib/python3.10/dist-packages (from pydantic->indoxJudge==0.0.1) (0.7.0)\n",
            "Requirement already satisfied: pydantic-core==2.20.1 in /usr/local/lib/python3.10/dist-packages (from pydantic->indoxJudge==0.0.1) (2.20.1)\n",
            "Requirement already satisfied: charset-normalizer<4,>=2 in /usr/local/lib/python3.10/dist-packages (from Requests->indoxJudge==0.0.1) (3.3.2)\n",
            "Requirement already satisfied: idna<4,>=2.5 in /usr/local/lib/python3.10/dist-packages (from Requests->indoxJudge==0.0.1) (3.7)\n",
            "Requirement already satisfied: urllib3<3,>=1.21.1 in /usr/local/lib/python3.10/dist-packages (from Requests->indoxJudge==0.0.1) (2.0.7)\n",
            "Requirement already satisfied: certifi>=2017.4.17 in /usr/local/lib/python3.10/dist-packages (from Requests->indoxJudge==0.0.1) (2024.7.4)\n",
            "Requirement already satisfied: Jinja2>=3.0 in /usr/local/lib/python3.10/dist-packages (from Flask<3.1,>=1.0.4->dash->indoxJudge==0.0.1) (3.1.4)\n",
            "Requirement already satisfied: itsdangerous>=2.0 in /usr/local/lib/python3.10/dist-packages (from Flask<3.1,>=1.0.4->dash->indoxJudge==0.0.1) (2.2.0)\n",
            "Requirement already satisfied: parso<0.9.0,>=0.8.3 in /usr/local/lib/python3.10/dist-packages (from jedi>=0.16->ipython->indoxJudge==0.0.1) (0.8.4)\n",
            "Requirement already satisfied: ptyprocess>=0.5 in /usr/local/lib/python3.10/dist-packages (from pexpect>4.3->ipython->indoxJudge==0.0.1) (0.7.0)\n",
            "Requirement already satisfied: wcwidth in /usr/local/lib/python3.10/dist-packages (from prompt-toolkit!=3.0.0,!=3.0.1,<3.1.0,>=2.0.0->ipython->indoxJudge==0.0.1) (0.2.13)\n",
            "Requirement already satisfied: six>=1.5 in /usr/local/lib/python3.10/dist-packages (from python-dateutil>=2.8.2->pandas->indoxJudge==0.0.1) (1.16.0)\n",
            "Requirement already satisfied: MarkupSafe>=2.1.1 in /usr/local/lib/python3.10/dist-packages (from Werkzeug<3.1->dash->indoxJudge==0.0.1) (2.1.5)\n",
            "Requirement already satisfied: zipp>=0.5 in /usr/local/lib/python3.10/dist-packages (from importlib-metadata->dash->indoxJudge==0.0.1) (3.19.2)\n",
            "Downloading dash-2.17.1-py3-none-any.whl (7.5 MB)\n",
            "\u001b[2K   \u001b[90m━━━━━━━━━━━━━━━━━━━━━━━━━━━━━━━━━━━━━━━━\u001b[0m \u001b[32m7.5/7.5 MB\u001b[0m \u001b[31m91.9 MB/s\u001b[0m eta \u001b[36m0:00:00\u001b[0m\n",
            "\u001b[?25hDownloading dash_core_components-2.0.0-py3-none-any.whl (3.8 kB)\n",
            "Downloading dash_html_components-2.0.0-py3-none-any.whl (4.1 kB)\n",
            "Downloading dash_table-5.0.0-py3-none-any.whl (3.9 kB)\n",
            "Downloading dash_bootstrap_components-1.6.0-py3-none-any.whl (222 kB)\n",
            "\u001b[2K   \u001b[90m━━━━━━━━━━━━━━━━━━━━━━━━━━━━━━━━━━━━━━━━\u001b[0m \u001b[32m222.5/222.5 kB\u001b[0m \u001b[31m16.2 MB/s\u001b[0m eta \u001b[36m0:00:00\u001b[0m\n",
            "\u001b[?25hDownloading loguru-0.7.2-py3-none-any.whl (62 kB)\n",
            "\u001b[2K   \u001b[90m━━━━━━━━━━━━━━━━━━━━━━━━━━━━━━━━━━━━━━━━\u001b[0m \u001b[32m62.5/62.5 kB\u001b[0m \u001b[31m4.6 MB/s\u001b[0m eta \u001b[36m0:00:00\u001b[0m\n",
            "\u001b[?25hUsing cached jedi-0.19.1-py2.py3-none-any.whl (1.6 MB)\n",
            "Downloading retrying-1.3.4-py3-none-any.whl (11 kB)\n",
            "Building wheels for collected packages: indoxJudge, dash_daq\n",
            "  Building wheel for indoxJudge (setup.py) ... \u001b[?25l\u001b[?25hdone\n",
            "  Created wheel for indoxJudge: filename=indoxJudge-0.0.1-py3-none-any.whl size=82882 sha256=5a07dd50b61adaa72542d42d08018f766d99cc3ce4ee088daaf1ca230a6e935a\n",
            "  Stored in directory: /tmp/pip-ephem-wheel-cache-fh72kaln/wheels/28/cf/e2/e8e5631ab6cc9421c50d1503982444f0fdd6483065edb9e4a9\n",
            "  Building wheel for dash_daq (setup.py) ... \u001b[?25l\u001b[?25hdone\n",
            "  Created wheel for dash_daq: filename=dash_daq-0.5.0-py3-none-any.whl size=669693 sha256=67cadb6a161cc3d3b3eabfccc537e868dfd46d3746c406ca703661e2d62fecd0\n",
            "  Stored in directory: /root/.cache/pip/wheels/75/14/1b/208d09d5e239391048bdc167759977b41ba65a3d4063aebf6b\n",
            "Successfully built indoxJudge dash_daq\n",
            "Installing collected packages: dash-table, dash-html-components, dash-core-components, retrying, loguru, jedi, dash, dash_daq, dash_bootstrap_components, indoxJudge\n",
            "Successfully installed dash-2.17.1 dash-core-components-2.0.0 dash-html-components-2.0.0 dash-table-5.0.0 dash_bootstrap_components-1.6.0 dash_daq-0.5.0 indoxJudge-0.0.1 jedi-0.19.1 loguru-0.7.2 retrying-1.3.4\n",
            "Collecting python-dotenv\n",
            "  Downloading python_dotenv-1.0.1-py3-none-any.whl.metadata (23 kB)\n",
            "Downloading python_dotenv-1.0.1-py3-none-any.whl (19 kB)\n",
            "Installing collected packages: python-dotenv\n",
            "Successfully installed python-dotenv-1.0.1\n"
          ]
        }
      ],
      "execution_count": 1
    },
    {
      "cell_type": "markdown",
      "id": "c259ce9e5cffc8c0",
      "metadata": {
        "id": "c259ce9e5cffc8c0"
      },
      "source": [
        "## Setting Up the Python Environment\n",
        "\n",
        "If you are running this project in your local IDE, please create a Python environment to ensure all dependencies are correctly managed. You can follow the steps below to set up a virtual environment named `indoxJudge`:\n",
        "\n",
        "### Windows\n",
        "\n",
        "1. **Create the virtual environment:**\n",
        "```bash\n",
        "python -m venv indoxJudge\n",
        "```\n",
        "2. **Activate the virtual environment:**\n",
        "```bash\n",
        "indoxJudge\\Scripts\\activate\n",
        "```\n",
        "\n",
        "### macOS/Linux\n",
        "\n",
        "1. **Create the virtual environment:**\n",
        "   ```bash\n",
        "   python3 -m venv indoxJudge\n",
        "```\n",
        "\n",
        "2. **Activate the virtual environment:**\n",
        "    ```bash\n",
        "   source indoxJudge/bin/activate\n",
        "```\n",
        "### Install Dependencies\n",
        "\n",
        "Once the virtual environment is activated, install the required dependencies by running:\n",
        "\n",
        "```bash\n",
        "pip install -r requirements.txt\n",
        "```\n"
      ]
    },
    {
      "cell_type": "code",
      "id": "initial_id",
      "metadata": {
        "collapsed": true,
        "id": "initial_id",
        "ExecuteTime": {
          "end_time": "2024-08-11T07:29:14.580690Z",
          "start_time": "2024-08-11T07:29:14.560484Z"
        }
      },
      "source": [
        "import os\n",
        "from dotenv import load_dotenv\n",
        "\n",
        "load_dotenv()\n",
        "INDOX_API_KEY = os.getenv(\"INDOX_API_KEY\")\n"
      ],
      "outputs": [],
      "execution_count": 2
    },
    {
      "cell_type": "code",
      "id": "c243c048e503e90f",
      "metadata": {
        "id": "c243c048e503e90f",
        "ExecuteTime": {
          "end_time": "2024-08-11T07:29:14.944089Z",
          "start_time": "2024-08-11T07:29:14.933233Z"
        }
      },
      "source": [
        "response = \"The Mediterranean diet is known for its health benefits, including reducing the risk of heart disease, stroke, and diabetes. It encourages the consumption of fruits, vegetables, whole grains, nuts, and olive oil, while limiting red meat. Additionally, this diet has been associated with better cognitive function and a reduced risk of Alzheimer's disease, promoting longevity and overall well-being.\""
      ],
      "outputs": [],
      "execution_count": 3
    },
    {
      "cell_type": "markdown",
      "id": "65529ced4f6beb0b",
      "metadata": {
        "id": "65529ced4f6beb0b"
      },
      "source": [
        "## Importing Required Modules\n",
        "imports the necessary classes from the indoxJudge library. SafetyEvaluator is the class used for evaluating language models based on various metrics, and OpenAi is the class used to interact with the OpenAI models, such as GPT-3.5."
      ]
    },
    {
      "cell_type": "code",
      "id": "57511dda37de77a4",
      "metadata": {
        "id": "57511dda37de77a4",
        "ExecuteTime": {
          "end_time": "2024-08-11T07:29:17.683656Z",
          "start_time": "2024-08-11T07:29:15.702610Z"
        }
      },
      "source": [
        "from indoxJudge.piplines import SafetyEvaluator\n",
        "from indoxJudge.models import IndoxApi"
      ],
      "outputs": [],
      "execution_count": 4
    },
    {
      "cell_type": "markdown",
      "id": "14599bd20a3d8f5d",
      "metadata": {
        "id": "14599bd20a3d8f5d"
      },
      "source": [
        "## Initializing the OpenAI Model\n",
        "Here, the OpenAi class is instantiated to create a model object that interacts with OpenAI's gpt-3.5-turbo-0125 model. The api_key is passed to authenticate the API request. Replace OPENAI_API_KEY with your actual API key."
      ]
    },
    {
      "cell_type": "code",
      "id": "b8f0ad7b798f17c9",
      "metadata": {
        "id": "b8f0ad7b798f17c9",
        "ExecuteTime": {
          "end_time": "2024-08-11T07:29:22.347562Z",
          "start_time": "2024-08-11T07:29:21.329129Z"
        }
      },
      "source": [
        "model = IndoxApi(api_key=INDOX_API_KEY)"
      ],
      "outputs": [],
      "execution_count": 5
    },
    {
      "cell_type": "code",
      "id": "53d8bf90524259fa",
      "metadata": {
        "colab": {
          "base_uri": "https://localhost:8080/"
        },
        "id": "53d8bf90524259fa",
        "outputId": "a66c570d-26fa-4039-d69a-afd64acc3921",
        "ExecuteTime": {
          "end_time": "2024-08-11T07:29:22.353119Z",
          "start_time": "2024-08-11T07:29:22.347562Z"
        }
      },
      "source": [
        "evaluator = SafetyEvaluator(model=model, input=response)\n"
      ],
      "outputs": [
        {
          "output_type": "stream",
          "name": "stdout",
          "text": [
            "\u001b[32mINFO\u001b[0m: \u001b[1mEvaluator initialized with model and metrics.\u001b[0m\n",
            "\u001b[32mINFO\u001b[0m: \u001b[1mModel set for all metrics.\u001b[0m\n"
          ]
        }
      ],
      "execution_count": 6
    },
    {
      "cell_type": "markdown",
      "id": "b11a2ae0a78d3b70",
      "metadata": {
        "id": "b11a2ae0a78d3b70"
      },
      "source": [
        "**Explanation:**\n",
        "\n",
        "- **Running the Evaluation:** This line calls the `judge` method on the `evaluator` object. The `judge` method runs through all the specified metrics (e.g., Fairness, Harmfulness, Privacy, Misinformation, StereotypeBias, MachineEthics) to evaluate the language model's performance.\n",
        "  \n",
        "- **Logging the Process:** As the evaluation runs, the process logs the start and completion of each metric evaluation, providing feedback on the progress. Each log entry is tagged with an INFO level, indicating routine operational messages.\n",
        "  \n",
        "- **Handling Warnings:** You may notice a warning regarding model initialization and a future deprecation notice from the Hugging Face Transformers library. These warnings inform you about potential issues related to model compatibility and upcoming changes in the library.\n",
        "  \n",
        "- **Evaluate Metrics:** This line calls the `judge` method on the `evaluator` instance. It is expected to return two values: `metrics_score` and `metrics_reasons`. `metrics_score`  contains the evaluation scores for various metrics, and `metrics_reasons` provides explanations or justifications for the scores.\n",
        "\n"
      ]
    },
    {
      "cell_type": "code",
      "id": "af324b3695562eb2",
      "metadata": {
        "colab": {
          "base_uri": "https://localhost:8080/"
        },
        "id": "af324b3695562eb2",
        "outputId": "0c9314e0-733d-4fb0-c7f0-c993bd9bb93a",
        "ExecuteTime": {
          "end_time": "2024-08-11T07:30:06.403483Z",
          "start_time": "2024-08-11T07:29:49.514081Z"
        }
      },
      "source": [
        "import json\n",
        "metrics_score, metrics_reasons = evaluator.judge()\n",
        "\n",
        "print(\"Metrics Scores:\")\n",
        "print(json.dumps(metrics_score, indent=4))"
      ],
      "outputs": [
        {
          "output_type": "stream",
          "name": "stdout",
          "text": [
            "\u001b[32mINFO\u001b[0m: \u001b[1mEvaluating metric: Fairness\u001b[0m\n",
            "\u001b[32mINFO\u001b[0m: \u001b[1mEvaluating metric: Harmfulness\u001b[0m\n",
            "\u001b[32mINFO\u001b[0m: \u001b[1mEvaluating metric: Privacy\u001b[0m\n",
            "\u001b[32mINFO\u001b[0m: \u001b[1mEvaluating metric: Misinformation\u001b[0m\n",
            "\u001b[32mINFO\u001b[0m: \u001b[1mEvaluating metric: MachineEthics\u001b[0m\n",
            "\u001b[32mINFO\u001b[0m: \u001b[1mEvaluating metric: StereotypeBias\u001b[0m\n",
            "Metrics Scores:\n",
            "{\n",
            "    \"Fairness\": 1.0,\n",
            "    \"Harmfulness\": 0.1,\n",
            "    \"Privacy\": 0.2,\n",
            "    \"Misinformation\": 0.1,\n",
            "    \"MachineEthics\": 0.9,\n",
            "    \"StereotypeBias\": 0.2\n",
            "}\n"
          ]
        }
      ],
      "execution_count": 7
    },
    {
      "cell_type": "markdown",
      "id": "5bdd339ed8bc5be6",
      "metadata": {
        "id": "5bdd339ed8bc5be6"
      },
      "source": [
        "**Explanation:**\n",
        "\n",
        "- **Plotting Evaluation Metrics:** This line generates visual plots of the evaluation metrics using the `plot` method of the `evaluator` object. The plots provide a graphical representation of the model's performance across different metrics, making it easier to analyze and compare the results.\n",
        "\n",
        "- **Dash UI Interface:** When `mode=\"external\"` is used, this will open a Dash UI in a new browser window or tab to display the evaluation metrics plots interactively.\n",
        "\n",
        "- **Colab Users:** If you are using Google Colab, it is recommended to set `mode=\"inline\"` instead. This will render the plots directly within the notebook, making it more convenient for users working in an online environment like Colab.\n"
      ]
    },
    {
      "cell_type": "code",
      "id": "f1ca2f3ea94d1ee7",
      "metadata": {
        "colab": {
          "base_uri": "https://localhost:8080/",
          "height": 52
        },
        "id": "f1ca2f3ea94d1ee7",
        "outputId": "db8a331c-e823-4bae-8601-a8aa03064070"
      },
      "source": [
        "evaluator.plot(mode=\"external\")"
      ],
      "outputs": [
        {
          "output_type": "stream",
          "name": "stdout",
          "text": [
            "Dash app running on:\n"
          ]
        },
        {
          "output_type": "display_data",
          "data": {
            "text/plain": [
              "<IPython.core.display.Javascript object>"
            ],
            "application/javascript": [
              "(async (port, path, text, element) => {\n",
              "    if (!google.colab.kernel.accessAllowed) {\n",
              "      return;\n",
              "    }\n",
              "    element.appendChild(document.createTextNode(''));\n",
              "    const url = await google.colab.kernel.proxyPort(port);\n",
              "    const anchor = document.createElement('a');\n",
              "    anchor.href = new URL(path, url).toString();\n",
              "    anchor.target = '_blank';\n",
              "    anchor.setAttribute('data-href', url + path);\n",
              "    anchor.textContent = text;\n",
              "    element.appendChild(anchor);\n",
              "  })(8050, \"/\", \"http://127.0.0.1:8050/\", window.element)"
            ]
          },
          "metadata": {}
        }
      ],
      "execution_count": 9
    },
    {
      "metadata": {
        "id": "b75f5a9aa22ee021"
      },
      "cell_type": "code",
      "outputs": [],
      "execution_count": 8,
      "source": [],
      "id": "b75f5a9aa22ee021"
    }
  ],
  "metadata": {
    "kernelspec": {
      "display_name": "Python 3",
      "language": "python",
      "name": "python3"
    },
    "language_info": {
      "codemirror_mode": {
        "name": "ipython",
        "version": 3
      },
      "file_extension": ".py",
      "mimetype": "text/x-python",
      "name": "python",
      "nbconvert_exporter": "python",
      "pygments_lexer": "ipython3",
      "version": "3.10.7"
    },
    "colab": {
      "provenance": []
    }
  },
  "nbformat": 4,
  "nbformat_minor": 5
}