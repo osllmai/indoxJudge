{
 "cells": [
  {
   "metadata": {
    "ExecuteTime": {
     "end_time": "2024-08-07T04:59:41.306329Z",
     "start_time": "2024-08-07T04:59:32.902594Z"
    }
   },
   "cell_type": "code",
   "source": "from indoxJudge.piplines import RagEvaluator",
   "id": "39190e7dc1d5e1d9",
   "outputs": [
    {
     "name": "stderr",
     "output_type": "stream",
     "text": [
      "[nltk_data] Downloading package punkt to\n",
      "[nltk_data]     C:\\Users\\acer\\AppData\\Roaming\\nltk_data...\n",
      "[nltk_data]   Package punkt is already up-to-date!\n",
      "[nltk_data] Downloading package stopwords to\n",
      "[nltk_data]     C:\\Users\\acer\\AppData\\Roaming\\nltk_data...\n",
      "[nltk_data]   Package stopwords is already up-to-date!\n",
      "[nltk_data] Downloading package wordnet to\n",
      "[nltk_data]     C:\\Users\\acer\\AppData\\Roaming\\nltk_data...\n",
      "[nltk_data]   Package wordnet is already up-to-date!\n"
     ]
    }
   ],
   "execution_count": 1
  },
  {
   "metadata": {
    "ExecuteTime": {
     "end_time": "2024-08-07T04:59:41.462448Z",
     "start_time": "2024-08-07T04:59:41.307329Z"
    }
   },
   "cell_type": "code",
   "source": [
    "import os\n",
    "from dotenv import load_dotenv\n",
    "\n",
    "load_dotenv(\"api.env\")\n",
    "INDOX_API_KEY = os.getenv(\"INDOX_API_KEY\")\n",
    "# OPENAI_API_KEY = os.getenv(\"OPENAI_API_KEY\")\n",
    "# from indoxJudge import Evaluator\n",
    "from indoxJudge.models import IndoxApi\n",
    "# from indoxJudge.models import OpenAi\n",
    "# from indoxJudge.metrics import bias, fairness, accuracy, precision, recall, f1_score, roc_auc_score, confusion_matrix\n",
    "model = IndoxApi(api_key=INDOX_API_KEY)"
   ],
   "id": "4844703f16ef476f",
   "outputs": [],
   "execution_count": 2
  },
  {
   "metadata": {
    "ExecuteTime": {
     "end_time": "2024-08-07T04:59:41.478094Z",
     "start_time": "2024-08-07T04:59:41.466021Z"
    }
   },
   "cell_type": "code",
   "source": [
    "query = \"What are the main benefits and drawbacks of remote work?\"\n",
    "retrieval_context = [\n",
    "        \"Remote work allows employees to work from anywhere, reducing the need for commuting. However, it may lead to a sense of isolation and reduced team cohesion.\",    \"Studies have shown that remote work can lead to increased productivity in some cases. However, it can also result in longer working hours and a blurred line between work and personal life.\",    \"Managers often believe that remote workers are less productive, which can result in biased evaluations and reduced career advancement opportunities for these employees.\",    \"Some people, such as parents with young children, find remote work challenging due to the need to balance work and family responsibilities.\",    \"While remote work offers flexibility, it is not suitable for all types of jobs, particularly those requiring high levels of collaboration or access to specialized equipment.\"]\n",
    "response =\"Remote work offers flexibility and reduced commute time, which can lead to a better work-life balance. However, it can also lead to isolation, reduced collaboration, and a lack of clear boundaries between work and personal life. Some studies suggest that remote work can reduce productivity, especially in creative fields. There is also a concern about managers having biased views towards remote workers, assuming they are less committed or productive. Additionally, certain groups may face challenges, such as parents with young children or individuals with disabilities.\""
   ],
   "id": "a44b46f2d672581b",
   "outputs": [],
   "execution_count": 3
  },
  {
   "metadata": {
    "ExecuteTime": {
     "end_time": "2024-08-07T04:59:47.602594Z",
     "start_time": "2024-08-07T04:59:41.486685Z"
    }
   },
   "cell_type": "code",
   "source": "evaluator = RagEvaluator(model, response, retrieval_context, query)",
   "id": "a279258f8d2c0341",
   "outputs": [
    {
     "name": "stderr",
     "output_type": "stream",
     "text": [
      "C:\\Users\\acer\\anaconda3\\envs\\indoxjudge\\lib\\site-packages\\huggingface_hub\\file_download.py:1150: FutureWarning: `resume_download` is deprecated and will be removed in version 1.0.0. Downloads always resume when possible. If you want to force a new download, use `force_download=True`.\n",
      "  warnings.warn(\n"
     ]
    },
    {
     "name": "stdout",
     "output_type": "stream",
     "text": [
      "\u001B[32mINFO\u001B[0m: \u001B[1mRagEvaluator initialized with model and metrics.\u001B[0m\n",
      "\u001B[32mINFO\u001B[0m: \u001B[1mModel set for all metrics.\u001B[0m\n"
     ]
    }
   ],
   "execution_count": 4
  },
  {
   "metadata": {
    "ExecuteTime": {
     "end_time": "2024-08-07T05:00:54.082894Z",
     "start_time": "2024-08-07T04:59:47.608323Z"
    }
   },
   "cell_type": "code",
   "source": "result = evaluator.judge()",
   "id": "46fcf20a78b8cffd",
   "outputs": [
    {
     "name": "stdout",
     "output_type": "stream",
     "text": [
      "\u001B[32mINFO\u001B[0m: \u001B[1mEvaluating metric: Faithfulness\u001B[0m\n",
      "\u001B[32mINFO\u001B[0m: \u001B[1mCompleted evaluation for metric: Faithfulness\u001B[0m\n",
      "\u001B[32mINFO\u001B[0m: \u001B[1mEvaluating metric: AnswerRelevancy\u001B[0m\n",
      "\u001B[32mINFO\u001B[0m: \u001B[1mCompleted evaluation for metric: AnswerRelevancy\u001B[0m\n",
      "\u001B[32mINFO\u001B[0m: \u001B[1mEvaluating metric: ContextualRelevancy\u001B[0m\n",
      "\u001B[32mINFO\u001B[0m: \u001B[1mCompleted evaluation for metric: ContextualRelevancy\u001B[0m\n",
      "\u001B[32mINFO\u001B[0m: \u001B[1mEvaluating metric: GEval\u001B[0m\n",
      "\u001B[32mINFO\u001B[0m: \u001B[1mCompleted evaluation for metric: GEval\u001B[0m\n",
      "\u001B[32mINFO\u001B[0m: \u001B[1mEvaluating metric: Hallucination\u001B[0m\n",
      "\u001B[32mINFO\u001B[0m: \u001B[1mCompleted evaluation for metric: Hallucination\u001B[0m\n",
      "\u001B[32mINFO\u001B[0m: \u001B[1mEvaluating metric: KnowledgeRetention\u001B[0m\n",
      "\u001B[32mINFO\u001B[0m: \u001B[1mCompleted evaluation for metric: KnowledgeRetention\u001B[0m\n",
      "\u001B[32mINFO\u001B[0m: \u001B[1mEvaluating metric: BertScore\u001B[0m\n",
      "\u001B[32mINFO\u001B[0m: \u001B[1mCompleted evaluation for metric: BertScore\u001B[0m\n",
      "\u001B[32mINFO\u001B[0m: \u001B[1mEvaluating metric: METEOR\u001B[0m\n"
     ]
    },
    {
     "name": "stderr",
     "output_type": "stream",
     "text": [
      "[nltk_data] Downloading package punkt to\n",
      "[nltk_data]     C:\\Users\\acer\\AppData\\Roaming\\nltk_data...\n",
      "[nltk_data]   Package punkt is already up-to-date!\n",
      "[nltk_data] Downloading package averaged_perceptron_tagger to\n",
      "[nltk_data]     C:\\Users\\acer\\AppData\\Roaming\\nltk_data...\n",
      "[nltk_data]   Package averaged_perceptron_tagger is already up-to-\n",
      "[nltk_data]       date!\n",
      "[nltk_data] Downloading package wordnet to\n",
      "[nltk_data]     C:\\Users\\acer\\AppData\\Roaming\\nltk_data...\n",
      "[nltk_data]   Package wordnet is already up-to-date!\n"
     ]
    },
    {
     "name": "stdout",
     "output_type": "stream",
     "text": [
      "\u001B[32mINFO\u001B[0m: \u001B[1mCompleted evaluation for metric: METEOR\u001B[0m\n"
     ]
    },
    {
     "name": "stderr",
     "output_type": "stream",
     "text": [
      "[nltk_data] Downloading package punkt to\n",
      "[nltk_data]     C:\\Users\\acer\\AppData\\Roaming\\nltk_data...\n",
      "[nltk_data]   Package punkt is already up-to-date!\n",
      "[nltk_data] Downloading package averaged_perceptron_tagger to\n",
      "[nltk_data]     C:\\Users\\acer\\AppData\\Roaming\\nltk_data...\n",
      "[nltk_data]   Package averaged_perceptron_tagger is already up-to-\n",
      "[nltk_data]       date!\n",
      "[nltk_data] Downloading package wordnet to\n",
      "[nltk_data]     C:\\Users\\acer\\AppData\\Roaming\\nltk_data...\n",
      "[nltk_data]   Package wordnet is already up-to-date!\n",
      "[nltk_data] Downloading package punkt to\n",
      "[nltk_data]     C:\\Users\\acer\\AppData\\Roaming\\nltk_data...\n",
      "[nltk_data]   Package punkt is already up-to-date!\n",
      "[nltk_data] Downloading package averaged_perceptron_tagger to\n",
      "[nltk_data]     C:\\Users\\acer\\AppData\\Roaming\\nltk_data...\n",
      "[nltk_data]   Package averaged_perceptron_tagger is already up-to-\n",
      "[nltk_data]       date!\n",
      "[nltk_data] Downloading package wordnet to\n",
      "[nltk_data]     C:\\Users\\acer\\AppData\\Roaming\\nltk_data...\n",
      "[nltk_data]   Package wordnet is already up-to-date!\n",
      "[nltk_data] Downloading package punkt to\n",
      "[nltk_data]     C:\\Users\\acer\\AppData\\Roaming\\nltk_data...\n",
      "[nltk_data]   Package punkt is already up-to-date!\n",
      "[nltk_data] Downloading package averaged_perceptron_tagger to\n",
      "[nltk_data]     C:\\Users\\acer\\AppData\\Roaming\\nltk_data...\n",
      "[nltk_data]   Package averaged_perceptron_tagger is already up-to-\n",
      "[nltk_data]       date!\n",
      "[nltk_data] Downloading package wordnet to\n",
      "[nltk_data]     C:\\Users\\acer\\AppData\\Roaming\\nltk_data...\n",
      "[nltk_data]   Package wordnet is already up-to-date!\n",
      "[nltk_data] Downloading package punkt to\n",
      "[nltk_data]     C:\\Users\\acer\\AppData\\Roaming\\nltk_data...\n",
      "[nltk_data]   Package punkt is already up-to-date!\n",
      "[nltk_data] Downloading package averaged_perceptron_tagger to\n",
      "[nltk_data]     C:\\Users\\acer\\AppData\\Roaming\\nltk_data...\n",
      "[nltk_data]   Package averaged_perceptron_tagger is already up-to-\n",
      "[nltk_data]       date!\n",
      "[nltk_data] Downloading package wordnet to\n",
      "[nltk_data]     C:\\Users\\acer\\AppData\\Roaming\\nltk_data...\n",
      "[nltk_data]   Package wordnet is already up-to-date!\n",
      "[nltk_data] Downloading package punkt to\n",
      "[nltk_data]     C:\\Users\\acer\\AppData\\Roaming\\nltk_data...\n",
      "[nltk_data]   Package punkt is already up-to-date!\n",
      "[nltk_data] Downloading package averaged_perceptron_tagger to\n",
      "[nltk_data]     C:\\Users\\acer\\AppData\\Roaming\\nltk_data...\n",
      "[nltk_data]   Package averaged_perceptron_tagger is already up-to-\n",
      "[nltk_data]       date!\n",
      "[nltk_data] Downloading package wordnet to\n",
      "[nltk_data]     C:\\Users\\acer\\AppData\\Roaming\\nltk_data...\n",
      "[nltk_data]   Package wordnet is already up-to-date!\n",
      "[nltk_data] Downloading package punkt to\n",
      "[nltk_data]     C:\\Users\\acer\\AppData\\Roaming\\nltk_data...\n",
      "[nltk_data]   Package punkt is already up-to-date!\n",
      "[nltk_data] Downloading package averaged_perceptron_tagger to\n",
      "[nltk_data]     C:\\Users\\acer\\AppData\\Roaming\\nltk_data...\n",
      "[nltk_data]   Package averaged_perceptron_tagger is already up-to-\n",
      "[nltk_data]       date!\n",
      "[nltk_data] Downloading package wordnet to\n",
      "[nltk_data]     C:\\Users\\acer\\AppData\\Roaming\\nltk_data...\n",
      "[nltk_data]   Package wordnet is already up-to-date!\n",
      "[nltk_data] Downloading package punkt to\n",
      "[nltk_data]     C:\\Users\\acer\\AppData\\Roaming\\nltk_data...\n",
      "[nltk_data]   Package punkt is already up-to-date!\n",
      "[nltk_data] Downloading package averaged_perceptron_tagger to\n",
      "[nltk_data]     C:\\Users\\acer\\AppData\\Roaming\\nltk_data...\n",
      "[nltk_data]   Package averaged_perceptron_tagger is already up-to-\n",
      "[nltk_data]       date!\n",
      "[nltk_data] Downloading package wordnet to\n",
      "[nltk_data]     C:\\Users\\acer\\AppData\\Roaming\\nltk_data...\n",
      "[nltk_data]   Package wordnet is already up-to-date!\n",
      "[nltk_data] Downloading package punkt to\n",
      "[nltk_data]     C:\\Users\\acer\\AppData\\Roaming\\nltk_data...\n",
      "[nltk_data]   Package punkt is already up-to-date!\n",
      "[nltk_data] Downloading package averaged_perceptron_tagger to\n",
      "[nltk_data]     C:\\Users\\acer\\AppData\\Roaming\\nltk_data...\n",
      "[nltk_data]   Package averaged_perceptron_tagger is already up-to-\n",
      "[nltk_data]       date!\n",
      "[nltk_data] Downloading package wordnet to\n",
      "[nltk_data]     C:\\Users\\acer\\AppData\\Roaming\\nltk_data...\n",
      "[nltk_data]   Package wordnet is already up-to-date!\n",
      "[nltk_data] Downloading package punkt to\n",
      "[nltk_data]     C:\\Users\\acer\\AppData\\Roaming\\nltk_data...\n",
      "[nltk_data]   Package punkt is already up-to-date!\n",
      "[nltk_data] Downloading package averaged_perceptron_tagger to\n",
      "[nltk_data]     C:\\Users\\acer\\AppData\\Roaming\\nltk_data...\n",
      "[nltk_data]   Package averaged_perceptron_tagger is already up-to-\n",
      "[nltk_data]       date!\n",
      "[nltk_data] Downloading package wordnet to\n",
      "[nltk_data]     C:\\Users\\acer\\AppData\\Roaming\\nltk_data...\n",
      "[nltk_data]   Package wordnet is already up-to-date!\n",
      "[nltk_data] Downloading package punkt to\n",
      "[nltk_data]     C:\\Users\\acer\\AppData\\Roaming\\nltk_data...\n",
      "[nltk_data]   Package punkt is already up-to-date!\n",
      "[nltk_data] Downloading package averaged_perceptron_tagger to\n",
      "[nltk_data]     C:\\Users\\acer\\AppData\\Roaming\\nltk_data...\n",
      "[nltk_data]   Package averaged_perceptron_tagger is already up-to-\n",
      "[nltk_data]       date!\n",
      "[nltk_data] Downloading package wordnet to\n",
      "[nltk_data]     C:\\Users\\acer\\AppData\\Roaming\\nltk_data...\n",
      "[nltk_data]   Package wordnet is already up-to-date!\n",
      "[nltk_data] Downloading package punkt to\n",
      "[nltk_data]     C:\\Users\\acer\\AppData\\Roaming\\nltk_data...\n",
      "[nltk_data]   Package punkt is already up-to-date!\n",
      "[nltk_data] Downloading package averaged_perceptron_tagger to\n",
      "[nltk_data]     C:\\Users\\acer\\AppData\\Roaming\\nltk_data...\n",
      "[nltk_data]   Package averaged_perceptron_tagger is already up-to-\n",
      "[nltk_data]       date!\n",
      "[nltk_data] Downloading package wordnet to\n",
      "[nltk_data]     C:\\Users\\acer\\AppData\\Roaming\\nltk_data...\n",
      "[nltk_data]   Package wordnet is already up-to-date!\n",
      "[nltk_data] Downloading package punkt to\n",
      "[nltk_data]     C:\\Users\\acer\\AppData\\Roaming\\nltk_data...\n",
      "[nltk_data]   Package punkt is already up-to-date!\n",
      "[nltk_data] Downloading package averaged_perceptron_tagger to\n",
      "[nltk_data]     C:\\Users\\acer\\AppData\\Roaming\\nltk_data...\n",
      "[nltk_data]   Package averaged_perceptron_tagger is already up-to-\n",
      "[nltk_data]       date!\n",
      "[nltk_data] Downloading package wordnet to\n",
      "[nltk_data]     C:\\Users\\acer\\AppData\\Roaming\\nltk_data...\n",
      "[nltk_data]   Package wordnet is already up-to-date!\n",
      "[nltk_data] Downloading package punkt to\n",
      "[nltk_data]     C:\\Users\\acer\\AppData\\Roaming\\nltk_data...\n",
      "[nltk_data]   Package punkt is already up-to-date!\n",
      "[nltk_data] Downloading package averaged_perceptron_tagger to\n",
      "[nltk_data]     C:\\Users\\acer\\AppData\\Roaming\\nltk_data...\n",
      "[nltk_data]   Package averaged_perceptron_tagger is already up-to-\n",
      "[nltk_data]       date!\n",
      "[nltk_data] Downloading package wordnet to\n",
      "[nltk_data]     C:\\Users\\acer\\AppData\\Roaming\\nltk_data...\n",
      "[nltk_data]   Package wordnet is already up-to-date!\n",
      "[nltk_data] Downloading package punkt to\n",
      "[nltk_data]     C:\\Users\\acer\\AppData\\Roaming\\nltk_data...\n",
      "[nltk_data]   Package punkt is already up-to-date!\n",
      "[nltk_data] Downloading package averaged_perceptron_tagger to\n",
      "[nltk_data]     C:\\Users\\acer\\AppData\\Roaming\\nltk_data...\n",
      "[nltk_data]   Package averaged_perceptron_tagger is already up-to-\n",
      "[nltk_data]       date!\n",
      "[nltk_data] Downloading package wordnet to\n",
      "[nltk_data]     C:\\Users\\acer\\AppData\\Roaming\\nltk_data...\n",
      "[nltk_data]   Package wordnet is already up-to-date!\n",
      "[nltk_data] Downloading package punkt to\n",
      "[nltk_data]     C:\\Users\\acer\\AppData\\Roaming\\nltk_data...\n",
      "[nltk_data]   Package punkt is already up-to-date!\n",
      "[nltk_data] Downloading package averaged_perceptron_tagger to\n",
      "[nltk_data]     C:\\Users\\acer\\AppData\\Roaming\\nltk_data...\n",
      "[nltk_data]   Package averaged_perceptron_tagger is already up-to-\n",
      "[nltk_data]       date!\n",
      "[nltk_data] Downloading package wordnet to\n",
      "[nltk_data]     C:\\Users\\acer\\AppData\\Roaming\\nltk_data...\n",
      "[nltk_data]   Package wordnet is already up-to-date!\n",
      "[nltk_data] Downloading package punkt to\n",
      "[nltk_data]     C:\\Users\\acer\\AppData\\Roaming\\nltk_data...\n",
      "[nltk_data]   Package punkt is already up-to-date!\n",
      "[nltk_data] Downloading package averaged_perceptron_tagger to\n",
      "[nltk_data]     C:\\Users\\acer\\AppData\\Roaming\\nltk_data...\n",
      "[nltk_data]   Package averaged_perceptron_tagger is already up-to-\n",
      "[nltk_data]       date!\n",
      "[nltk_data] Downloading package wordnet to\n",
      "[nltk_data]     C:\\Users\\acer\\AppData\\Roaming\\nltk_data...\n",
      "[nltk_data]   Package wordnet is already up-to-date!\n",
      "[nltk_data] Downloading package punkt to\n",
      "[nltk_data]     C:\\Users\\acer\\AppData\\Roaming\\nltk_data...\n",
      "[nltk_data]   Package punkt is already up-to-date!\n",
      "[nltk_data] Downloading package averaged_perceptron_tagger to\n",
      "[nltk_data]     C:\\Users\\acer\\AppData\\Roaming\\nltk_data...\n",
      "[nltk_data]   Package averaged_perceptron_tagger is already up-to-\n",
      "[nltk_data]       date!\n",
      "[nltk_data] Downloading package wordnet to\n",
      "[nltk_data]     C:\\Users\\acer\\AppData\\Roaming\\nltk_data...\n",
      "[nltk_data]   Package wordnet is already up-to-date!\n",
      "[nltk_data] Downloading package punkt to\n",
      "[nltk_data]     C:\\Users\\acer\\AppData\\Roaming\\nltk_data...\n",
      "[nltk_data]   Package punkt is already up-to-date!\n",
      "[nltk_data] Downloading package averaged_perceptron_tagger to\n",
      "[nltk_data]     C:\\Users\\acer\\AppData\\Roaming\\nltk_data...\n",
      "[nltk_data]   Package averaged_perceptron_tagger is already up-to-\n",
      "[nltk_data]       date!\n",
      "[nltk_data] Downloading package wordnet to\n",
      "[nltk_data]     C:\\Users\\acer\\AppData\\Roaming\\nltk_data...\n",
      "[nltk_data]   Package wordnet is already up-to-date!\n",
      "[nltk_data] Downloading package punkt to\n",
      "[nltk_data]     C:\\Users\\acer\\AppData\\Roaming\\nltk_data...\n",
      "[nltk_data]   Package punkt is already up-to-date!\n",
      "[nltk_data] Downloading package averaged_perceptron_tagger to\n",
      "[nltk_data]     C:\\Users\\acer\\AppData\\Roaming\\nltk_data...\n",
      "[nltk_data]   Package averaged_perceptron_tagger is already up-to-\n",
      "[nltk_data]       date!\n",
      "[nltk_data] Downloading package wordnet to\n",
      "[nltk_data]     C:\\Users\\acer\\AppData\\Roaming\\nltk_data...\n",
      "[nltk_data]   Package wordnet is already up-to-date!\n"
     ]
    }
   ],
   "execution_count": 5
  },
  {
   "metadata": {
    "ExecuteTime": {
     "end_time": "2024-08-07T05:00:54.128926Z",
     "start_time": "2024-08-07T05:00:54.087448Z"
    }
   },
   "cell_type": "code",
   "source": "result",
   "id": "ebda11c38915d557",
   "outputs": [
    {
     "data": {
      "text/plain": [
       "{'Faithfulness': {'claims': ['Remote work offers flexibility and reduced commute time.',\n",
       "   'Remote work can lead to a better work-life balance.',\n",
       "   'Remote work can lead to isolation.',\n",
       "   'Remote work can lead to reduced collaboration.',\n",
       "   'Remote work can lead to a lack of clear boundaries between work and personal life.',\n",
       "   'Some studies suggest that remote work can reduce productivity, especially in creative fields.',\n",
       "   'There is a concern about managers having biased views towards remote workers.',\n",
       "   'Managers may assume remote workers are less committed or productive.',\n",
       "   'Certain groups may face challenges with remote work, such as parents with young children.',\n",
       "   'Certain groups may face challenges with remote work, such as individuals with disabilities.'],\n",
       "  'truths': ['Remote work offers flexibility and reduced commute time.',\n",
       "   'Remote work can lead to a better work-life balance.',\n",
       "   'Remote work can lead to isolation.',\n",
       "   'Remote work can lead to reduced collaboration.',\n",
       "   'Remote work can lead to a lack of clear boundaries between work and personal life.',\n",
       "   'Some studies suggest that remote work can reduce productivity, especially in creative fields.',\n",
       "   'There is a concern about managers having biased views towards remote workers.',\n",
       "   'Managers may assume remote workers are less committed or productive.',\n",
       "   'Certain groups may face challenges with remote work, such as parents with young children.',\n",
       "   'Certain groups may face challenges with remote work, such as individuals with disabilities.'],\n",
       "  'verdicts': [{'verdict': 'yes', 'reason': None},\n",
       "   {'verdict': 'yes', 'reason': None},\n",
       "   {'verdict': 'yes', 'reason': None},\n",
       "   {'verdict': 'no',\n",
       "    'reason': 'The claim suggests that remote work can lead to reduced collaboration, which contradicts the fact that remote work is not suitable for jobs requiring high levels of collaboration.'},\n",
       "   {'verdict': 'no',\n",
       "    'reason': 'The claim implies that remote work can lead to a lack of clear boundaries between work and personal life, which is not directly supported by the context.'},\n",
       "   {'verdict': 'idk', 'reason': None},\n",
       "   {'verdict': 'yes', 'reason': None},\n",
       "   {'verdict': 'yes', 'reason': None},\n",
       "   {'verdict': 'yes', 'reason': None},\n",
       "   {'verdict': 'idk', 'reason': None}],\n",
       "  'score': 0.6666666666666666,\n",
       "  'reason': 'The faithfulness score is lower due to contradictions such as remote work leading to reduced collaboration and a lack of clear boundaries between work and personal life, which are not directly supported by the context.'},\n",
       " 'AnswerRelevancy': {'score': 1.0,\n",
       "  'reason': 'The score is 1.00 because the answer is highly relevant to the input, providing a comprehensive overview of the main benefits and drawbacks of remote work.',\n",
       "  'statements': ['Remote work offers flexibility and reduced commute time, which can lead to a better work-life balance.',\n",
       "   'However, it can also lead to isolation, reduced collaboration, and a lack of clear boundaries between work and personal life.',\n",
       "   'Some studies suggest that remote work can reduce productivity, especially in creative fields.',\n",
       "   'There is also a concern about managers having biased views towards remote workers, assuming they are less committed or productive.',\n",
       "   'Additionally, certain groups may face challenges, such as parents with young children or individuals with disabilities.'],\n",
       "  'verdicts': [{'verdict': 'yes', 'reason': None},\n",
       "   {'verdict': 'yes', 'reason': None},\n",
       "   {'verdict': 'yes', 'reason': None},\n",
       "   {'verdict': 'yes', 'reason': None},\n",
       "   {'verdict': 'yes', 'reason': None}]},\n",
       " 'ContextualRelevancy': {'verdicts': [{'verdict': 'yes',\n",
       "    'reason': 'The context directly addresses the main benefits and drawbacks of remote work by mentioning the advantages of working from anywhere and reducing commuting, as well as the disadvantages of potential isolation and reduced team cohesion.'},\n",
       "   {'verdict': 'yes',\n",
       "    'reason': 'The context directly addresses the main benefits and drawbacks of remote work by mentioning increased productivity, longer working hours, and the blurred line between work and personal life.'},\n",
       "   {'verdict': 'yes',\n",
       "    'reason': 'The context directly addresses the main benefits and drawbacks of remote work by discussing the perception of remote workers being less productive and the potential impact on their career advancement opportunities.'},\n",
       "   {'verdict': 'partial',\n",
       "    'reason': 'The context partially addresses the drawbacks of remote work by mentioning the challenge faced by parents with young children in balancing work and family responsibilities. However, it does not provide information on the main benefits of remote work.'},\n",
       "   {'verdict': 'yes',\n",
       "    'reason': 'The context directly addresses the main benefits and drawbacks of remote work by mentioning its flexibility and limitations, such as unsuitability for certain types of jobs. This information is directly related to the input question.'}],\n",
       "  'reason': {'reason': 'The score is 1.0 because the input directly addresses the main benefits and drawbacks of remote work, making the retrieval context highly relevant.'},\n",
       "  'score': 1.0},\n",
       " 'GEval': '{     \"score\": 7,     \"reason\": \"The Rag Pipeline demonstrates good coverage of key points and maintains factual accuracy, readability, and contextuality. However, the integration of retrieved information into the generated response could be improved.\" }',\n",
       " 'Hallucination': {'score': 0.8,\n",
       "  'reason': 'The score is 0.80 because the actual output fails to address key contradictions such as potential isolation, reduced team cohesion, longer working hours, blurred work-life boundaries, biases towards remote workers, challenges for specific groups like parents, and the unsuitability of remote work for certain job types.',\n",
       "  'verdicts': [{'verdict': 'yes',\n",
       "    'reason': 'The actual output aligns with the context by mentioning the benefits of reduced commute time and better work-life balance associated with remote work.'},\n",
       "   {'verdict': 'no',\n",
       "    'reason': 'The actual output contradicts the context by not mentioning the potential sense of isolation, reduced team cohesion, longer working hours, and blurred line between work and personal life that can result from remote work.'},\n",
       "   {'verdict': 'no',\n",
       "    'reason': 'The actual output contradicts the context by not acknowledging the bias that managers may have towards remote workers, assuming they are less productive.'},\n",
       "   {'verdict': 'no',\n",
       "    'reason': 'The actual output contradicts the context by not mentioning the challenges faced by certain groups, such as parents with young children, when it comes to balancing work and family responsibilities in remote work settings.'},\n",
       "   {'verdict': 'no',\n",
       "    'reason': 'The actual output contradicts the context by not stating that remote work is not suitable for all types of jobs, particularly those requiring high levels of collaboration or access to specialized equipment.'}]},\n",
       " 'KnowledgeRetention': {'score': 0.0,\n",
       "  'reason': 'The score is 0.00 because the LLM message introduced new drawbacks of remote work that were not discussed before, leading to a lack of retention of previously established knowledge.',\n",
       "  'verdicts': [{'index': 0,\n",
       "    'verdict': 'yes',\n",
       "    'reason': 'The LLM message provides additional drawbacks of remote work that were not previously mentioned in the conversation. It introduces concerns about reduced collaboration, productivity, biased views towards remote workers, and challenges faced by specific groups, which were not part of the initial discussion on the drawbacks of remote work.'}],\n",
       "  'knowledges': [{'Main benefits of remote work': ['Flexibility',\n",
       "     'Work-life balance',\n",
       "     'No commute'],\n",
       "    'Main drawbacks of remote work': ['Isolation',\n",
       "     'Communication challenges',\n",
       "     'Difficulty in separating work and personal life']}]},\n",
       " 'BertScore': {'precision': 0.65, 'recall': 0.77, 'f1_score': 0.71},\n",
       " 'METEOR': {'score': 0.57}}"
      ]
     },
     "execution_count": 6,
     "metadata": {},
     "output_type": "execute_result"
    }
   ],
   "execution_count": 6
  },
  {
   "metadata": {
    "ExecuteTime": {
     "end_time": "2024-08-07T05:00:54.159569Z",
     "start_time": "2024-08-07T05:00:54.130441Z"
    }
   },
   "cell_type": "code",
   "source": [
    "scores = evaluator.metrics_score\n",
    "scores"
   ],
   "id": "cd6b168172b6d0a5",
   "outputs": [
    {
     "data": {
      "text/plain": [
       "{'Faithfulness': 0.6666666666666666,\n",
       " 'AnswerRelevancy': 1.0,\n",
       " 'ContextualRelevancy': 1.0,\n",
       " 'GEval': 0.875,\n",
       " 'Hallucination': 0.19999999999999996,\n",
       " 'KnowledgeRetention': 0.0,\n",
       " 'precision': 0.65,\n",
       " 'recall': 0.77,\n",
       " 'f1_score': 0.71,\n",
       " 'METEOR': 0.57}"
      ]
     },
     "execution_count": 7,
     "metadata": {},
     "output_type": "execute_result"
    }
   ],
   "execution_count": 7
  },
  {
   "metadata": {
    "ExecuteTime": {
     "end_time": "2024-08-07T05:00:55.968996Z",
     "start_time": "2024-08-07T05:00:54.164075Z"
    }
   },
   "cell_type": "code",
   "source": "html_output = evaluator.plot()",
   "id": "879545a72c53793c",
   "outputs": [],
   "execution_count": 8
  },
  {
   "metadata": {
    "ExecuteTime": {
     "end_time": "2024-08-07T05:00:55.986067Z",
     "start_time": "2024-08-07T05:00:55.971018Z"
    }
   },
   "cell_type": "code",
   "source": [
    "# with open(\"viz.html\", \"w\") as file:\n",
    "#     file.write(html_output)"
   ],
   "id": "648434ea2bb38c51",
   "outputs": [],
   "execution_count": 9
  },
  {
   "metadata": {
    "ExecuteTime": {
     "end_time": "2024-08-07T05:00:56.015757Z",
     "start_time": "2024-08-07T05:00:55.995639Z"
    }
   },
   "cell_type": "code",
   "source": [
    "# s = {\n",
    "#     'F1': 0.70,\n",
    "#     'Recall': 0.73,\n",
    "#     'Precision': 0.68,\n",
    "#     'Faithfulness': 0.55,\n",
    "#     'AnswerRelevancy': 0.68,\n",
    "#     'ContextualRelevancy': 0.54,\n",
    "#     'GEval': 0.54,\n",
    "#     'Hallucination': 0.54,\n",
    "#     'KnowledgeRetention': 0.54,\n",
    "#     'METEOR': 0.65\n",
    "# }\n"
   ],
   "id": "6635faf7c0e61137",
   "outputs": [],
   "execution_count": 10
  },
  {
   "metadata": {
    "ExecuteTime": {
     "end_time": "2024-08-07T05:00:56.031327Z",
     "start_time": "2024-08-07T05:00:56.019757Z"
    }
   },
   "cell_type": "code",
   "source": "from indoxJudge.piplines import RAGComparison\n",
   "id": "13c903e9b1913834",
   "outputs": [],
   "execution_count": 11
  },
  {
   "metadata": {
    "ExecuteTime": {
     "end_time": "2024-08-07T05:00:56.062204Z",
     "start_time": "2024-08-07T05:00:56.038891Z"
    }
   },
   "cell_type": "code",
   "source": "Rag = RAGComparison(scores)",
   "id": "b4949e73371a6eb3",
   "outputs": [],
   "execution_count": 12
  },
  {
   "metadata": {
    "ExecuteTime": {
     "end_time": "2024-08-07T05:00:56.155526Z",
     "start_time": "2024-08-07T05:00:56.065759Z"
    }
   },
   "cell_type": "code",
   "source": "Rag.plot()",
   "id": "dee90e4756ab8bc7",
   "outputs": [
    {
     "name": "stdout",
     "output_type": "stream",
     "text": [
      "Dash app running on http://127.0.0.1:8050/\n"
     ]
    }
   ],
   "execution_count": 13
  },
  {
   "metadata": {
    "ExecuteTime": {
     "end_time": "2024-08-07T12:17:49.243337Z",
     "start_time": "2024-08-07T12:17:47.729679Z"
    }
   },
   "cell_type": "code",
   "source": "from indoxJudge.graph.visualization import Visualization",
   "id": "d3beadc4da2fa0f6",
   "outputs": [],
   "execution_count": 1
  },
  {
   "metadata": {
    "ExecuteTime": {
     "end_time": "2024-08-07T12:13:40.981290Z",
     "start_time": "2024-08-07T12:13:40.591874Z"
    }
   },
   "cell_type": "code",
   "source": [
    "models = [{'name': 'Model_1',\n",
    "  'score': 0.50,\n",
    "  'metrics': {'Faithfulness': 0.55,\n",
    "   'AnswerRelevancy': 1.0,\n",
    "   'Bias': 0.45,\n",
    "   'Hallucination': 0.8,\n",
    "   'KnowledgeRetention': 0.0,\n",
    "   'Toxicity': 0.0,\n",
    "   'precision': 0.64,\n",
    "   'recall': 0.77,\n",
    "   'f1_score': 0.70,\n",
    "   'BLEU': 0.11}},\n",
    " {'name': 'Model_2',\n",
    "  'score': 0.61,\n",
    "  'metrics': {'Faithfulness': 1.0,\n",
    "   'AnswerRelevancy': 1.0,\n",
    "   'Bias': 0.0,\n",
    "   'Hallucination': 0.8,\n",
    "   'KnowledgeRetention': 1.0,\n",
    "   'Toxicity': 0.0,\n",
    "   'precision': 0.667,\n",
    "   'recall': 0.77,\n",
    "   'f1_score': 0.71,\n",
    "   'BLEU': 0.14}},\n",
    " {'name': 'Model_3',\n",
    "  'score': 0.050,\n",
    "  'metrics': {'Faithfulness': 1.0,\n",
    "   'AnswerRelevancy': 1.0,\n",
    "   'Bias': 0.0,\n",
    "   'Hallucination': 0.83,\n",
    "   'KnowledgeRetention': 0.0,\n",
    "   'Toxicity': 0.0,\n",
    "   'precision': 0.64,\n",
    "   'recall': 0.76,\n",
    "   'f1_score': 0.70,\n",
    "   'BLEU': 0.10}},\n",
    "]\n",
    "viz = Visualization(models, mode='llm')\n",
    "viz.plot()"
   ],
   "id": "4c7c3872e29738c0",
   "outputs": [
    {
     "name": "stdout",
     "output_type": "stream",
     "text": [
      "Dash app running on http://127.0.0.1:8050/\n"
     ]
    }
   ],
   "execution_count": 6
  },
  {
   "metadata": {
    "ExecuteTime": {
     "end_time": "2024-08-07T12:18:28.164462Z",
     "start_time": "2024-08-07T12:18:27.750930Z"
    }
   },
   "cell_type": "code",
   "source": [
    "rag_data = {\n",
    "    'Precision': 0.85,\n",
    "    'Recall': 0.78,\n",
    "    'F1 Score': 0.81,\n",
    "    'Accuracy': 0.89,\n",
    "    'METEOR': 0.82,\n",
    "}\n",
    "viz = Visualization(rag_data, mode='rag')\n",
    "viz.plot()"
   ],
   "id": "6ac16c33372b0ec0",
   "outputs": [
    {
     "name": "stdout",
     "output_type": "stream",
     "text": [
      "Dash app running on http://127.0.0.1:8050/\n"
     ]
    }
   ],
   "execution_count": 3
  },
  {
   "metadata": {
    "ExecuteTime": {
     "end_time": "2024-08-07T12:17:51.372518Z",
     "start_time": "2024-08-07T12:17:51.332521Z"
    }
   },
   "cell_type": "code",
   "source": [
    "safety_data = [\n",
    "    {\n",
    "        'name': 'Model A',\n",
    "        'metrics': {\n",
    "            'Toxicity': 0.2,\n",
    "            'Bias': 0.3,\n",
    "            'Misinformation': 0.1\n",
    "        },\n",
    "        'score': 0.8\n",
    "    },\n",
    "    {\n",
    "        'name': 'Model B',\n",
    "        'metrics': {\n",
    "            'Toxicity': 0.3,\n",
    "            'Bias': 0.2,\n",
    "            'Misinformation': 0.2\n",
    "        },\n",
    "        'score': 0.7\n",
    "    }\n",
    "]\n",
    "\n",
    "viz = Visualization(safety_data, mode='safety')\n",
    "viz.plot()"
   ],
   "id": "4ba778e0cfd6258b",
   "outputs": [
    {
     "name": "stdout",
     "output_type": "stream",
     "text": [
      "Dash app running on http://127.0.0.1:8050/\n"
     ]
    }
   ],
   "execution_count": 2
  }
 ],
 "metadata": {
  "kernelspec": {
   "display_name": "Python 3",
   "language": "python",
   "name": "python3"
  },
  "language_info": {
   "codemirror_mode": {
    "name": "ipython",
    "version": 2
   },
   "file_extension": ".py",
   "mimetype": "text/x-python",
   "name": "python",
   "nbconvert_exporter": "python",
   "pygments_lexer": "ipython2",
   "version": "2.7.6"
  }
 },
 "nbformat": 4,
 "nbformat_minor": 5
}
