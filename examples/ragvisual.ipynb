{
 "cells": [
  {
   "metadata": {
    "ExecuteTime": {
     "end_time": "2024-08-07T13:24:05.724586Z",
     "start_time": "2024-08-07T13:24:05.714605Z"
    }
   },
   "cell_type": "code",
   "source": "from indoxJudge.piplines import RagEvaluator",
   "id": "39190e7dc1d5e1d9",
   "outputs": [],
   "execution_count": 5
  },
  {
   "metadata": {
    "ExecuteTime": {
     "end_time": "2024-08-07T13:24:09.767148Z",
     "start_time": "2024-08-07T13:24:09.758133Z"
    }
   },
   "cell_type": "code",
   "source": [
    "import os\n",
    "from dotenv import load_dotenv\n",
    "\n",
    "load_dotenv(\"api.env\")\n",
    "INDOX_API_KEY = os.getenv(\"INDOX_API_KEY\")\n",
    "# OPENAI_API_KEY = os.getenv(\"OPENAI_API_KEY\")\n",
    "# from indoxJudge import Evaluator\n",
    "from indoxJudge.models import IndoxApi\n",
    "# from indoxJudge.models import OpenAi\n",
    "# from indoxJudge.metrics import bias, fairness, accuracy, precision, recall, f1_score, roc_auc_score, confusion_matrix\n",
    "model = IndoxApi(api_key=INDOX_API_KEY)"
   ],
   "id": "4844703f16ef476f",
   "outputs": [],
   "execution_count": 6
  },
  {
   "metadata": {
    "ExecuteTime": {
     "end_time": "2024-08-07T13:24:12.565104Z",
     "start_time": "2024-08-07T13:24:12.551105Z"
    }
   },
   "cell_type": "code",
   "source": [
    "query = \"What are the main benefits and drawbacks of remote work?\"\n",
    "retrieval_context = [\n",
    "        \"Remote work allows employees to work from anywhere, reducing the need for commuting. However, it may lead to a sense of isolation and reduced team cohesion.\",    \"Studies have shown that remote work can lead to increased productivity in some cases. However, it can also result in longer working hours and a blurred line between work and personal life.\",    \"Managers often believe that remote workers are less productive, which can result in biased evaluations and reduced career advancement opportunities for these employees.\",    \"Some people, such as parents with young children, find remote work challenging due to the need to balance work and family responsibilities.\",    \"While remote work offers flexibility, it is not suitable for all types of jobs, particularly those requiring high levels of collaboration or access to specialized equipment.\"]\n",
    "response =\"Remote work offers flexibility and reduced commute time, which can lead to a better work-life balance. However, it can also lead to isolation, reduced collaboration, and a lack of clear boundaries between work and personal life. Some studies suggest that remote work can reduce productivity, especially in creative fields. There is also a concern about managers having biased views towards remote workers, assuming they are less committed or productive. Additionally, certain groups may face challenges, such as parents with young children or individuals with disabilities.\""
   ],
   "id": "a44b46f2d672581b",
   "outputs": [],
   "execution_count": 7
  },
  {
   "metadata": {
    "ExecuteTime": {
     "end_time": "2024-08-07T13:24:17.561582Z",
     "start_time": "2024-08-07T13:24:16.664052Z"
    }
   },
   "cell_type": "code",
   "source": "evaluator = RagEvaluator(model, response, retrieval_context, query)",
   "id": "a279258f8d2c0341",
   "outputs": [
    {
     "name": "stdout",
     "output_type": "stream",
     "text": [
      "\u001B[32mINFO\u001B[0m: \u001B[1mRagEvaluator initialized with model and metrics.\u001B[0m\n",
      "\u001B[32mINFO\u001B[0m: \u001B[1mModel set for all metrics.\u001B[0m\n"
     ]
    }
   ],
   "execution_count": 8
  },
  {
   "metadata": {
    "jupyter": {
     "is_executing": true
    },
    "ExecuteTime": {
     "start_time": "2024-08-07T13:24:19.707527Z"
    }
   },
   "cell_type": "code",
   "source": "result = evaluator.judge()",
   "id": "46fcf20a78b8cffd",
   "outputs": [
    {
     "name": "stdout",
     "output_type": "stream",
     "text": [
      "\u001B[32mINFO\u001B[0m: \u001B[1mEvaluating metric: Faithfulness\u001B[0m\n",
      "\u001B[32mINFO\u001B[0m: \u001B[1mCompleted evaluation for metric: Faithfulness\u001B[0m\n",
      "\u001B[32mINFO\u001B[0m: \u001B[1mEvaluating metric: AnswerRelevancy\u001B[0m\n",
      "\u001B[32mINFO\u001B[0m: \u001B[1mCompleted evaluation for metric: AnswerRelevancy\u001B[0m\n",
      "\u001B[32mINFO\u001B[0m: \u001B[1mEvaluating metric: ContextualRelevancy\u001B[0m\n",
      "\u001B[32mINFO\u001B[0m: \u001B[1mCompleted evaluation for metric: ContextualRelevancy\u001B[0m\n",
      "\u001B[32mINFO\u001B[0m: \u001B[1mEvaluating metric: GEval\u001B[0m\n"
     ]
    }
   ],
   "execution_count": null
  },
  {
   "metadata": {
    "ExecuteTime": {
     "end_time": "2024-08-07T13:18:57.752194Z",
     "start_time": "2024-08-07T13:18:57.740715Z"
    }
   },
   "cell_type": "code",
   "source": "result",
   "id": "ebda11c38915d557",
   "outputs": [
    {
     "data": {
      "text/plain": [
       "{'Faithfulness': {'claims': ['Remote work offers flexibility and reduced commute time.',\n",
       "   'Remote work can lead to a better work-life balance.',\n",
       "   'Remote work can lead to isolation, reduced collaboration, and a lack of clear boundaries between work and personal life.',\n",
       "   'Some studies suggest that remote work can reduce productivity, especially in creative fields.',\n",
       "   'There is a concern about managers having biased views towards remote workers, assuming they are less committed or productive.',\n",
       "   'Certain groups may face challenges with remote work, such as parents with young children or individuals with disabilities.'],\n",
       "  'truths': ['Remote work offers flexibility and reduced commute time.',\n",
       "   'Remote work can lead to a better work-life balance.',\n",
       "   'Remote work can lead to isolation.',\n",
       "   'Remote work can lead to reduced collaboration.',\n",
       "   'Remote work can lead to a lack of clear boundaries between work and personal life.',\n",
       "   'Some studies suggest that remote work can reduce productivity, especially in creative fields.',\n",
       "   'There is a concern about managers having biased views towards remote workers.',\n",
       "   'Managers may assume remote workers are less committed or productive.',\n",
       "   'Certain groups may face challenges with remote work, such as parents with young children or individuals with disabilities.'],\n",
       "  'verdicts': [{'verdict': 'yes', 'reason': None},\n",
       "   {'verdict': 'yes', 'reason': None},\n",
       "   {'verdict': 'no',\n",
       "    'reason': 'The claim contradicts the context by stating that remote work can lead to reduced collaboration, while the context mentions that it may lead to reduced team cohesion.'},\n",
       "   {'verdict': 'idk', 'reason': None},\n",
       "   {'verdict': 'no',\n",
       "    'reason': 'The claim contradicts the context by stating that managers may have biased views towards remote workers, assuming they are less committed or productive, while the context mentions that managers often believe remote workers are less productive.'},\n",
       "   {'verdict': 'yes', 'reason': None}],\n",
       "  'score': 0.4,\n",
       "  'reason': \"The score is 0.6 because the 'actual output' contains contradictions such as stating that remote work can lead to reduced collaboration and that managers may have biased views towards remote workers, which contradict the information presented in the retrieval context.\"},\n",
       " 'AnswerRelevancy': {'score': 1.0,\n",
       "  'reason': 'The score is 1.00 because the answer directly addresses the main benefits and drawbacks of remote work without any irrelevant statements.',\n",
       "  'statements': ['Remote work offers flexibility and reduced commute time, which can lead to a better work-life balance.',\n",
       "   'Remote work can also lead to isolation, reduced collaboration, and a lack of clear boundaries between work and personal life.',\n",
       "   'Some studies suggest that remote work can reduce productivity, especially in creative fields.',\n",
       "   'There is also a concern about managers having biased views towards remote workers, assuming they are less committed or productive.',\n",
       "   'Certain groups may face challenges, such as parents with young children or individuals with disabilities.'],\n",
       "  'verdicts': [{'verdict': 'yes', 'reason': None},\n",
       "   {'verdict': 'yes', 'reason': None},\n",
       "   {'verdict': 'yes', 'reason': None},\n",
       "   {'verdict': 'yes', 'reason': None},\n",
       "   {'verdict': 'yes', 'reason': None}]},\n",
       " 'ContextualRelevancy': {'verdicts': [{'verdict': 'yes',\n",
       "    'reason': 'The context directly addresses the main benefits and drawbacks of remote work, mentioning the advantages of working from anywhere and reducing commuting, as well as the drawbacks of isolation and reduced team cohesion.'},\n",
       "   {'verdict': 'yes',\n",
       "    'reason': 'The context directly addresses the main benefits and drawbacks of remote work by mentioning increased productivity, longer working hours, and the blurred line between work and personal life.'},\n",
       "   {'verdict': 'yes',\n",
       "    'reason': 'The context directly addresses the main benefits and drawbacks of remote work by discussing how managers perceive remote workers as less productive, leading to biased evaluations and reduced career advancement opportunities.'},\n",
       "   {'verdict': 'partial',\n",
       "    'reason': 'The context partially addresses the drawbacks of remote work by mentioning the challenge faced by parents with young children in balancing work and family responsibilities. However, it does not cover the main benefits of remote work, which could include flexibility, reduced commuting time, and increased productivity.'},\n",
       "   {'verdict': 'yes',\n",
       "    'reason': 'The context directly addresses the main benefits and drawbacks of remote work by mentioning its flexibility and limitations, particularly for jobs requiring collaboration or specialized equipment.'}],\n",
       "  'reason': {'reason': 'The score is 1.0 because the input directly addresses the main benefits and drawbacks of remote work, indicating high relevancy.'},\n",
       "  'score': 1.0},\n",
       " 'GEval': '{     \"score\": 6,     \"reason\": \"The response integrates retrieved information well but lacks comprehensiveness and contextuality. The logical structure is coherent and easy to follow.\" }',\n",
       " 'Hallucination': {'score': 0.8,\n",
       "  'reason': 'The score is 0.80 because the actual output lacks acknowledgment of the potential challenges and drawbacks associated with remote work, such as isolation, reduced team cohesion, longer working hours, blurred work-life boundaries, biased evaluations, limited career advancement opportunities, difficulties for specific groups like parents with young children, and the unsuitability of remote work for certain job types requiring high collaboration or specialized equipment.',\n",
       "  'verdicts': [{'verdict': 'yes',\n",
       "    'reason': 'The actual output aligns with the context by mentioning the benefits of reduced commute time and better work-life balance associated with remote work.'},\n",
       "   {'verdict': 'no',\n",
       "    'reason': 'The actual output contradicts the context by not mentioning the potential sense of isolation, reduced team cohesion, longer working hours, and blurred work-life boundaries associated with remote work.'},\n",
       "   {'verdict': 'no',\n",
       "    'reason': 'The actual output contradicts the context by not mentioning the concerns about biased evaluations and reduced career advancement opportunities for remote workers.'},\n",
       "   {'verdict': 'no',\n",
       "    'reason': 'The actual output contradicts the context by not mentioning the challenges faced by certain groups, such as parents with young children, in balancing work and family responsibilities.'},\n",
       "   {'verdict': 'no',\n",
       "    'reason': 'The actual output contradicts the context by not mentioning that remote work is not suitable for all types of jobs, particularly those requiring high levels of collaboration or access to specialized equipment.'}]},\n",
       " 'KnowledgeRetention': {'score': 0.0,\n",
       "  'reason': 'The score is 0.00 because the attrition highlights numerous new drawbacks of remote work that were not previously discussed, indicating a lack of retention of the information shared in the conversation.',\n",
       "  'verdicts': [{'index': 0,\n",
       "    'verdict': 'yes',\n",
       "    'reason': 'The LLM message provides additional drawbacks of remote work that were not previously mentioned in the conversation, such as reduced collaboration, productivity concerns, biased views towards remote workers, and challenges faced by specific groups like parents with young children or individuals with disabilities.'}],\n",
       "  'knowledges': [{'Main benefits of remote work': ['Flexibility',\n",
       "     'Improved work-life balance',\n",
       "     'No commuting'],\n",
       "    'Main drawbacks of remote work': ['Isolation',\n",
       "     'Communication challenges',\n",
       "     'Difficulty in separating work and personal life']}]},\n",
       " 'BertScore': {'precision': 0.65, 'recall': 0.77, 'f1_score': 0.71},\n",
       " 'METEOR': {'score': 0.57}}"
      ]
     },
     "execution_count": 6,
     "metadata": {},
     "output_type": "execute_result"
    }
   ],
   "execution_count": 6
  },
  {
   "metadata": {
    "ExecuteTime": {
     "end_time": "2024-08-07T13:19:00.038853Z",
     "start_time": "2024-08-07T13:19:00.023840Z"
    }
   },
   "cell_type": "code",
   "source": [
    "scores = evaluator.metrics_score\n",
    "scores"
   ],
   "id": "cd6b168172b6d0a5",
   "outputs": [
    {
     "data": {
      "text/plain": [
       "{'Faithfulness': 0.4,\n",
       " 'AnswerRelevancy': 1.0,\n",
       " 'ContextualRelevancy': 1.0,\n",
       " 'GEval': 0.75,\n",
       " 'Hallucination': 0.19999999999999996,\n",
       " 'KnowledgeRetention': 0.0,\n",
       " 'precision': 0.65,\n",
       " 'recall': 0.77,\n",
       " 'f1_score': 0.71,\n",
       " 'METEOR': 0.57}"
      ]
     },
     "execution_count": 7,
     "metadata": {},
     "output_type": "execute_result"
    }
   ],
   "execution_count": 7
  },
  {
   "metadata": {
    "ExecuteTime": {
     "end_time": "2024-08-07T13:20:32.551215Z",
     "start_time": "2024-08-07T13:20:31.532Z"
    }
   },
   "cell_type": "code",
   "source": "from indoxJudge.graph.visualization import Visualization",
   "id": "d3beadc4da2fa0f6",
   "outputs": [],
   "execution_count": 8
  },
  {
   "metadata": {
    "ExecuteTime": {
     "end_time": "2024-08-07T13:20:34.201919Z",
     "start_time": "2024-08-07T13:20:34.156203Z"
    }
   },
   "cell_type": "code",
   "source": [
    "models = [{'name': 'Model_1',\n",
    "  'score': 0.50,\n",
    "  'metrics': {'Faithfulness': 0.55,\n",
    "   'AnswerRelevancy': 1.0,\n",
    "   'Bias': 0.45,\n",
    "   'Hallucination': 0.8,\n",
    "   'KnowledgeRetention': 0.0,\n",
    "   'Toxicity': 0.0,\n",
    "   'precision': 0.64,\n",
    "   'recall': 0.77,\n",
    "   'f1_score': 0.70,\n",
    "   'BLEU': 0.11}},\n",
    " {'name': 'Model_2',\n",
    "  'score': 0.61,\n",
    "  'metrics': {'Faithfulness': 1.0,\n",
    "   'AnswerRelevancy': 1.0,\n",
    "   'Bias': 0.0,\n",
    "   'Hallucination': 0.8,\n",
    "   'KnowledgeRetention': 1.0,\n",
    "   'Toxicity': 0.0,\n",
    "   'precision': 0.667,\n",
    "   'recall': 0.77,\n",
    "   'f1_score': 0.71,\n",
    "   'BLEU': 0.14}},\n",
    " {'name': 'Model_3',\n",
    "  'score': 0.050,\n",
    "  'metrics': {'Faithfulness': 1.0,\n",
    "   'AnswerRelevancy': 1.0,\n",
    "   'Bias': 0.0,\n",
    "   'Hallucination': 0.83,\n",
    "   'KnowledgeRetention': 0.0,\n",
    "   'Toxicity': 0.0,\n",
    "   'precision': 0.64,\n",
    "   'recall': 0.76,\n",
    "   'f1_score': 0.70,\n",
    "   'BLEU': 0.10}},\n",
    "]\n",
    "viz = Visualization(models, mode='llm')\n",
    "viz.plot()"
   ],
   "id": "4c7c3872e29738c0",
   "outputs": [
    {
     "name": "stdout",
     "output_type": "stream",
     "text": [
      "Dash app running on http://127.0.0.1:8050/\n"
     ]
    }
   ],
   "execution_count": 9
  },
  {
   "metadata": {
    "ExecuteTime": {
     "end_time": "2024-08-07T13:20:45.594573Z",
     "start_time": "2024-08-07T13:20:45.394301Z"
    }
   },
   "cell_type": "code",
   "source": [
    "rag_data = {\n",
    "    'Precision': 0.85,\n",
    "    'Recall': 0.78,\n",
    "    'F1 Score': 0.81,\n",
    "    'Accuracy': 0.89,\n",
    "    'METEOR': 0.82,\n",
    "}\n",
    "viz = Visualization(rag_data, mode='rag')\n",
    "viz.plot()"
   ],
   "id": "6ac16c33372b0ec0",
   "outputs": [
    {
     "name": "stdout",
     "output_type": "stream",
     "text": [
      "Dash app running on http://127.0.0.1:8050/\n"
     ]
    }
   ],
   "execution_count": 10
  },
  {
   "metadata": {
    "ExecuteTime": {
     "end_time": "2024-08-07T13:20:52.716545Z",
     "start_time": "2024-08-07T13:20:52.396132Z"
    }
   },
   "cell_type": "code",
   "source": [
    "safety_data = [\n",
    "    {\n",
    "        'name': 'Model A',\n",
    "        'metrics': {\n",
    "            'Toxicity': 0.2,\n",
    "            'Bias': 0.3,\n",
    "            'Misinformation': 0.1\n",
    "        },\n",
    "        'score': 0.8\n",
    "    },\n",
    "    {\n",
    "        'name': 'Model B',\n",
    "        'metrics': {\n",
    "            'Toxicity': 0.3,\n",
    "            'Bias': 0.2,\n",
    "            'Misinformation': 0.2\n",
    "        },\n",
    "        'score': 0.7\n",
    "    }\n",
    "]\n",
    "\n",
    "viz = Visualization(safety_data, mode='safety')\n",
    "viz.plot()"
   ],
   "id": "4ba778e0cfd6258b",
   "outputs": [
    {
     "name": "stdout",
     "output_type": "stream",
     "text": [
      "Dash app running on http://127.0.0.1:8050/\n"
     ]
    }
   ],
   "execution_count": 11
  }
 ],
 "metadata": {
  "kernelspec": {
   "display_name": "Python 3",
   "language": "python",
   "name": "python3"
  },
  "language_info": {
   "codemirror_mode": {
    "name": "ipython",
    "version": 2
   },
   "file_extension": ".py",
   "mimetype": "text/x-python",
   "name": "python",
   "nbconvert_exporter": "python",
   "pygments_lexer": "ipython2",
   "version": "2.7.6"
  }
 },
 "nbformat": 4,
 "nbformat_minor": 5
}
