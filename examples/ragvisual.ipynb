{
 "cells": [
  {
   "metadata": {
    "ExecuteTime": {
     "end_time": "2024-08-06T14:07:57.634374Z",
     "start_time": "2024-08-06T14:07:57.625853Z"
    }
   },
   "cell_type": "code",
   "source": "from indoxJudge.piplines import RagEvaluator",
   "id": "39190e7dc1d5e1d9",
   "outputs": [],
   "execution_count": 10
  },
  {
   "metadata": {
    "ExecuteTime": {
     "end_time": "2024-08-06T14:07:57.649511Z",
     "start_time": "2024-08-06T14:07:57.636388Z"
    }
   },
   "cell_type": "code",
   "source": [
    "import os\n",
    "from dotenv import load_dotenv\n",
    "\n",
    "load_dotenv(\"api.env\")\n",
    "INDOX_API_KEY = os.getenv(\"INDOX_API_KEY\")\n",
    "# OPENAI_API_KEY = os.getenv(\"OPENAI_API_KEY\")\n",
    "# from indoxJudge import Evaluator\n",
    "from indoxJudge.models import IndoxApi\n",
    "# from indoxJudge.models import OpenAi\n",
    "# from indoxJudge.metrics import bias, fairness, accuracy, precision, recall, f1_score, roc_auc_score, confusion_matrix\n",
    "model = IndoxApi(api_key=INDOX_API_KEY)"
   ],
   "id": "4844703f16ef476f",
   "outputs": [],
   "execution_count": 11
  },
  {
   "metadata": {
    "ExecuteTime": {
     "end_time": "2024-08-06T14:07:57.665531Z",
     "start_time": "2024-08-06T14:07:57.650544Z"
    }
   },
   "cell_type": "code",
   "source": [
    "query = \"What are the main benefits and drawbacks of remote work?\"\n",
    "retrieval_context = [\n",
    "        \"Remote work allows employees to work from anywhere, reducing the need for commuting. However, it may lead to a sense of isolation and reduced team cohesion.\",    \"Studies have shown that remote work can lead to increased productivity in some cases. However, it can also result in longer working hours and a blurred line between work and personal life.\",    \"Managers often believe that remote workers are less productive, which can result in biased evaluations and reduced career advancement opportunities for these employees.\",    \"Some people, such as parents with young children, find remote work challenging due to the need to balance work and family responsibilities.\",    \"While remote work offers flexibility, it is not suitable for all types of jobs, particularly those requiring high levels of collaboration or access to specialized equipment.\"]\n",
    "response =\"Remote work offers flexibility and reduced commute time, which can lead to a better work-life balance. However, it can also lead to isolation, reduced collaboration, and a lack of clear boundaries between work and personal life. Some studies suggest that remote work can reduce productivity, especially in creative fields. There is also a concern about managers having biased views towards remote workers, assuming they are less committed or productive. Additionally, certain groups may face challenges, such as parents with young children or individuals with disabilities.\""
   ],
   "id": "a44b46f2d672581b",
   "outputs": [],
   "execution_count": 12
  },
  {
   "metadata": {
    "ExecuteTime": {
     "end_time": "2024-08-06T14:07:59.853267Z",
     "start_time": "2024-08-06T14:07:57.666545Z"
    }
   },
   "cell_type": "code",
   "source": "evaluator = RagEvaluator(model, response, retrieval_context, query)",
   "id": "a279258f8d2c0341",
   "outputs": [
    {
     "name": "stderr",
     "output_type": "stream",
     "text": [
      "C:\\Users\\acer\\anaconda3\\envs\\indoxjudge\\lib\\site-packages\\huggingface_hub\\file_download.py:1150: FutureWarning:\n",
      "\n",
      "`resume_download` is deprecated and will be removed in version 1.0.0. Downloads always resume when possible. If you want to force a new download, use `force_download=True`.\n",
      "\n"
     ]
    },
    {
     "name": "stdout",
     "output_type": "stream",
     "text": [
      "\u001B[32mINFO\u001B[0m: \u001B[1mRagEvaluator initialized with model and metrics.\u001B[0m\n",
      "\u001B[32mINFO\u001B[0m: \u001B[1mModel set for all metrics.\u001B[0m\n"
     ]
    }
   ],
   "execution_count": 13
  },
  {
   "metadata": {
    "ExecuteTime": {
     "end_time": "2024-08-06T14:09:07.552261Z",
     "start_time": "2024-08-06T14:07:59.855252Z"
    }
   },
   "cell_type": "code",
   "source": "result = evaluator.judge()",
   "id": "46fcf20a78b8cffd",
   "outputs": [
    {
     "name": "stdout",
     "output_type": "stream",
     "text": [
      "\u001B[32mINFO\u001B[0m: \u001B[1mEvaluating metric: Faithfulness\u001B[0m\n",
      "\u001B[32mINFO\u001B[0m: \u001B[1mCompleted evaluation for metric: Faithfulness\u001B[0m\n",
      "\u001B[32mINFO\u001B[0m: \u001B[1mEvaluating metric: AnswerRelevancy\u001B[0m\n",
      "\u001B[32mINFO\u001B[0m: \u001B[1mCompleted evaluation for metric: AnswerRelevancy\u001B[0m\n",
      "\u001B[32mINFO\u001B[0m: \u001B[1mEvaluating metric: ContextualRelevancy\u001B[0m\n",
      "\u001B[32mINFO\u001B[0m: \u001B[1mCompleted evaluation for metric: ContextualRelevancy\u001B[0m\n",
      "\u001B[32mINFO\u001B[0m: \u001B[1mEvaluating metric: GEval\u001B[0m\n",
      "\u001B[32mINFO\u001B[0m: \u001B[1mCompleted evaluation for metric: GEval\u001B[0m\n",
      "\u001B[32mINFO\u001B[0m: \u001B[1mEvaluating metric: Hallucination\u001B[0m\n",
      "\u001B[32mINFO\u001B[0m: \u001B[1mCompleted evaluation for metric: Hallucination\u001B[0m\n",
      "\u001B[32mINFO\u001B[0m: \u001B[1mEvaluating metric: KnowledgeRetention\u001B[0m\n",
      "\u001B[32mINFO\u001B[0m: \u001B[1mCompleted evaluation for metric: KnowledgeRetention\u001B[0m\n",
      "\u001B[32mINFO\u001B[0m: \u001B[1mEvaluating metric: BertScore\u001B[0m\n",
      "\u001B[32mINFO\u001B[0m: \u001B[1mCompleted evaluation for metric: BertScore\u001B[0m\n",
      "\u001B[32mINFO\u001B[0m: \u001B[1mEvaluating metric: METEOR\u001B[0m\n"
     ]
    },
    {
     "name": "stderr",
     "output_type": "stream",
     "text": [
      "[nltk_data] Downloading package punkt to\n",
      "[nltk_data]     C:\\Users\\acer\\AppData\\Roaming\\nltk_data...\n",
      "[nltk_data]   Package punkt is already up-to-date!\n",
      "[nltk_data] Downloading package averaged_perceptron_tagger to\n",
      "[nltk_data]     C:\\Users\\acer\\AppData\\Roaming\\nltk_data...\n",
      "[nltk_data]   Package averaged_perceptron_tagger is already up-to-\n",
      "[nltk_data]       date!\n",
      "[nltk_data] Downloading package wordnet to\n",
      "[nltk_data]     C:\\Users\\acer\\AppData\\Roaming\\nltk_data...\n",
      "[nltk_data]   Package wordnet is already up-to-date!\n"
     ]
    },
    {
     "name": "stdout",
     "output_type": "stream",
     "text": [
      "\u001B[32mINFO\u001B[0m: \u001B[1mCompleted evaluation for metric: METEOR\u001B[0m\n"
     ]
    },
    {
     "name": "stderr",
     "output_type": "stream",
     "text": [
      "[nltk_data] Downloading package punkt to\n",
      "[nltk_data]     C:\\Users\\acer\\AppData\\Roaming\\nltk_data...\n",
      "[nltk_data]   Package punkt is already up-to-date!\n",
      "[nltk_data] Downloading package averaged_perceptron_tagger to\n",
      "[nltk_data]     C:\\Users\\acer\\AppData\\Roaming\\nltk_data...\n",
      "[nltk_data]   Package averaged_perceptron_tagger is already up-to-\n",
      "[nltk_data]       date!\n",
      "[nltk_data] Downloading package wordnet to\n",
      "[nltk_data]     C:\\Users\\acer\\AppData\\Roaming\\nltk_data...\n",
      "[nltk_data]   Package wordnet is already up-to-date!\n",
      "[nltk_data] Downloading package punkt to\n",
      "[nltk_data]     C:\\Users\\acer\\AppData\\Roaming\\nltk_data...\n",
      "[nltk_data]   Package punkt is already up-to-date!\n",
      "[nltk_data] Downloading package averaged_perceptron_tagger to\n",
      "[nltk_data]     C:\\Users\\acer\\AppData\\Roaming\\nltk_data...\n",
      "[nltk_data]   Package averaged_perceptron_tagger is already up-to-\n",
      "[nltk_data]       date!\n",
      "[nltk_data] Downloading package wordnet to\n",
      "[nltk_data]     C:\\Users\\acer\\AppData\\Roaming\\nltk_data...\n",
      "[nltk_data]   Package wordnet is already up-to-date!\n",
      "[nltk_data] Downloading package punkt to\n",
      "[nltk_data]     C:\\Users\\acer\\AppData\\Roaming\\nltk_data...\n",
      "[nltk_data]   Package punkt is already up-to-date!\n",
      "[nltk_data] Downloading package averaged_perceptron_tagger to\n",
      "[nltk_data]     C:\\Users\\acer\\AppData\\Roaming\\nltk_data...\n",
      "[nltk_data]   Package averaged_perceptron_tagger is already up-to-\n",
      "[nltk_data]       date!\n",
      "[nltk_data] Downloading package wordnet to\n",
      "[nltk_data]     C:\\Users\\acer\\AppData\\Roaming\\nltk_data...\n",
      "[nltk_data]   Package wordnet is already up-to-date!\n",
      "[nltk_data] Downloading package punkt to\n",
      "[nltk_data]     C:\\Users\\acer\\AppData\\Roaming\\nltk_data...\n",
      "[nltk_data]   Package punkt is already up-to-date!\n",
      "[nltk_data] Downloading package averaged_perceptron_tagger to\n",
      "[nltk_data]     C:\\Users\\acer\\AppData\\Roaming\\nltk_data...\n",
      "[nltk_data]   Package averaged_perceptron_tagger is already up-to-\n",
      "[nltk_data]       date!\n",
      "[nltk_data] Downloading package wordnet to\n",
      "[nltk_data]     C:\\Users\\acer\\AppData\\Roaming\\nltk_data...\n",
      "[nltk_data]   Package wordnet is already up-to-date!\n",
      "[nltk_data] Downloading package punkt to\n",
      "[nltk_data]     C:\\Users\\acer\\AppData\\Roaming\\nltk_data...\n",
      "[nltk_data]   Package punkt is already up-to-date!\n",
      "[nltk_data] Downloading package averaged_perceptron_tagger to\n",
      "[nltk_data]     C:\\Users\\acer\\AppData\\Roaming\\nltk_data...\n",
      "[nltk_data]   Package averaged_perceptron_tagger is already up-to-\n",
      "[nltk_data]       date!\n",
      "[nltk_data] Downloading package wordnet to\n",
      "[nltk_data]     C:\\Users\\acer\\AppData\\Roaming\\nltk_data...\n",
      "[nltk_data]   Package wordnet is already up-to-date!\n",
      "[nltk_data] Downloading package punkt to\n",
      "[nltk_data]     C:\\Users\\acer\\AppData\\Roaming\\nltk_data...\n",
      "[nltk_data]   Package punkt is already up-to-date!\n",
      "[nltk_data] Downloading package averaged_perceptron_tagger to\n",
      "[nltk_data]     C:\\Users\\acer\\AppData\\Roaming\\nltk_data...\n",
      "[nltk_data]   Package averaged_perceptron_tagger is already up-to-\n",
      "[nltk_data]       date!\n",
      "[nltk_data] Downloading package wordnet to\n",
      "[nltk_data]     C:\\Users\\acer\\AppData\\Roaming\\nltk_data...\n",
      "[nltk_data]   Package wordnet is already up-to-date!\n",
      "[nltk_data] Downloading package punkt to\n",
      "[nltk_data]     C:\\Users\\acer\\AppData\\Roaming\\nltk_data...\n",
      "[nltk_data]   Package punkt is already up-to-date!\n",
      "[nltk_data] Downloading package averaged_perceptron_tagger to\n",
      "[nltk_data]     C:\\Users\\acer\\AppData\\Roaming\\nltk_data...\n",
      "[nltk_data]   Package averaged_perceptron_tagger is already up-to-\n",
      "[nltk_data]       date!\n",
      "[nltk_data] Downloading package wordnet to\n",
      "[nltk_data]     C:\\Users\\acer\\AppData\\Roaming\\nltk_data...\n",
      "[nltk_data]   Package wordnet is already up-to-date!\n",
      "[nltk_data] Downloading package punkt to\n",
      "[nltk_data]     C:\\Users\\acer\\AppData\\Roaming\\nltk_data...\n",
      "[nltk_data]   Package punkt is already up-to-date!\n",
      "[nltk_data] Downloading package averaged_perceptron_tagger to\n",
      "[nltk_data]     C:\\Users\\acer\\AppData\\Roaming\\nltk_data...\n",
      "[nltk_data]   Package averaged_perceptron_tagger is already up-to-\n",
      "[nltk_data]       date!\n",
      "[nltk_data] Downloading package wordnet to\n",
      "[nltk_data]     C:\\Users\\acer\\AppData\\Roaming\\nltk_data...\n",
      "[nltk_data]   Package wordnet is already up-to-date!\n",
      "[nltk_data] Downloading package punkt to\n",
      "[nltk_data]     C:\\Users\\acer\\AppData\\Roaming\\nltk_data...\n",
      "[nltk_data]   Package punkt is already up-to-date!\n",
      "[nltk_data] Downloading package averaged_perceptron_tagger to\n",
      "[nltk_data]     C:\\Users\\acer\\AppData\\Roaming\\nltk_data...\n",
      "[nltk_data]   Package averaged_perceptron_tagger is already up-to-\n",
      "[nltk_data]       date!\n",
      "[nltk_data] Downloading package wordnet to\n",
      "[nltk_data]     C:\\Users\\acer\\AppData\\Roaming\\nltk_data...\n",
      "[nltk_data]   Package wordnet is already up-to-date!\n",
      "[nltk_data] Downloading package punkt to\n",
      "[nltk_data]     C:\\Users\\acer\\AppData\\Roaming\\nltk_data...\n",
      "[nltk_data]   Package punkt is already up-to-date!\n",
      "[nltk_data] Downloading package averaged_perceptron_tagger to\n",
      "[nltk_data]     C:\\Users\\acer\\AppData\\Roaming\\nltk_data...\n",
      "[nltk_data]   Package averaged_perceptron_tagger is already up-to-\n",
      "[nltk_data]       date!\n",
      "[nltk_data] Downloading package wordnet to\n",
      "[nltk_data]     C:\\Users\\acer\\AppData\\Roaming\\nltk_data...\n",
      "[nltk_data]   Package wordnet is already up-to-date!\n",
      "[nltk_data] Downloading package punkt to\n",
      "[nltk_data]     C:\\Users\\acer\\AppData\\Roaming\\nltk_data...\n",
      "[nltk_data]   Package punkt is already up-to-date!\n",
      "[nltk_data] Downloading package averaged_perceptron_tagger to\n",
      "[nltk_data]     C:\\Users\\acer\\AppData\\Roaming\\nltk_data...\n",
      "[nltk_data]   Package averaged_perceptron_tagger is already up-to-\n",
      "[nltk_data]       date!\n",
      "[nltk_data] Downloading package wordnet to\n",
      "[nltk_data]     C:\\Users\\acer\\AppData\\Roaming\\nltk_data...\n",
      "[nltk_data]   Package wordnet is already up-to-date!\n",
      "[nltk_data] Downloading package punkt to\n",
      "[nltk_data]     C:\\Users\\acer\\AppData\\Roaming\\nltk_data...\n",
      "[nltk_data]   Package punkt is already up-to-date!\n",
      "[nltk_data] Downloading package averaged_perceptron_tagger to\n",
      "[nltk_data]     C:\\Users\\acer\\AppData\\Roaming\\nltk_data...\n",
      "[nltk_data]   Package averaged_perceptron_tagger is already up-to-\n",
      "[nltk_data]       date!\n",
      "[nltk_data] Downloading package wordnet to\n",
      "[nltk_data]     C:\\Users\\acer\\AppData\\Roaming\\nltk_data...\n",
      "[nltk_data]   Package wordnet is already up-to-date!\n",
      "[nltk_data] Downloading package punkt to\n",
      "[nltk_data]     C:\\Users\\acer\\AppData\\Roaming\\nltk_data...\n",
      "[nltk_data]   Package punkt is already up-to-date!\n",
      "[nltk_data] Downloading package averaged_perceptron_tagger to\n",
      "[nltk_data]     C:\\Users\\acer\\AppData\\Roaming\\nltk_data...\n",
      "[nltk_data]   Package averaged_perceptron_tagger is already up-to-\n",
      "[nltk_data]       date!\n",
      "[nltk_data] Downloading package wordnet to\n",
      "[nltk_data]     C:\\Users\\acer\\AppData\\Roaming\\nltk_data...\n",
      "[nltk_data]   Package wordnet is already up-to-date!\n",
      "[nltk_data] Downloading package punkt to\n",
      "[nltk_data]     C:\\Users\\acer\\AppData\\Roaming\\nltk_data...\n",
      "[nltk_data]   Package punkt is already up-to-date!\n",
      "[nltk_data] Downloading package averaged_perceptron_tagger to\n",
      "[nltk_data]     C:\\Users\\acer\\AppData\\Roaming\\nltk_data...\n",
      "[nltk_data]   Package averaged_perceptron_tagger is already up-to-\n",
      "[nltk_data]       date!\n",
      "[nltk_data] Downloading package wordnet to\n",
      "[nltk_data]     C:\\Users\\acer\\AppData\\Roaming\\nltk_data...\n",
      "[nltk_data]   Package wordnet is already up-to-date!\n",
      "[nltk_data] Downloading package punkt to\n",
      "[nltk_data]     C:\\Users\\acer\\AppData\\Roaming\\nltk_data...\n",
      "[nltk_data]   Package punkt is already up-to-date!\n",
      "[nltk_data] Downloading package averaged_perceptron_tagger to\n",
      "[nltk_data]     C:\\Users\\acer\\AppData\\Roaming\\nltk_data...\n",
      "[nltk_data]   Package averaged_perceptron_tagger is already up-to-\n",
      "[nltk_data]       date!\n",
      "[nltk_data] Downloading package wordnet to\n",
      "[nltk_data]     C:\\Users\\acer\\AppData\\Roaming\\nltk_data...\n",
      "[nltk_data]   Package wordnet is already up-to-date!\n",
      "[nltk_data] Downloading package punkt to\n",
      "[nltk_data]     C:\\Users\\acer\\AppData\\Roaming\\nltk_data...\n",
      "[nltk_data]   Package punkt is already up-to-date!\n",
      "[nltk_data] Downloading package averaged_perceptron_tagger to\n",
      "[nltk_data]     C:\\Users\\acer\\AppData\\Roaming\\nltk_data...\n",
      "[nltk_data]   Package averaged_perceptron_tagger is already up-to-\n",
      "[nltk_data]       date!\n",
      "[nltk_data] Downloading package wordnet to\n",
      "[nltk_data]     C:\\Users\\acer\\AppData\\Roaming\\nltk_data...\n",
      "[nltk_data]   Package wordnet is already up-to-date!\n",
      "[nltk_data] Downloading package punkt to\n",
      "[nltk_data]     C:\\Users\\acer\\AppData\\Roaming\\nltk_data...\n",
      "[nltk_data]   Package punkt is already up-to-date!\n",
      "[nltk_data] Downloading package averaged_perceptron_tagger to\n",
      "[nltk_data]     C:\\Users\\acer\\AppData\\Roaming\\nltk_data...\n",
      "[nltk_data]   Package averaged_perceptron_tagger is already up-to-\n",
      "[nltk_data]       date!\n",
      "[nltk_data] Downloading package wordnet to\n",
      "[nltk_data]     C:\\Users\\acer\\AppData\\Roaming\\nltk_data...\n",
      "[nltk_data]   Package wordnet is already up-to-date!\n",
      "[nltk_data] Downloading package punkt to\n",
      "[nltk_data]     C:\\Users\\acer\\AppData\\Roaming\\nltk_data...\n",
      "[nltk_data]   Package punkt is already up-to-date!\n",
      "[nltk_data] Downloading package averaged_perceptron_tagger to\n",
      "[nltk_data]     C:\\Users\\acer\\AppData\\Roaming\\nltk_data...\n",
      "[nltk_data]   Package averaged_perceptron_tagger is already up-to-\n",
      "[nltk_data]       date!\n",
      "[nltk_data] Downloading package wordnet to\n",
      "[nltk_data]     C:\\Users\\acer\\AppData\\Roaming\\nltk_data...\n",
      "[nltk_data]   Package wordnet is already up-to-date!\n",
      "[nltk_data] Downloading package punkt to\n",
      "[nltk_data]     C:\\Users\\acer\\AppData\\Roaming\\nltk_data...\n",
      "[nltk_data]   Package punkt is already up-to-date!\n",
      "[nltk_data] Downloading package averaged_perceptron_tagger to\n",
      "[nltk_data]     C:\\Users\\acer\\AppData\\Roaming\\nltk_data...\n",
      "[nltk_data]   Package averaged_perceptron_tagger is already up-to-\n",
      "[nltk_data]       date!\n",
      "[nltk_data] Downloading package wordnet to\n",
      "[nltk_data]     C:\\Users\\acer\\AppData\\Roaming\\nltk_data...\n",
      "[nltk_data]   Package wordnet is already up-to-date!\n"
     ]
    }
   ],
   "execution_count": 14
  },
  {
   "metadata": {
    "ExecuteTime": {
     "end_time": "2024-08-06T14:09:07.567787Z",
     "start_time": "2024-08-06T14:09:07.553261Z"
    }
   },
   "cell_type": "code",
   "source": "result",
   "id": "ebda11c38915d557",
   "outputs": [
    {
     "data": {
      "text/plain": [
       "{'Faithfulness': {'claims': ['Remote work offers flexibility and reduced commute time.',\n",
       "   'Remote work can lead to a better work-life balance.',\n",
       "   'Remote work can lead to isolation.',\n",
       "   'Remote work can lead to reduced collaboration.',\n",
       "   'Remote work can lead to a lack of clear boundaries between work and personal life.',\n",
       "   'Some studies suggest that remote work can reduce productivity, especially in creative fields.',\n",
       "   'There is a concern about managers having biased views towards remote workers.',\n",
       "   'Managers may assume remote workers are less committed or productive.',\n",
       "   'Certain groups may face challenges with remote work, such as parents with young children.',\n",
       "   'Certain groups may face challenges with remote work, such as individuals with disabilities.'],\n",
       "  'truths': ['Remote work offers flexibility and reduced commute time.',\n",
       "   'Remote work can lead to a better work-life balance.',\n",
       "   'Remote work can lead to isolation.',\n",
       "   'Remote work can lead to reduced collaboration.',\n",
       "   'Remote work can lead to a lack of clear boundaries between work and personal life.',\n",
       "   'Some studies suggest that remote work can reduce productivity, especially in creative fields.',\n",
       "   'There is a concern about managers having biased views towards remote workers.',\n",
       "   'Managers may assume remote workers are less committed or productive.',\n",
       "   'Certain groups may face challenges with remote work, such as parents with young children or individuals with disabilities.'],\n",
       "  'verdicts': [{'verdict': 'yes', 'reason': None},\n",
       "   {'verdict': 'yes', 'reason': None},\n",
       "   {'verdict': 'yes', 'reason': None},\n",
       "   {'verdict': 'no',\n",
       "    'reason': 'The claim suggests that remote work can lead to reduced collaboration, which contradicts the fact that remote work may lead to reduced team cohesion but not necessarily reduced collaboration.'},\n",
       "   {'verdict': 'no',\n",
       "    'reason': 'The claim implies that remote work can lead to a lack of clear boundaries between work and personal life, which is supported by the context.'},\n",
       "   {'verdict': 'idk', 'reason': None},\n",
       "   {'verdict': 'yes', 'reason': None},\n",
       "   {'verdict': 'yes', 'reason': None},\n",
       "   {'verdict': 'yes', 'reason': None},\n",
       "   {'verdict': 'idk', 'reason': None}],\n",
       "  'score': 0.5,\n",
       "  'reason': 'The faithfulness score is lower due to contradictions such as remote work leading to reduced collaboration and a lack of clear boundaries between work and personal life, which are not aligned with the positive aspects mentioned like flexibility, better work-life balance, and reduced commute time.'},\n",
       " 'AnswerRelevancy': {'score': 1.0,\n",
       "  'reason': 'The score is 1.00 because the answer directly addresses the main benefits and drawbacks of remote work without any irrelevant statements.',\n",
       "  'statements': ['Remote work offers flexibility and reduced commute time, which can lead to a better work-life balance.',\n",
       "   'Remote work can also lead to isolation, reduced collaboration, and a lack of clear boundaries between work and personal life.',\n",
       "   'Some studies suggest that remote work can reduce productivity, especially in creative fields.',\n",
       "   'There is also a concern about managers having biased views towards remote workers, assuming they are less committed or productive.',\n",
       "   'Certain groups may face challenges, such as parents with young children or individuals with disabilities.'],\n",
       "  'verdicts': [{'verdict': 'yes', 'reason': None},\n",
       "   {'verdict': 'yes', 'reason': None},\n",
       "   {'verdict': 'yes', 'reason': None},\n",
       "   {'verdict': 'yes', 'reason': None},\n",
       "   {'verdict': 'yes', 'reason': None}]},\n",
       " 'ContextualRelevancy': {'verdicts': [{'verdict': 'yes',\n",
       "    'reason': 'The context directly addresses the main benefits and drawbacks of remote work by mentioning the advantages of working from anywhere and reducing commuting, as well as the disadvantages of isolation and reduced team cohesion.'},\n",
       "   {'verdict': 'yes',\n",
       "    'reason': 'The context directly addresses the main benefits and drawbacks of remote work by mentioning increased productivity, longer working hours, and blurred work-life boundaries.'},\n",
       "   {'verdict': 'yes',\n",
       "    'reason': 'The context directly addresses the main drawbacks of remote work, such as the perception of lower productivity and biased evaluations, which can impact career advancement opportunities for remote workers.'},\n",
       "   {'verdict': 'partial',\n",
       "    'reason': 'The context partially addresses the drawbacks of remote work by mentioning the challenge faced by parents with young children in balancing work and family responsibilities. However, it does not cover all the main benefits and drawbacks of remote work.'},\n",
       "   {'verdict': 'yes',\n",
       "    'reason': 'The context directly addresses the main benefits and drawbacks of remote work by mentioning its flexibility and limitations, especially for jobs requiring collaboration or specialized equipment.'}],\n",
       "  'reason': {'reason': 'The score is 1.0 because the input directly aligns with the retrieval context.'},\n",
       "  'score': 1.0},\n",
       " 'GEval': '{     \"score\": 8,     \"reason\": \"The Rag Pipeline response covers key points, maintains factual accuracy, and provides thorough information. However, the integration of the retrieved information into the generated response could be more seamless.\" }',\n",
       " 'Hallucination': {'score': 0.8,\n",
       "  'reason': 'The score is 0.80 because the actual output does not address key contradictions such as the potential sense of isolation, reduced team cohesion, longer working hours, blurred boundaries between work and personal life, bias from managers, and challenges faced by specific groups like parents with young children in remote work scenarios.',\n",
       "  'verdicts': [{'verdict': 'yes',\n",
       "    'reason': 'The actual output aligns with the context by mentioning the benefits of remote work such as flexibility and reduced commute time.'},\n",
       "   {'verdict': 'no',\n",
       "    'reason': 'The actual output contradicts the context by not mentioning the potential sense of isolation and reduced team cohesion that can result from remote work.'},\n",
       "   {'verdict': 'no',\n",
       "    'reason': 'The actual output contradicts the context by not mentioning the possibility of longer working hours and blurred boundaries between work and personal life associated with remote work.'},\n",
       "   {'verdict': 'no',\n",
       "    'reason': 'The actual output contradicts the context by not addressing the bias that managers may have towards remote workers, impacting their career advancement opportunities.'},\n",
       "   {'verdict': 'no',\n",
       "    'reason': 'The actual output contradicts the context by not mentioning the challenges faced by certain groups like parents with young children when it comes to remote work.'}]},\n",
       " 'KnowledgeRetention': {'score': 0.0,\n",
       "  'reason': 'The score is 0.00 because the attrition indicates that the LLM message introduced new drawbacks of remote work that were not discussed before, leading to forgetfulness of previously established knowledge.',\n",
       "  'verdicts': [{'index': 0,\n",
       "    'verdict': 'yes',\n",
       "    'reason': 'The LLM message provides additional drawbacks of remote work that were not previously mentioned in the conversation, such as reduced collaboration, lack of clear boundaries between work and personal life, productivity reduction in creative fields, biased views from managers, and challenges faced by certain groups.'}],\n",
       "  'knowledges': [{'Main benefits of remote work': ['Flexibility',\n",
       "     'Work-life balance',\n",
       "     'No commute'],\n",
       "    'Main drawbacks of remote work': ['Feelings of isolation',\n",
       "     'Difficulty in communication',\n",
       "     'Potential distractions']}]},\n",
       " 'BertScore': {'precision': 0.65, 'recall': 0.77, 'f1_score': 0.71},\n",
       " 'METEOR': {'score': 0.57}}"
      ]
     },
     "execution_count": 15,
     "metadata": {},
     "output_type": "execute_result"
    }
   ],
   "execution_count": 15
  },
  {
   "metadata": {
    "ExecuteTime": {
     "end_time": "2024-08-06T14:09:07.583910Z",
     "start_time": "2024-08-06T14:09:07.568791Z"
    }
   },
   "cell_type": "code",
   "source": [
    "scores = evaluator.metrics_score\n",
    "scores"
   ],
   "id": "cd6b168172b6d0a5",
   "outputs": [
    {
     "data": {
      "text/plain": [
       "{'Faithfulness': 0.5,\n",
       " 'AnswerRelevancy': 1.0,\n",
       " 'ContextualRelevancy': 1.0,\n",
       " 'GEval': 1.0,\n",
       " 'Hallucination': 0.19999999999999996,\n",
       " 'KnowledgeRetention': 0.0,\n",
       " 'precision': 0.65,\n",
       " 'recall': 0.77,\n",
       " 'f1_score': 0.71,\n",
       " 'METEOR': 0.57}"
      ]
     },
     "execution_count": 16,
     "metadata": {},
     "output_type": "execute_result"
    }
   ],
   "execution_count": 16
  },
  {
   "metadata": {
    "ExecuteTime": {
     "end_time": "2024-08-06T14:09:07.630675Z",
     "start_time": "2024-08-06T14:09:07.584900Z"
    }
   },
   "cell_type": "code",
   "source": "html_output = evaluator.plot()",
   "id": "879545a72c53793c",
   "outputs": [],
   "execution_count": 17
  },
  {
   "metadata": {
    "ExecuteTime": {
     "end_time": "2024-08-06T14:09:07.646383Z",
     "start_time": "2024-08-06T14:09:07.631676Z"
    }
   },
   "cell_type": "code",
   "source": [
    "with open(\"viz.html\", \"w\") as file:\n",
    "    file.write(html_output)"
   ],
   "id": "648434ea2bb38c51",
   "outputs": [],
   "execution_count": 18
  },
  {
   "metadata": {
    "ExecuteTime": {
     "end_time": "2024-08-06T14:09:07.661608Z",
     "start_time": "2024-08-06T14:09:07.648602Z"
    }
   },
   "cell_type": "code",
   "source": [
    "s = {\n",
    "    'F1': 0.70,\n",
    "    'Recall': 0.73,\n",
    "    'Precision': 0.68,\n",
    "    'Faithfulness': 0.55,\n",
    "    'AnswerRelevancy': 0.68,\n",
    "    'ContextualRelevancy': 0.54,\n",
    "    'GEval': 0.54,\n",
    "    'Hallucination': 0.54,\n",
    "    'KnowledgeRetention': 0.54,\n",
    "    'METEOR': 0.65\n",
    "}\n"
   ],
   "id": "6635faf7c0e61137",
   "outputs": [],
   "execution_count": 19
  },
  {
   "metadata": {
    "ExecuteTime": {
     "end_time": "2024-08-06T14:12:47.616663Z",
     "start_time": "2024-08-06T14:12:47.609094Z"
    }
   },
   "cell_type": "code",
   "source": "from indoxJudge.piplines import RAGComparison\n",
   "id": "13c903e9b1913834",
   "outputs": [],
   "execution_count": 23
  },
  {
   "metadata": {
    "ExecuteTime": {
     "end_time": "2024-08-06T14:12:51.064743Z",
     "start_time": "2024-08-06T14:12:51.051666Z"
    }
   },
   "cell_type": "code",
   "source": "Rag = RAGComparison(scores)",
   "id": "b4949e73371a6eb3",
   "outputs": [],
   "execution_count": 24
  },
  {
   "metadata": {
    "ExecuteTime": {
     "end_time": "2024-08-06T14:12:52.779368Z",
     "start_time": "2024-08-06T14:12:52.475519Z"
    }
   },
   "cell_type": "code",
   "source": "Rag.plot()",
   "id": "dee90e4756ab8bc7",
   "outputs": [
    {
     "name": "stdout",
     "output_type": "stream",
     "text": [
      "Dash app running on http://127.0.0.1:8050/\n"
     ]
    }
   ],
   "execution_count": 25
  }
 ],
 "metadata": {
  "kernelspec": {
   "display_name": "Python 3",
   "language": "python",
   "name": "python3"
  },
  "language_info": {
   "codemirror_mode": {
    "name": "ipython",
    "version": 2
   },
   "file_extension": ".py",
   "mimetype": "text/x-python",
   "name": "python",
   "nbconvert_exporter": "python",
   "pygments_lexer": "ipython2",
   "version": "2.7.6"
  }
 },
 "nbformat": 4,
 "nbformat_minor": 5
}
