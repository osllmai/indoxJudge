{
 "cells": [
  {
   "cell_type": "code",
   "execution_count": 1,
   "metadata": {},
   "outputs": [],
   "source": [
    "import sys\n",
    "import os\n",
    "\n",
    "module_path = os.path.abspath('E:/Codes/IndoxJudge/indoxJudge')\n",
    "if module_path not in sys.path:\n",
    "    sys.path.append(module_path)\n",
    "\n",
    "\n"
   ]
  },
  {
   "cell_type": "code",
   "execution_count": 2,
   "metadata": {},
   "outputs": [],
   "source": [
    "query = \"\"\"\n",
    "As a professional summarizer, create a concise and comprehensive summary of the provided text, be it a provided text, while adhering to these guidelines:\n",
    "1 Craft a summary that is detailed, thorough, in-depth, and complex, while maintaining clarity and conciseness.\n",
    "2 Incorporate main ideas and essential information, eliminating extraneous language and focusing on critical aspects.\n",
    "3 Rely strictly on the provided text, without including external information.\n",
    "4 Format the summary in paragraph form for easy understanding.\n",
    "5 Conclude your notes with [End of Notes, Message #X] to indicate completion, where \"X\" represents the total number of messages that I have sent. In other words, include a message counter where you start with #1 and add 1 to the message counter every time I send a message.\n",
    "6 Summarize this text into a summary suitable for non-experts.\n",
    "\"\"\"\n",
    "information_protection_text = \"\"\"\n",
    "Information Protection\n",
    "Northwestern Mutual takes the privacy and security of your personal information seriously. It is our mission to protect our client's information and maintain their trust through delivery of innovative cybersecurity and risk management services.\n",
    "\n",
    "Northwestern Mutual's cybersecurity and risk program includes safeguards.\n",
    "Program safeguards: The security and privacy of clients' confidential information are important to Northwestern Mutual. The company takes its responsibility to protect this information seriously and uses technical, administrative, and physical controls to safeguard its systems and data. The following are just some of the ways the company keeps client information safe.\n",
    "\n",
    "Technical: Northwestern Mutual uses layers of technical controls to protect its clients' information:\n",
    "\n",
    "Endpoint protection: The company employs a comprehensive endpoint protection program, beyond traditional antivirus. This includes threat protection and response mechanisms to safeguard against evolving threats.\n",
    "Email security: The company utilizes a suite of solutions capable of detecting and mitigating not only spam, phishing, and fraud attempts but also advanced malicious email-based threats.\n",
    "Encryption by default: The company adopts strong encryption algorithms for both data-in-transit and data-at-rest.\n",
    "Next-generation firewalls: The company leverages robust next-generation firewalls (NGFW) technologies providing deep packet inspection, intrusion prevention, and threat protection.\n",
    "24/7 Continuous monitoring and incident response: The company operates a Cyber Defense & Threat Operations organization dedicated to monitoring and responding to threats facing the organization.\n",
    "Regular penetration testing: The company utilizes internal and external resources to continually assess, and improve, our preventative controls and our detective capabilities.\n",
    "Product security: The company prioritizes security of its products and services through a series of solutions aimed at identifying and correcting vulnerabilities throughout a products lifecycle; including code and operating system (OS) scanning, cloud security enforcements, and runtime protections.\n",
    "Administrative: Northwestern Mutual supplements its technical controls with processes, procedures, and policies to further protect its clients' information:\n",
    "\n",
    "Authentication: The company requires multiple authentication factors to verify the identity of persons requesting policy, contract, or account information. A customer's right to policy, contract or account information follows state and federal regulations based on their role with the policy, contract or account.\n",
    "Authorization: Access to company systems is granted on a business-need-to-know basis. Only those people who need access to a given system and its information to accomplish their job responsibilities receive that access.\n",
    "Change control: The company uses a change control process to help ensure all changes to company systems maintain the confidentiality, integrity, and availability of those systems.\n",
    "Corporate governance: The company has a strong governance process with multiple committees supporting information protection initiatives.\n",
    "Cybersecurity exercises and business continuity planning: The company maintains a comprehensive business continuity plan and conducts periodic cybersecurity tabletop and functional exercises and threat simulations to identify areas of program strength and opportunities for improvement.\n",
    "Privacy notice: Northwestern Mutual uses Privacy Notices to communicate how we collect, use, share, retain, and protect their Personal information. For more information, visit: northwesternmutual.com/privacy-notices/.\n",
    "Internal and external IT auditors: The company's internal and external auditors regularly review and assess the company's information technology systems and operations.\n",
    "Records and information management and sanitization: The company maintains a records and information management program that manages the lifecycle of the company's information, including adherence to regulatory requirements and secure disposal of confidential information.\n",
    "Risk assessments: The Company has multiple departments that specialize in identifying and mitigating risks through risk assessment processes. These departments include Information Risk Management, Privacy, Enterprise Risk Assurance, Financial Management, and Enterprise Risk Management.\n",
    "Security assessments: Security assessments are a key component of our information protection program. We execute a rigorous process to evaluate technology solutions against common security standards and controls.\n",
    "Security awareness: The company recognizes that end users are a critical component of an effective information security and risk management program. The company provides employees and financial representatives with security education and training, such as ongoing security education articles and events, training in company policies and standards, and simulated phishing exercises. Information to help clients protect themselves is also available on this page.\n",
    "Separation of duties: The company separates specific job duties to prevent a conflict of interest when appropriate.\n",
    "Storage locations: The company maintains certain personal information on its own internal systems. It also uses service providers for the purpose of maintaining data. Service providers are only entrusted with data after successfully undergoing a due diligence review and having signed a contract requiring information to be protected and use of data restricted to Northwestern Mutual's business purposes.\n",
    "Threat monitoring & hunting: The company works with internal teams and third-party industry security organizations to proactively monitor its environment for existing and potential threats.\n",
    "Training and user behavior: All employees and financial representatives receive training on protecting confidential information, which is tailored to Company business needs, identified risks, and emerging threats.\n",
    "User access reviews: The company regularly reviews user access to company systems to help ensure users maintain an appropriate level of access to those systems.\n",
    "Physical: Northwestern Mutual also protects its clients' information from physical harm and theft:\n",
    "\n",
    "Building and data center physical security: The company controls physical access to its buildings, data centers, and other facilities. Restricted access helps to ensure the confidentiality, integrity, and availability of company systems and physical assets within the company.\n",
    "Business continuity and disaster recovery planning: The company maintains and periodically tests defined business continuity and disaster recovery plans. These plans are designed to maximize the availability of company systems and information and recover from natural or human-made disasters as efficiently and effectively as possible.\n",
    "Redundancy: As part of its business continuity and disaster recovery plans, the company uses redundant infrastructure to ensure availability of company systems and client information.\n",
    "Our commitment to privacy: The Northwestern Mutual Family of Companies is committed to protecting the confidentiality of your personal information. We respect your privacy rights and choices, which may vary based on your interactions with us or your relationship to us. Please review our policies here.\n",
    "\n",
    "Responsible disclosure policy: We want to hear from security researchers (\"You\" or \"Your\") who have information related to suspected security vulnerabilities (\"Vulnerability\" or \"Vulnerabilities\") of any Northwestern Mutual services exposed to the internet. We value Your work and are committed to working with You. Please report Vulnerabilities to us in accordance with this Responsible Disclosure Policy.\n",
    "\n",
    "General security hygiene & suggestions for staying safe\n",
    "Protecting your NM account\n",
    "\n",
    "Registering for online account access\n",
    "\n",
    "When you register for Northwestern Mutual online account access, we will require several pieces of personal information from you. This helps ensure that only you may register to access your own accounts. Avoid accessing your online accounts through publicly shared computers and Wi-Fi networks.\n",
    "Multi-Factor Authentication: The company requires users to add an extra layer of protection to their northwesternmutual.com account login process by requiring entry of a security code in addition to their username and password. The security code is a unique, single-use number they receive via phone call, text, or your preferred authenticator app on your mobile device.\n",
    "Passwords\n",
    "\n",
    "A strong password is important to protect your online accounts. When you are selecting a password, keep the following tips in mind:\n",
    "Strong (good) passwords have the following characteristics:\n",
    "Contain both upper and lower-case characters (e.g., a–z, A–Z)\n",
    "Have digits and punctuation characters as well as letters (e.g., 0–9, !@#$%^&*)\n",
    "Fourteen (14) or more alphanumeric characters\n",
    "Not based on personal information, names of family, or important calendar dates\n",
    "Change passwords frequently.\n",
    "Consider using a password manager.\n",
    "Keep your new password private and change it immediately if someone else learns it or you believe it has been compromised in any way.\n",
    "Constructing a passphrase based on a sentence or phrase makes a password easy to remember. Passphrase is a type of string password that uses a short sentence or group of random words.\n",
    "Weak (bad) passwords have the following characteristics:\n",
    "Default password\n",
    "Contain less than eight (8) characters\n",
    "Common, easily guessed phrases (e.g. \"Winter is coming\")\n",
    "A common usage word such as names of family, pets, friends, co-workers, fantasy characters, etc.\n",
    "The words \"Northwestern Mutual\" or any derivation\n",
    "Do not use Social Security numbers, words or numbers associated with easily attainable personal information, like birthdays, anniversaries, license plates, telephone numbers, or addresses.\n",
    "Do not use the same pattern for your passwords, such as smart1, smart2, etc.\n",
    "Any of the above spelled backward\n",
    "Any of the above preceded or followed by a digit (e.g., secret1 or 1secret).\n",
    "Do not use real names or your login name or any variation of it.\n",
    "Do not write down your password or share your password with anyone else.\n",
    "Do not reuse passwords. Make sure you use different and unique passwords for all of your online accounts. Reusing a single password for multiple websites is never a good idea. If a cybercriminal obtains your password, they may try to use it on other websites.\n",
    "Protecting your account: Be prepared to provide your account/policy number when reaching out to us to set up the following safeguards:\n",
    "Life, Disability Income and Annuity: You can request a password to be used to verify your identity when you call the home office.\n",
    "For Life and Disability Income Policies, call 1-800-388-8123.\n",
    "For Annuities, call 1-888-455-2232.\n",
    "Long-Term Care: You can request additional authenticators be added to verify your identity when calling about your policy by calling 1-800-748-9493.\n",
    "Investment Accounts: You can request a note or block be added to your account.\n",
    "For Northwestern Mutual Investment Services and Northwestern Mutual Wealth Management Company, including Trust and Private Client Services, call 1-866-950-4644 and ask for \"investments\".\n",
    "Staying safe online\n",
    "Email Hacking: Email hacking occurs when a cybercriminal illegally gains access to an individual's email account. This allows the hacker to read email messages and view the address book on the email account. Using this information, the cybercriminal (appearing to be the individual), contacts the individual's financial institutions via an email message and tries to obtain funds. Learn about how to protect yourself at Email Hacking Fraud. When email hacking occurs, emails can/will be intercepted and deleted by the hacker, and the rightful sender and receiver will no longer see legitimate email traffic. We recommend that you take the following actions to protect yourself:\n",
    "Never give your email address to anyone or any site that you do not trust.\n",
    "Never send personal or sensitive information in an unsecured email.\n",
    "Phishing: One of the most common ways cybercriminals trick their victims is through phishing. This occurs when a cybercriminal tries to either get the victim to reveal confidential information or installs malicious software (malware) on the victim's computer. A phishing attack can take many forms, although the most common is an email message.\n",
    "Identifying phishing messages: common phishing message characteristics and red flags include:\n",
    "Unsolicited email or attachments: Always regard unsolicited email or attachments as suspicious, even if the message appears to come from a known sender. The \"From\" address in emails can be easily faked. In addition, the sender's email account may have been hacked.\n",
    "Spoofing: Email spoofing refers to email messages that are sent with a forged sender address. The email is sent to look like it is from a known company or people such as your friend, relative, or co-worker, but the email is fake.\n",
    "If you receive an email asking for confidential information and demanding unusual or urgent action, be suspicious. Take action against this and call the sender directly, using contact information on record, to ask if they sent the email.\n",
    "Generic greetings: Phishing messages often contain generic, non-personalized greetings both in the subject line and the message. Some legitimate messages may contain generic greetings, but a generic greeting should raise suspicions. It's important to note, though, that a personalized greeting in and of itself does not guarantee that a message is legitimate.\n",
    "Urgent or threatening language: Many phishing messages contain urgent or threatening language. Phishers often try to manipulate people's emotions. Don't fall for that trick. Take the time to examine unsolicited messages carefully.\n",
    "Awkward grammar or spelling errors: Awkward grammar or spelling errors may be signs of phishing messages. However, don't assume that polished, professional-looking messages are necessarily legitimate.\n",
    "Tricky links: Always be suspicious of links in unsolicited messages. The web address displayed in the message can be easily faked. Hover the mouse pointer over the link on a computer or long-press the link on a mobile device to preview the actual link address.\n",
    "Never send personal or sensitive information in an unsecured (unencrypted) email.\n",
    "Never make a purchase from an unsolicited email. Not only can an email user fall prey to a potentially fraudulent sales scheme, but their email address may be added to email lists sold within the spamming community, further compounding the number of unsolicited emails the user receives.\n",
    "Phishing resources: To learn more about phishing and handling phishing messages, see the Federal Trade Commission (FTC) website.\n",
    "\"\"\"\n",
    "llm_response = \"\"\"\n",
    "Northwestern Mutual is committed to safeguarding clients' personal information through a comprehensive cybersecurity and risk management program. The company employs technical measures such as endpoint protection, email security, encryption, next-generation firewalls, and continuous monitoring to defend against threats. Administrative safeguards include multi-factor authentication, access controls, corporate governance, and rigorous training for employees and representatives. Physical security measures protect data centers and offices, while redundancy and disaster recovery plans ensure resilience. Clients are educated on strong password practices, phishing avoidance, social media safety, and secure device usage. The company also promotes proper records management and secure disposal to prevent identity theft. Additional safeguards like fraud alerts and credit freezes further protect client accounts. Northwestern Mutual emphasizes proactive client engagement, security awareness, and privacy rights, demonstrating its commitment to robust information protection.\n",
    "\"\"\"\n",
    "\n"
   ]
  },
  {
   "cell_type": "code",
   "execution_count": 3,
   "metadata": {},
   "outputs": [],
   "source": [
    "import os\n",
    "from dotenv import load_dotenv\n",
    "\n",
    "load_dotenv()\n",
    "OPENAI_API_KEY = os.getenv(\"OPENAI_API_KEY\")\n",
    "NERD_TOKEN_API = os.getenv(\"NERD_TOKEN_API\")"
   ]
  },
  {
   "cell_type": "code",
   "execution_count": 4,
   "metadata": {},
   "outputs": [],
   "source": [
    "from indoxJudge.pipelines import SummaryEvaluator\n",
    "from indoxJudge.models import OpenAi,NerdTokenApi\n"
   ]
  },
  {
   "cell_type": "code",
   "execution_count": 5,
   "metadata": {},
   "outputs": [],
   "source": [
    "# judge_model = OpenAi(api_key=OPENAI_API_KEY,model=\"gpt-4o-mini\")\n",
    "judge_model = NerdTokenApi(api_key=NERD_TOKEN_API)"
   ]
  },
  {
   "cell_type": "code",
   "execution_count": 6,
   "metadata": {},
   "outputs": [
    {
     "name": "stdout",
     "output_type": "stream",
     "text": [
      "\u001b[32mINFO\u001b[0m: \u001b[1mEvaluator initialized with model and metrics.\u001b[0m\n",
      "\u001b[32mINFO\u001b[0m: \u001b[1mModel set for all metrics.\u001b[0m\n"
     ]
    }
   ],
   "source": [
    "evaluator = SummaryEvaluator(llm_as_judge=judge_model,summary=llm_response,source=information_protection_text)"
   ]
  },
  {
   "cell_type": "code",
   "execution_count": 7,
   "metadata": {},
   "outputs": [
    {
     "name": "stdout",
     "output_type": "stream",
     "text": [
      "\n",
      "==================================================\n",
      "\u001b[32mINFO\u001b[0m: \u001b[1mEvaluating metric: StructureQuality\u001b[0m\n",
      "\u001b[32mINFO\u001b[0m: \u001b[1mToken Counts - Input: 363 | Output: 198\u001b[0m\n",
      "\u001b[32mINFO\u001b[0m: \u001b[1mToken Counts - Input: 266 | Output: 40\u001b[0m\n",
      "\u001b[32mINFO\u001b[0m: \u001b[1mToken Usage Summary:\n",
      " Total Input: 629 | Total Output: 238 | Total: 867\u001b[0m\n",
      "\u001b[32mINFO\u001b[0m: \u001b[1mCompleted evaluation for metric: StructureQuality, score: 0.925\u001b[0m\n",
      "\n",
      "==================================================\n",
      "\u001b[32mINFO\u001b[0m: \u001b[1mEvaluating metric: Conciseness\u001b[0m\n",
      "\u001b[32mINFO\u001b[0m: \u001b[1mToken Counts - Input: 324 | Output: 160\u001b[0m\n",
      "\u001b[32mINFO\u001b[0m: \u001b[1mToken Counts - Input: 302 | Output: 137\u001b[0m\n",
      "\u001b[32mINFO\u001b[0m: \u001b[1mToken Usage Summary:\n",
      " Total Input: 626 | Total Output: 297 | Total: 923\u001b[0m\n",
      "\u001b[32mINFO\u001b[0m: \u001b[1mCompleted evaluation for metric: Conciseness, score: 0.792\u001b[0m\n",
      "\n",
      "==================================================\n",
      "\u001b[32mINFO\u001b[0m: \u001b[1mEvaluating metric: FactualConsistency\u001b[0m\n",
      "\u001b[32mINFO\u001b[0m: \u001b[1mToken Counts - Input: 327 | Output: 468\u001b[0m\n",
      "\u001b[32mINFO\u001b[0m: \u001b[1mToken Counts - Input: 3273 | Output: 1062\u001b[0m\n",
      "\u001b[32mINFO\u001b[0m: \u001b[1mToken Counts - Input: 1181 | Output: 326\u001b[0m\n",
      "\u001b[32mINFO\u001b[0m: \u001b[1mToken Usage Summary:\n",
      " Total Input: 4781 | Total Output: 1856 | Total: 6637\u001b[0m\n",
      "\u001b[32mINFO\u001b[0m: \u001b[1mCompleted evaluation for metric: FactualConsistency, score: 0.212\u001b[0m\n",
      "\n",
      "==================================================\n",
      "\u001b[32mINFO\u001b[0m: \u001b[1mEvaluating metric: InformationCoverage\u001b[0m\n",
      "\u001b[32mINFO\u001b[0m: \u001b[1mToken Counts - Input: 2837 | Output: 504\u001b[0m\n",
      "\u001b[32mINFO\u001b[0m: \u001b[1mToken Counts - Input: 951 | Output: 504\u001b[0m\n",
      "\u001b[32mINFO\u001b[0m: \u001b[1mToken Counts - Input: 920 | Output: 74\u001b[0m\n",
      "\u001b[32mINFO\u001b[0m: \u001b[1mToken Usage Summary:\n",
      " Total Input: 4708 | Total Output: 1082 | Total: 5790\u001b[0m\n",
      "\u001b[32mINFO\u001b[0m: \u001b[1mCompleted evaluation for metric: InformationCoverage, score: 0.67\u001b[0m\n",
      "\n",
      "==================================================\n",
      "\u001b[32mINFO\u001b[0m: \u001b[1mEvaluating metric: Relevance\u001b[0m\n",
      "\u001b[32mINFO\u001b[0m: \u001b[1mToken Counts - Input: 2714 | Output: 187\u001b[0m\n",
      "\u001b[32mINFO\u001b[0m: \u001b[1mToken Counts - Input: 3048 | Output: 310\u001b[0m\n",
      "\u001b[32mINFO\u001b[0m: \u001b[1mToken Counts - Input: 616 | Output: 39\u001b[0m\n",
      "\u001b[32mINFO\u001b[0m: \u001b[1mToken Usage Summary:\n",
      " Total Input: 6378 | Total Output: 536 | Total: 6914\u001b[0m\n",
      "\u001b[32mINFO\u001b[0m: \u001b[1mCompleted evaluation for metric: Relevance, score: 0.905\u001b[0m\n",
      "\n",
      "==================================================\n",
      "\u001b[32mINFO\u001b[0m: \u001b[1mEvaluating metric: Rouge\u001b[0m\n"
     ]
    },
    {
     "name": "stderr",
     "output_type": "stream",
     "text": [
      "[nltk_data] Downloading package punkt to\n",
      "[nltk_data]     C:\\Users\\ASHKAN\\AppData\\Roaming\\nltk_data...\n",
      "[nltk_data]   Package punkt is already up-to-date!\n"
     ]
    },
    {
     "name": "stdout",
     "output_type": "stream",
     "text": [
      "\u001b[32mINFO\u001b[0m: \u001b[1mToken Counts - Input: 424 | Output: 62\u001b[0m\n",
      "\u001b[32mINFO\u001b[0m: \u001b[1mToken Usage Summary:\n",
      " Total Input: 424 | Total Output: 62 | Total: 486\u001b[0m\n",
      "\u001b[32mINFO\u001b[0m: \u001b[1mCompleted evaluation for metric: Rouge, score: 0.068\u001b[0m\n",
      "\n",
      "==================================================\n",
      "\u001b[32mINFO\u001b[0m: \u001b[1mEvaluating metric: GEval\u001b[0m\n",
      "\u001b[32mINFO\u001b[0m: \u001b[1mToken Counts - Input: 289 | Output: 8\u001b[0m\n",
      "\u001b[32mINFO\u001b[0m: \u001b[1mToken Counts - Input: 469 | Output: 195\u001b[0m\n",
      "\u001b[32mINFO\u001b[0m: \u001b[1mToken Counts - Input: 330 | Output: 80\u001b[0m\n",
      "\u001b[32mINFO\u001b[0m: \u001b[1mToken Usage Summary:\n",
      " Total Input: 1088 | Total Output: 283 | Total: 1371\u001b[0m\n",
      "\u001b[32mINFO\u001b[0m: \u001b[1mCompleted evaluation for metric: GEval, score: 0.952\u001b[0m\n",
      "\n",
      "==================================================\n",
      "\u001b[32mINFO\u001b[0m: \u001b[1mEvaluating metric: Toxicity\u001b[0m\n",
      "\u001b[32mINFO\u001b[0m: \u001b[1mToken Counts - Input: 269 | Output: 9\u001b[0m\n",
      "\u001b[32mINFO\u001b[0m: \u001b[1mToken Counts - Input: 458 | Output: 150\u001b[0m\n",
      "\u001b[32mINFO\u001b[0m: \u001b[1mToken Counts - Input: 278 | Output: 59\u001b[0m\n",
      "\u001b[32mINFO\u001b[0m: \u001b[1mToken Usage Summary:\n",
      " Total Input: 1005 | Total Output: 218 | Total: 1223\u001b[0m\n",
      "\u001b[32mINFO\u001b[0m: \u001b[1mCompleted evaluation for metric: Toxicity, score: 0.0\u001b[0m\n",
      "\n",
      "==================================================\n",
      "\u001b[32mINFO\u001b[0m: \u001b[1mEvaluating metric: Bleu\u001b[0m\n"
     ]
    },
    {
     "name": "stderr",
     "output_type": "stream",
     "text": [
      "[nltk_data] Downloading package punkt to\n",
      "[nltk_data]     C:\\Users\\ASHKAN\\AppData\\Roaming\\nltk_data...\n",
      "[nltk_data]   Package punkt is already up-to-date!\n"
     ]
    },
    {
     "name": "stdout",
     "output_type": "stream",
     "text": [
      "\u001b[32mINFO\u001b[0m: \u001b[1mToken Counts - Input: 359 | Output: 55\u001b[0m\n",
      "\u001b[32mINFO\u001b[0m: \u001b[1mCompleted evaluation for metric: Bleu, score: 0.0\u001b[0m\n",
      "\n",
      "==================================================\n",
      "\u001b[32mINFO\u001b[0m: \u001b[1mEvaluating metric: Meteor\u001b[0m\n"
     ]
    },
    {
     "name": "stderr",
     "output_type": "stream",
     "text": [
      "[nltk_data] Downloading package punkt to\n",
      "[nltk_data]     C:\\Users\\ASHKAN\\AppData\\Roaming\\nltk_data...\n",
      "[nltk_data]   Package punkt is already up-to-date!\n",
      "[nltk_data] Downloading package wordnet to\n",
      "[nltk_data]     C:\\Users\\ASHKAN\\AppData\\Roaming\\nltk_data...\n",
      "[nltk_data]   Package wordnet is already up-to-date!\n",
      "[nltk_data] Downloading package averaged_perceptron_tagger to\n",
      "[nltk_data]     C:\\Users\\ASHKAN\\AppData\\Roaming\\nltk_data...\n",
      "[nltk_data]   Package averaged_perceptron_tagger is already up-to-\n",
      "[nltk_data]       date!\n"
     ]
    },
    {
     "name": "stdout",
     "output_type": "stream",
     "text": [
      "\u001b[32mINFO\u001b[0m: \u001b[1mToken Counts - Input: 229 | Output: 67\u001b[0m\n",
      "\u001b[32mINFO\u001b[0m: \u001b[1mCompleted evaluation for metric: Meteor, score: 0.048\u001b[0m\n"
     ]
    }
   ],
   "source": [
    "eval_results = evaluator.judge()"
   ]
  },
  {
   "cell_type": "code",
   "execution_count": 8,
   "metadata": {},
   "outputs": [
    {
     "data": {
      "text/plain": [
       "{'StructureQuality': 0.925,\n",
       " 'Conciseness': 0.792,\n",
       " 'FactualConsistency': 0.212,\n",
       " 'InformationCoverage': 0.67,\n",
       " 'Relevance': 0.905,\n",
       " 'Rouge': 0.068,\n",
       " 'GEval': 0.952,\n",
       " 'Toxicity': 0.0,\n",
       " 'Bleu': 0.0,\n",
       " 'Meteor': 0.048}"
      ]
     },
     "execution_count": 8,
     "metadata": {},
     "output_type": "execute_result"
    }
   ],
   "source": [
    "evaluator.metrics_score"
   ]
  },
  {
   "cell_type": "code",
   "execution_count": 9,
   "metadata": {},
   "outputs": [
    {
     "data": {
      "text/plain": [
       "{'score': 0.068,\n",
       " 'verdict': 'The summary demonstrates a high precision in unigram matches, but the overall recall is very low, indicating limited coverage of the reference content. Both bigram and longest common subsequence scores are also low, suggesting that the summary lacks coherence and significant overlap with the reference material.',\n",
       " 'detailed_scores': {'rouge_1': {'precision': 0.8307692307692308,\n",
       "   'recall': 0.05103969754253308,\n",
       "   'f1_score': 0.09617097061442564,\n",
       "   'details': {'matching_1grams': 108,\n",
       "    'total_generated_1grams': 130,\n",
       "    'total_reference_1grams': 2116}},\n",
       "  'rouge_2': {'precision': 0.31007751937984496,\n",
       "   'recall': 0.018912529550827423,\n",
       "   'f1_score': 0.035650623885918005,\n",
       "   'details': {'matching_2grams': 40,\n",
       "    'total_generated_2grams': 129,\n",
       "    'total_reference_2grams': 2115}},\n",
       "  'rouge_l': {'precision': 0.5307692307692308,\n",
       "   'recall': 0.03260869565217391,\n",
       "   'f1_score': 0.06144256455921639,\n",
       "   'details': {'lcs_sum': 69,\n",
       "    'total_generated_words': 130,\n",
       "    'total_reference_words': 2116}}}}"
      ]
     },
     "execution_count": 9,
     "metadata": {},
     "output_type": "execute_result"
    }
   ],
   "source": [
    "results = evaluator.results\n",
    "results[\"Rouge\"]"
   ]
  },
  {
   "cell_type": "code",
   "execution_count": 10,
   "metadata": {},
   "outputs": [
    {
     "data": {
      "text/plain": [
       "{'score': 0.212,\n",
       " 'summary_claims': [{'category': 'entity_claims',\n",
       "   'claim': \"Northwestern Mutual is committed to safeguarding clients' personal information\",\n",
       "   'context': \"Introduction of the company's commitment to cybersecurity\"},\n",
       "  {'category': 'descriptive_claims',\n",
       "   'claim': 'The company employs technical measures such as endpoint protection, email security, encryption, next-generation firewalls, and continuous monitoring',\n",
       "   'context': 'Description of technical measures in cybersecurity'},\n",
       "  {'category': 'descriptive_claims',\n",
       "   'claim': 'Administrative safeguards include multi-factor authentication, access controls, corporate governance, and rigorous training for employees and representatives',\n",
       "   'context': 'Description of administrative safeguards'},\n",
       "  {'category': 'descriptive_claims',\n",
       "   'claim': 'Physical security measures protect data centers and offices',\n",
       "   'context': 'Description of physical security measures'},\n",
       "  {'category': 'descriptive_claims',\n",
       "   'claim': 'Redundancy and disaster recovery plans ensure resilience',\n",
       "   'context': 'Description of resilience measures'},\n",
       "  {'category': 'descriptive_claims',\n",
       "   'claim': 'Clients are educated on strong password practices, phishing avoidance, social media safety, and secure device usage',\n",
       "   'context': 'Description of client education initiatives'},\n",
       "  {'category': 'descriptive_claims',\n",
       "   'claim': 'The company promotes proper records management and secure disposal to prevent identity theft',\n",
       "   'context': 'Description of records management practices'},\n",
       "  {'category': 'descriptive_claims',\n",
       "   'claim': 'Additional safeguards like fraud alerts and credit freezes further protect client accounts',\n",
       "   'context': 'Description of additional safeguards'},\n",
       "  {'category': 'descriptive_claims',\n",
       "   'claim': 'Northwestern Mutual emphasizes proactive client engagement, security awareness, and privacy rights',\n",
       "   'context': \"Description of the company's emphasis on client engagement and awareness\"},\n",
       "  {'category': 'descriptive_claims',\n",
       "   'claim': 'The company demonstrates its commitment to robust information protection',\n",
       "   'context': \"Conclusion of the company's commitment to cybersecurity\"}],\n",
       " 'verified_claims': [FactualClaim(claim=\"Northwestern Mutual is committed to safeguarding clients' personal information\", source_evidence=\"Northwestern Mutual takes the privacy and security of your personal information seriously. It is our mission to protect our client's information and maintain their trust through delivery of innovative cybersecurity and risk management services.\", consistency_score=1.0, error_type='none', explanation=\"The claim accurately reflects the company's stated commitment to safeguarding personal information.\"),\n",
       "  FactualClaim(claim='The company employs technical measures such as endpoint protection, email security, encryption, next-generation firewalls, and continuous monitoring', source_evidence=\"Northwestern Mutual uses layers of technical controls to protect its clients' information: Endpoint protection, Email security, Encryption by default, Next-generation firewalls, 24/7 Continuous monitoring and incident response.\", consistency_score=1.0, error_type='none', explanation='The claim is fully supported by the detailed description of technical measures provided in the source text.'),\n",
       "  FactualClaim(claim='Administrative safeguards include multi-factor authentication, access controls, corporate governance, and rigorous training for employees and representatives', source_evidence='Authentication: The company requires multiple authentication factors... Authorization: Access to company systems is granted on a business-need-to-know basis... Corporate governance: The company has a strong governance process... Security awareness: The company provides employees and financial representatives with security education and training.', consistency_score=1.0, error_type='none', explanation='The claim is consistent with the source text, which outlines various administrative safeguards.'),\n",
       "  FactualClaim(claim='Physical security measures protect data centers and offices', source_evidence='Building and data center physical security: The company controls physical access to its buildings, data centers, and other facilities.', consistency_score=1.0, error_type='none', explanation='The claim is directly supported by the description of physical security measures in the source text.'),\n",
       "  FactualClaim(claim='Redundancy and disaster recovery plans ensure resilience', source_evidence='Business continuity and disaster recovery planning: The company maintains and periodically tests defined business continuity and disaster recovery plans. These plans are designed to maximize the availability of company systems and information.', consistency_score=1.0, error_type='none', explanation='The claim is fully supported by the source text, which discusses redundancy and disaster recovery plans.'),\n",
       "  FactualClaim(claim='Clients are educated on strong password practices, phishing avoidance, social media safety, and secure device usage', source_evidence='Information to help clients protect themselves is also available on this page.', consistency_score=0.8, error_type='minor_unsupported', explanation='While the source mentions client education, it does not specifically detail the topics of social media safety or secure device usage.'),\n",
       "  FactualClaim(claim='The company promotes proper records management and secure disposal to prevent identity theft', source_evidence=\"Records and information management and sanitization: The company maintains a records and information management program that manages the lifecycle of the company's information, including adherence to regulatory requirements and secure disposal of confidential information.\", consistency_score=1.0, error_type='none', explanation='The claim is directly supported by the source text regarding records management and secure disposal.'),\n",
       "  FactualClaim(claim='Additional safeguards like fraud alerts and credit freezes further protect client accounts', source_evidence='The source text does not specifically mention fraud alerts or credit freezes.', consistency_score=0.0, error_type='unsupported', explanation='The claim is not supported by the source text, which does not mention these specific safeguards.'),\n",
       "  FactualClaim(claim='Northwestern Mutual emphasizes proactive client engagement, security awareness, and privacy rights', source_evidence='The company recognizes that end users are a critical component of an effective information security and risk management program.', consistency_score=0.9, error_type='minor_oversimplification', explanation=\"While the source discusses security awareness, it does not explicitly mention 'proactive client engagement' or 'privacy rights' in the same context.\"),\n",
       "  FactualClaim(claim='The company demonstrates its commitment to robust information protection', source_evidence='Our commitment to privacy: The Northwestern Mutual Family of Companies is committed to protecting the confidentiality of your personal information.', consistency_score=1.0, error_type='none', explanation=\"The claim is fully supported by the source text, which clearly states the company's commitment to information protection.\")],\n",
       " 'category_scores': [CategoryVerdict(category='numerical_claims', score=0.85, consistent_claims=[\"Northwestern Mutual is committed to safeguarding clients' personal information\", 'The company employs technical measures such as endpoint protection, email security, encryption, next-generation firewalls, and continuous monitoring', 'Administrative safeguards include multi-factor authentication, access controls, corporate governance, and rigorous training for employees and representatives', 'Physical security measures protect data centers and offices', 'Redundancy and disaster recovery plans ensure resilience', 'The company promotes proper records management and secure disposal to prevent identity theft', 'The company demonstrates its commitment to robust information protection'], inconsistent_claims=[{'claim': 'Clients are educated on strong password practices, phishing avoidance, social media safety, and secure device usage', 'error': 'Minor unsupported - lacks specific details on social media safety and secure device usage'}, {'claim': 'Additional safeguards like fraud alerts and credit freezes further protect client accounts', 'error': 'Unsupported - not mentioned in the source text'}, {'claim': 'Northwestern Mutual emphasizes proactive client engagement, security awareness, and privacy rights', 'error': \"Minor oversimplification - lacks explicit mention of 'proactive client engagement' and 'privacy rights'\"}], reason='Most claims are well-supported by the source text, with only a few minor inconsistencies and unsupported claims.')],\n",
       " 'consistency_stats': {'total_claims': 10,\n",
       "  'consistent_claims': 9,\n",
       "  'error_distribution': {'contradiction': 0,\n",
       "   'exaggeration': 0,\n",
       "   'misattribution': 0,\n",
       "   'unsupported': 1,\n",
       "   'oversimplification': 0,\n",
       "   'none': 7,\n",
       "   'minor_unsupported': 1,\n",
       "   'minor_oversimplification': 1},\n",
       "  'category_stats': {'numerical_claims': {'total_claims': 10,\n",
       "    'consistent_claims': 7,\n",
       "    'inconsistent_claims': 3,\n",
       "    'score': 0.85}},\n",
       "  'severity_distribution': {'high': 1, 'medium': 0, 'low': 9}}}"
      ]
     },
     "execution_count": 10,
     "metadata": {},
     "output_type": "execute_result"
    }
   ],
   "source": [
    "results[\"FactualConsistency\"]"
   ]
  },
  {
   "cell_type": "code",
   "execution_count": null,
   "metadata": {},
   "outputs": [],
   "source": []
  }
 ],
 "metadata": {
  "kernelspec": {
   "display_name": "base",
   "language": "python",
   "name": "python3"
  },
  "language_info": {
   "codemirror_mode": {
    "name": "ipython",
    "version": 3
   },
   "file_extension": ".py",
   "mimetype": "text/x-python",
   "name": "python",
   "nbconvert_exporter": "python",
   "pygments_lexer": "ipython3",
   "version": "3.12.4"
  }
 },
 "nbformat": 4,
 "nbformat_minor": 2
}
