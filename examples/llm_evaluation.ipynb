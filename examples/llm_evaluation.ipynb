{
 "cells": [
  {
   "cell_type": "markdown",
   "id": "683cbd8af3980e07",
   "metadata": {},
   "source": [
    "# LLM Evaluator"
   ]
  },
  {
   "cell_type": "markdown",
   "id": "5413162f477c5781",
   "metadata": {},
   "source": [
    "[![Open In Colab](https://colab.research.google.com/assets/colab-badge.svg)](https://colab.research.google.com/github/osllmai/inDoxJudge/blob/main/examples/llm_evaluation.ipynb)"
   ]
  },
  {
   "cell_type": "code",
   "execution_count": null,
   "id": "59547c8b03b3fd98",
   "metadata": {},
   "outputs": [],
   "source": [
    "!pip install indoxJudge -U\n",
    "!pip install transformers\n",
    "!pip install torch\n",
    "!pip install openai"
   ]
  },
  {
   "cell_type": "markdown",
   "id": "c259ce9e5cffc8c0",
   "metadata": {},
   "source": [
    "## Setting Up the Python Environment\n",
    "\n",
    "If you are running this project in your local IDE, please create a Python environment to ensure all dependencies are correctly managed. You can follow the steps below to set up a virtual environment named `indoxJudge`:\n",
    "\n",
    "### Windows\n",
    "\n",
    "1. **Create the virtual environment:**\n",
    "```bash\n",
    "python -m venv indoxJudge\n",
    "```\n",
    "2. **Activate the virtual environment:**\n",
    "```bash\n",
    "indoxJudge\\Scripts\\activate\n",
    "```\n",
    "\n",
    "### macOS/Linux\n",
    "\n",
    "1. **Create the virtual environment:**\n",
    "   ```bash\n",
    "   python3 -m venv indoxJudge\n",
    "```\n",
    "\n",
    "2. **Activate the virtual environment:**\n",
    "    ```bash\n",
    "   source indoxJudge/bin/activate\n",
    "```\n",
    "### Install Dependencies\n",
    "\n",
    "Once the virtual environment is activated, install the required dependencies by running:\n",
    "\n",
    "```bash\n",
    "pip install -r requirements.txt\n",
    "```\n"
   ]
  },
  {
   "cell_type": "code",
   "execution_count": 4,
   "id": "initial_id",
   "metadata": {
    "ExecuteTime": {
     "end_time": "2024-08-15T15:37:55.829754Z",
     "start_time": "2024-08-15T15:37:55.818434Z"
    },
    "collapsed": true
   },
   "outputs": [],
   "source": [
    "import os\n",
    "from dotenv import load_dotenv\n",
    "\n",
    "load_dotenv()\n",
    "OPENAI_API_KEY = os.getenv(\"OPENAI_API_KEY\")\n"
   ]
  },
  {
   "cell_type": "code",
   "execution_count": 3,
   "id": "c243c048e503e90f",
   "metadata": {
    "ExecuteTime": {
     "end_time": "2024-08-15T15:37:56.058713Z",
     "start_time": "2024-08-15T15:37:56.055613Z"
    }
   },
   "outputs": [],
   "source": [
    "query = \"How does photosynthesis work in plants?\"\n",
    "\n",
    "retrieval_context = [\n",
    "    \"Photosynthesis is a biochemical process by which green plants, algae, and some bacteria convert light energy into chemical energy. \"\n",
    "    \"It primarily occurs in the chloroplasts of plant cells, which contain the green pigment chlorophyll that captures sunlight.\",\n",
    "    \n",
    "    \"The process begins with light-dependent reactions in the thylakoid membranes of the chloroplasts. These reactions use solar energy to split water molecules \"\n",
    "    \"(photolysis), producing oxygen gas (O2) as a byproduct and generating energy-rich molecules, ATP and NADPH.\",\n",
    "    \n",
    "    \"The second stage of photosynthesis, known as the Calvin cycle or light-independent reactions, takes place in the stroma of the chloroplast. \"\n",
    "    \"During this stage, the plant uses the ATP and NADPH from the light-dependent reactions to fix carbon dioxide (CO2) into glucose molecules through a series of enzymatic steps.\",\n",
    "    \n",
    "    \"Photosynthesis is influenced by several factors, including light intensity, carbon dioxide concentration, temperature, and availability of water. \"\n",
    "    \"Plants optimize these factors through adaptations such as leaf structure, stomatal control, and pigment types for efficient energy capture.\",\n",
    "    \n",
    "    \"This process is crucial for life on Earth because it not only provides the primary energy source for most ecosystems but also contributes to the oxygenation of the atmosphere, \"\n",
    "    \"maintaining a balance in the global carbon cycle and supporting the existence of aerobic life forms.\"\n",
    "]\n",
    "\n",
    "response = (\n",
    "    \"Photosynthesis is a fundamental process that allows plants to convert light energy into chemical energy, which is stored as glucose. \"\n",
    "    \"The process occurs in two stages: light-dependent reactions in the thylakoid membranes and the Calvin cycle in the stroma of the chloroplasts. \"\n",
    "    \"In the light-dependent reactions, sunlight splits water molecules to release oxygen and generate energy carriers like ATP and NADPH. \"\n",
    "    \"The Calvin cycle then uses these energy carriers to fix carbon dioxide into glucose. This process is critical for sustaining life on Earth by providing food and oxygen.\"\n",
    ")"
   ]
  },
  {
   "cell_type": "code",
   "execution_count": 5,
   "id": "2279d1ff",
   "metadata": {},
   "outputs": [],
   "source": [
    "import sys\n",
    "import os\n",
    "\n",
    "module_path = os.path.abspath('E:/Codes/IndoxJudge/indoxJudge')\n",
    "if module_path not in sys.path:\n",
    "    sys.path.append(module_path)"
   ]
  },
  {
   "cell_type": "code",
   "execution_count": 6,
   "id": "5d97511d",
   "metadata": {},
   "outputs": [],
   "source": [
    "query = \"\"\"\n",
    "As a professional summarizer, create a concise and comprehensive summary of the provided text, be it a provided text, while adhering to these guidelines:\n",
    "1 Craft a summary that is detailed, thorough, in-depth, and complex, while maintaining clarity and conciseness.\n",
    "2 Incorporate main ideas and essential information, eliminating extraneous language and focusing on critical aspects.\n",
    "3 Rely strictly on the provided text, without including external information.\n",
    "4 Format the summary in paragraph form for easy understanding.\n",
    "5 Conclude your notes with [End of Notes, Message #X] to indicate completion, where \"X\" represents the total number of messages that I have sent. In other words, include a message counter where you start with #1 and add 1 to the message counter every time I send a message.\n",
    "6 Summarize this text into a summary suitable for non-experts.\n",
    "\"\"\"\n",
    "information_protection_text = \"\"\"\n",
    "Information Protection\n",
    "Northwestern Mutual takes the privacy and security of your personal information seriously. It is our mission to protect our client's information and maintain their trust through delivery of innovative cybersecurity and risk management services.\n",
    "\n",
    "Northwestern Mutual's cybersecurity and risk program includes safeguards.\n",
    "Program safeguards: The security and privacy of clients' confidential information are important to Northwestern Mutual. The company takes its responsibility to protect this information seriously and uses technical, administrative, and physical controls to safeguard its systems and data. The following are just some of the ways the company keeps client information safe.\n",
    "\n",
    "Technical: Northwestern Mutual uses layers of technical controls to protect its clients' information:\n",
    "\n",
    "Endpoint protection: The company employs a comprehensive endpoint protection program, beyond traditional antivirus. This includes threat protection and response mechanisms to safeguard against evolving threats.\n",
    "Email security: The company utilizes a suite of solutions capable of detecting and mitigating not only spam, phishing, and fraud attempts but also advanced malicious email-based threats.\n",
    "Encryption by default: The company adopts strong encryption algorithms for both data-in-transit and data-at-rest.\n",
    "Next-generation firewalls: The company leverages robust next-generation firewalls (NGFW) technologies providing deep packet inspection, intrusion prevention, and threat protection.\n",
    "24/7 Continuous monitoring and incident response: The company operates a Cyber Defense & Threat Operations organization dedicated to monitoring and responding to threats facing the organization.\n",
    "Regular penetration testing: The company utilizes internal and external resources to continually assess, and improve, our preventative controls and our detective capabilities.\n",
    "Product security: The company prioritizes security of its products and services through a series of solutions aimed at identifying and correcting vulnerabilities throughout a products lifecycle; including code and operating system (OS) scanning, cloud security enforcements, and runtime protections.\n",
    "Administrative: Northwestern Mutual supplements its technical controls with processes, procedures, and policies to further protect its clients' information:\n",
    "\n",
    "Authentication: The company requires multiple authentication factors to verify the identity of persons requesting policy, contract, or account information. A customer's right to policy, contract or account information follows state and federal regulations based on their role with the policy, contract or account.\n",
    "Authorization: Access to company systems is granted on a business-need-to-know basis. Only those people who need access to a given system and its information to accomplish their job responsibilities receive that access.\n",
    "Change control: The company uses a change control process to help ensure all changes to company systems maintain the confidentiality, integrity, and availability of those systems.\n",
    "Corporate governance: The company has a strong governance process with multiple committees supporting information protection initiatives.\n",
    "Cybersecurity exercises and business continuity planning: The company maintains a comprehensive business continuity plan and conducts periodic cybersecurity tabletop and functional exercises and threat simulations to identify areas of program strength and opportunities for improvement.\n",
    "Privacy notice: Northwestern Mutual uses Privacy Notices to communicate how we collect, use, share, retain, and protect their Personal information. For more information, visit: northwesternmutual.com/privacy-notices/.\n",
    "Internal and external IT auditors: The company's internal and external auditors regularly review and assess the company's information technology systems and operations.\n",
    "Records and information management and sanitization: The company maintains a records and information management program that manages the lifecycle of the company's information, including adherence to regulatory requirements and secure disposal of confidential information.\n",
    "Risk assessments: The Company has multiple departments that specialize in identifying and mitigating risks through risk assessment processes. These departments include Information Risk Management, Privacy, Enterprise Risk Assurance, Financial Management, and Enterprise Risk Management.\n",
    "Security assessments: Security assessments are a key component of our information protection program. We execute a rigorous process to evaluate technology solutions against common security standards and controls.\n",
    "Security awareness: The company recognizes that end users are a critical component of an effective information security and risk management program. The company provides employees and financial representatives with security education and training, such as ongoing security education articles and events, training in company policies and standards, and simulated phishing exercises. Information to help clients protect themselves is also available on this page.\n",
    "Separation of duties: The company separates specific job duties to prevent a conflict of interest when appropriate.\n",
    "Storage locations: The company maintains certain personal information on its own internal systems. It also uses service providers for the purpose of maintaining data. Service providers are only entrusted with data after successfully undergoing a due diligence review and having signed a contract requiring information to be protected and use of data restricted to Northwestern Mutual's business purposes.\n",
    "Threat monitoring & hunting: The company works with internal teams and third-party industry security organizations to proactively monitor its environment for existing and potential threats.\n",
    "Training and user behavior: All employees and financial representatives receive training on protecting confidential information, which is tailored to Company business needs, identified risks, and emerging threats.\n",
    "User access reviews: The company regularly reviews user access to company systems to help ensure users maintain an appropriate level of access to those systems.\n",
    "Physical: Northwestern Mutual also protects its clients' information from physical harm and theft:\n",
    "\n",
    "Building and data center physical security: The company controls physical access to its buildings, data centers, and other facilities. Restricted access helps to ensure the confidentiality, integrity, and availability of company systems and physical assets within the company.\n",
    "Business continuity and disaster recovery planning: The company maintains and periodically tests defined business continuity and disaster recovery plans. These plans are designed to maximize the availability of company systems and information and recover from natural or human-made disasters as efficiently and effectively as possible.\n",
    "Redundancy: As part of its business continuity and disaster recovery plans, the company uses redundant infrastructure to ensure availability of company systems and client information.\n",
    "Our commitment to privacy: The Northwestern Mutual Family of Companies is committed to protecting the confidentiality of your personal information. We respect your privacy rights and choices, which may vary based on your interactions with us or your relationship to us. Please review our policies here.\n",
    "\n",
    "Responsible disclosure policy: We want to hear from security researchers (\"You\" or \"Your\") who have information related to suspected security vulnerabilities (\"Vulnerability\" or \"Vulnerabilities\") of any Northwestern Mutual services exposed to the internet. We value Your work and are committed to working with You. Please report Vulnerabilities to us in accordance with this Responsible Disclosure Policy.\n",
    "\n",
    "General security hygiene & suggestions for staying safe\n",
    "Protecting your NM account\n",
    "\n",
    "Registering for online account access\n",
    "\n",
    "When you register for Northwestern Mutual online account access, we will require several pieces of personal information from you. This helps ensure that only you may register to access your own accounts. Avoid accessing your online accounts through publicly shared computers and Wi-Fi networks.\n",
    "Multi-Factor Authentication: The company requires users to add an extra layer of protection to their northwesternmutual.com account login process by requiring entry of a security code in addition to their username and password. The security code is a unique, single-use number they receive via phone call, text, or your preferred authenticator app on your mobile device.\n",
    "Passwords\n",
    "\n",
    "A strong password is important to protect your online accounts. When you are selecting a password, keep the following tips in mind:\n",
    "Strong (good) passwords have the following characteristics:\n",
    "Contain both upper and lower-case characters (e.g., a–z, A–Z)\n",
    "Have digits and punctuation characters as well as letters (e.g., 0–9, !@#$%^&*)\n",
    "Fourteen (14) or more alphanumeric characters\n",
    "Not based on personal information, names of family, or important calendar dates\n",
    "Change passwords frequently.\n",
    "Consider using a password manager.\n",
    "Keep your new password private and change it immediately if someone else learns it or you believe it has been compromised in any way.\n",
    "Constructing a passphrase based on a sentence or phrase makes a password easy to remember. Passphrase is a type of string password that uses a short sentence or group of random words.\n",
    "Weak (bad) passwords have the following characteristics:\n",
    "Default password\n",
    "Contain less than eight (8) characters\n",
    "Common, easily guessed phrases (e.g. \"Winter is coming\")\n",
    "A common usage word such as names of family, pets, friends, co-workers, fantasy characters, etc.\n",
    "The words \"Northwestern Mutual\" or any derivation\n",
    "Do not use Social Security numbers, words or numbers associated with easily attainable personal information, like birthdays, anniversaries, license plates, telephone numbers, or addresses.\n",
    "Do not use the same pattern for your passwords, such as smart1, smart2, etc.\n",
    "Any of the above spelled backward\n",
    "Any of the above preceded or followed by a digit (e.g., secret1 or 1secret).\n",
    "Do not use real names or your login name or any variation of it.\n",
    "Do not write down your password or share your password with anyone else.\n",
    "Do not reuse passwords. Make sure you use different and unique passwords for all of your online accounts. Reusing a single password for multiple websites is never a good idea. If a cybercriminal obtains your password, they may try to use it on other websites.\n",
    "Protecting your account: Be prepared to provide your account/policy number when reaching out to us to set up the following safeguards:\n",
    "Life, Disability Income and Annuity: You can request a password to be used to verify your identity when you call the home office.\n",
    "For Life and Disability Income Policies, call 1-800-388-8123.\n",
    "For Annuities, call 1-888-455-2232.\n",
    "Long-Term Care: You can request additional authenticators be added to verify your identity when calling about your policy by calling 1-800-748-9493.\n",
    "Investment Accounts: You can request a note or block be added to your account.\n",
    "For Northwestern Mutual Investment Services and Northwestern Mutual Wealth Management Company, including Trust and Private Client Services, call 1-866-950-4644 and ask for \"investments\".\n",
    "Staying safe online\n",
    "Email Hacking: Email hacking occurs when a cybercriminal illegally gains access to an individual's email account. This allows the hacker to read email messages and view the address book on the email account. Using this information, the cybercriminal (appearing to be the individual), contacts the individual's financial institutions via an email message and tries to obtain funds. Learn about how to protect yourself at Email Hacking Fraud. When email hacking occurs, emails can/will be intercepted and deleted by the hacker, and the rightful sender and receiver will no longer see legitimate email traffic. We recommend that you take the following actions to protect yourself:\n",
    "Never give your email address to anyone or any site that you do not trust.\n",
    "Never send personal or sensitive information in an unsecured email.\n",
    "Phishing: One of the most common ways cybercriminals trick their victims is through phishing. This occurs when a cybercriminal tries to either get the victim to reveal confidential information or installs malicious software (malware) on the victim's computer. A phishing attack can take many forms, although the most common is an email message.\n",
    "Identifying phishing messages: common phishing message characteristics and red flags include:\n",
    "Unsolicited email or attachments: Always regard unsolicited email or attachments as suspicious, even if the message appears to come from a known sender. The \"From\" address in emails can be easily faked. In addition, the sender's email account may have been hacked.\n",
    "Spoofing: Email spoofing refers to email messages that are sent with a forged sender address. The email is sent to look like it is from a known company or people such as your friend, relative, or co-worker, but the email is fake.\n",
    "If you receive an email asking for confidential information and demanding unusual or urgent action, be suspicious. Take action against this and call the sender directly, using contact information on record, to ask if they sent the email.\n",
    "Generic greetings: Phishing messages often contain generic, non-personalized greetings both in the subject line and the message. Some legitimate messages may contain generic greetings, but a generic greeting should raise suspicions. It's important to note, though, that a personalized greeting in and of itself does not guarantee that a message is legitimate.\n",
    "Urgent or threatening language: Many phishing messages contain urgent or threatening language. Phishers often try to manipulate people's emotions. Don't fall for that trick. Take the time to examine unsolicited messages carefully.\n",
    "Awkward grammar or spelling errors: Awkward grammar or spelling errors may be signs of phishing messages. However, don't assume that polished, professional-looking messages are necessarily legitimate.\n",
    "Tricky links: Always be suspicious of links in unsolicited messages. The web address displayed in the message can be easily faked. Hover the mouse pointer over the link on a computer or long-press the link on a mobile device to preview the actual link address.\n",
    "Never send personal or sensitive information in an unsecured (unencrypted) email.\n",
    "Never make a purchase from an unsolicited email. Not only can an email user fall prey to a potentially fraudulent sales scheme, but their email address may be added to email lists sold within the spamming community, further compounding the number of unsolicited emails the user receives.\n",
    "Phishing resources: To learn more about phishing and handling phishing messages, see the Federal Trade Commission (FTC) website.\n",
    "\"\"\"\n",
    "llm_response = \"\"\"\n",
    "Northwestern Mutual is committed to safeguarding clients' personal information through a comprehensive cybersecurity and risk management program. The company employs technical measures such as endpoint protection, email security, encryption, next-generation firewalls, and continuous monitoring to defend against threats. Administrative safeguards include multi-factor authentication, access controls, corporate governance, and rigorous training for employees and representatives. Physical security measures protect data centers and offices, while redundancy and disaster recovery plans ensure resilience. Clients are educated on strong password practices, phishing avoidance, social media safety, and secure device usage. The company also promotes proper records management and secure disposal to prevent identity theft. Additional safeguards like fraud alerts and credit freezes further protect client accounts. Northwestern Mutual emphasizes proactive client engagement, security awareness, and privacy rights, demonstrating its commitment to robust information protection.\n",
    "\"\"\"\n",
    "\n"
   ]
  },
  {
   "cell_type": "markdown",
   "id": "65529ced4f6beb0b",
   "metadata": {},
   "source": [
    "## Importing Required Modules\n",
    "imports the necessary classes from the indoxJudge library. LLMEvaluator is the class used for evaluating language models based on various metrics, and OpenAi is the class used to interact with the OpenAI models, such as GPT-4o-mini."
   ]
  },
  {
   "cell_type": "code",
   "execution_count": 7,
   "id": "57511dda37de77a4",
   "metadata": {
    "ExecuteTime": {
     "end_time": "2024-08-15T15:37:58.598688Z",
     "start_time": "2024-08-15T15:37:56.513855Z"
    }
   },
   "outputs": [],
   "source": [
    "from indoxJudge.pipelines import LLMEvaluator\n",
    "from indoxJudge.models import OpenAi"
   ]
  },
  {
   "cell_type": "markdown",
   "id": "14599bd20a3d8f5d",
   "metadata": {},
   "source": [
    "## Initializing the OpenAI Model\n",
    "Here, the OpenAi class is instantiated to create a model object that interacts with OpenAI's gpt-4o-mini model. The api_key is passed to authenticate the API request. Replace OPENAI_API_KEY with your actual API key."
   ]
  },
  {
   "cell_type": "code",
   "execution_count": 8,
   "id": "b8f0ad7b798f17c9",
   "metadata": {
    "ExecuteTime": {
     "end_time": "2024-08-15T15:37:59.153648Z",
     "start_time": "2024-08-15T15:37:58.599698Z"
    }
   },
   "outputs": [
    {
     "name": "stdout",
     "output_type": "stream",
     "text": [
      "\u001b[32mINFO\u001b[0m: \u001b[1mInitializing OpenAi with model: gpt-4o-mini and max_tokens: 1024\u001b[0m\n"
     ]
    }
   ],
   "source": [
    "\n",
    "# Initialize the language model\n",
    "# it can be any OpenAI model, please refer to the [OpenAI Models documentation](https://platform.openai.com/docs/models) such as GPT-4o. or other models\n",
    "\n",
    "model = OpenAi(api_key=OPENAI_API_KEY,model=\"gpt-4o-mini\",max_tokens=1024)"
   ]
  },
  {
   "cell_type": "markdown",
   "id": "bf9b557f91707091",
   "metadata": {},
   "source": [
    "the LLMEvaluator class is instantiated to create an evaluator object. This object is configured to evaluate the model using a specific response, retrieval context, and query. The llm_as_judge parameter is set to the model created in the previous cell, while llm_response, retrieval_context, and query are other components used during the evaluation process."
   ]
  },
  {
   "cell_type": "code",
   "execution_count": 9,
   "id": "53d8bf90524259fa",
   "metadata": {
    "ExecuteTime": {
     "end_time": "2024-08-15T15:38:05.531002Z",
     "start_time": "2024-08-15T15:37:59.154155Z"
    }
   },
   "outputs": [
    {
     "name": "stdout",
     "output_type": "stream",
     "text": [
      "\u001b[32mINFO\u001b[0m: \u001b[1mEvaluator initialized with model and metrics.\u001b[0m\n",
      "\u001b[32mINFO\u001b[0m: \u001b[1mModel set for all metrics.\u001b[0m\n"
     ]
    }
   ],
   "source": [
    "evaluator = LLMEvaluator(llm_as_judge=model,llm_response=llm_response,retrieval_context=information_protection_text,query=query)"
   ]
  },
  {
   "cell_type": "markdown",
   "id": "b11a2ae0a78d3b70",
   "metadata": {},
   "source": [
    "**Explanation:**\n",
    "\n",
    "- **Running the Evaluation:** This line calls the `judge` method on the `evaluator` object. The `judge` method runs through all the specified metrics (e.g., Faithfulness, Answer Relevancy, Bias, Hallucination, Knowledge Retention, Toxicity, BertScore, BLEU, Gruen) to evaluate the language model's performance.\n",
    "  \n",
    "- **Logging the Process:** As the evaluation runs, the process logs the start and completion of each metric evaluation, providing feedback on the progress. Each log entry is tagged with an INFO level, indicating routine operational messages.\n",
    "  \n",
    "- **Handling Warnings:** You may notice a warning regarding model initialization and a future deprecation notice from the Hugging Face Transformers library. These warnings inform you about potential issues related to model compatibility and upcoming changes in the library.\n",
    "  \n",
    "- **Completion of Metrics:** After all metrics have been evaluated, the `judge` method completes, and the evaluation results are stored in the `eval_result` dictionary for further analysis or reporting.\n",
    "\n"
   ]
  },
  {
   "cell_type": "code",
   "execution_count": 10,
   "id": "af324b3695562eb2",
   "metadata": {
    "ExecuteTime": {
     "end_time": "2024-08-15T15:38:52.426901Z",
     "start_time": "2024-08-15T15:38:05.532008Z"
    }
   },
   "outputs": [
    {
     "name": "stdout",
     "output_type": "stream",
     "text": [
      "\n",
      "==================================================\n",
      "\u001b[32mINFO\u001b[0m: \u001b[1mEvaluating metric: Faithfulness\u001b[0m\n",
      "\u001b[32mINFO\u001b[0m: \u001b[1mToken Counts - Input: 342 | Output: 196\u001b[0m\n",
      "\u001b[32mINFO\u001b[0m: \u001b[1mToken Counts - Input: 307 | Output: 181\u001b[0m\n",
      "\u001b[32mINFO\u001b[0m: \u001b[1mToken Counts - Input: 3398 | Output: 147\u001b[0m\n",
      "\u001b[32mINFO\u001b[0m: \u001b[1mToken Counts - Input: 264 | Output: 48\u001b[0m\n",
      "\u001b[32mINFO\u001b[0m: \u001b[1mToken Usage Summary:\n",
      " Total Input: 4311 | Total Output: 572 | Total: 4883\u001b[0m\n",
      "\u001b[32mINFO\u001b[0m: \u001b[1mCompleted evaluation for metric: Faithfulness, score: 0.89\u001b[0m\n",
      "\n",
      "==================================================\n",
      "\u001b[32mINFO\u001b[0m: \u001b[1mEvaluating metric: AnswerRelevancy\u001b[0m\n",
      "\u001b[32mINFO\u001b[0m: \u001b[1mToken Counts - Input: 283 | Output: 179\u001b[0m\n",
      "\u001b[32mINFO\u001b[0m: \u001b[1mToken Counts - Input: 723 | Output: 380\u001b[0m\n",
      "\u001b[32mINFO\u001b[0m: \u001b[1mToken Counts - Input: 573 | Output: 65\u001b[0m\n",
      "\u001b[32mINFO\u001b[0m: \u001b[1mToken Usage Summary:\n",
      " Total Input: 1579 | Total Output: 624 | Total: 2203\u001b[0m\n",
      "\u001b[32mINFO\u001b[0m: \u001b[1mCompleted evaluation for metric: AnswerRelevancy, score: 0.0\u001b[0m\n",
      "\n",
      "==================================================\n",
      "\u001b[32mINFO\u001b[0m: \u001b[1mEvaluating metric: Bias\u001b[0m\n",
      "\u001b[32mINFO\u001b[0m: \u001b[1mToken Counts - Input: 335 | Output: 8\u001b[0m\n",
      "\u001b[32mINFO\u001b[0m: \u001b[1mToken Counts - Input: 214 | Output: 32\u001b[0m\n",
      "\u001b[32mINFO\u001b[0m: \u001b[1mToken Usage Summary:\n",
      " Total Input: 549 | Total Output: 40 | Total: 589\u001b[0m\n",
      "\u001b[32mINFO\u001b[0m: \u001b[1mCompleted evaluation for metric: Bias, score: 0.0\u001b[0m\n",
      "\n",
      "==================================================\n",
      "\u001b[32mINFO\u001b[0m: \u001b[1mEvaluating metric: Hallucination\u001b[0m\n",
      "\u001b[32mINFO\u001b[0m: \u001b[1mToken Counts - Input: 3189 | Output: 103\u001b[0m\n",
      "\u001b[32mINFO\u001b[0m: \u001b[1mToken Counts - Input: 200 | Output: 47\u001b[0m\n",
      "\u001b[32mINFO\u001b[0m: \u001b[1mToken Usage Summary:\n",
      " Total Input: 3389 | Total Output: 150 | Total: 3539\u001b[0m\n",
      "\u001b[32mINFO\u001b[0m: \u001b[1mCompleted evaluation for metric: Hallucination, score: 0.0\u001b[0m\n",
      "\n",
      "==================================================\n",
      "\u001b[32mINFO\u001b[0m: \u001b[1mEvaluating metric: KnowledgeRetention\u001b[0m\n",
      "\u001b[32mINFO\u001b[0m: \u001b[1mToken Counts - Input: 479 | Output: 10\u001b[0m\n",
      "\u001b[32mINFO\u001b[0m: \u001b[1mToken Counts - Input: 640 | Output: 10\u001b[0m\n",
      "\u001b[32mINFO\u001b[0m: \u001b[1mToken Counts - Input: 144 | Output: 33\u001b[0m\n",
      "\u001b[32mINFO\u001b[0m: \u001b[1mToken Usage Summary:\n",
      " Total Input: 1263 | Total Output: 53 | Total: 1316\u001b[0m\n",
      "\u001b[32mINFO\u001b[0m: \u001b[1mCompleted evaluation for metric: KnowledgeRetention, score: 1.0\u001b[0m\n",
      "\n",
      "==================================================\n",
      "\u001b[32mINFO\u001b[0m: \u001b[1mEvaluating metric: Toxicity\u001b[0m\n",
      "\u001b[32mINFO\u001b[0m: \u001b[1mToken Counts - Input: 803 | Output: 120\u001b[0m\n",
      "\u001b[32mINFO\u001b[0m: \u001b[1mToken Counts - Input: 803 | Output: 120\u001b[0m\n",
      "\u001b[32mINFO\u001b[0m: \u001b[1mToken Usage Summary:\n",
      " Total Input: 1606 | Total Output: 240 | Total: 1846\u001b[0m\n",
      "\u001b[32mINFO\u001b[0m: \u001b[1mCompleted evaluation for metric: Toxicity, score: 0.0\u001b[0m\n",
      "\n",
      "==================================================\n",
      "\u001b[32mINFO\u001b[0m: \u001b[1mEvaluating metric: BertScore\u001b[0m\n",
      "\u001b[32mINFO\u001b[0m: \u001b[1m\n",
      "Completed evaluation for metric: BertScore, scores: \n",
      "precision: 0.75,\n",
      "recall: 0.68,\n",
      "f1_score: 0.71,\n",
      "                        \u001b[0m\n",
      "\n",
      "==================================================\n",
      "\u001b[32mINFO\u001b[0m: \u001b[1mEvaluating metric: BLEU\u001b[0m\n",
      "\u001b[32mINFO\u001b[0m: \u001b[1mCompleted evaluation for metric: BLEU, score: 0.03\u001b[0m\n",
      "\n",
      "==================================================\n",
      "\u001b[32mINFO\u001b[0m: \u001b[1mEvaluating metric: Gruen\u001b[0m\n"
     ]
    },
    {
     "name": "stderr",
     "output_type": "stream",
     "text": [
      "100%|██████████| 1/1 [00:01<00:00,  1.32s/it]\n",
      "Evaluating: 100%|██████████| 8/8 [00:01<00:00,  6.61it/s]\n"
     ]
    },
    {
     "name": "stdout",
     "output_type": "stream",
     "text": [
      "\u001b[32mINFO\u001b[0m: \u001b[1mCompleted evaluation for metric: Gruen, score: 0.71\u001b[0m\n"
     ]
    }
   ],
   "source": [
    "eval_result = evaluator.judge()"
   ]
  },
  {
   "cell_type": "markdown",
   "id": "225bcfef25a2bd5c",
   "metadata": {},
   "source": [
    "**Explanation:**\n",
    "\n",
    "- **Retrieving Metric Scores:** The first line assigns the detailed metric scores from the evaluation to the variable `evaluator_metrics_score`. These scores reflect the performance of the language model across individual metrics such as Answer Relevancy, Bias, Knowledge Retention, Toxicity, Precision, Recall, F1 Score, BLEU, and Gruen.\n",
    "\n",
    "- **Retrieving Overall Evaluation Score:** The second line assigns the overall evaluation score to the variable `evaluator_evaluation_score`. This score is typically a cumulative measure that reflects the model's performance across all evaluated metrics.\n",
    "\n",
    "- **Example Output:** The dictionary shown represents a typical output of `evaluator_metrics_score`. Each key corresponds to a specific metric, and the associated value indicates the model's score for that metric. For instance, a `1.0` score in `AnswerRelevancy` and `KnowledgeRetention` indicates perfect performance in those areas, while other metrics like `BLEU` and `gruen` show a more moderate performance.\n"
   ]
  },
  {
   "cell_type": "code",
   "execution_count": 11,
   "id": "7d8c1ebf43d9ca67",
   "metadata": {
    "ExecuteTime": {
     "end_time": "2024-08-13T15:51:16.556364Z",
     "start_time": "2024-08-13T15:51:16.550458Z"
    }
   },
   "outputs": [
    {
     "data": {
      "text/plain": [
       "{'Faithfulness': 0.89,\n",
       " 'AnswerRelevancy': 0.0,\n",
       " 'Bias': 0.0,\n",
       " 'Hallucination': 0.0,\n",
       " 'KnowledgeRetention': 1.0,\n",
       " 'Toxicity': 0.0,\n",
       " 'precision': 0.75,\n",
       " 'recall': 0.68,\n",
       " 'f1_score': 0.71,\n",
       " 'BLEU': 0.03,\n",
       " 'Gruen': 0.71,\n",
       " 'evaluation_score': 0.75}"
      ]
     },
     "execution_count": 11,
     "metadata": {},
     "output_type": "execute_result"
    }
   ],
   "source": [
    "evaluator_metrics_score = evaluator.metrics_score\n",
    "evaluator_metrics_score"
   ]
  },
  {
   "cell_type": "code",
   "execution_count": 12,
   "id": "930b769b",
   "metadata": {},
   "outputs": [
    {
     "data": {
      "text/plain": [
       "{'Faithfulness': {'claims': \"Northwestern Mutual is committed to safeguarding clients' personal information through a comprehensive cybersecurity and risk management program., Northwestern Mutual employs technical measures such as endpoint protection, email security, encryption, next-generation firewalls, and continuous monitoring to defend against threats., Northwestern Mutual's administrative safeguards include multi-factor authentication, access controls, corporate governance, and rigorous training for employees and representatives., Physical security measures protect data centers and offices at Northwestern Mutual., Redundancy and disaster recovery plans ensure resilience at Northwestern Mutual., Clients of Northwestern Mutual are educated on strong password practices, phishing avoidance, social media safety, and secure device usage., Northwestern Mutual promotes proper records management and secure disposal to prevent identity theft., Additional safeguards like fraud alerts and credit freezes further protect client accounts at Northwestern Mutual., Northwestern Mutual emphasizes proactive client engagement, security awareness, and privacy rights.\",\n",
       "  'truths': \"Northwestern Mutual is committed to safeguarding clients' personal information., Northwestern Mutual has a comprehensive cybersecurity and risk management program., The company employs technical measures such as endpoint protection, email security, encryption, next-generation firewalls, and continuous monitoring., Administrative safeguards include multi-factor authentication, access controls, corporate governance, and rigorous training for employees and representatives., Physical security measures protect data centers and offices., Redundancy and disaster recovery plans ensure resilience., Clients are educated on strong password practices, phishing avoidance, social media safety, and secure device usage., The company promotes proper records management and secure disposal to prevent identity theft., Additional safeguards like fraud alerts and credit freezes protect client accounts., Northwestern Mutual emphasizes proactive client engagement, security awareness, and privacy rights.\",\n",
       "  'verdicts': [{'verdict': 'yes', 'reason': None},\n",
       "   {'verdict': 'yes', 'reason': None},\n",
       "   {'verdict': 'yes', 'reason': None},\n",
       "   {'verdict': 'yes', 'reason': None},\n",
       "   {'verdict': 'yes', 'reason': None},\n",
       "   {'verdict': 'yes', 'reason': None},\n",
       "   {'verdict': 'yes', 'reason': None},\n",
       "   {'verdict': 'no',\n",
       "    'reason': 'The claim mentions additional safeguards like fraud alerts and credit freezes, which are not explicitly mentioned in the retrieval context.'},\n",
       "   {'verdict': 'yes', 'reason': None}],\n",
       "  'score': 0.8888888888888888,\n",
       "  'reason': Reason(reason='The score is 0.8888888888888888 because the actual output introduces additional safeguards such as fraud alerts and credit freezes that are not mentioned in the retrieval context, indicating a lack of alignment.')},\n",
       " 'AnswerRelevancy': {'score': 0.0,\n",
       "  'reason': \"The score is 0.00 because the output included numerous irrelevant statements that did not address the request for a summary of the provided text. These statements focused on the company's policies and measures rather than summarizing the content, leading to a complete lack of relevance to the task at hand.\",\n",
       "  'statements': [\"Northwestern Mutual is committed to safeguarding clients' personal information.\",\n",
       "   'The company employs technical measures such as endpoint protection, email security, encryption, next-generation firewalls, and continuous monitoring.',\n",
       "   'Administrative safeguards include multi-factor authentication, access controls, corporate governance, and rigorous training for employees and representatives.',\n",
       "   'Physical security measures protect data centers and offices.',\n",
       "   'Redundancy and disaster recovery plans ensure resilience.',\n",
       "   'Clients are educated on strong password practices, phishing avoidance, social media safety, and secure device usage.',\n",
       "   'The company promotes proper records management and secure disposal to prevent identity theft.',\n",
       "   'Additional safeguards like fraud alerts and credit freezes further protect client accounts.',\n",
       "   'Northwestern Mutual emphasizes proactive client engagement, security awareness, and privacy rights.',\n",
       "   'The company demonstrates its commitment to robust information protection.'],\n",
       "  'verdicts': [{'verdict': 'no',\n",
       "    'reason': \"The statement about Northwestern Mutual's commitment to safeguarding clients' personal information does not directly address the request for a summary of the provided text.\"},\n",
       "   {'verdict': 'no',\n",
       "    'reason': 'The statement detailing technical measures employed by the company is irrelevant as it does not contribute to a summary of the provided text.'},\n",
       "   {'verdict': 'no',\n",
       "    'reason': 'The statement regarding administrative safeguards does not relate to summarizing the provided text.'},\n",
       "   {'verdict': 'no',\n",
       "    'reason': 'The mention of physical security measures is not relevant to the task of summarizing the provided text.'},\n",
       "   {'verdict': 'no',\n",
       "    'reason': 'The statement about redundancy and disaster recovery plans does not pertain to summarizing the provided text.'},\n",
       "   {'verdict': 'no',\n",
       "    'reason': 'The statement about educating clients on strong password practices is irrelevant to the summary task.'},\n",
       "   {'verdict': 'no',\n",
       "    'reason': 'The statement promoting proper records management does not contribute to a summary of the provided text.'},\n",
       "   {'verdict': 'no',\n",
       "    'reason': 'The mention of additional safeguards like fraud alerts does not relate to summarizing the provided text.'},\n",
       "   {'verdict': 'no',\n",
       "    'reason': 'The statement about proactive client engagement does not address the request for a summary of the provided text.'},\n",
       "   {'verdict': 'no',\n",
       "    'reason': \"The statement about the company's commitment to robust information protection is not relevant to the task of summarizing the provided text.\"}]},\n",
       " 'Bias': {'score': 0.0,\n",
       "  'reason': 'The score is 0.00 because the output is completely unbiased, demonstrating a balanced perspective without any discernible partiality.',\n",
       "  'opinions': [],\n",
       "  'verdicts': []},\n",
       " 'Hallucination': {'score': 0.0,\n",
       "  'reason': \"The score is 0.00 because there are no contradictions, and the actual output fully aligns with the provided context regarding Northwestern Mutual's commitment to cybersecurity and the measures taken to protect client information.\",\n",
       "  'verdicts': [{'verdict': 'yes',\n",
       "    'reason': \"The actual output agrees with the provided context, stating that Northwestern Mutual is committed to safeguarding clients' personal information through a comprehensive cybersecurity and risk management program.\"},\n",
       "   {'verdict': 'yes',\n",
       "    'reason': 'The actual output aligns with the context, detailing the technical, administrative, and physical safeguards employed by Northwestern Mutual to protect client information.'}]},\n",
       " 'KnowledgeRetention': {'score': 1.0,\n",
       "  'reason': 'The score is 1.00 because there were no instances of forgetfulness or failure to recall previously established knowledge in the conversation.',\n",
       "  'verdicts': [{'index': 0, 'verdict': 'no', 'reason': None}],\n",
       "  'knowledges': [{'Message Counter': '1'}]},\n",
       " 'Toxicity': {'score': 0.0,\n",
       "  'reason': 'The score is 0.00 because there are no reasons provided for toxicity, indicating a non-toxic output.',\n",
       "  'opinions': [\"\\nNorthwestern Mutual is committed to safeguarding clients' personal information through a comprehensive cybersecurity and risk management program\",\n",
       "   ' The company employs technical measures such as endpoint protection, email security, encryption, next-generation firewalls, and continuous monitoring to defend against threats',\n",
       "   ' Administrative safeguards include multi-factor authentication, access controls, corporate governance, and rigorous training for employees and representatives',\n",
       "   ' Physical security measures protect data centers and offices, while redundancy and disaster recovery plans ensure resilience',\n",
       "   ' Clients are educated on strong password practices, phishing avoidance, social media safety, and secure device usage',\n",
       "   ' The company also promotes proper records management and secure disposal to prevent identity theft',\n",
       "   ' Additional safeguards like fraud alerts and credit freezes further protect client accounts',\n",
       "   ' Northwestern Mutual emphasizes proactive client engagement, security awareness, and privacy rights, demonstrating its commitment to robust information protection',\n",
       "   '\\n'],\n",
       "  'verdicts': [{'verdict': 'no', 'reason': None},\n",
       "   {'verdict': 'no', 'reason': None},\n",
       "   {'verdict': 'no', 'reason': None},\n",
       "   {'verdict': 'no', 'reason': None},\n",
       "   {'verdict': 'no', 'reason': None},\n",
       "   {'verdict': 'no', 'reason': None},\n",
       "   {'verdict': 'no', 'reason': None},\n",
       "   {'verdict': 'no', 'reason': None},\n",
       "   {'verdict': 'no', 'reason': None}]},\n",
       " 'BertScore': {'precision': 0.75, 'recall': 0.68, 'f1_score': 0.71},\n",
       " 'BLEU': {'score': 0.03},\n",
       " 'Gruen': {'score': 0.71},\n",
       " 'evaluation_score': 0.75}"
      ]
     },
     "execution_count": 12,
     "metadata": {},
     "output_type": "execute_result"
    }
   ],
   "source": [
    "evaluator.results"
   ]
  },
  {
   "cell_type": "markdown",
   "id": "5bdd339ed8bc5be6",
   "metadata": {},
   "source": [
    "**Explanation:**\n",
    "\n",
    "- **Plotting Evaluation Metrics:** This line generates visual plots of the evaluation metrics using the `plot` method of the `evaluator` object. The plots provide a graphical representation of the model's performance across different metrics, making it easier to analyze and compare the results.\n",
    "\n",
    "- **Dash UI Interface:** When `mode=\"external\"` is used, this will open a Dash UI in a new browser window or tab to display the evaluation metrics plots interactively.\n",
    "\n",
    "- **Colab Users:** If you are using Google Colab, it is recommended to set `mode=\"inline\"` instead. This will render the plots directly within the notebook, making it more convenient for users working in an online environment like Colab.\n"
   ]
  },
  {
   "cell_type": "code",
   "execution_count": null,
   "id": "35734fa9",
   "metadata": {},
   "outputs": [],
   "source": []
  },
  {
   "cell_type": "code",
   "execution_count": 9,
   "id": "f1ca2f3ea94d1ee7",
   "metadata": {
    "ExecuteTime": {
     "end_time": "2024-08-13T15:51:35.089019Z",
     "start_time": "2024-08-13T15:51:32.994589Z"
    }
   },
   "outputs": [
    {
     "name": "stdout",
     "output_type": "stream",
     "text": [
      "Dash app running on http://127.0.0.1:8050/\n"
     ]
    }
   ],
   "source": [
    "evaluator.plot(mode=\"external\")"
   ]
  },
  {
   "cell_type": "code",
   "execution_count": null,
   "id": "d45da948538931d",
   "metadata": {},
   "outputs": [],
   "source": []
  }
 ],
 "metadata": {
  "kernelspec": {
   "display_name": "base",
   "language": "python",
   "name": "python3"
  },
  "language_info": {
   "codemirror_mode": {
    "name": "ipython",
    "version": 3
   },
   "file_extension": ".py",
   "mimetype": "text/x-python",
   "name": "python",
   "nbconvert_exporter": "python",
   "pygments_lexer": "ipython3",
   "version": "3.12.4"
  }
 },
 "nbformat": 4,
 "nbformat_minor": 5
}
